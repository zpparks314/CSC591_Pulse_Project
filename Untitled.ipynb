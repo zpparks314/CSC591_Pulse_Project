{
 "cells": [
  {
   "cell_type": "code",
   "execution_count": 1,
   "id": "ba395fa2-5e18-47b5-8b07-954b6b9affcb",
   "metadata": {},
   "outputs": [],
   "source": [
    "from qiskit import pulse, circuit, transpile, assemble, schedule, IBMQ, QuantumCircuit, quantum_info as qi \n",
    "import qiskit\n",
    "from qiskit.visualization import plot_gate_map, plot_error_map\n",
    "from qiskit.visualization.pulse_v2 import draw\n",
    "from qiskit.pulse import ShiftPhase, GaussianSquare, Drag, ControlChannel, MeasureChannel, DriveChannel, Play, Schedule\n",
    "import numpy as np\n",
    "from qiskit.tools import job_monitor\n",
    "from copy import deepcopy\n",
    "import scipy.optimize as opt\n",
    "import matplotlib.pyplot as plt"
   ]
  },
  {
   "cell_type": "code",
   "execution_count": 2,
   "id": "3ae73443-4e24-4040-86c5-b584ac47c360",
   "metadata": {},
   "outputs": [],
   "source": [
    "account_provider = IBMQ.load_account()\n",
    "provider_opts = {'hub': 'ibm-q-ncsu', 'group': 'nc-state', 'project':'noiseanderror'}\n",
    "\n",
    "# target backend\n",
    "backend_name = 'ibmq_jakarta'\n",
    "\n",
    "provider = IBMQ.get_provider(**provider_opts)\n",
    "backend = provider.get_backend(backend_name)\n",
    "\n",
    "# backend information\n",
    "config = backend.configuration()\n",
    "defaults = backend.defaults()\n",
    "properties = backend.properties()\n",
    "\n",
    "# instruction schedule map\n",
    "inst_map = defaults.instruction_schedule_map"
   ]
  },
  {
   "cell_type": "code",
   "execution_count": 3,
   "id": "6214f343-efbf-4f75-b649-734e3d0c1139",
   "metadata": {},
   "outputs": [
    {
     "data": {
      "image/png": "[encoded data removed]",
      "text/plain": [
       "<Figure size 360x360 with 1 Axes>"
      ]
     },
     "execution_count": 3,
     "metadata": {},
     "output_type": "execute_result"
    }
   ],
   "source": [
    "qubits = plot_gate_map(backend)\n",
    "qubits"
   ]
  },
  {
   "cell_type": "code",
   "execution_count": 117,
   "id": "fe19849f-89bf-4a1a-a0ef-129908b31278",
   "metadata": {},
   "outputs": [],
   "source": [
    "\n",
    "def extract_cr_params(cx_sched):\n",
    "    cr_params = {}\n",
    "    for time, inst in cx_sched.instructions:\n",
    "        if isinstance(inst, Play):\n",
    "            if isinstance(inst.pulse, GaussianSquare):\n",
    "                if isinstance(inst.operands[1], ControlChannel):\n",
    "                    cr_params[\"duration\"] = inst.pulse.duration\n",
    "                    cr_params[\"width\"] = inst.pulse.width\n",
    "                    cr_params[\"sigma\"] = inst.pulse.sigma\n",
    "                    cr_params[\"cr_amp\"] = inst.pulse.amp\n",
    "                    cr_params[\"channel\"] = inst.channel\n",
    "                    cr_params['phase'] = 0.0\n",
    "    return cr_params\n",
    "\n",
    "def create_cr_pulse(cr_params):\n",
    "    cr_amp = cr_params.get('cr_amp', 0) * np.exp(-1j*cr_params.pop('phase', 0))\n",
    "    cr_pulse = GaussianSquare(duration=cr_params[\"duration\"], amp=cr_amp, width=cr_params[\"width\"],sigma=cr_params[\"sigma\"])\n",
    "    return cr_pulse"
   ]
  },
  {
   "cell_type": "code",
   "execution_count": 118,
   "id": "6b02e403-ca83-41cd-8a24-b803562b778d",
   "metadata": {},
   "outputs": [],
   "source": [
    "q1, q2 = 0, 1\n",
    "mem_ind = 0 if q1 > q2 else 1"
   ]
  },
  {
   "cell_type": "code",
   "execution_count": 119,
   "id": "6e1a7f11-a64d-459c-81ee-a1c9efa4f5b7",
   "metadata": {},
   "outputs": [
    {
     "name": "stdout",
     "output_type": "stream",
     "text": [
      "{'duration': 368, 'width': 112, 'sigma': 64, 'cr_amp': (0.006348900035915799+0.7583182960158514j), 'channel': ControlChannel(0), 'phase': 0.0}\n"
     ]
    }
   ],
   "source": [
    "cx_sched = inst_map.get('cx', qubits=[q1, q2])\n",
    "cr_params = extract_cr_params(cx_sched)\n",
    "print(cr_params)"
   ]
  },
  {
   "cell_type": "code",
   "execution_count": 120,
   "id": "495ec945-c9ad-4c61-80b6-d2b4c86e6625",
   "metadata": {},
   "outputs": [
    {
     "data": {
      "image/png": "[encoded data removed]",
      "text/plain": [
       "<Figure size 936x118.8 with 1 Axes>"
      ]
     },
     "execution_count": 120,
     "metadata": {},
     "output_type": "execute_result"
    }
   ],
   "source": [
    "# cr_params[\"phase\"] = np.pi\n",
    "cr_pulse = create_cr_pulse(cr_params)\n",
    "draw(cr_pulse, backend=backend)"
   ]
  },
  {
   "cell_type": "code",
   "execution_count": 121,
   "id": "d73aa367-d1b2-4985-9173-75b165a7fcc6",
   "metadata": {},
   "outputs": [
    {
     "name": "stdout",
     "output_type": "stream",
     "text": [
      "GaussianSquare(duration=368, amp=(-0.006348900035915706-0.7583182960158514j), sigma=64, width=112)\n"
     ]
    }
   ],
   "source": [
    "print(cr_pulse)"
   ]
  },
  {
   "cell_type": "code",
   "execution_count": null,
   "id": "10206883-ae69-4c4f-8efa-19a42a21cd0e",
   "metadata": {},
   "outputs": [],
   "source": []
  }
 ],
 "metadata": {
  "kernelspec": {
   "display_name": "Python 3",
   "language": "python",
   "name": "python3"
  },
  "language_info": {
   "codemirror_mode": {
    "name": "ipython",
    "version": 3
   },
   "file_extension": ".py",
   "mimetype": "text/x-python",
   "name": "python",
   "nbconvert_exporter": "python",
   "pygments_lexer": "ipython3",
   "version": "3.8.8"
  }
 },
 "nbformat": 4,
 "nbformat_minor": 5
}
