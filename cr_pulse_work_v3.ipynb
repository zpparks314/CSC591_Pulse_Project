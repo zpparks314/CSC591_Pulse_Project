{
 "cells": [
  {
   "cell_type": "code",
   "execution_count": 1,
   "id": "9ccd8b6c-7644-4d9f-92ef-35b8dd01d5c7",
   "metadata": {},
   "outputs": [],
   "source": [
    "from qiskit import pulse, circuit, transpile, assemble, schedule, IBMQ, QuantumCircuit, quantum_info as qi \n",
    "import qiskit\n",
    "from qiskit.visualization import plot_gate_map, plot_error_map\n",
    "from qiskit.visualization.pulse_v2 import draw\n",
    "from qiskit.pulse import ShiftPhase, GaussianSquare, Drag, ControlChannel, MeasureChannel, DriveChannel, Play\n",
    "import numpy as np\n",
    "from qiskit.tools import job_monitor\n",
    "from copy import deepcopy\n",
    "import scipy.optimize as opt\n",
    "import matplotlib.pyplot as plt"
   ]
  },
  {
   "cell_type": "code",
   "execution_count": 50,
   "id": "9766178c-d28c-4b95-950e-31c97debb942",
   "metadata": {},
   "outputs": [
    {
     "name": "stderr",
     "output_type": "stream",
     "text": [
      "ibmqfactory.load_account:WARNING:2021-11-09 11:27:00,799: Credentials are already in use. The existing account in the session will be replaced.\n"
     ]
    }
   ],
   "source": [
    "account_provider = IBMQ.load_account()\n",
    "provider_opts = {'hub': 'ibm-q-ncsu', 'group': 'nc-state', 'project':'noiseanderror'}\n",
    "\n",
    "# target backend\n",
    "backend_name = 'ibmq_jakarta'\n",
    "\n",
    "provider = IBMQ.get_provider(**provider_opts)\n",
    "backend = provider.get_backend(backend_name)\n",
    "\n",
    "# backend information\n",
    "config = backend.configuration()\n",
    "defaults = backend.defaults()\n",
    "properties = backend.properties()\n",
    "\n",
    "# instruction schedule map\n",
    "inst_map = defaults.instruction_schedule_map"
   ]
  },
  {
   "cell_type": "code",
   "execution_count": 3,
   "id": "9e116a5c-0efb-4371-ba6a-d480ac8d1e15",
   "metadata": {},
   "outputs": [
    {
     "data": {
      "image/png": "[encoded data removed]",
      "text/plain": [
       "<Figure size 360x360 with 1 Axes>"
      ]
     },
     "execution_count": 3,
     "metadata": {},
     "output_type": "execute_result"
    }
   ],
   "source": [
    "qubits = plot_gate_map(backend)\n",
    "qubits"
   ]
  },
  {
   "cell_type": "code",
   "execution_count": 38,
   "id": "c600efee-9bc0-49e6-a898-7da4314173a4",
   "metadata": {},
   "outputs": [],
   "source": [
    "def extract_cr_params(cx_sched):\n",
    "    cr_params = {}\n",
    "    for time, inst in cx_sched.instructions:\n",
    "        if isinstance(inst, Play):\n",
    "            if isinstance(inst.pulse, GaussianSquare):\n",
    "                if isinstance(inst.operands[1], ControlChannel):\n",
    "                    cr_params[\"duration\"] = inst.pulse.duration\n",
    "                    cr_params[\"width\"] = inst.pulse.width\n",
    "                    cr_params[\"sigma\"] = inst.pulse.sigma\n",
    "                    cr_params[\"cr_amp\"] = inst.pulse.amp\n",
    "                    cr_params[\"channel\"] = inst.channel\n",
    "    return cr_params\n",
    "                    \n",
    "\n",
    "def build_cr_schedule(backend, qc, qt, cr_params, cr_name):\n",
    "    \n",
    "    with pulse.build(backend=backend, default_alignment=\"left\", name=\"cr_schedule\") as cross_resonance:\n",
    "        pulse.play(GaussianSquare(\n",
    "            duration=cr_params[\"duration\"],\n",
    "            amp=cr_params[\"cr_amp\"],\n",
    "            width=cr_params[\"width\"],\n",
    "            sigma=cr_params[\"sigma\"],\n",
    "            name=cr_name\n",
    "        ),\n",
    "        pulse.control_channels(qc, qt)[0],\n",
    "    )\n",
    "        if not np.isclose(cr_params[\"cancel_amp\"], 0.0):\n",
    "            pulse.play(GaussianSquare(\n",
    "                duration=cr_params[\"duration\"],\n",
    "                amp=cr_params[\"cancel_amp\"],\n",
    "                width=cr_params[\"width\"],\n",
    "                sigma=cr_params[\"sigma\"],\n",
    "        ),\n",
    "        pulse.drive_channel(qt),\n",
    "    )\n",
    "        else:\n",
    "            pulse.delay(cr_params[\"duration\"], pulse.drive_channel(qt))\n",
    "        pulse.delay(cr_params[\"duration\"], pulse.drive_channel(qc))\n",
    "        \n",
    "    return cross_resonance\n",
    "\n",
    "def build_cr_circuit(gate):\n",
    "    \n",
    "    cr_circuit = QuantumCircuit(2)\n",
    "    cr_circuit.append(gate, [0, 1])\n",
    "\n",
    "    \n",
    "    return cr_circuit\n",
    "\n",
    "def build_amp_experiment_circuits(backend, qc, qt, amps, cr_params, rotary=False):\n",
    "    \n",
    "    circ_list = []\n",
    "    \n",
    "    inst_map_list = []\n",
    "    for amplitude in amps:\n",
    "        \n",
    "        new_inst_map = deepcopy(inst_map)\n",
    "    \n",
    "\n",
    "        cr_p_gate = circuit.Gate(\n",
    "            \"cr_p_gate\",\n",
    "            num_qubits=2,\n",
    "            params=[amplitude],\n",
    "        )\n",
    "        \n",
    "        \n",
    "        cr_m_gate = circuit.Gate(\n",
    "            \"cr_m_gate\",\n",
    "            num_qubits=2,\n",
    "            params=[-amplitude],\n",
    "        )\n",
    "        \n",
    "        exp_circ = QuantumCircuit(2)\n",
    "\n",
    "        ## add control state prep when needed\n",
    "        \n",
    "        \n",
    "        exp_circ.rz(-np.pi/2, 0)\n",
    "        exp_circ.x(0)\n",
    "        exp_circ.compose(other=build_cr_circuit(cr_p_gate), qubits=[0, 1], inplace=True)\n",
    "        exp_circ.x(0)\n",
    "        exp_circ.compose(other=build_cr_circuit(cr_m_gate), qubits=[0, 1], inplace=True)\n",
    "#         exp_circ.x(0)\n",
    "        \n",
    "        exp_circ.metadata={\n",
    "            \"qubits\": (qc, qt)\n",
    "        }\n",
    "\n",
    "        if rotary is True:\n",
    "            cr_params['cancel_amp'] = amplitude\n",
    "            \n",
    "        cr_params[\"phi\"] = 0\n",
    "        cr_params['cr_amp'] = amplitude * np.exp(-1j*cr_params[\"phi\"])\n",
    "#         print(cr_params[\"cr_amp\"], cr_params['phi'])\n",
    "        exp_circ.add_calibration(gate=cr_p_gate,\n",
    "                                qubits=[qc,qt],\n",
    "                                schedule=build_cr_schedule(backend, qc, qt, cr_params, cr_name=\"cr_p\"))\n",
    "        \n",
    "        cr_params['phi'] = cr_params['phi'] + np.pi\n",
    "        cr_params['cr_amp'] = amplitude * np.exp(-1j*cr_params[\"phi\"])\n",
    "#         print(cr_params[\"cr_amp\"], cr_params['phi'])\n",
    "        exp_circ.add_calibration(gate=cr_m_gate,\n",
    "                                qubits=[qc,qt],\n",
    "                                schedule=build_cr_schedule(backend, qc, qt, cr_params, cr_name=\"cr_m\"))\n",
    "        exp_circ.measure_active()\n",
    "        \n",
    "#         new_inst_map.add('cr_gate', qubits=[qc, qt], schedule=build_cr_schedule(backend, qc, qt, cr_params))\n",
    "        \n",
    "        circ_list.append(exp_circ)\n",
    "        inst_map_list.append(new_inst_map)\n",
    "    return circ_list, inst_map_list\n",
    "\n",
    "def build_phase_experiment_circuits(backend, qc, qt, phases, cr_params, rotary=False):\n",
    "    \n",
    "    circ_list = []\n",
    "    inst_map_list = []\n",
    "    amp = cr_params['cr_amp']\n",
    "    for phase in phases:\n",
    "        new_inst_map = deepcopy(inst_map)\n",
    "    \n",
    "        cr_p_gate = circuit.Gate(\n",
    "            \"cr_p_gate\",\n",
    "            num_qubits=2,\n",
    "            params=[phase],\n",
    "        )\n",
    "        \n",
    "        cr_m_gate = circuit.Gate(\n",
    "            \"cr_m_gate\",\n",
    "            num_qubits=2,\n",
    "            params=[phase],\n",
    "        )\n",
    "        exp_circ = QuantumCircuit(2)\n",
    "        exp_circ.rz(-np.pi/2, 0)\n",
    "        exp_circ.x(0)\n",
    "        exp_circ.compose(other=build_cr_circuit(cr_p_gate), qubits=[0, 1], inplace=True)\n",
    "        exp_circ.x(0)\n",
    "        exp_circ.compose(other=build_cr_circuit(cr_m_gate), qubits=[0, 1], inplace=True)\n",
    "        exp_circ.barrier(0, 1)\n",
    "        exp_circ.sdg(1)\n",
    "        exp_circ.h(1)\n",
    "        \n",
    "        \n",
    "        exp_circ.metadata={\n",
    "            \"qubits\": (qc, qt)\n",
    "        }\n",
    "        \n",
    "        if rotary is True:\n",
    "            cr_params['cancel_amp'] = cr_params[\"cr_amp\"]\n",
    "        \n",
    "        cr_params['cr_amp'] = amp * np.exp(-1j*phase)\n",
    "        print(cr_params['cr_amp'])\n",
    "        exp_circ.add_calibration(gate=cr_p_gate,\n",
    "                                qubits=[qc,qt],\n",
    "                                schedule=build_cr_schedule(backend, qc, qt, cr_params, cr_name=\"cr_p\"))\n",
    "\n",
    "        phase = phase + np.pi\n",
    "        cr_params['cr_amp'] = amp * np.exp(-1j*phase)\n",
    "        print(cr_params['cr_amp'])\n",
    "        exp_circ.add_calibration(gate=cr_m_gate,\n",
    "                                qubits=[qc,qt],\n",
    "                                schedule=build_cr_schedule(backend, qc, qt, cr_params, cr_name=\"cr_m\"))\n",
    "        exp_circ.measure_active()\n",
    "        \n",
    "        circ_list.append(exp_circ)\n",
    "        inst_map_list.append(new_inst_map)\n",
    "        \n",
    "    return circ_list, inst_map_list\n",
    "        \n",
    "def expectation_val(count_dict, mem_ind):\n",
    "\n",
    "    expv = 0\n",
    "    for key, val in count_dict.items():\n",
    "        if key[::-1][mem_ind] == '1':\n",
    "#             print(key, val)\n",
    "            expv -= val\n",
    "        else:\n",
    "            expv += val\n",
    "#     print(expv)\n",
    "    return expv / sum(count_dict.values())"
   ]
  },
  {
   "cell_type": "code",
   "execution_count": 5,
   "id": "d387a720-f95a-456b-938e-4d84298e17d4",
   "metadata": {},
   "outputs": [],
   "source": [
    "q1, q2 = 0, 1\n",
    "mem_ind = 0 if q1 > q2 else 1"
   ]
  },
  {
   "cell_type": "markdown",
   "id": "11724243-e7a5-482e-9982-7602a327bdff",
   "metadata": {},
   "source": [
    "# IBM's cross resonance gate\n",
    "This is what IBM's cross-resonance gate looks like - extracted from the CX pulse schedule, and with the rotary tones not shown."
   ]
  },
  {
   "cell_type": "code",
   "execution_count": 6,
   "id": "4c89002a-419f-41e5-8cde-5f2f0c38cf85",
   "metadata": {},
   "outputs": [
    {
     "data": {
      "image/png": "[encoded data removed]",
      "text/plain": [
       "<Figure size 936x334.8 with 1 Axes>"
      ]
     },
     "execution_count": 6,
     "metadata": {},
     "output_type": "execute_result"
    }
   ],
   "source": [
    "cx_sched = inst_map.get('cx', qubits=[q1, q2])\n",
    "draw(cx_sched, backend=backend, disable_channels=[DriveChannel(q2)])"
   ]
  },
  {
   "cell_type": "code",
   "execution_count": 7,
   "id": "03547cc2-24e0-4072-aae9-dcf6951711e6",
   "metadata": {},
   "outputs": [
    {
     "name": "stdout",
     "output_type": "stream",
     "text": [
      "ShiftPhase(1.5707963267948966, DriveChannel(0))\n",
      "ShiftPhase(1.5707963267948966, ControlChannel(1))\n",
      "Play(Drag(duration=160, amp=(-3.641543730718857e-17-0.19823640760499228j), sigma=40, beta=-0.9822975593177294, name='Ym_d0'), DriveChannel(0), name='Ym_d0')\n",
      "Play(Drag(duration=160, amp=(0.09599346417151727+0.002192330190773967j), sigma=40, beta=-0.9595783962023514, name='X90p_d1'), DriveChannel(1), name='X90p_d1')\n",
      "Play(GaussianSquare(duration=368, amp=(0.11222035341506578+0.002722991037731407j), sigma=64, width=112, name='CR90p_d1_u0'), DriveChannel(1), name='CR90p_d1_u0')\n",
      "Play(GaussianSquare(duration=368, amp=(-0.004982605402084058-0.7589986843947967j), sigma=64, width=112, name='CR90p_u0'), ControlChannel(0), name='CR90p_u0')\n",
      "Play(Drag(duration=160, amp=(0.19823640760499228+0j), sigma=40, beta=-0.9822975593177294, name='Xp_d0'), DriveChannel(0), name='Xp_d0')\n",
      "Play(GaussianSquare(duration=368, amp=(-0.11222035341506578-0.0027229910377313932j), sigma=64, width=112, name='CR90m_d1_u0'), DriveChannel(1), name='CR90m_d1_u0')\n",
      "Play(GaussianSquare(duration=368, amp=(0.004982605402084151+0.7589986843947967j), sigma=64, width=112, name='CR90m_u0'), ControlChannel(0), name='CR90m_u0')\n"
     ]
    }
   ],
   "source": [
    "for time, inst in cx_sched.instructions:\n",
    "    print(inst)"
   ]
  },
  {
   "cell_type": "code",
   "execution_count": 8,
   "id": "c77a1d8e-b5f8-4797-b805-ef9274677193",
   "metadata": {},
   "outputs": [],
   "source": [
    "cr_params = extract_cr_params(cx_sched)\n",
    "cr_params[\"cancel_amp\"] = 0.0\n",
    "cr_params[\"phi\"] = 0\n",
    "# print(cr_params)\n",
    "\n",
    "max_cr_amplitude = 1.0\n",
    "num_amps = 70\n",
    "cr_amps = np.linspace(-max_cr_amplitude, max_cr_amplitude, num_amps)\n",
    "# print(cr_amps)"
   ]
  },
  {
   "cell_type": "code",
   "execution_count": 9,
   "id": "65d367a4-cc53-43c9-b099-d85a34c3340c",
   "metadata": {},
   "outputs": [],
   "source": [
    "exp_circuits, exp_inst_maps = build_amp_experiment_circuits(backend, q1, q2, cr_amps, cr_params)\n",
    "# exp_circuits[19].draw()"
   ]
  },
  {
   "cell_type": "code",
   "execution_count": 10,
   "id": "29c9af88-163c-4ba5-8022-57d5874b7c6d",
   "metadata": {},
   "outputs": [
    {
     "name": "stdout",
     "output_type": "stream",
     "text": [
      "ShiftPhase(1.5707963267949, DriveChannel(0))\n",
      "ShiftPhase(1.5707963267949, ControlChannel(1))\n",
      "Play(Drag(duration=160, amp=(0.19823640760499228+0j), sigma=40, beta=-0.9822975593177294, name='Xp_d0'), DriveChannel(0), name='Xp_d0')\n",
      "Delay(368, DriveChannel(0))\n",
      "Delay(368, DriveChannel(1))\n",
      "Play(GaussianSquare(duration=368, amp=(-0.8840579710144928+0j), sigma=64, width=112, name='cr_p'), ControlChannel(0), name='cr_p')\n",
      "Play(Drag(duration=160, amp=(0.19823640760499228+0j), sigma=40, beta=-0.9822975593177294, name='Xp_d0'), DriveChannel(0), name='Xp_d0')\n",
      "Delay(368, DriveChannel(0))\n",
      "Delay(368, DriveChannel(1))\n",
      "Play(GaussianSquare(duration=368, amp=(0.8840579710144928+1.0826587644636022e-16j), sigma=64, width=112, name='cr_m'), ControlChannel(0), name='cr_m')\n",
      "Acquire(22400, AcquireChannel(0), MemorySlot(0))\n",
      "Acquire(22400, AcquireChannel(1), MemorySlot(1))\n",
      "Play(GaussianSquare(duration=22400, amp=(-0.19461334004582123-0.01859832993065662j), sigma=64, width=22144, name='M_m0'), MeasureChannel(0), name='M_m0')\n",
      "Play(GaussianSquare(duration=22400, amp=(-0.12866645459924989-0.1471910101224228j), sigma=64, width=22144, name='M_m1'), MeasureChannel(1), name='M_m1')\n",
      "Delay(1680, MeasureChannel(0))\n",
      "Delay(1680, MeasureChannel(1))\n"
     ]
    }
   ],
   "source": [
    "tc = transpile(exp_circuits, backend, initial_layout=[q1, q2])\n",
    "sched = schedule(tc, backend)\n",
    "for time, inst in sched[4].instructions:\n",
    "    print(inst)"
   ]
  },
  {
   "cell_type": "code",
   "execution_count": 12,
   "id": "995634b1-3a3e-4a27-a9cd-59d80f8a8418",
   "metadata": {},
   "outputs": [
    {
     "data": {
      "image/png": "[encoded data removed]",
      "text/plain": [
       "<Figure size 781.331x505.68 with 1 Axes>"
      ]
     },
     "execution_count": 12,
     "metadata": {},
     "output_type": "execute_result"
    }
   ],
   "source": [
    "tc[0].draw('mpl')"
   ]
  },
  {
   "cell_type": "code",
   "execution_count": 13,
   "id": "ae36c11a-2909-4568-b501-6ad41ecba9bf",
   "metadata": {},
   "outputs": [],
   "source": [
    "# draw(sched[4], backend=backend, time_range=[0, 1000], disable_channels=[MeasureChannel(q1), MeasureChannel(q2)])"
   ]
  },
  {
   "cell_type": "code",
   "execution_count": 14,
   "id": "079a5ddd-3207-4ce6-a734-451d1bbbb606",
   "metadata": {},
   "outputs": [],
   "source": [
    "i = 1\n",
    "identifier = F\"(({max_cr_amplitude}),{num_amps})\""
   ]
  },
  {
   "cell_type": "code",
   "execution_count": 15,
   "id": "f97c7853-fb1f-4bb2-b7e2-e89d1628331b",
   "metadata": {},
   "outputs": [
    {
     "name": "stdout",
     "output_type": "stream",
     "text": [
      "618a94942bf2b36efea11649\n"
     ]
    }
   ],
   "source": [
    "job = backend.run(tc, job_name=F\"cr_amp_exp_{identifier}\", shots=2048)\n",
    "job_id = job.job_id()\n",
    "print(job.job_id())"
   ]
  },
  {
   "cell_type": "code",
   "execution_count": 16,
   "id": "fe7bef43-9766-4951-82fa-0020aeb1c5a7",
   "metadata": {},
   "outputs": [],
   "source": [
    "# 11/8/2021 - amplitude experiments\n",
    "# ibm_lagos job (9:45~ am) - 6189380f1452777724117b88\n",
    "# ibmq_jakarta job (10:00~ am) - 61893b88902694642fd98881\n",
    "# ibmq_jakarta (10:30~ am) - 6189411bc45f2664c31517c5\n",
    "# ibmq_jakarta (10:51~ am) - 61894761ad7fa029bcd1440f * best results so far (sweeping from (-1.0, 1.0, 70))\n",
    "# ibmq_jakarta (11:23~ am) - 61894f14ad7fa0ed2ad14439\n",
    "# ibmq_jakarta (12:47 pm) - 618962b8ce94116c106c071e (-1.0, 1.0, 70) - CRgate looks more like ibm\n",
    "# ibmq_montreal (11:18~ am) - 61894de8c45f2661c61517fb\n",
    "# ibmq_toronto (11:27~ am) - 61894fdab3f4906ac760bf9e\n",
    "# ibmq_toronto (11:33~ am) - 61895180145277452e117c10\n",
    "\n",
    "# 11/9/2021 - amplitude experiments\n",
    "# ibmq_jakarta (10:33~ am) - 618a94942bf2b36efea11649 (-1.0, 1.0, 70)\n",
    "# job_id = \"618962b8ce94116c106c071e\"\n",
    "results = backend.retrieve_job(job_id).result()\n"
   ]
  },
  {
   "cell_type": "code",
   "execution_count": 17,
   "id": "d6f800ed-cda3-400d-b82f-ba0cf494d168",
   "metadata": {},
   "outputs": [
    {
     "name": "stdout",
     "output_type": "stream",
     "text": [
      "[{'00': 776, '01': 18, '10': 1245, '11': 9}, {'00': 826, '01': 16, '10': 1191, '11': 15}, {'00': 812, '01': 20, '10': 1202, '11': 14}, {'00': 818, '01': 21, '10': 1196, '11': 13}, {'00': 889, '01': 22, '10': 1123, '11': 14}, {'00': 906, '01': 13, '10': 1118, '11': 11}, {'00': 944, '01': 23, '10': 1065, '11': 16}, {'00': 963, '01': 11, '10': 1063, '11': 11}, {'00': 1068, '01': 12, '10': 957, '11': 11}, {'00': 1083, '01': 18, '10': 933, '11': 14}, {'00': 1115, '01': 14, '10': 907, '11': 12}, {'00': 1139, '01': 27, '10': 872, '11': 10}, {'00': 1159, '01': 19, '10': 860, '11': 10}, {'00': 1249, '01': 22, '10': 763, '11': 14}, {'00': 1286, '01': 26, '10': 730, '11': 6}, {'00': 1301, '01': 17, '10': 722, '11': 8}, {'00': 1394, '01': 17, '10': 630, '11': 7}, {'00': 1407, '01': 21, '10': 614, '11': 6}, {'00': 1435, '01': 23, '10': 585, '11': 5}, {'00': 1495, '01': 22, '10': 524, '11': 7}, {'00': 1563, '01': 26, '10': 455, '11': 4}, {'00': 1588, '01': 23, '10': 432, '11': 5}, {'00': 1628, '01': 22, '10': 391, '11': 7}, {'00': 1709, '01': 16, '10': 317, '11': 6}, {'00': 1757, '01': 17, '10': 272, '11': 2}, {'00': 1786, '01': 21, '10': 239, '11': 2}, {'00': 1807, '01': 22, '10': 218, '11': 1}, {'00': 1862, '01': 25, '10': 160, '11': 1}, {'00': 1889, '01': 24, '10': 135}, {'00': 1911, '01': 28, '10': 106, '11': 3}, {'00': 1938, '01': 28, '10': 81, '11': 1}, {'00': 1986, '01': 17, '10': 44, '11': 1}, {'00': 2002, '01': 25, '10': 21}, {'00': 1998, '01': 22, '10': 27, '11': 1}, {'00': 2000, '01': 25, '10': 22, '11': 1}, {'00': 2008, '01': 21, '10': 19}, {'00': 1981, '01': 33, '10': 34}, {'00': 1986, '01': 16, '10': 46}, {'00': 1964, '01': 21, '10': 61, '11': 2}, {'00': 1943, '01': 19, '10': 84, '11': 2}, {'00': 1911, '01': 14, '10': 123}, {'00': 1879, '01': 26, '10': 141, '11': 2}, {'00': 1849, '01': 22, '10': 174, '11': 3}, {'00': 1794, '01': 24, '10': 228, '11': 2}, {'00': 1732, '01': 30, '10': 281, '11': 5}, {'00': 1711, '01': 25, '10': 309, '11': 3}, {'00': 1643, '01': 18, '10': 381, '11': 6}, {'00': 1606, '01': 23, '10': 413, '11': 6}, {'00': 1584, '01': 19, '10': 442, '11': 3}, {'00': 1521, '01': 15, '10': 509, '11': 3}, {'00': 1491, '01': 21, '10': 534, '11': 2}, {'00': 1373, '01': 24, '10': 646, '11': 5}, {'00': 1340, '01': 24, '10': 680, '11': 4}, {'00': 1349, '01': 21, '10': 673, '11': 5}, {'00': 1276, '01': 20, '10': 747, '11': 5}, {'00': 1257, '01': 18, '10': 760, '11': 13}, {'00': 1212, '01': 21, '10': 809, '11': 6}, {'00': 1181, '01': 11, '10': 844, '11': 12}, {'00': 1122, '01': 18, '10': 892, '11': 16}, {'00': 1054, '01': 12, '10': 974, '11': 8}, {'00': 1039, '01': 12, '10': 991, '11': 6}, {'00': 990, '01': 15, '10': 1031, '11': 12}, {'00': 941, '01': 17, '10': 1083, '11': 7}, {'00': 921, '01': 16, '10': 1101, '11': 10}, {'00': 904, '01': 18, '10': 1114, '11': 12}, {'00': 838, '01': 17, '10': 1182, '11': 11}, {'00': 842, '01': 16, '10': 1182, '11': 8}, {'00': 769, '01': 20, '10': 1249, '11': 10}, {'00': 746, '01': 21, '10': 1263, '11': 18}, {'00': 790, '01': 14, '10': 1236, '11': 8}]\n"
     ]
    }
   ],
   "source": [
    "count_dict = results.get_counts()\n",
    "print(count_dict)"
   ]
  },
  {
   "cell_type": "code",
   "execution_count": 18,
   "id": "45486405-b3ac-4ef0-9626-2ce70f4a52d4",
   "metadata": {},
   "outputs": [],
   "source": [
    "def cr_fit_3rd_order_perturbation(x, c1, c2):\n",
    "    fx = c1*x - c2*x**3\n",
    "    return np.cos(2 * np.pi * fx)\n",
    "\n",
    "def rough_amp_objective(x, params, opt_phase):\n",
    "    fx = params[0] * x - params[1] * x**3\n",
    "    return np.abs(opt_phase / 2 / np.pi - fx)"
   ]
  },
  {
   "cell_type": "code",
   "execution_count": 19,
   "id": "c3db7124-9212-4a92-b690-47fa823a802f",
   "metadata": {},
   "outputs": [],
   "source": [
    "exp_z = np.zeros_like(cr_amps)\n",
    "for cind in range(len(cr_amps)):\n",
    "    exp_z[cind] = expectation_val(count_dict[cind], mem_ind=mem_ind)\n",
    "# print(exp_z)\n",
    "valid_inds = np.where(np.abs(cr_amps) < 1.0)[0]\n",
    "params, _ = opt.curve_fit(cr_fit_3rd_order_perturbation, xdata=cr_amps[valid_inds], ydata=exp_z[valid_inds])\n",
    "cr_pi2_amp = opt.minimize(rough_amp_objective, x0=0, bounds=[(0, 1)], args=(params, 0.5 * np.pi)).x[0]"
   ]
  },
  {
   "cell_type": "code",
   "execution_count": 20,
   "id": "534f3425-6836-47cf-9223-112a131a2bdc",
   "metadata": {},
   "outputs": [
    {
     "name": "stdout",
     "output_type": "stream",
     "text": [
      "0.7511834318926244\n"
     ]
    }
   ],
   "source": [
    "print(cr_pi2_amp)"
   ]
  },
  {
   "cell_type": "code",
   "execution_count": 69,
   "id": "6eddba03-5a28-4333-9f43-d971bf4964a0",
   "metadata": {},
   "outputs": [
    {
     "data": {
      "image/png": "[encoded data removed]",
      "text/plain": [
       "<Figure size 432x288 with 1 Axes>"
      ]
     },
     "metadata": {
      "needs_background": "light"
     },
     "output_type": "display_data"
    }
   ],
   "source": [
    "x_interp = np.linspace(cr_amps[0], cr_amps[-1], 1000)\n",
    "plt.plot(cr_amps, exp_z, 'o', color='b')\n",
    "plt.plot(x_interp, cr_fit_3rd_order_perturbation(x_interp, *params), color='b')\n",
    "plt.plot([cr_pi2_amp, cr_pi2_amp], [-1, 1], 'b:')\n",
    "plt.xlim(-max_cr_amplitude, max_cr_amplitude)\n",
    "plt.ylim(-1, 1)\n",
    "plt.xlabel('CR amp')\n",
    "plt.ylabel('<Z>')\n",
    "plt.grid()\n",
    "plt.savefig(\"amplitude_calibration\")"
   ]
  },
  {
   "cell_type": "code",
   "execution_count": 42,
   "id": "dabc2745-5d9a-4863-a580-e774d17190f9",
   "metadata": {},
   "outputs": [],
   "source": [
    "cr_params = extract_cr_params(cx_sched)\n",
    "cr_params[\"cr_amp\"] = cr_pi2_amp\n",
    "cr_params[\"cancel_amp\"] = 0.0\n",
    "\n",
    "max_phase = np.pi\n",
    "num_phases = 20\n",
    "cr_phases = np.linspace(-max_phase, max_phase, num_phases)\n"
   ]
  },
  {
   "cell_type": "code",
   "execution_count": 43,
   "id": "a0c95399-b28c-4063-82cd-7005207a44da",
   "metadata": {},
   "outputs": [],
   "source": [
    "# for phase in cr_phases:\n",
    "#     print(cr_pi2_amp * np.exp(-1j*phase))\n",
    "#     print(cr_pi2_amp * np.exp(-1j*(phase+np.pi)))"
   ]
  },
  {
   "cell_type": "code",
   "execution_count": 44,
   "id": "b0696997-331e-45ae-a358-c25293b33eb9",
   "metadata": {},
   "outputs": [
    {
     "name": "stdout",
     "output_type": "stream",
     "text": [
      "{'duration': 368, 'width': 112, 'sigma': 64, 'cr_amp': 0.7511834318926244, 'channel': ControlChannel(0), 'cancel_amp': 0.0}\n"
     ]
    }
   ],
   "source": [
    "print(cr_params)"
   ]
  },
  {
   "cell_type": "code",
   "execution_count": 45,
   "id": "70e8a4e8-4a55-44d1-a847-2fffe4cd93ba",
   "metadata": {},
   "outputs": [
    {
     "name": "stdout",
     "output_type": "stream",
     "text": [
      "(-0.7511834318926244+9.199343854398263e-17j)\n",
      "(0.7511834318926244+0j)\n",
      "(-0.7104822415638985+0.24390886161088773j)\n",
      "(0.7104822415638985-0.24390886161088765j)\n",
      "(-0.5927892760938767+0.46138641343030323j)\n",
      "(0.5927892760938768-0.4613864134303031j)\n",
      "(-0.4108583944857543+0.6288655882067083j)\n",
      "(0.41085839448575434-0.6288655882067083j)\n",
      "(-0.1844046307102582+0.7281974186459289j)\n",
      "(0.18440463071025828-0.7281974186459289j)\n",
      "(0.0620322361353533+0.7486177596277214j)\n",
      "(-0.062032236135353205-0.7486177596277214j)\n",
      "(0.30174694766638266+0.6879137503524715j)\n",
      "(-0.30174694766638255-0.6879137503524715j)\n",
      "(0.5087626953314544+0.5526636121449057j)\n",
      "(-0.5087626953314544-0.5526636121449057j)\n",
      "(0.6606461106907705+0.3575237961019367j)\n",
      "(-0.6606461106907705-0.35752379610193674j)\n",
      "(0.7409382689761391+0.1236407291980421j)\n",
      "(-0.7409382689761391-0.12364072919804218j)\n",
      "(0.7409382689761391-0.1236407291980421j)\n",
      "(-0.7409382689761391+0.123640729198042j)\n",
      "(0.6606461106907705-0.3575237961019367j)\n",
      "(-0.6606461106907705+0.3575237961019366j)\n",
      "(0.5087626953314547-0.5526636121449054j)\n",
      "(-0.5087626953314547+0.5526636121449053j)\n",
      "(0.30174694766638294-0.6879137503524713j)\n",
      "(-0.301746947666383+0.6879137503524713j)\n",
      "(0.06203223613535347-0.7486177596277214j)\n",
      "(-0.06203223613535356+0.7486177596277214j)\n",
      "(-0.18440463071025803-0.728197418645929j)\n",
      "(0.18440463071025795+0.728197418645929j)\n",
      "(-0.4108583944857543-0.6288655882067083j)\n",
      "(0.4108583944857542+0.6288655882067085j)\n",
      "(-0.5927892760938767-0.46138641343030323j)\n",
      "(0.5927892760938765+0.4613864134303033j)\n",
      "(-0.7104822415638985-0.24390886161088773j)\n",
      "(0.7104822415638985+0.24390886161088782j)\n",
      "(-0.7511834318926244-9.199343854398263e-17j)\n",
      "(0.7511834318926244+1.8398687708796526e-16j)\n"
     ]
    }
   ],
   "source": [
    "phase_exp_circuits, phase_exp_inst_maps = build_phase_experiment_circuits(backend, q1, q2, cr_phases, cr_params)\n"
   ]
  },
  {
   "cell_type": "code",
   "execution_count": 46,
   "id": "68ce958b-4d6f-4f04-951b-1d136f66c54d",
   "metadata": {},
   "outputs": [
    {
     "name": "stderr",
     "output_type": "stream",
     "text": [
      "<ipython-input-46-95e79d3478e8>:6: DeprecationWarning: The QuantumCircuit.__iadd__() method is being deprecated. Use the compose() (potentially with the inplace=True argument) and tensor() methods which are more flexible w.r.t circuit register compatibility.\n",
      "  y1_circ += circ\n",
      "C:\\Users\\Zachary\\anaconda3\\envs\\NewestPythonQiskit\\lib\\site-packages\\qiskit\\circuit\\quantumcircuit.py:942: DeprecationWarning: The QuantumCircuit.extend() method is being deprecated. Use the compose() (potentially with the inplace=True argument) and tensor() methods which are more flexible w.r.t circuit register compatibility.\n",
      "  return self.extend(rhs)\n"
     ]
    }
   ],
   "source": [
    "y0 = deepcopy(phase_exp_circuits)\n",
    "y1 = []\n",
    "for circ in y0:\n",
    "    y1_circ = QuantumCircuit(2)\n",
    "    y1_circ.x(0)\n",
    "    y1_circ += circ\n",
    "    y1.append(y1_circ)"
   ]
  },
  {
   "cell_type": "code",
   "execution_count": 51,
   "id": "991b7985-f43c-4eb2-acdb-d0b8cf9ec504",
   "metadata": {},
   "outputs": [],
   "source": [
    "phase_exp_circuits = y0+y1\n",
    "tc = transpile(phase_exp_circuits, backend, initial_layout=[q1, q2])\n",
    "identifier = F\"(({max_phase}),{num_phases})\""
   ]
  },
  {
   "cell_type": "code",
   "execution_count": 52,
   "id": "1d83035e-e327-48cd-8f6e-d8db1a132aa2",
   "metadata": {},
   "outputs": [
    {
     "name": "stdout",
     "output_type": "stream",
     "text": [
      "618aa15deb641130bbbb5c4f\n"
     ]
    }
   ],
   "source": [
    "job = backend.run(tc, job_name=F\"cr_amp_exp_{identifier}\", shots=2048)\n",
    "job_id = job.job_id()\n",
    "print(job.job_id())"
   ]
  },
  {
   "cell_type": "code",
   "execution_count": 53,
   "id": "c5dbd459-22c3-4d8a-b322-b66395dd1319",
   "metadata": {},
   "outputs": [],
   "source": [
    "# 11/9/2021 - phase experiments\n",
    "# ibmq_jakarta (11:27~ am) - 618aa15deb641130bbbb5c4f (-np.pi, np.pi, 20)\n",
    "results = backend.retrieve_job(job_id).result()\n"
   ]
  },
  {
   "cell_type": "code",
   "execution_count": 54,
   "id": "7996c458-ed74-41bb-910b-073354e31a83",
   "metadata": {},
   "outputs": [
    {
     "name": "stdout",
     "output_type": "stream",
     "text": [
      "[{'00': 1013, '01': 16, '10': 1005, '11': 14}, {'00': 702, '01': 9, '10': 1326, '11': 11}, {'00': 419, '01': 13, '10': 1593, '11': 23}, {'00': 232, '01': 13, '10': 1777, '11': 26}, {'00': 93, '01': 5, '10': 1930, '11': 20}, {'00': 59, '01': 7, '10': 1964, '11': 18}, {'00': 121, '01': 12, '10': 1896, '11': 19}, {'00': 240, '01': 11, '10': 1772, '11': 25}, {'00': 441, '01': 17, '10': 1569, '11': 21}, {'00': 741, '01': 14, '10': 1273, '11': 20}, {'00': 1057, '01': 13, '10': 964, '11': 14}, {'00': 1396, '01': 26, '10': 612, '11': 14}, {'00': 1639, '01': 14, '10': 389, '11': 6}, {'00': 1886, '01': 14, '10': 140, '11': 8}, {'00': 1991, '01': 21, '10': 29, '11': 7}, {'00': 1971, '01': 21, '10': 49, '11': 7}, {'00': 1870, '01': 15, '10': 155, '11': 8}, {'00': 1620, '01': 20, '10': 401, '11': 7}, {'00': 1343, '01': 15, '10': 676, '11': 14}, {'00': 1006, '01': 22, '10': 1006, '11': 14}, {'00': 40, '01': 834, '10': 45, '11': 1129}, {'00': 34, '01': 1171, '10': 40, '11': 803}, {'00': 57, '01': 1481, '10': 22, '11': 488}, {'00': 65, '01': 1718, '10': 7, '11': 258}, {'00': 64, '01': 1902, '10': 7, '11': 75}, {'00': 66, '01': 1953, '10': 5, '11': 24}, {'00': 77, '01': 1888, '10': 5, '11': 78}, {'00': 57, '01': 1711, '10': 24, '11': 256}, {'00': 54, '01': 1493, '10': 20, '11': 481}, {'00': 36, '01': 1213, '10': 31, '11': 768}, {'00': 26, '01': 913, '10': 36, '11': 1073}, {'00': 23, '01': 589, '10': 40, '11': 1396}, {'00': 8, '01': 352, '10': 56, '11': 1632}, {'00': 4, '01': 145, '10': 75, '11': 1824}, {'00': 10, '01': 64, '10': 58, '11': 1916}, {'00': 10, '01': 69, '10': 51, '11': 1918}, {'00': 6, '01': 168, '10': 70, '11': 1804}, {'00': 18, '01': 347, '10': 47, '11': 1636}, {'00': 24, '01': 574, '10': 50, '11': 1400}, {'00': 32, '01': 849, '10': 32, '11': 1135}]\n"
     ]
    }
   ],
   "source": [
    "count_dict = results.get_counts()\n",
    "print(count_dict)"
   ]
  },
  {
   "cell_type": "code",
   "execution_count": 55,
   "id": "1b038afa-f299-47af-a9d1-8aedba167f5a",
   "metadata": {},
   "outputs": [
    {
     "name": "stdout",
     "output_type": "stream",
     "text": [
      "40\n"
     ]
    }
   ],
   "source": [
    "print(len(count_dict))"
   ]
  },
  {
   "cell_type": "code",
   "execution_count": 56,
   "id": "e06a8622-2f9b-4eff-854c-1d64957ae24b",
   "metadata": {},
   "outputs": [],
   "source": [
    "def cos_fit_00(x, a, b):\n",
    "    return a * np.cos(x - b + np.pi)\n",
    "\n",
    "def cos_fit_10(x, a, b):\n",
    "    return a * np.cos(x - b)"
   ]
  },
  {
   "cell_type": "code",
   "execution_count": 67,
   "id": "a874ec24-2d76-4eff-a80c-016d0f0b699b",
   "metadata": {},
   "outputs": [
    {
     "name": "stdout",
     "output_type": "stream",
     "text": [
      "-1.4935498659233146\n"
     ]
    }
   ],
   "source": [
    "exp_y0 = np.zeros_like(cr_phases)\n",
    "exp_y1 = np.zeros_like(cr_phases)\n",
    "\n",
    "results_y0 = count_dict[:20]\n",
    "results_y1 = count_dict[20:]\n",
    "\n",
    "for cind in range(len(cr_phases)):\n",
    "    exp_y0[cind] = expectation_val(results_y0[cind], mem_ind=mem_ind)\n",
    "    exp_y1[cind] = expectation_val(results_y1[cind], mem_ind=mem_ind)\n",
    "# print(exp_y0)\n",
    "# print(exp_y1)\n",
    "\n",
    "params0, _ = opt.curve_fit(cos_fit_00, xdata=cr_phases, ydata=exp_y0, bounds=([0, -np.pi], [1, np.pi]))\n",
    "params1, _ = opt.curve_fit(cos_fit_10, xdata=cr_phases, ydata=exp_y1, bounds=([0, -np.pi], [1, np.pi]))\n",
    "\n",
    "phi_opt = (params0[1] + params1[1]) / 2\n",
    "print(phi_opt)"
   ]
  },
  {
   "cell_type": "code",
   "execution_count": 68,
   "id": "2bb09d90-3d33-4f16-a123-885e40c90199",
   "metadata": {},
   "outputs": [
    {
     "data": {
      "image/png": "[encoded data removed]",
      "text/plain": [
       "<Figure size 432x288 with 1 Axes>"
      ]
     },
     "metadata": {
      "needs_background": "light"
     },
     "output_type": "display_data"
    }
   ],
   "source": [
    "x_interp = np.linspace(cr_phases[0], cr_phases[-1], 1000)\n",
    "plt.plot(cr_phases, exp_y0, 'o', color='b', label='|00>')\n",
    "plt.plot(cr_phases, exp_y1, 'o', color='r', label='|10>')\n",
    "plt.plot(x_interp, cos_fit_00(x_interp, *params0), 'b')\n",
    "plt.plot(x_interp, cos_fit_10(x_interp, *params1), 'r')\n",
    "plt.plot([params0[1], params0[1]], [-1, 1], 'b:')\n",
    "plt.plot([params1[1], params1[1]], [-1, 1], 'r:')\n",
    "plt.xlim(cr_phases[0], cr_phases[-1])\n",
    "plt.ylim(-1, 1)\n",
    "plt.xlabel('CR phase')\n",
    "plt.ylabel('<Y>')\n",
    "plt.grid()\n",
    "plt.legend()\n",
    "plt.savefig(\"phase_calibration\")"
   ]
  },
  {
   "cell_type": "code",
   "execution_count": null,
   "id": "6a442b69-21e0-454d-a3d7-ee7dd71ac2e2",
   "metadata": {},
   "outputs": [],
   "source": []
  }
 ],
 "metadata": {
  "kernelspec": {
   "display_name": "Python 3",
   "language": "python",
   "name": "python3"
  },
  "language_info": {
   "codemirror_mode": {
    "name": "ipython",
    "version": 3
   },
   "file_extension": ".py",
   "mimetype": "text/x-python",
   "name": "python",
   "nbconvert_exporter": "python",
   "pygments_lexer": "ipython3",
   "version": "3.8.8"
  }
 },
 "nbformat": 4,
 "nbformat_minor": 5
}
