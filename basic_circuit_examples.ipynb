{
 "cells": [
  {
   "cell_type": "code",
   "execution_count": 2,
   "id": "1b62d99a-bc25-4d73-9ecf-cbde4cb9e859",
   "metadata": {},
   "outputs": [],
   "source": [
    "from qiskit import pulse, circuit, transpile, assemble, schedule, IBMQ, QuantumCircuit, quantum_info as qi \n",
    "import qiskit\n",
    "from qiskit.visualization import plot_gate_map, plot_error_map\n",
    "from qiskit.visualization.pulse_v2 import draw\n",
    "from qiskit.pulse import ShiftPhase, GaussianSquare, Drag, ControlChannel, MeasureChannel, DriveChannel, Play, Schedule\n",
    "import numpy as np\n",
    "from qiskit.tools import job_monitor\n",
    "from copy import deepcopy\n",
    "import scipy.optimize as opt\n",
    "import matplotlib.pyplot as plt\n",
    "from qiskit.visualization import pulse_drawer_v2 as draw"
   ]
  },
  {
   "cell_type": "code",
   "execution_count": 3,
   "id": "5865872a-ac5b-42a4-b1e7-c370ae8ada30",
   "metadata": {},
   "outputs": [],
   "source": [
    "account_provider = IBMQ.load_account()\n",
    "provider_opts = {'hub': 'ibm-q-ncsu', 'group': 'nc-state', 'project':'noiseanderror'}\n",
    "\n",
    "# target backend\n",
    "backend_name = 'ibmq_jakarta'\n",
    "\n",
    "provider = IBMQ.get_provider(**provider_opts)\n",
    "backend = provider.get_backend(backend_name)\n",
    "\n",
    "# backend information\n",
    "config = backend.configuration()\n",
    "defaults = backend.defaults()\n",
    "properties = backend.properties()\n",
    "\n",
    "# instruction schedule map\n",
    "inst_map = defaults.instruction_schedule_map"
   ]
  },
  {
   "cell_type": "code",
   "execution_count": 4,
   "id": "f9b14d98-f585-46d2-9625-7cabe0fc8840",
   "metadata": {},
   "outputs": [
    {
     "data": {
      "image/png": "[encoded data removed]",
      "text/plain": [
       "<Figure size 452.494x204.68 with 1 Axes>"
      ]
     },
     "execution_count": 4,
     "metadata": {},
     "output_type": "execute_result"
    }
   ],
   "source": [
    "qc = QuantumCircuit(2)\n",
    "qc.x(0)\n",
    "qc.cx(0, 1)\n",
    "qc.measure_active()\n",
    "qc.draw('mpl',filename=\"cnot_circ.png\")"
   ]
  },
  {
   "cell_type": "code",
   "execution_count": 5,
   "id": "9ca9e979-20fe-47d8-aeda-ff88d7ec6230",
   "metadata": {},
   "outputs": [],
   "source": [
    "tc = transpile(qc, backend)\n",
    "sched = schedule(tc, backend)\n",
    "draw(sched, time_range=[0, 23600]).savefig(\"cnot_sched.png\")"
   ]
  },
  {
   "cell_type": "code",
   "execution_count": 9,
   "id": "daae599f-6db7-4852-9b23-24ac5969ec2d",
   "metadata": {},
   "outputs": [
    {
     "data": {
      "image/png": "[encoded data removed]",
      "text/plain": [
       "<Figure size 133.526x144.48 with 1 Axes>"
      ]
     },
     "execution_count": 9,
     "metadata": {},
     "output_type": "execute_result"
    }
   ],
   "source": [
    "q1, q2 = 1,2\n",
    "qc = QuantumCircuit(1, 1)\n",
    "qc.x(0)\n",
    "qc.draw('mpl')"
   ]
  },
  {
   "cell_type": "code",
   "execution_count": 10,
   "id": "a8862af4-fc8b-45e0-9bd0-5eb2122a8e75",
   "metadata": {},
   "outputs": [],
   "source": [
    "tc = transpile(qc, backend, initial_layout=[q1])\n",
    "x_sched = schedule(tc, backend)"
   ]
  },
  {
   "cell_type": "code",
   "execution_count": 13,
   "id": "3cdb8b6c-ed1d-4f5e-b626-3263af27d2c1",
   "metadata": {},
   "outputs": [],
   "source": [
    "draw(x_sched).savefig(\"x_sched_presentation\", bbox_inches=\"tight\")"
   ]
  },
  {
   "cell_type": "code",
   "execution_count": 15,
   "id": "6c6c729d-db13-4ac6-894f-a9eac30b81bc",
   "metadata": {},
   "outputs": [
    {
     "data": {
      "image/png": "[encoded data removed]",
      "text/plain": [
       "<Figure size 146.652x144.48 with 1 Axes>"
      ]
     },
     "execution_count": 15,
     "metadata": {},
     "output_type": "execute_result"
    }
   ],
   "source": [
    "cx_circ = QuantumCircuit(2)\n",
    "cx_circ.cx(0,1)\n",
    "cx_circ.draw(\"mpl\")"
   ]
  },
  {
   "cell_type": "code",
   "execution_count": 16,
   "id": "e77a9525-16f2-42e7-affb-30284f43d4d1",
   "metadata": {},
   "outputs": [],
   "source": [
    "cx_basis_sched = schedule(cx_circ, backend)\n",
    "cx_sched_fig = draw(cx_basis_sched)\n",
    "cx_sched_fig.savefig(\"cx_basis_sched\",bbox_inches='tight')"
   ]
  },
  {
   "cell_type": "code",
   "execution_count": null,
   "id": "b23f74eb-be93-4e4f-a10d-075e396dd797",
   "metadata": {},
   "outputs": [],
   "source": []
  }
 ],
 "metadata": {
  "kernelspec": {
   "display_name": "Python 3",
   "language": "python",
   "name": "python3"
  },
  "language_info": {
   "codemirror_mode": {
    "name": "ipython",
    "version": 3
   },
   "file_extension": ".py",
   "mimetype": "text/x-python",
   "name": "python",
   "nbconvert_exporter": "python",
   "pygments_lexer": "ipython3",
   "version": "3.8.8"
  }
 },
 "nbformat": 4,
 "nbformat_minor": 5
}
