{
 "cells": [
  {
   "cell_type": "code",
   "execution_count": 1,
   "id": "57d5e6c9-52f0-43ae-8aa9-5227297fb32b",
   "metadata": {},
   "outputs": [],
   "source": [
    "from qiskit import pulse, circuit, transpile, assemble, schedule, IBMQ, QuantumCircuit, quantum_info as qi \n",
    "import qiskit\n",
    "from qiskit.visualization import plot_gate_map, plot_error_map\n",
    "from qiskit.visualization.pulse_v2 import draw\n",
    "from qiskit.pulse import ShiftPhase, GaussianSquare, Drag, ControlChannel, MeasureChannel, DriveChannel, Play, Schedule\n",
    "import numpy as np\n",
    "from qiskit.tools import job_monitor\n",
    "from copy import deepcopy\n",
    "import scipy.optimize as opt\n",
    "import matplotlib.pyplot as plt"
   ]
  },
  {
   "cell_type": "code",
   "execution_count": 2,
   "id": "a6a30b4f-7c1d-437d-991c-000b870101af",
   "metadata": {},
   "outputs": [],
   "source": [
    "account_provider = IBMQ.load_account()\n",
    "provider_opts = {'hub': 'ibm-q-ncsu', 'group': 'nc-state', 'project':'noiseanderror'}\n",
    "\n",
    "# target backend\n",
    "backend_name = 'ibm_lagos'\n",
    "\n",
    "provider = IBMQ.get_provider(**provider_opts)\n",
    "backend = provider.get_backend(backend_name)\n",
    "\n",
    "# backend information\n",
    "config = backend.configuration()\n",
    "defaults = backend.defaults()\n",
    "properties = backend.properties()\n",
    "\n",
    "# instruction schedule map\n",
    "inst_map = defaults.instruction_schedule_map"
   ]
  },
  {
   "cell_type": "code",
   "execution_count": 8,
   "id": "85c390cf-7716-431b-a7ec-114f3b8df3a6",
   "metadata": {},
   "outputs": [],
   "source": [
    "qubit = 0\n",
    "freq01_estimate = backend.defaults().qubit_freq_est[qubit]\n",
    "frequencies = np.linspace(freq01_estimate -15e6, freq01_estimate + 15e6, 51)"
   ]
  },
  {
   "cell_type": "code",
   "execution_count": 9,
   "id": "75f27216-ef59-4ebe-83de-21f6d4c650b4",
   "metadata": {},
   "outputs": [
    {
     "name": "stdout",
     "output_type": "stream",
     "text": [
      "5235191257.020499\n"
     ]
    }
   ],
   "source": [
    "print(freq01_estimate)"
   ]
  },
  {
   "cell_type": "code",
   "execution_count": 10,
   "id": "f8f88b2d-0215-47bd-9b02-ea55aa131011",
   "metadata": {},
   "outputs": [
    {
     "name": "stdout",
     "output_type": "stream",
     "text": [
      "[5.22019126e+09 5.22079126e+09 5.22139126e+09 5.22199126e+09\n",
      " 5.22259126e+09 5.22319126e+09 5.22379126e+09 5.22439126e+09\n",
      " 5.22499126e+09 5.22559126e+09 5.22619126e+09 5.22679126e+09\n",
      " 5.22739126e+09 5.22799126e+09 5.22859126e+09 5.22919126e+09\n",
      " 5.22979126e+09 5.23039126e+09 5.23099126e+09 5.23159126e+09\n",
      " 5.23219126e+09 5.23279126e+09 5.23339126e+09 5.23399126e+09\n",
      " 5.23459126e+09 5.23519126e+09 5.23579126e+09 5.23639126e+09\n",
      " 5.23699126e+09 5.23759126e+09 5.23819126e+09 5.23879126e+09\n",
      " 5.23939126e+09 5.23999126e+09 5.24059126e+09 5.24119126e+09\n",
      " 5.24179126e+09 5.24239126e+09 5.24299126e+09 5.24359126e+09\n",
      " 5.24419126e+09 5.24479126e+09 5.24539126e+09 5.24599126e+09\n",
      " 5.24659126e+09 5.24719126e+09 5.24779126e+09 5.24839126e+09\n",
      " 5.24899126e+09 5.24959126e+09 5.25019126e+09]\n"
     ]
    }
   ],
   "source": [
    "print(frequencies)"
   ]
  },
  {
   "cell_type": "code",
   "execution_count": 35,
   "id": "47c56c4e-270e-42cb-a8be-7be57fa84291",
   "metadata": {},
   "outputs": [],
   "source": [
    "def spectroscopy_scheds(qubit, pulse_params, backend):\n",
    "    freq_param = circuit.Parameter(\"frequency\")\n",
    "    with pulse.build(backend=backend, name=\"spectroscopy\") as schedule:\n",
    "        pulse.shift_frequency(freq_param, DriveChannel(qubit))\n",
    "        pulse.play(\n",
    "            GaussianSquare(duration=pulse_params[\"duration\"], \n",
    "                           amp=pulse_params[\"amp\"], \n",
    "                           sigma=pulse_params[\"sigma\"], \n",
    "                           width=pulse_params[\"width\"]), DriveChannel(qubit))\n",
    "        pulse.shift_frequency(-freq_param, DriveChannel(qubit))\n",
    "        \n",
    "    return schedule, freq_param\n",
    "\n",
    "def amplitude_scheds(qubit, pulse_params, backend):\n",
    "    amp_param = circuit.Parameter(\"amp\")\n",
    "    with pulse.build(backend=backend, name=\"amp_sweep\") as schedule:\n",
    "        pulse.set_frequency(pulse_params[\"frequency\"], \n",
    "                            DriveChannel(qubit))\n",
    "        pulse.play(\n",
    "            Drag(duration=pulse_params['duration'], \n",
    "                           amp=amp_param, \n",
    "                           sigma=pulse_params[\"sigma\"], \n",
    "                           beta=pulse_params[\"beta\"]), DriveChannel(qubit))\n",
    "    return schedule, amp_param\n",
    "\n",
    "def x_gate_scheds(qubit, pulse_params, backend):\n",
    "    with pulse.build(backend=backend, name=\"x_gate\") as schedule:\n",
    "        pulse.set_frequency(pulse_params[\"frequency\"], \n",
    "                            DriveChannel(qubit))\n",
    "        pulse.play(\n",
    "            Drag(duration=pulse_params['duration'], \n",
    "                           amp=pulse_params[\"amplitude\"], \n",
    "                           sigma=pulse_params[\"sigma\"], \n",
    "                           beta=pulse_params[\"beta\"]), DriveChannel(qubit))\n",
    "    return schedule\n",
    "\n",
    "def template_circuit(param, gate_name):\n",
    "    temp_circ = QuantumCircuit(1)\n",
    "    if param is not None:\n",
    "        temp_circ.append(circuit.Gate(name=gate_name, num_qubits=1, params=[param]), (0,))\n",
    "        temp_circ.measure_active()\n",
    "    else:\n",
    "        temp_circ.append(circuit.Gate(name=gate_name, num_qubits=1, params=[]), (0,))\n",
    "    return temp_circ\n",
    "\n",
    "def spectroscopy_circuits(qubit, frequencies, pulse_params, backend):\n",
    "    gname = \"Spec\"\n",
    "    sched, freq_param = spectroscopy_scheds(qubit, pulse_params, backend)\n",
    "    circuit = template_circuit(freq_param, gname)\n",
    "    circuit.add_calibration(gname, (qubit,), sched, params=[freq_param])\n",
    "    \n",
    "    center_freq = backend.defaults().qubit_freq_est[qubit]\n",
    "    \n",
    "    circs = []\n",
    "    for freq in frequencies:\n",
    "        freq_shift = freq\n",
    "        freq_shift -= center_freq\n",
    "        freq_shift = np.round(freq_shift, decimals=3)\n",
    "        assigned_circ = circuit.assign_parameters({freq_param: freq_shift}, inplace=False)\n",
    "        circs.append(assigned_circ)\n",
    "    return circs\n",
    "\n",
    "def amplitude_circuits(qubit, amplitudes, pulse_params, backend):\n",
    "    gname = \"Amp\"\n",
    "    sched, amp_param = amplitude_scheds(qubit, pulse_params, backend)\n",
    "    circuit = template_circuit(amp_param, gname)\n",
    "    circuit.add_calibration(gname, (qubit,), sched, params=[amp_param])\n",
    "    \n",
    "    circs = []\n",
    "    for amp in amplitudes:\n",
    "        assigned_circ = circuit.assign_parameters({amp_param: amp}, inplace=False)\n",
    "        circs.append(assigned_circ)\n",
    "    return circs\n",
    "\n",
    "def x_gate_circuits(qubit, pulse_params, backend):\n",
    "    gname = \"Custom_x\"\n",
    "\n",
    "    sched = x_gate_scheds(qubit, pulse_params, backend)\n",
    "    circuit = template_circuit(None, gname)\n",
    "    circuit.add_calibration(gname, (qubit,), sched)\n",
    "#     circs.append(circuit)\n",
    "    \n",
    "    return circuit"
   ]
  },
  {
   "cell_type": "markdown",
   "id": "9e05fa38-40ee-46a3-ac4a-dd60f319ceea",
   "metadata": {},
   "source": [
    "## Spectroscopy pulse parameters - using a GaussianSquare pulse to perform qubit spectroscopy"
   ]
  },
  {
   "cell_type": "code",
   "execution_count": 7,
   "id": "2c8f6f26-d6d1-4e51-80d9-f5cf2598587e",
   "metadata": {
    "tags": []
   },
   "outputs": [],
   "source": [
    "pulse_params = {}\n",
    "pulse_params[\"duration\"] = 1024\n",
    "pulse_params[\"amp\"] = 0.1\n",
    "pulse_params[\"sigma\"] = 256\n",
    "pulse_params[\"width\"] = 0\n"
   ]
  },
  {
   "cell_type": "code",
   "execution_count": 8,
   "id": "16d3d570-527c-4f53-a00d-5975ad594315",
   "metadata": {},
   "outputs": [],
   "source": [
    "circs = spectroscopy_circuits(qubit, frequencies, pulse_params, backend)"
   ]
  },
  {
   "cell_type": "code",
   "execution_count": 9,
   "id": "b220370d-4a9d-48ff-a547-680e211740cc",
   "metadata": {},
   "outputs": [],
   "source": [
    "transpiled_circs = transpile(circs, backend, initial_layout=[0])"
   ]
  },
  {
   "cell_type": "code",
   "execution_count": 10,
   "id": "59088da7-7372-4830-a826-7bd0af487990",
   "metadata": {},
   "outputs": [],
   "source": [
    "# transpiled_circs[0].draw()"
   ]
  },
  {
   "cell_type": "code",
   "execution_count": 11,
   "id": "15ba3169-d5ce-42d1-be5c-6a7f13122a08",
   "metadata": {},
   "outputs": [
    {
     "name": "stdout",
     "output_type": "stream",
     "text": [
      "61a66d70a62b826eb1b5136b\n"
     ]
    }
   ],
   "source": [
    "# job = backend.run(transpiled_circs, job_name=\"spectroscopy\", shots=2048)\n",
    "job_id = job.job_id()\n",
    "print(job.job_id())"
   ]
  },
  {
   "cell_type": "code",
   "execution_count": null,
   "id": "2dfdc7a2-8721-4ed9-a739-761297844014",
   "metadata": {},
   "outputs": [],
   "source": []
  },
  {
   "cell_type": "code",
   "execution_count": 12,
   "id": "127c7ce2-32fd-41ef-bf54-a73c79cd28cb",
   "metadata": {},
   "outputs": [],
   "source": [
    "# 11/21/spectroscopy\n",
    "# jakarta (11:51) 619a768168476d6e298a8394\n",
    "\n",
    "# lagos (2:16) 619a9b38cd37f33609f2702d\n",
    "# armonk (3:29) 619aac3a53ac6ccf4ad59760\n",
    "\n",
    "#11/23/2021 \n",
    "# lagos (12:03) 619c75f28982d995183399dc\n",
    "\n",
    "# jakarta (12:36) 619c7dc18982d9836e339a69\n",
    "\n",
    "# 11/30/2021 \n",
    "# lagos (1:29) - 61a66d70a62b826eb1b5136b\n",
    "\n",
    "# backend = provider.get_backend(\"ibmq_armonk\")\n",
    "results = backend.retrieve_job(\"61a66d70a62b826eb1b5136b\").result()"
   ]
  },
  {
   "cell_type": "code",
   "execution_count": 13,
   "id": "3a0f830e-02f4-4adf-ba62-f023f14982aa",
   "metadata": {},
   "outputs": [
    {
     "name": "stdout",
     "output_type": "stream",
     "text": [
      "[{'0': 1996, '1': 52}, {'0': 1989, '1': 59}, {'0': 1984, '1': 64}, {'0': 1992, '1': 56}, {'0': 1990, '1': 58}, {'0': 1978, '1': 70}, {'0': 1953, '1': 95}, {'0': 1959, '1': 89}, {'0': 1964, '1': 84}, {'0': 1994, '1': 54}, {'0': 1981, '1': 67}, {'0': 1956, '1': 92}, {'0': 1868, '1': 180}, {'0': 1736, '1': 312}, {'0': 1568, '1': 480}, {'0': 1417, '1': 631}, {'0': 1236, '1': 812}, {'0': 1062, '1': 986}, {'0': 861, '1': 1187}, {'0': 698, '1': 1350}, {'0': 537, '1': 1511}, {'0': 413, '1': 1635}, {'0': 298, '1': 1750}, {'0': 212, '1': 1836}, {'0': 218, '1': 1830}, {'0': 207, '1': 1841}, {'0': 243, '1': 1805}, {'0': 328, '1': 1720}, {'0': 399, '1': 1649}, {'0': 604, '1': 1444}, {'0': 808, '1': 1240}, {'0': 1039, '1': 1009}, {'0': 1298, '1': 750}, {'0': 1471, '1': 577}, {'0': 1612, '1': 436}, {'0': 1779, '1': 269}, {'0': 1825, '1': 223}, {'0': 1918, '1': 130}, {'0': 1967, '1': 81}, {'0': 1995, '1': 53}, {'0': 1987, '1': 61}, {'0': 1976, '1': 72}, {'0': 1979, '1': 69}, {'0': 1966, '1': 82}, {'0': 1954, '1': 94}, {'0': 1973, '1': 75}, {'0': 1980, '1': 68}, {'0': 1992, '1': 56}, {'0': 1989, '1': 59}, {'0': 1998, '1': 50}, {'0': 1978, '1': 70}]\n"
     ]
    }
   ],
   "source": [
    "print(results.get_counts())"
   ]
  },
  {
   "cell_type": "code",
   "execution_count": 14,
   "id": "d9811edf-3461-4ae2-aa79-2dfcacaaefa8",
   "metadata": {},
   "outputs": [
    {
     "name": "stdout",
     "output_type": "stream",
     "text": [
      "[0.025390625, 0.02880859375, 0.03125, 0.02734375, 0.0283203125, 0.0341796875, 0.04638671875, 0.04345703125, 0.041015625, 0.0263671875, 0.03271484375, 0.044921875, 0.087890625, 0.15234375, 0.234375, 0.30810546875, 0.396484375, 0.4814453125, 0.57958984375, 0.6591796875, 0.73779296875, 0.79833984375, 0.8544921875, 0.896484375, 0.8935546875, 0.89892578125, 0.88134765625, 0.83984375, 0.80517578125, 0.705078125, 0.60546875, 0.49267578125, 0.3662109375, 0.28173828125, 0.212890625, 0.13134765625, 0.10888671875, 0.0634765625, 0.03955078125, 0.02587890625, 0.02978515625, 0.03515625, 0.03369140625, 0.0400390625, 0.0458984375, 0.03662109375, 0.033203125, 0.02734375, 0.02880859375, 0.0244140625, 0.0341796875]\n"
     ]
    }
   ],
   "source": [
    "exp_vals = []\n",
    "for counts in results.get_counts():\n",
    "    exp_val = 0\n",
    "    for k,v in counts.items():\n",
    "        if k == \"1\":\n",
    "            exp_val = v/sum(counts.values())\n",
    "    exp_vals.append(exp_val)\n",
    "print(exp_vals)"
   ]
  },
  {
   "cell_type": "code",
   "execution_count": 15,
   "id": "fa3df9e1-18e5-4ad9-9808-b80a78b4cef7",
   "metadata": {},
   "outputs": [
    {
     "name": "stdout",
     "output_type": "stream",
     "text": [
      "[5.22019126 5.22079126 5.22139126 5.22199126 5.22259126 5.22319126\n",
      " 5.22379126 5.22439126 5.22499126 5.22559126 5.22619126 5.22679126\n",
      " 5.22739126 5.22799126 5.22859126 5.22919126 5.22979126 5.23039126\n",
      " 5.23099126 5.23159126 5.23219126 5.23279126 5.23339126 5.23399126\n",
      " 5.23459126 5.23519126 5.23579126 5.23639126 5.23699126 5.23759126\n",
      " 5.23819126 5.23879126 5.23939126 5.23999126 5.24059126 5.24119126\n",
      " 5.24179126 5.24239126 5.24299126 5.24359126 5.24419126 5.24479126\n",
      " 5.24539126 5.24599126 5.24659126 5.24719126 5.24779126 5.24839126\n",
      " 5.24899126 5.24959126 5.25019126]\n"
     ]
    }
   ],
   "source": [
    "frequencies_GHz = frequencies*1e-9\n",
    "print(frequencies_GHz)"
   ]
  },
  {
   "cell_type": "code",
   "execution_count": 16,
   "id": "e1544c42-1999-45a5-adf0-9b78140e09b3",
   "metadata": {},
   "outputs": [
    {
     "data": {
      "image/png": "[encoded data removed]",
      "text/plain": [
       "<Figure size 432x288 with 1 Axes>"
      ]
     },
     "metadata": {
      "needs_background": "light"
     },
     "output_type": "display_data"
    }
   ],
   "source": [
    "plt.scatter(frequencies_GHz, np.real(exp_vals), color='black') # plot real part of sweep values\n",
    "plt.xlim([min(frequencies_GHz), max(frequencies_GHz)])\n",
    "plt.xlabel(\"Frequency [GHz]\")\n",
    "plt.ylabel(\"Measured signal [a.u.]\")\n",
    "plt.show()"
   ]
  },
  {
   "cell_type": "code",
   "execution_count": 17,
   "id": "e7810abf-c5f2-4e8d-bef7-9736fdd0c361",
   "metadata": {},
   "outputs": [
    {
     "name": "stdout",
     "output_type": "stream",
     "text": [
      "[[Model]]\n",
      "    Model(lorentzian)\n",
      "[[Fit Statistics]]\n",
      "    # fitting method   = leastsq\n",
      "    # function evals   = 29\n",
      "    # data points      = 51\n",
      "    # variables        = 3\n",
      "    chi-square         = 0.25506893\n",
      "    reduced chi-square = 0.00531394\n",
      "    Akaike info crit   = -264.200401\n",
      "    Bayesian info crit = -258.404924\n",
      "[[Variables]]\n",
      "    amplitude:  0.01087751 +/- 3.8055e-04 (3.50%) (init = 0.01377356)\n",
      "    center:     5.23468731 +/- 1.1975e-04 (0.00%) (init = 5.234591)\n",
      "    sigma:      0.00348403 +/- 1.7270e-04 (4.96%) (init = 0.0042)\n",
      "    fwhm:       0.00696805 +/- 3.4539e-04 (4.96%) == '2.0000000*sigma'\n",
      "    height:     0.99379873 +/- 0.03428614 (3.45%) == '0.3183099*amplitude/max(1e-15, sigma)'\n",
      "[[Correlations]] (unreported correlations are < 0.100)\n",
      "    C(amplitude, sigma) = 0.718\n"
     ]
    },
    {
     "data": {
      "image/png": "[encoded data removed]",
      "text/plain": [
       "<Figure size 432x288 with 1 Axes>"
      ]
     },
     "metadata": {
      "needs_background": "light"
     },
     "output_type": "display_data"
    }
   ],
   "source": [
    "import lmfit\n",
    "\n",
    "model = lmfit.models.LorentzianModel()\n",
    "params = model.guess(np.array(exp_vals), x=np.array(frequencies_GHz))\n",
    "\n",
    "result = model.fit(np.array(exp_vals), params, x=frequencies_GHz)\n",
    "result.plot_fit()\n",
    "print(result.fit_report())"
   ]
  },
  {
   "cell_type": "code",
   "execution_count": 50,
   "id": "edd1be3f-e94a-4a0f-8020-4115b763a412",
   "metadata": {},
   "outputs": [
    {
     "data": {
      "image/png": "[encoded data removed]",
      "text/plain": [
       "<Figure size 432x288 with 1 Axes>"
      ]
     },
     "metadata": {
      "needs_background": "light"
     },
     "output_type": "display_data"
    }
   ],
   "source": [
    "fig = result.plot_fit()\n",
    "fig.get_figure().savefig(\"ibm_lagos_frequency_sweep_bestfit.png\")"
   ]
  },
  {
   "cell_type": "code",
   "execution_count": 48,
   "id": "9247ac92-935b-4015-90e0-10bb28b9519e",
   "metadata": {},
   "outputs": [
    {
     "name": "stdout",
     "output_type": "stream",
     "text": [
      "<class 'matplotlib.axes._subplots.AxesSubplot'>\n"
     ]
    }
   ],
   "source": []
  },
  {
   "cell_type": "code",
   "execution_count": 19,
   "id": "70f1d59e-1fae-4b66-8682-d28a509ffc16",
   "metadata": {},
   "outputs": [
    {
     "name": "stdout",
     "output_type": "stream",
     "text": [
      "Our freq: 5.234687311789827 and reported: 5.2351912570204995\n"
     ]
    }
   ],
   "source": [
    "qubit_frequency = result.params[\"center\"].value\n",
    "print(F\"Our freq: {qubit_frequency} and reported: {freq01_estimate*1e-9}\")"
   ]
  },
  {
   "cell_type": "code",
   "execution_count": 20,
   "id": "501b3ba8-ddc3-4850-888a-59c1aeeef507",
   "metadata": {},
   "outputs": [],
   "source": [
    "x_sched = inst_map.get(\"x\", qubit)"
   ]
  },
  {
   "cell_type": "code",
   "execution_count": 21,
   "id": "c03067b1-87bb-4cc4-80f5-51ff577841ed",
   "metadata": {},
   "outputs": [
    {
     "name": "stdout",
     "output_type": "stream",
     "text": [
      "{'duration': 160, 'sigma': 40, 'beta': -0.1873817311710781, 'frequency': 5234687311.789827}\n"
     ]
    }
   ],
   "source": [
    "drag_params = {}\n",
    "drag_params[\"duration\"] = x_sched.instructions[0][1].pulse.duration\n",
    "drag_params[\"sigma\"] = x_sched.instructions[0][1].pulse.sigma\n",
    "drag_params[\"beta\"] = x_sched.instructions[0][1].pulse.beta\n",
    "drag_params[\"frequency\"] = qubit_frequency*1.0e9\n",
    "\n",
    "print(drag_params)"
   ]
  },
  {
   "cell_type": "code",
   "execution_count": 22,
   "id": "6a413342-7cf1-484c-b3a2-ab9f0a892f9a",
   "metadata": {},
   "outputs": [
    {
     "data": {
      "image/png": "[encoded data removed]",
      "text/plain": [
       "<Figure size 936x118.8 with 1 Axes>"
      ]
     },
     "execution_count": 22,
     "metadata": {},
     "output_type": "execute_result"
    }
   ],
   "source": [
    "draw(x_sched, backend=backend)"
   ]
  },
  {
   "cell_type": "code",
   "execution_count": 23,
   "id": "4084bc07-da74-4aeb-b7a4-808b608d28ad",
   "metadata": {},
   "outputs": [],
   "source": [
    "amplitudes = np.linspace(-0.95, 0.95, 51)"
   ]
  },
  {
   "cell_type": "code",
   "execution_count": 24,
   "id": "7ce9b223-80b2-4ac9-8c6b-7e2225792d4b",
   "metadata": {},
   "outputs": [],
   "source": [
    "amp_circs = amplitude_circuits(qubit, amplitudes, drag_params, backend)"
   ]
  },
  {
   "cell_type": "code",
   "execution_count": 25,
   "id": "624fcfb0-e60c-4da7-817f-bfb556bb327a",
   "metadata": {},
   "outputs": [],
   "source": [
    "transpiled_circs = transpile(amp_circs, backend, initial_layout=[0])"
   ]
  },
  {
   "cell_type": "code",
   "execution_count": 25,
   "id": "0e526c03-313e-403a-b245-eeefd55100b1",
   "metadata": {},
   "outputs": [
    {
     "data": {
      "text/html": [
       "<pre style=\"word-wrap: normal;white-space: pre;background: #fff0;line-height: 1.1;font-family: &quot;Courier New&quot;,Courier,monospace\">               ┌─────────────────────────┐ ░ ┌─┐\n",
       "      q_0 -> 0 ┤ Amp(-0.950000000000000) ├─░─┤M├\n",
       "               └─────────────────────────┘ ░ └╥┘\n",
       "ancilla_0 -> 1 ───────────────────────────────╫─\n",
       "                                              ║ \n",
       "ancilla_1 -> 2 ───────────────────────────────╫─\n",
       "                                              ║ \n",
       "ancilla_2 -> 3 ───────────────────────────────╫─\n",
       "                                              ║ \n",
       "ancilla_3 -> 4 ───────────────────────────────╫─\n",
       "                                              ║ \n",
       "ancilla_4 -> 5 ───────────────────────────────╫─\n",
       "                                              ║ \n",
       "ancilla_5 -> 6 ───────────────────────────────╫─\n",
       "                                              ║ \n",
       "    measure: 1/═══════════════════════════════╩═\n",
       "                                              0 </pre>"
      ],
      "text/plain": [
       "               ┌─────────────────────────┐ ░ ┌─┐\n",
       "      q_0 -> 0 ┤ Amp(-0.950000000000000) ├─░─┤M├\n",
       "               └─────────────────────────┘ ░ └╥┘\n",
       "ancilla_0 -> 1 ───────────────────────────────╫─\n",
       "                                              ║ \n",
       "ancilla_1 -> 2 ───────────────────────────────╫─\n",
       "                                              ║ \n",
       "ancilla_2 -> 3 ───────────────────────────────╫─\n",
       "                                              ║ \n",
       "ancilla_3 -> 4 ───────────────────────────────╫─\n",
       "                                              ║ \n",
       "ancilla_4 -> 5 ───────────────────────────────╫─\n",
       "                                              ║ \n",
       "ancilla_5 -> 6 ───────────────────────────────╫─\n",
       "                                              ║ \n",
       "    measure: 1/═══════════════════════════════╩═\n",
       "                                              0 "
      ]
     },
     "execution_count": 25,
     "metadata": {},
     "output_type": "execute_result"
    }
   ],
   "source": [
    "transpiled_circs[0].draw()"
   ]
  },
  {
   "cell_type": "code",
   "execution_count": 30,
   "id": "6ea7d2c5-c6b1-40bd-9930-4beebac037a0",
   "metadata": {},
   "outputs": [
    {
     "data": {
      "image/png": "[encoded data removed]",
      "text/plain": [
       "<Figure size 936x237.6 with 1 Axes>"
      ]
     },
     "execution_count": 30,
     "metadata": {},
     "output_type": "execute_result"
    }
   ],
   "source": [
    "draw(schedule(transpiled_circs[50], backend), backend=backend)"
   ]
  },
  {
   "cell_type": "code",
   "execution_count": 27,
   "id": "7416c329-5948-40bc-8992-15c2aca8fe44",
   "metadata": {},
   "outputs": [
    {
     "name": "stdout",
     "output_type": "stream",
     "text": [
      "61a67ba3a62b8250ceb513a5\n"
     ]
    }
   ],
   "source": [
    "# job = backend.run(transpiled_circs, job_name=\"amplitude\", shots=2048)\n",
    "job_id = job.job_id()\n",
    "print(job.job_id())"
   ]
  },
  {
   "cell_type": "code",
   "execution_count": 26,
   "id": "b6281dde-04ec-42c0-9b21-6e3981169479",
   "metadata": {},
   "outputs": [],
   "source": [
    "# 11/23/2021\n",
    "# lagos (12:34) 619c7a2768476d433a8a9304\n",
    "\n",
    "# jakarta (12:45) 619c800853ac6c5c52d5a4c6\n",
    "\n",
    "# 11/30/2021 \n",
    "# lagos 61a67ba3a62b8250ceb513a5\n",
    "results = backend.retrieve_job(\"61a67ba3a62b8250ceb513a5\").result()"
   ]
  },
  {
   "cell_type": "code",
   "execution_count": 27,
   "id": "22c0448b-7b5f-4ede-a549-eb4b442041e9",
   "metadata": {},
   "outputs": [
    {
     "name": "stdout",
     "output_type": "stream",
     "text": [
      "[0.7060546875, 0.857421875, 0.9599609375, 0.98681640625, 0.94775390625, 0.81884765625, 0.66552734375, 0.439453125, 0.27099609375, 0.12451171875, 0.0283203125, 0.01953125, 0.087890625, 0.23095703125, 0.43310546875, 0.62890625, 0.83935546875, 0.94189453125, 0.9833984375, 0.94091796875, 0.77978515625, 0.60302734375, 0.3876953125, 0.19580078125, 0.05029296875, 0.01416015625, 0.07275390625, 0.2109375, 0.4482421875, 0.662109375, 0.822265625, 0.95068359375, 0.9765625, 0.91943359375, 0.775390625, 0.556640625, 0.3779296875, 0.1904296875, 0.07373046875, 0.01611328125, 0.0517578125, 0.1455078125, 0.31689453125, 0.50537109375, 0.69775390625, 0.86328125, 0.95556640625, 0.98486328125, 0.91650390625, 0.81005859375, 0.6484375]\n"
     ]
    }
   ],
   "source": [
    "exp_vals = []\n",
    "for counts in results.get_counts():\n",
    "    exp_val = 0\n",
    "    for k,v in counts.items():\n",
    "        if k == \"1\":\n",
    "            exp_val = v/sum(counts.values())\n",
    "    exp_vals.append(exp_val)\n",
    "print(exp_vals)"
   ]
  },
  {
   "cell_type": "code",
   "execution_count": 28,
   "id": "0fa02b5e-9071-44c4-b394-aa135295ea94",
   "metadata": {},
   "outputs": [],
   "source": [
    "def baseline_remove(values):\n",
    "    return np.array(values) - np.mean(values)"
   ]
  },
  {
   "cell_type": "code",
   "execution_count": 29,
   "id": "120c111c-4fe7-496a-a30f-ee75f81ca633",
   "metadata": {},
   "outputs": [
    {
     "data": {
      "image/png": "[encoded data removed]",
      "text/plain": [
       "<Figure size 432x288 with 1 Axes>"
      ]
     },
     "metadata": {
      "needs_background": "light"
     },
     "output_type": "display_data"
    }
   ],
   "source": [
    "# baseline_remove(np.real(exp_vals))\n",
    "plt.scatter(amplitudes, baseline_remove(np.real(exp_vals)), color='black') # plot real part of sweep values\n",
    "plt.xlim([min(amplitudes), max(amplitudes)])\n",
    "plt.xlabel(\"Amplitude\")\n",
    "plt.ylabel(\"Measured signal [a.u.]\")\n",
    "plt.show()"
   ]
  },
  {
   "cell_type": "code",
   "execution_count": 62,
   "id": "eed4e447-f494-4c29-a4d5-ca68b3988574",
   "metadata": {},
   "outputs": [
    {
     "data": {
      "image/png": "[encoded data removed]",
      "text/plain": [
       "<Figure size 432x288 with 1 Axes>"
      ]
     },
     "metadata": {
      "needs_background": "light"
     },
     "output_type": "display_data"
    }
   ],
   "source": [
    "from scipy.optimize import curve_fit\n",
    "\n",
    "def fit_function(x_values, y_values, function, init_params):\n",
    "    fitparams, conv = curve_fit(function, x_values, y_values, init_params)\n",
    "    y_fit = function(x_values, *fitparams)\n",
    "    \n",
    "    return fitparams, y_fit\n",
    "\n",
    "\n",
    "fit_params, y_fit = fit_function(amplitudes,\n",
    "                                 baseline_remove(np.real(exp_vals)), \n",
    "                                 lambda x, A, B, drive_period, phi: (A*np.cos(2*np.pi*x/drive_period - phi) + B),\n",
    "                                 [0.8, 0.8, 0.5, 2])\n",
    "\n",
    "plt.scatter(amplitudes, baseline_remove(np.real(exp_vals)), color='black')\n",
    "plt.plot(amplitudes, y_fit, color='red')\n",
    "\n",
    "drive_period = fit_params[2] # get period of rabi oscillation\n",
    "\n",
    "plt.axvline(drive_period/2, color='red', linestyle='--')\n",
    "plt.axvline(drive_period, color='red', linestyle='--')\n",
    "plt.annotate(\"\", xy=(drive_period, 0), xytext=(drive_period/2,0), arrowprops=dict(arrowstyle=\"<->\", color='red'))\n",
    "plt.annotate(\"$\\pi$\", xy=(drive_period/2-0.03, 0.1), color='red')\n",
    "\n",
    "plt.xlabel(\"Drive amp [a.u.]\", fontsize=15)\n",
    "plt.ylabel(\"Measured signal [a.u.]\", fontsize=15)\n",
    "plt.savefig(\"ibm_lagos_amplitude_sweep_bestfit.png\")\n",
    "plt.show()"
   ]
  },
  {
   "cell_type": "code",
   "execution_count": 59,
   "id": "3c0a80ef-e8a4-4b96-adab-14478a855117",
   "metadata": {},
   "outputs": [
    {
     "data": {
      "text/plain": [
       "<Figure size 432x288 with 0 Axes>"
      ]
     },
     "metadata": {},
     "output_type": "display_data"
    }
   ],
   "source": []
  },
  {
   "cell_type": "code",
   "execution_count": 31,
   "id": "e1f7bac1-ee7f-4b31-90d2-9a2258cf752b",
   "metadata": {},
   "outputs": [
    {
     "name": "stdout",
     "output_type": "stream",
     "text": [
      "[ 0.48667208 -0.04426078  0.55104551  3.08533401]\n"
     ]
    }
   ],
   "source": [
    "print(fit_params)"
   ]
  },
  {
   "cell_type": "code",
   "execution_count": 32,
   "id": "f20f04da-1c21-47d8-b0e6-21a31d198462",
   "metadata": {},
   "outputs": [
    {
     "name": "stdout",
     "output_type": "stream",
     "text": [
      "Our Pi amplitude = (0.27552275427628076+0j) and reported: (0.26616942695600887+0j)\n"
     ]
    }
   ],
   "source": [
    "pi_amp = abs(drive_period / 2)\n",
    "print(f\"Our Pi amplitude = {pi_amp+0j} and reported: {x_sched.instructions[0][1].pulse.amp}\")"
   ]
  },
  {
   "cell_type": "code",
   "execution_count": 33,
   "id": "6050bd48-5760-4063-b468-ca9dc40be571",
   "metadata": {},
   "outputs": [
    {
     "name": "stdout",
     "output_type": "stream",
     "text": [
      "{'duration': 160, 'sigma': 40, 'beta': -0.1873817311710781, 'frequency': 5234687311.789827, 'amplitude': (0.27552275427628076+0j)}\n"
     ]
    }
   ],
   "source": [
    "drag_params[\"amplitude\"] = pi_amp+0j\n",
    "print(drag_params)"
   ]
  },
  {
   "cell_type": "code",
   "execution_count": 36,
   "id": "e1367dde-1c27-4737-b0a5-0c0f2f7d3159",
   "metadata": {},
   "outputs": [
    {
     "data": {
      "text/html": [
       "<pre style=\"word-wrap: normal;white-space: pre;background: #fff0;line-height: 1.1;font-family: &quot;Courier New&quot;,Courier,monospace\">           ┌──────────┐      ░ ┌─┐   \n",
       "      q_0: ┤ Custom_x ├──■───░─┤M├───\n",
       "           └──────────┘┌─┴─┐ ░ └╥┘┌─┐\n",
       "   q408_0: ────────────┤ X ├─░──╫─┤M├\n",
       "                       └───┘ ░  ║ └╥┘\n",
       "measure: 2/═════════════════════╩══╩═\n",
       "                                0  1 </pre>"
      ],
      "text/plain": [
       "           ┌──────────┐      ░ ┌─┐   \n",
       "      q_0: ┤ Custom_x ├──■───░─┤M├───\n",
       "           └──────────┘┌─┴─┐ ░ └╥┘┌─┐\n",
       "   q408_0: ────────────┤ X ├─░──╫─┤M├\n",
       "                       └───┘ ░  ║ └╥┘\n",
       "measure: 2/═════════════════════╩══╩═\n",
       "                                0  1 "
      ]
     },
     "execution_count": 36,
     "metadata": {},
     "output_type": "execute_result"
    }
   ],
   "source": [
    "from qiskit.circuit.library import CXGate\n",
    "from qiskit.circuit import Qubit, QuantumRegister\n",
    "x_circs = x_gate_circuits(qubit, drag_params, backend)\n",
    "qreg = QuantumRegister(1)\n",
    "x_circs.add_register(qreg)\n",
    "\n",
    "x_circs.append(CXGate(), [0,1])\n",
    "x_circs.measure_active()\n",
    "x_circs.draw()\n",
    "\n"
   ]
  },
  {
   "cell_type": "code",
   "execution_count": 37,
   "id": "4e7437d9-00a9-4a39-9f52-989ee9248a69",
   "metadata": {},
   "outputs": [
    {
     "data": {
      "text/html": [
       "<pre style=\"word-wrap: normal;white-space: pre;background: #fff0;line-height: 1.1;font-family: &quot;Courier New&quot;,Courier,monospace\">               ┌──────────┐      ░ ┌─┐   \n",
       "      q_0 -> 0 ┤ Custom_x ├──■───░─┤M├───\n",
       "               └──────────┘┌─┴─┐ ░ └╥┘┌─┐\n",
       "   q408_0 -> 1 ────────────┤ X ├─░──╫─┤M├\n",
       "                           └───┘ ░  ║ └╥┘\n",
       "ancilla_0 -> 2 ─────────────────────╫──╫─\n",
       "                                    ║  ║ \n",
       "ancilla_1 -> 3 ─────────────────────╫──╫─\n",
       "                                    ║  ║ \n",
       "ancilla_2 -> 4 ─────────────────────╫──╫─\n",
       "                                    ║  ║ \n",
       "ancilla_3 -> 5 ─────────────────────╫──╫─\n",
       "                                    ║  ║ \n",
       "ancilla_4 -> 6 ─────────────────────╫──╫─\n",
       "                                    ║  ║ \n",
       "    measure: 2/═════════════════════╩══╩═\n",
       "                                    0  1 </pre>"
      ],
      "text/plain": [
       "               ┌──────────┐      ░ ┌─┐   \n",
       "      q_0 -> 0 ┤ Custom_x ├──■───░─┤M├───\n",
       "               └──────────┘┌─┴─┐ ░ └╥┘┌─┐\n",
       "   q408_0 -> 1 ────────────┤ X ├─░──╫─┤M├\n",
       "                           └───┘ ░  ║ └╥┘\n",
       "ancilla_0 -> 2 ─────────────────────╫──╫─\n",
       "                                    ║  ║ \n",
       "ancilla_1 -> 3 ─────────────────────╫──╫─\n",
       "                                    ║  ║ \n",
       "ancilla_2 -> 4 ─────────────────────╫──╫─\n",
       "                                    ║  ║ \n",
       "ancilla_3 -> 5 ─────────────────────╫──╫─\n",
       "                                    ║  ║ \n",
       "ancilla_4 -> 6 ─────────────────────╫──╫─\n",
       "                                    ║  ║ \n",
       "    measure: 2/═════════════════════╩══╩═\n",
       "                                    0  1 "
      ]
     },
     "execution_count": 37,
     "metadata": {},
     "output_type": "execute_result"
    }
   ],
   "source": [
    "transpiled_test = transpile(x_circs, backend)\n",
    "transpiled_test.draw()"
   ]
  },
  {
   "cell_type": "code",
   "execution_count": 41,
   "id": "6b7bdf82-35a3-4120-b9ef-e20cbacb4f09",
   "metadata": {},
   "outputs": [
    {
     "name": "stdout",
     "output_type": "stream",
     "text": [
      "61a6c6aed28a88365c8cfeaf\n"
     ]
    }
   ],
   "source": [
    "job = backend.run(x_circs, job_name=\"simple_cnot\", shots=2048)\n",
    "job_id = job.job_id()\n",
    "print(job.job_id())"
   ]
  },
  {
   "cell_type": "code",
   "execution_count": 38,
   "id": "abc67556-d775-43c6-a473-c8be04ce71d8",
   "metadata": {},
   "outputs": [],
   "source": [
    "from qiskit.visualization import plot_histogram\n",
    "\n",
    "#simple cnot experiment\n",
    "# jakarta (1:33) 619c8acd53ac6c6f7dd5a511\n",
    "\n",
    "# simple cnot 11/30/2021\n",
    "# lagos 61a6c6aed28a88365c8cfeaf\n",
    "results = backend.retrieve_job(\"61a6c6aed28a88365c8cfeaf\").result()\n",
    "# counts = results.get_counts()\n",
    "# plot_histogram(counts)"
   ]
  },
  {
   "cell_type": "code",
   "execution_count": 39,
   "id": "7165728f-682e-4a84-a146-b4de64633aa6",
   "metadata": {},
   "outputs": [
    {
     "name": "stdout",
     "output_type": "stream",
     "text": [
      "{'00': 24, '01': 71, '10': 22, '11': 1931}\n"
     ]
    }
   ],
   "source": [
    "print(results.get_counts())"
   ]
  },
  {
   "cell_type": "code",
   "execution_count": 63,
   "id": "307aa44c-6e04-479d-98a9-efb17b08efd6",
   "metadata": {},
   "outputs": [],
   "source": [
    "fig = plot_histogram(results.get_counts())"
   ]
  },
  {
   "cell_type": "code",
   "execution_count": 65,
   "id": "d0745081-f846-45e6-81ce-95eef1368b84",
   "metadata": {},
   "outputs": [],
   "source": [
    "fig.savefig(\"customx_simple_cnot_experiment_results.png\")"
   ]
  },
  {
   "cell_type": "code",
   "execution_count": 41,
   "id": "4f93625a-c67e-43ca-b12e-cfe3b77f496e",
   "metadata": {},
   "outputs": [],
   "source": [
    "import qiskit.ignis.verification.tomography\n",
    "from qiskit import QuantumRegister\n",
    "from qiskit.ignis.verification.tomography import process_tomography_circuits, ProcessTomographyFitter"
   ]
  },
  {
   "cell_type": "code",
   "execution_count": 42,
   "id": "8279ae75-a06f-4ba5-942f-c8c88328eac6",
   "metadata": {},
   "outputs": [
    {
     "name": "stderr",
     "output_type": "stream",
     "text": [
      "C:\\Users\\Zachary\\anaconda3\\envs\\NewestPythonQiskit\\lib\\site-packages\\qiskit\\ignis\\verification\\tomography\\basis\\circuits.py:465: DeprecationWarning: The QuantumCircuit.__iadd__() method is being deprecated. Use the compose() (potentially with the inplace=True argument) and tensor() methods which are more flexible w.r.t circuit register compatibility.\n",
      "  prep += preparation(prep_label[j], prep_qubits[j])\n",
      "C:\\Users\\Zachary\\anaconda3\\envs\\NewestPythonQiskit\\lib\\site-packages\\qiskit\\circuit\\quantumcircuit.py:942: DeprecationWarning: The QuantumCircuit.extend() method is being deprecated. Use the compose() (potentially with the inplace=True argument) and tensor() methods which are more flexible w.r.t circuit register compatibility.\n",
      "  return self.extend(rhs)\n",
      "C:\\Users\\Zachary\\anaconda3\\envs\\NewestPythonQiskit\\lib\\site-packages\\qiskit\\ignis\\verification\\tomography\\basis\\circuits.py:478: DeprecationWarning: The QuantumCircuit.__add__() method is being deprecated.Use the compose() method which is more flexible w.r.t circuit register compatibility.\n",
      "  circ = prep + meas\n",
      "C:\\Users\\Zachary\\anaconda3\\envs\\NewestPythonQiskit\\lib\\site-packages\\qiskit\\circuit\\quantumcircuit.py:933: DeprecationWarning: The QuantumCircuit.combine() method is being deprecated. Use the compose() method which is more flexible w.r.t circuit register compatibility.\n",
      "  return self.combine(rhs)\n"
     ]
    }
   ],
   "source": [
    "xc = x_gate_circuits(qubit, drag_params, backend)\n",
    "\n",
    "custom_x_qpt_circs = process_tomography_circuits(xc, [0])"
   ]
  },
  {
   "cell_type": "code",
   "execution_count": 52,
   "id": "4ffc37a6-7865-4167-9c24-0c46a49596f9",
   "metadata": {},
   "outputs": [
    {
     "data": {
      "text/html": [
       "<pre style=\"word-wrap: normal;white-space: pre;background: #fff0;line-height: 1.1;font-family: &quot;Courier New&quot;,Courier,monospace\">       ░ ┌──────────┐ ░ ┌───┐┌─┐\n",
       " q_0: ─░─┤ Custom_x ├─░─┤ H ├┤M├\n",
       "       ░ └──────────┘ ░ └───┘└╥┘\n",
       "c0: 1/════════════════════════╩═\n",
       "                              0 </pre>"
      ],
      "text/plain": [
       "       ░ ┌──────────┐ ░ ┌───┐┌─┐\n",
       " q_0: ─░─┤ Custom_x ├─░─┤ H ├┤M├\n",
       "       ░ └──────────┘ ░ └───┘└╥┘\n",
       "c0: 1/════════════════════════╩═\n",
       "                              0 "
      ]
     },
     "execution_count": 52,
     "metadata": {},
     "output_type": "execute_result"
    }
   ],
   "source": [
    "custom_x_qpt_circs[0].draw()"
   ]
  },
  {
   "cell_type": "code",
   "execution_count": 53,
   "id": "f96a08ad-8a04-497b-bf7c-3f877c7374ca",
   "metadata": {},
   "outputs": [
    {
     "data": {
      "text/html": [
       "<pre style=\"word-wrap: normal;white-space: pre;background: #fff0;line-height: 1.1;font-family: &quot;Courier New&quot;,Courier,monospace\">       ░ ┌──────────┐ ░ ┌─────┐┌───┐┌─┐\n",
       " q_0: ─░─┤ Custom_x ├─░─┤ Sdg ├┤ H ├┤M├\n",
       "       ░ └──────────┘ ░ └─────┘└───┘└╥┘\n",
       "c0: 1/═══════════════════════════════╩═\n",
       "                                     0 </pre>"
      ],
      "text/plain": [
       "       ░ ┌──────────┐ ░ ┌─────┐┌───┐┌─┐\n",
       " q_0: ─░─┤ Custom_x ├─░─┤ Sdg ├┤ H ├┤M├\n",
       "       ░ └──────────┘ ░ └─────┘└───┘└╥┘\n",
       "c0: 1/═══════════════════════════════╩═\n",
       "                                     0 "
      ]
     },
     "execution_count": 53,
     "metadata": {},
     "output_type": "execute_result"
    }
   ],
   "source": [
    "custom_x_qpt_circs[1].draw()"
   ]
  },
  {
   "cell_type": "code",
   "execution_count": 54,
   "id": "849e7d16-e6ec-4905-89e8-7be5faf1a365",
   "metadata": {},
   "outputs": [
    {
     "data": {
      "text/html": [
       "<pre style=\"word-wrap: normal;white-space: pre;background: #fff0;line-height: 1.1;font-family: &quot;Courier New&quot;,Courier,monospace\">       ░ ┌──────────┐ ░ ┌─┐\n",
       " q_0: ─░─┤ Custom_x ├─░─┤M├\n",
       "       ░ └──────────┘ ░ └╥┘\n",
       "c0: 1/═══════════════════╩═\n",
       "                         0 </pre>"
      ],
      "text/plain": [
       "       ░ ┌──────────┐ ░ ┌─┐\n",
       " q_0: ─░─┤ Custom_x ├─░─┤M├\n",
       "       ░ └──────────┘ ░ └╥┘\n",
       "c0: 1/═══════════════════╩═\n",
       "                         0 "
      ]
     },
     "execution_count": 54,
     "metadata": {},
     "output_type": "execute_result"
    }
   ],
   "source": [
    "custom_x_qpt_circs[2].draw()"
   ]
  },
  {
   "cell_type": "code",
   "execution_count": 58,
   "id": "d53d872c-6dee-4424-9183-79acc2d91dae",
   "metadata": {},
   "outputs": [
    {
     "name": "stdout",
     "output_type": "stream",
     "text": [
      "61a70910313f811ba6c3b887\n"
     ]
    }
   ],
   "source": [
    "job = qiskit.execute(custom_x_qpt_circs, backend, shots=4000)\n",
    "print(job.job_id())"
   ]
  },
  {
   "cell_type": "code",
   "execution_count": 44,
   "id": "30ee262d-c943-4349-ba0d-082838a3551c",
   "metadata": {},
   "outputs": [
    {
     "data": {
      "text/plain": [
       "{(('Zp',), ('X',)): {'0': 2062, '1': 1938},\n",
       " (('Zp',), ('Y',)): {'0': 2096, '1': 1904},\n",
       " (('Zp',), ('Z',)): {'0': 82, '1': 3918},\n",
       " (('Zm',), ('X',)): {'0': 1929, '1': 2071},\n",
       " (('Zm',), ('Y',)): {'0': 1536, '1': 2464},\n",
       " (('Zm',), ('Z',)): {'0': 3930, '1': 70},\n",
       " (('Xp',), ('X',)): {'0': 3921, '1': 79},\n",
       " (('Xp',), ('Y',)): {'0': 2133, '1': 1867},\n",
       " (('Xp',), ('Z',)): {'0': 2133, '1': 1867},\n",
       " (('Yp',), ('X',)): {'0': 1919, '1': 2081},\n",
       " (('Yp',), ('Y',)): {'0': 80, '1': 3920},\n",
       " (('Yp',), ('Z',)): {'0': 1689, '1': 2311}}"
      ]
     },
     "execution_count": 44,
     "metadata": {},
     "output_type": "execute_result"
    }
   ],
   "source": [
    "# IBM lagos\n",
    "# 61a70910313f811ba6c3b887\n",
    "qpt_job = backend.retrieve_job(\"61a70910313f811ba6c3b887\")\n",
    "qpt_tomo = ProcessTomographyFitter(qpt_job.result(), custom_x_qpt_circs)\n",
    "qpt_tomo.data"
   ]
  },
  {
   "cell_type": "code",
   "execution_count": 47,
   "id": "55ae9876-9fa2-4299-bf0b-c9e9783393c9",
   "metadata": {},
   "outputs": [
    {
     "name": "stdout",
     "output_type": "stream",
     "text": [
      "Operator([[0.+0.j, 1.+0.j],\n",
      "          [1.+0.j, 0.+0.j]],\n",
      "         input_dims=(2,), output_dims=(2,))\n",
      "Fit time: 0.006991147994995117\n",
      "Average gate fidelity: F = 0.95421\n"
     ]
    }
   ],
   "source": [
    "import time\n",
    "# Tomographic reconstruction\n",
    "t = time.time()\n",
    "choi_fit_lstsq = qpt_tomo.fit(method='lstsq')\n",
    "\n",
    "default_xc = QuantumCircuit(1)\n",
    "default_xc.x(0)\n",
    "target_unitary = qi.Operator(default_xc)\n",
    "\n",
    "print('Fit time:', time.time() - t)\n",
    "print('Average gate fidelity: F = {:.5f}'.format(qi.average_gate_fidelity(choi_fit_lstsq, target=target_unitary)))"
   ]
  },
  {
   "cell_type": "code",
   "execution_count": null,
   "id": "b351558e-aa75-4b41-bcfe-45aa24f15c31",
   "metadata": {},
   "outputs": [],
   "source": []
  }
 ],
 "metadata": {
  "kernelspec": {
   "display_name": "Python 3",
   "language": "python",
   "name": "python3"
  },
  "language_info": {
   "codemirror_mode": {
    "name": "ipython",
    "version": 3
   },
   "file_extension": ".py",
   "mimetype": "text/x-python",
   "name": "python",
   "nbconvert_exporter": "python",
   "pygments_lexer": "ipython3",
   "version": "3.8.8"
  }
 },
 "nbformat": 4,
 "nbformat_minor": 5
}
