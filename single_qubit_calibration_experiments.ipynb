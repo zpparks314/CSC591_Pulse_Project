{
 "cells": [
  {
   "cell_type": "code",
   "execution_count": 1,
   "id": "57d5e6c9-52f0-43ae-8aa9-5227297fb32b",
   "metadata": {},
   "outputs": [],
   "source": [
    "from qiskit import pulse, circuit, transpile, assemble, schedule, IBMQ, QuantumCircuit, quantum_info as qi \n",
    "import qiskit\n",
    "from qiskit.visualization import plot_gate_map, plot_error_map\n",
    "from qiskit.visualization.pulse_v2 import draw\n",
    "from qiskit.pulse import ShiftPhase, GaussianSquare, Drag, ControlChannel, MeasureChannel, DriveChannel, Play, Schedule\n",
    "import numpy as np\n",
    "from qiskit.tools import job_monitor\n",
    "from copy import deepcopy\n",
    "import scipy.optimize as opt\n",
    "import matplotlib.pyplot as plt"
   ]
  },
  {
   "cell_type": "code",
   "execution_count": 125,
   "id": "a6a30b4f-7c1d-437d-991c-000b870101af",
   "metadata": {},
   "outputs": [
    {
     "name": "stderr",
     "output_type": "stream",
     "text": [
      "ibmqfactory.load_account:WARNING:2021-12-01 12:20:47,472: Credentials are already in use. The existing account in the session will be replaced.\n"
     ]
    }
   ],
   "source": [
    "account_provider = IBMQ.load_account()\n",
    "provider_opts = {'hub': 'ibm-q-ncsu', 'group': 'nc-state', 'project':'noiseanderror'}\n",
    "\n",
    "# target backend\n",
    "backend_name = 'ibmq_jakarta'\n",
    "\n",
    "provider = IBMQ.get_provider(**provider_opts)\n",
    "backend = provider.get_backend(backend_name)\n",
    "\n",
    "# backend information\n",
    "config = backend.configuration()\n",
    "defaults = backend.defaults()\n",
    "properties = backend.properties()\n",
    "\n",
    "# instruction schedule map\n",
    "inst_map = defaults.instruction_schedule_map"
   ]
  },
  {
   "cell_type": "code",
   "execution_count": 126,
   "id": "85c390cf-7716-431b-a7ec-114f3b8df3a6",
   "metadata": {},
   "outputs": [],
   "source": [
    "qubit = 0\n",
    "freq01_estimate = backend.defaults().qubit_freq_est[qubit]\n",
    "frequencies = np.linspace(freq01_estimate -15e6, freq01_estimate + 15e6, 51)"
   ]
  },
  {
   "cell_type": "code",
   "execution_count": 127,
   "id": "75f27216-ef59-4ebe-83de-21f6d4c650b4",
   "metadata": {},
   "outputs": [
    {
     "name": "stdout",
     "output_type": "stream",
     "text": [
      "5236361516.419317\n"
     ]
    }
   ],
   "source": [
    "print(freq01_estimate)"
   ]
  },
  {
   "cell_type": "code",
   "execution_count": 128,
   "id": "f8f88b2d-0215-47bd-9b02-ea55aa131011",
   "metadata": {},
   "outputs": [
    {
     "name": "stdout",
     "output_type": "stream",
     "text": [
      "[5.22136152e+09 5.22196152e+09 5.22256152e+09 5.22316152e+09\n",
      " 5.22376152e+09 5.22436152e+09 5.22496152e+09 5.22556152e+09\n",
      " 5.22616152e+09 5.22676152e+09 5.22736152e+09 5.22796152e+09\n",
      " 5.22856152e+09 5.22916152e+09 5.22976152e+09 5.23036152e+09\n",
      " 5.23096152e+09 5.23156152e+09 5.23216152e+09 5.23276152e+09\n",
      " 5.23336152e+09 5.23396152e+09 5.23456152e+09 5.23516152e+09\n",
      " 5.23576152e+09 5.23636152e+09 5.23696152e+09 5.23756152e+09\n",
      " 5.23816152e+09 5.23876152e+09 5.23936152e+09 5.23996152e+09\n",
      " 5.24056152e+09 5.24116152e+09 5.24176152e+09 5.24236152e+09\n",
      " 5.24296152e+09 5.24356152e+09 5.24416152e+09 5.24476152e+09\n",
      " 5.24536152e+09 5.24596152e+09 5.24656152e+09 5.24716152e+09\n",
      " 5.24776152e+09 5.24836152e+09 5.24896152e+09 5.24956152e+09\n",
      " 5.25016152e+09 5.25076152e+09 5.25136152e+09]\n"
     ]
    }
   ],
   "source": [
    "print(frequencies)"
   ]
  },
  {
   "cell_type": "code",
   "execution_count": 129,
   "id": "47c56c4e-270e-42cb-a8be-7be57fa84291",
   "metadata": {},
   "outputs": [],
   "source": [
    "def spectroscopy_scheds(qubit, pulse_params, backend):\n",
    "    freq_param = circuit.Parameter(\"frequency\")\n",
    "    with pulse.build(backend=backend, name=\"spectroscopy\") as schedule:\n",
    "        pulse.shift_frequency(freq_param, DriveChannel(qubit))\n",
    "        pulse.play(\n",
    "            GaussianSquare(duration=pulse_params[\"duration\"], \n",
    "                           amp=pulse_params[\"amp\"], \n",
    "                           sigma=pulse_params[\"sigma\"], \n",
    "                           width=pulse_params[\"width\"]), DriveChannel(qubit))\n",
    "        pulse.shift_frequency(-freq_param, DriveChannel(qubit))\n",
    "        \n",
    "    return schedule, freq_param\n",
    "\n",
    "def amplitude_scheds(qubit, pulse_params, backend):\n",
    "    amp_param = circuit.Parameter(\"amp\")\n",
    "    with pulse.build(backend=backend, name=\"amp_sweep\") as schedule:\n",
    "        pulse.set_frequency(pulse_params[\"frequency\"], \n",
    "                            DriveChannel(qubit))\n",
    "        pulse.play(\n",
    "            Drag(duration=pulse_params['duration'], \n",
    "                           amp=amp_param, \n",
    "                           sigma=pulse_params[\"sigma\"], \n",
    "                           beta=pulse_params[\"beta\"]), DriveChannel(qubit))\n",
    "    return schedule, amp_param\n",
    "\n",
    "def x_gate_scheds(qubit, pulse_params, backend):\n",
    "    with pulse.build(backend=backend, name=\"x_gate\") as schedule:\n",
    "        pulse.set_frequency(pulse_params[\"frequency\"], \n",
    "                            DriveChannel(qubit))\n",
    "        pulse.play(\n",
    "            Drag(duration=pulse_params['duration'], \n",
    "                           amp=pulse_params[\"amplitude\"], \n",
    "                           sigma=pulse_params[\"sigma\"], \n",
    "                           beta=pulse_params[\"beta\"]), DriveChannel(qubit))\n",
    "    return schedule\n",
    "\n",
    "def template_circuit(param, gate_name):\n",
    "    temp_circ = QuantumCircuit(1)\n",
    "    if param is not None:\n",
    "        temp_circ.append(circuit.Gate(name=gate_name, num_qubits=1, params=[param]), (0,))\n",
    "        temp_circ.measure_active()\n",
    "    else:\n",
    "        temp_circ.append(circuit.Gate(name=gate_name, num_qubits=1, params=[]), (0,))\n",
    "    return temp_circ\n",
    "\n",
    "def spectroscopy_circuits(qubit, frequencies, pulse_params, backend):\n",
    "    gname = \"Spec\"\n",
    "    sched, freq_param = spectroscopy_scheds(qubit, pulse_params, backend)\n",
    "    circuit = template_circuit(freq_param, gname)\n",
    "    circuit.add_calibration(gname, (qubit,), sched, params=[freq_param])\n",
    "    \n",
    "    center_freq = backend.defaults().qubit_freq_est[qubit]\n",
    "    \n",
    "    circs = []\n",
    "    for freq in frequencies:\n",
    "        freq_shift = freq\n",
    "        freq_shift -= center_freq\n",
    "        freq_shift = np.round(freq_shift, decimals=3)\n",
    "        assigned_circ = circuit.assign_parameters({freq_param: freq_shift}, inplace=False)\n",
    "        circs.append(assigned_circ)\n",
    "    return circs\n",
    "\n",
    "def amplitude_circuits(qubit, amplitudes, pulse_params, backend):\n",
    "    gname = \"Amp\"\n",
    "    sched, amp_param = amplitude_scheds(qubit, pulse_params, backend)\n",
    "    circuit = template_circuit(amp_param, gname)\n",
    "    circuit.add_calibration(gname, (qubit,), sched, params=[amp_param])\n",
    "    \n",
    "    circs = []\n",
    "    for amp in amplitudes:\n",
    "        assigned_circ = circuit.assign_parameters({amp_param: amp}, inplace=False)\n",
    "        circs.append(assigned_circ)\n",
    "    return circs\n",
    "\n",
    "def x_gate_circuits(qubit, pulse_params, backend):\n",
    "    gname = \"Custom_x\"\n",
    "\n",
    "    sched = x_gate_scheds(qubit, pulse_params, backend)\n",
    "    circuit = template_circuit(None, gname)\n",
    "    circuit.add_calibration(gname, (qubit,), sched)\n",
    "#     circs.append(circuit)\n",
    "    \n",
    "    return circuit"
   ]
  },
  {
   "cell_type": "markdown",
   "id": "9e05fa38-40ee-46a3-ac4a-dd60f319ceea",
   "metadata": {},
   "source": [
    "## Spectroscopy pulse parameters - using a GaussianSquare pulse to perform qubit spectroscopy"
   ]
  },
  {
   "cell_type": "code",
   "execution_count": 215,
   "id": "2c8f6f26-d6d1-4e51-80d9-f5cf2598587e",
   "metadata": {
    "tags": []
   },
   "outputs": [],
   "source": [
    "pulse_params = {}\n",
    "pulse_params[\"duration\"] = 1024\n",
    "pulse_params[\"amp\"] = 0.1\n",
    "pulse_params[\"sigma\"] = 256\n",
    "pulse_params[\"width\"] = 0\n"
   ]
  },
  {
   "cell_type": "code",
   "execution_count": 216,
   "id": "16d3d570-527c-4f53-a00d-5975ad594315",
   "metadata": {},
   "outputs": [],
   "source": [
    "circs = spectroscopy_circuits(qubit, frequencies, pulse_params, backend)"
   ]
  },
  {
   "cell_type": "code",
   "execution_count": 217,
   "id": "b220370d-4a9d-48ff-a547-680e211740cc",
   "metadata": {},
   "outputs": [],
   "source": [
    "transpiled_circs = transpile(circs, backend, initial_layout=[0])"
   ]
  },
  {
   "cell_type": "code",
   "execution_count": 218,
   "id": "59088da7-7372-4830-a826-7bd0af487990",
   "metadata": {},
   "outputs": [],
   "source": [
    "# transpiled_circs[0].draw()"
   ]
  },
  {
   "cell_type": "code",
   "execution_count": 220,
   "id": "51fffe95-2818-4943-bd5b-4ac762af0dfe",
   "metadata": {},
   "outputs": [],
   "source": [
    "example_sched = draw(schedule(transpiled_circs[29], backend), backend=backend)\n",
    "# example_sched.draw()\n",
    "example_sched.savefig(\"example_spectroscopy_schedule.png\")"
   ]
  },
  {
   "cell_type": "code",
   "execution_count": 133,
   "id": "15ba3169-d5ce-42d1-be5c-6a7f13122a08",
   "metadata": {},
   "outputs": [
    {
     "name": "stdout",
     "output_type": "stream",
     "text": [
      "61a7aefca62b8234d7b51ae0\n"
     ]
    }
   ],
   "source": [
    "job = backend.run(transpiled_circs, job_name=\"spectroscopy\", shots=2048)\n",
    "job_id = job.job_id()\n",
    "print(job.job_id())"
   ]
  },
  {
   "cell_type": "code",
   "execution_count": null,
   "id": "2dfdc7a2-8721-4ed9-a739-761297844014",
   "metadata": {},
   "outputs": [],
   "source": []
  },
  {
   "cell_type": "code",
   "execution_count": 134,
   "id": "127c7ce2-32fd-41ef-bf54-a73c79cd28cb",
   "metadata": {},
   "outputs": [],
   "source": [
    "# 11/21/spectroscopy\n",
    "# jakarta (11:51) 619a768168476d6e298a8394\n",
    "\n",
    "# lagos (2:16) 619a9b38cd37f33609f2702d\n",
    "# armonk (3:29) 619aac3a53ac6ccf4ad59760\n",
    "\n",
    "#11/23/2021 \n",
    "# lagos (12:03) 619c75f28982d995183399dc\n",
    "\n",
    "# jakarta (12:36) 619c7dc18982d9836e339a69\n",
    "\n",
    "# 11/30/2021 \n",
    "# lagos (1:29) - 61a66d70a62b826eb1b5136b\n",
    "\n",
    "\n",
    "#12/1/2021\n",
    "# jakarta - 61a7aefca62b8234d7b51ae0\n",
    "\n",
    "# backend = provider.get_backend(\"ibmq_jakarta\")\n",
    "results = backend.retrieve_job(\"61a7aefca62b8234d7b51ae0\").result()"
   ]
  },
  {
   "cell_type": "code",
   "execution_count": 135,
   "id": "3a0f830e-02f4-4adf-ba62-f023f14982aa",
   "metadata": {},
   "outputs": [
    {
     "name": "stdout",
     "output_type": "stream",
     "text": [
      "[{'0': 2016, '1': 32}, {'0': 2021, '1': 27}, {'0': 2024, '1': 24}, {'0': 2030, '1': 18}, {'0': 2026, '1': 22}, {'0': 2021, '1': 27}, {'0': 2007, '1': 41}, {'0': 1978, '1': 70}, {'0': 1921, '1': 127}, {'0': 1872, '1': 176}, {'0': 1869, '1': 179}, {'0': 1812, '1': 236}, {'0': 1842, '1': 206}, {'0': 1875, '1': 173}, {'0': 1919, '1': 129}, {'0': 1959, '1': 89}, {'0': 2012, '1': 36}, {'0': 2018, '1': 30}, {'0': 2015, '1': 33}, {'0': 1966, '1': 82}, {'0': 1876, '1': 172}, {'0': 1828, '1': 220}, {'0': 1732, '1': 316}, {'0': 1660, '1': 388}, {'0': 1630, '1': 418}, {'0': 1601, '1': 447}, {'0': 1629, '1': 419}, {'0': 1664, '1': 384}, {'0': 1741, '1': 307}, {'0': 1820, '1': 228}, {'0': 1871, '1': 177}, {'0': 1941, '1': 107}, {'0': 1995, '1': 53}, {'0': 2027, '1': 21}, {'0': 2019, '1': 29}, {'0': 2007, '1': 41}, {'0': 1960, '1': 88}, {'0': 1929, '1': 119}, {'0': 1893, '1': 155}, {'0': 1841, '1': 207}, {'0': 1875, '1': 173}, {'0': 1872, '1': 176}, {'0': 1899, '1': 149}, {'0': 1947, '1': 101}, {'0': 1987, '1': 61}, {'0': 2005, '1': 43}, {'0': 2018, '1': 30}, {'0': 2019, '1': 29}, {'0': 2022, '1': 26}, {'0': 2017, '1': 31}, {'0': 2018, '1': 30}]\n"
     ]
    }
   ],
   "source": [
    "print(results.get_counts())"
   ]
  },
  {
   "cell_type": "code",
   "execution_count": 136,
   "id": "d9811edf-3461-4ae2-aa79-2dfcacaaefa8",
   "metadata": {},
   "outputs": [
    {
     "name": "stdout",
     "output_type": "stream",
     "text": [
      "[0.015625, 0.01318359375, 0.01171875, 0.0087890625, 0.0107421875, 0.01318359375, 0.02001953125, 0.0341796875, 0.06201171875, 0.0859375, 0.08740234375, 0.115234375, 0.1005859375, 0.08447265625, 0.06298828125, 0.04345703125, 0.017578125, 0.0146484375, 0.01611328125, 0.0400390625, 0.083984375, 0.107421875, 0.154296875, 0.189453125, 0.2041015625, 0.21826171875, 0.20458984375, 0.1875, 0.14990234375, 0.111328125, 0.08642578125, 0.05224609375, 0.02587890625, 0.01025390625, 0.01416015625, 0.02001953125, 0.04296875, 0.05810546875, 0.07568359375, 0.10107421875, 0.08447265625, 0.0859375, 0.07275390625, 0.04931640625, 0.02978515625, 0.02099609375, 0.0146484375, 0.01416015625, 0.0126953125, 0.01513671875, 0.0146484375]\n"
     ]
    }
   ],
   "source": [
    "exp_vals = []\n",
    "for counts in results.get_counts():\n",
    "    exp_val = 0\n",
    "    for k,v in counts.items():\n",
    "        if k == \"1\":\n",
    "            exp_val = v/sum(counts.values())\n",
    "    exp_vals.append(exp_val)\n",
    "print(exp_vals)"
   ]
  },
  {
   "cell_type": "code",
   "execution_count": 137,
   "id": "fa3df9e1-18e5-4ad9-9808-b80a78b4cef7",
   "metadata": {},
   "outputs": [
    {
     "name": "stdout",
     "output_type": "stream",
     "text": [
      "[5.22136152 5.22196152 5.22256152 5.22316152 5.22376152 5.22436152\n",
      " 5.22496152 5.22556152 5.22616152 5.22676152 5.22736152 5.22796152\n",
      " 5.22856152 5.22916152 5.22976152 5.23036152 5.23096152 5.23156152\n",
      " 5.23216152 5.23276152 5.23336152 5.23396152 5.23456152 5.23516152\n",
      " 5.23576152 5.23636152 5.23696152 5.23756152 5.23816152 5.23876152\n",
      " 5.23936152 5.23996152 5.24056152 5.24116152 5.24176152 5.24236152\n",
      " 5.24296152 5.24356152 5.24416152 5.24476152 5.24536152 5.24596152\n",
      " 5.24656152 5.24716152 5.24776152 5.24836152 5.24896152 5.24956152\n",
      " 5.25016152 5.25076152 5.25136152]\n"
     ]
    }
   ],
   "source": [
    "frequencies_GHz = frequencies*1e-9\n",
    "print(frequencies_GHz)"
   ]
  },
  {
   "cell_type": "code",
   "execution_count": 138,
   "id": "e1544c42-1999-45a5-adf0-9b78140e09b3",
   "metadata": {},
   "outputs": [
    {
     "data": {
      "image/png": "[encoded data removed]",
      "text/plain": [
       "<Figure size 432x288 with 1 Axes>"
      ]
     },
     "metadata": {
      "needs_background": "light"
     },
     "output_type": "display_data"
    }
   ],
   "source": [
    "plt.scatter(frequencies_GHz, np.real(exp_vals), color='black') # plot real part of sweep values\n",
    "plt.xlim([min(frequencies_GHz), max(frequencies_GHz)])\n",
    "plt.xlabel(\"Frequency [GHz]\")\n",
    "plt.ylabel(\"Measured signal [a.u.]\")\n",
    "plt.show()"
   ]
  },
  {
   "cell_type": "code",
   "execution_count": 139,
   "id": "e7810abf-c5f2-4e8d-bef7-9736fdd0c361",
   "metadata": {},
   "outputs": [
    {
     "name": "stdout",
     "output_type": "stream",
     "text": [
      "[[Model]]\n",
      "    Model(lorentzian)\n",
      "[[Fit Statistics]]\n",
      "    # fitting method   = leastsq\n",
      "    # function evals   = 41\n",
      "    # data points      = 51\n",
      "    # variables        = 3\n",
      "    chi-square         = 0.06816996\n",
      "    reduced chi-square = 0.00142021\n",
      "    Akaike info crit   = -331.496423\n",
      "    Bayesian info crit = -325.700946\n",
      "[[Variables]]\n",
      "    amplitude:  0.00192177 +/- 1.8046e-04 (9.39%) (init = 0.004006165)\n",
      "    center:     5.23634724 +/- 2.7587e-04 (0.01%) (init = 5.235312)\n",
      "    sigma:      0.00297091 +/- 3.9502e-04 (13.30%) (init = 0.0051)\n",
      "    fwhm:       0.00594182 +/- 7.9004e-04 (13.30%) == '2.0000000*sigma'\n",
      "    height:     0.20590230 +/- 0.01916567 (9.31%) == '0.3183099*amplitude/max(1e-15, sigma)'\n",
      "[[Correlations]] (unreported correlations are < 0.100)\n",
      "    C(amplitude, sigma) = 0.714\n"
     ]
    },
    {
     "data": {
      "image/png": "[encoded data removed]",
      "text/plain": [
       "<Figure size 432x288 with 1 Axes>"
      ]
     },
     "metadata": {
      "needs_background": "light"
     },
     "output_type": "display_data"
    }
   ],
   "source": [
    "import lmfit\n",
    "\n",
    "model = lmfit.models.LorentzianModel()\n",
    "params = model.guess(np.array(exp_vals), x=np.array(frequencies_GHz))\n",
    "\n",
    "result = model.fit(np.array(exp_vals), params, x=frequencies_GHz)\n",
    "result.plot_fit()\n",
    "print(result.fit_report())"
   ]
  },
  {
   "cell_type": "code",
   "execution_count": 141,
   "id": "edd1be3f-e94a-4a0f-8020-4115b763a412",
   "metadata": {},
   "outputs": [
    {
     "data": {
      "image/png": "[encoded data removed]",
      "text/plain": [
       "<Figure size 432x288 with 1 Axes>"
      ]
     },
     "metadata": {
      "needs_background": "light"
     },
     "output_type": "display_data"
    }
   ],
   "source": [
    "fig = result.plot_fit()\n",
    "fig.get_figure().savefig(\"ibmq_jakarta_frequency_sweep_bestfit_12_1.png\")"
   ]
  },
  {
   "cell_type": "code",
   "execution_count": null,
   "id": "9247ac92-935b-4015-90e0-10bb28b9519e",
   "metadata": {},
   "outputs": [],
   "source": []
  },
  {
   "cell_type": "code",
   "execution_count": 142,
   "id": "70f1d59e-1fae-4b66-8682-d28a509ffc16",
   "metadata": {},
   "outputs": [
    {
     "name": "stdout",
     "output_type": "stream",
     "text": [
      "Our freq: 5.236347240597054 and reported: 5.236361516419318\n"
     ]
    }
   ],
   "source": [
    "qubit_frequency = result.params[\"center\"].value\n",
    "print(F\"Our freq: {qubit_frequency} and reported: {freq01_estimate*1e-9}\")"
   ]
  },
  {
   "cell_type": "code",
   "execution_count": 152,
   "id": "501b3ba8-ddc3-4850-888a-59c1aeeef507",
   "metadata": {},
   "outputs": [
    {
     "name": "stdout",
     "output_type": "stream",
     "text": [
      "(0.19853704532034197+0j)\n"
     ]
    }
   ],
   "source": [
    "x_sched = inst_map.get(\"x\", qubit)\n",
    "print(x_sched.instructions[0][1].pulse.amp)"
   ]
  },
  {
   "cell_type": "code",
   "execution_count": 144,
   "id": "c03067b1-87bb-4cc4-80f5-51ff577841ed",
   "metadata": {},
   "outputs": [
    {
     "name": "stdout",
     "output_type": "stream",
     "text": [
      "{'duration': 160, 'sigma': 40, 'beta': -0.9740804109491876, 'frequency': 5236347240.597054}\n"
     ]
    }
   ],
   "source": [
    "drag_params = {}\n",
    "drag_params[\"duration\"] = x_sched.instructions[0][1].pulse.duration\n",
    "drag_params[\"sigma\"] = x_sched.instructions[0][1].pulse.sigma\n",
    "drag_params[\"beta\"] = x_sched.instructions[0][1].pulse.beta\n",
    "drag_params[\"frequency\"] = qubit_frequency*1.0e9\n",
    "\n",
    "print(drag_params)"
   ]
  },
  {
   "cell_type": "code",
   "execution_count": 222,
   "id": "6a413342-7cf1-484c-b3a2-ab9f0a892f9a",
   "metadata": {},
   "outputs": [],
   "source": [
    "drag_sched = draw(x_sched, backend=backend)\n",
    "drag_sched.savefig(\"drag_pulse_example\", bbox_inches='tight')"
   ]
  },
  {
   "cell_type": "code",
   "execution_count": 209,
   "id": "4084bc07-da74-4aeb-b7a4-808b608d28ad",
   "metadata": {},
   "outputs": [],
   "source": [
    "amplitudes = np.linspace(-0.95, 0.95, 51)"
   ]
  },
  {
   "cell_type": "code",
   "execution_count": 210,
   "id": "7ce9b223-80b2-4ac9-8c6b-7e2225792d4b",
   "metadata": {},
   "outputs": [],
   "source": [
    "amp_circs = amplitude_circuits(qubit, amplitudes, drag_params, backend)"
   ]
  },
  {
   "cell_type": "code",
   "execution_count": 211,
   "id": "624fcfb0-e60c-4da7-817f-bfb556bb327a",
   "metadata": {},
   "outputs": [],
   "source": [
    "transpiled_circs = transpile(amp_circs, backend, initial_layout=[0])"
   ]
  },
  {
   "cell_type": "code",
   "execution_count": 212,
   "id": "0e526c03-313e-403a-b245-eeefd55100b1",
   "metadata": {},
   "outputs": [
    {
     "data": {
      "text/html": [
       "<pre style=\"word-wrap: normal;white-space: pre;background: #fff0;line-height: 1.1;font-family: &quot;Courier New&quot;,Courier,monospace\">               ┌─────────────────────────┐ ░ ┌─┐\n",
       "      q_0 -> 0 ┤ Amp(-0.950000000000000) ├─░─┤M├\n",
       "               └─────────────────────────┘ ░ └╥┘\n",
       "ancilla_0 -> 1 ───────────────────────────────╫─\n",
       "                                              ║ \n",
       "ancilla_1 -> 2 ───────────────────────────────╫─\n",
       "                                              ║ \n",
       "ancilla_2 -> 3 ───────────────────────────────╫─\n",
       "                                              ║ \n",
       "ancilla_3 -> 4 ───────────────────────────────╫─\n",
       "                                              ║ \n",
       "ancilla_4 -> 5 ───────────────────────────────╫─\n",
       "                                              ║ \n",
       "ancilla_5 -> 6 ───────────────────────────────╫─\n",
       "                                              ║ \n",
       "    measure: 1/═══════════════════════════════╩═\n",
       "                                              0 </pre>"
      ],
      "text/plain": [
       "               ┌─────────────────────────┐ ░ ┌─┐\n",
       "      q_0 -> 0 ┤ Amp(-0.950000000000000) ├─░─┤M├\n",
       "               └─────────────────────────┘ ░ └╥┘\n",
       "ancilla_0 -> 1 ───────────────────────────────╫─\n",
       "                                              ║ \n",
       "ancilla_1 -> 2 ───────────────────────────────╫─\n",
       "                                              ║ \n",
       "ancilla_2 -> 3 ───────────────────────────────╫─\n",
       "                                              ║ \n",
       "ancilla_3 -> 4 ───────────────────────────────╫─\n",
       "                                              ║ \n",
       "ancilla_4 -> 5 ───────────────────────────────╫─\n",
       "                                              ║ \n",
       "ancilla_5 -> 6 ───────────────────────────────╫─\n",
       "                                              ║ \n",
       "    measure: 1/═══════════════════════════════╩═\n",
       "                                              0 "
      ]
     },
     "execution_count": 212,
     "metadata": {},
     "output_type": "execute_result"
    }
   ],
   "source": [
    "transpiled_circs[0].draw()"
   ]
  },
  {
   "cell_type": "code",
   "execution_count": 213,
   "id": "6ea7d2c5-c6b1-40bd-9930-4beebac037a0",
   "metadata": {},
   "outputs": [],
   "source": [
    "amp_sched = draw(schedule(transpiled_circs[50], backend), backend=backend)\n",
    "amp_sched.savefig(\"jakarta_example_amp_sched\")"
   ]
  },
  {
   "cell_type": "code",
   "execution_count": 151,
   "id": "7416c329-5948-40bc-8992-15c2aca8fe44",
   "metadata": {},
   "outputs": [
    {
     "name": "stdout",
     "output_type": "stream",
     "text": [
      "61a7b4b2a62b825368b51b0a\n"
     ]
    }
   ],
   "source": [
    "job = backend.run(transpiled_circs, job_name=\"amplitude\", shots=2048)\n",
    "job_id = job.job_id()\n",
    "print(job.job_id())"
   ]
  },
  {
   "cell_type": "code",
   "execution_count": 153,
   "id": "b6281dde-04ec-42c0-9b21-6e3981169479",
   "metadata": {},
   "outputs": [],
   "source": [
    "# 11/23/2021\n",
    "# lagos (12:34) 619c7a2768476d433a8a9304\n",
    "\n",
    "# jakarta (12:45) 619c800853ac6c5c52d5a4c6\n",
    "\n",
    "# 11/30/2021 \n",
    "# lagos 61a67ba3a62b8250ceb513a5\n",
    "\n",
    "#12/1/2021\n",
    "# jakarta 61a7b4b2a62b825368b51b0a\n",
    "# backend = provider.get_backend(\"ibmq_jakarta\")\n",
    "results = backend.retrieve_job(\"61a7b4b2a62b825368b51b0a\").result()"
   ]
  },
  {
   "cell_type": "code",
   "execution_count": 154,
   "id": "22c0448b-7b5f-4ede-a549-eb4b442041e9",
   "metadata": {},
   "outputs": [
    {
     "name": "stdout",
     "output_type": "stream",
     "text": [
      "[0.72265625, 0.4638671875, 0.20849609375, 0.0498046875, 0.02001953125, 0.13720703125, 0.35693359375, 0.61181640625, 0.8525390625, 0.95947265625, 0.9169921875, 0.74951171875, 0.4716796875, 0.1865234375, 0.037109375, 0.0224609375, 0.16943359375, 0.421875, 0.71435546875, 0.9140625, 0.970703125, 0.8544921875, 0.6240234375, 0.3291015625, 0.11474609375, 0.01171875, 0.07763671875, 0.306640625, 0.59033203125, 0.8388671875, 0.95703125, 0.93701171875, 0.7373046875, 0.4755859375, 0.197265625, 0.03173828125, 0.02294921875, 0.16845703125, 0.42431640625, 0.7021484375, 0.89599609375, 0.96826171875, 0.8828125, 0.67138671875, 0.3984375, 0.16748046875, 0.02294921875, 0.03466796875, 0.1796875, 0.41796875, 0.66552734375]\n"
     ]
    }
   ],
   "source": [
    "exp_vals = []\n",
    "for counts in results.get_counts():\n",
    "    exp_val = 0\n",
    "    for k,v in counts.items():\n",
    "        if k == \"1\":\n",
    "            exp_val = v/sum(counts.values())\n",
    "    exp_vals.append(exp_val)\n",
    "print(exp_vals)"
   ]
  },
  {
   "cell_type": "code",
   "execution_count": 155,
   "id": "0fa02b5e-9071-44c4-b394-aa135295ea94",
   "metadata": {},
   "outputs": [],
   "source": [
    "def baseline_remove(values):\n",
    "    return np.array(values) - np.mean(values)"
   ]
  },
  {
   "cell_type": "code",
   "execution_count": 156,
   "id": "120c111c-4fe7-496a-a30f-ee75f81ca633",
   "metadata": {},
   "outputs": [
    {
     "data": {
      "image/png": "[encoded data removed]",
      "text/plain": [
       "<Figure size 432x288 with 1 Axes>"
      ]
     },
     "metadata": {
      "needs_background": "light"
     },
     "output_type": "display_data"
    }
   ],
   "source": [
    "# baseline_remove(np.real(exp_vals))\n",
    "plt.scatter(amplitudes, baseline_remove(np.real(exp_vals)), color='black') # plot real part of sweep values\n",
    "plt.xlim([min(amplitudes), max(amplitudes)])\n",
    "plt.xlabel(\"Amplitude\")\n",
    "plt.ylabel(\"Measured signal [a.u.]\")\n",
    "plt.show()"
   ]
  },
  {
   "cell_type": "markdown",
   "id": "801a2954-424b-4958-96a3-3b9789b6bd23",
   "metadata": {},
   "source": [
    "# The following data fitting code was copied from the Qiskit tutorial on Calibrating Qubits with Qiskit Pulse\n",
    "https://qiskit.org/textbook/ch-quantum-hardware/calibrating-qubits-pulse.html#calib"
   ]
  },
  {
   "cell_type": "code",
   "execution_count": 161,
   "id": "eed4e447-f494-4c29-a4d5-ca68b3988574",
   "metadata": {},
   "outputs": [
    {
     "data": {
      "image/png": "[encoded data removed]",
      "text/plain": [
       "<Figure size 432x288 with 1 Axes>"
      ]
     },
     "metadata": {
      "needs_background": "light"
     },
     "output_type": "display_data"
    }
   ],
   "source": [
    "from scipy.optimize import curve_fit\n",
    "\n",
    "def fit_function(x_values, y_values, function, init_params):\n",
    "    fitparams, conv = curve_fit(function, x_values, y_values, init_params)\n",
    "    y_fit = function(x_values, *fitparams)\n",
    "    \n",
    "    return fitparams, y_fit\n",
    "\n",
    "\n",
    "fit_params, y_fit = fit_function(amplitudes,\n",
    "                                 baseline_remove(np.real(exp_vals)), \n",
    "                                 lambda x, A, B, drive_period, phi: (A*np.cos(2*np.pi*x/drive_period - phi) + B),\n",
    "                                 [0.8, 0.8, 0.5, 2])\n",
    "\n",
    "plt.scatter(amplitudes, baseline_remove(np.real(exp_vals)), color='black')\n",
    "plt.plot(amplitudes, y_fit, color='red')\n",
    "\n",
    "drive_period = fit_params[2] # get period of rabi oscillation\n",
    "\n",
    "plt.axvline(drive_period/2, color='red', linestyle='--')\n",
    "plt.axvline(drive_period, color='red', linestyle='--')\n",
    "plt.annotate(\"\", xy=(drive_period, 0), xytext=(drive_period/2,0), arrowprops=dict(arrowstyle=\"<->\", color='red'))\n",
    "plt.annotate(\"$\\pi$\", xy=(drive_period/2-0.03, 0.1), color='red')\n",
    "\n",
    "plt.xlabel(\"Drive amp [a.u.]\", fontsize=15)\n",
    "plt.ylabel(\"Measured signal [a.u.]\", fontsize=15)\n",
    "plt.savefig(\"ibmq_jakarta_amplitude_sweep_bestfit_12_1.png\")\n",
    "plt.show()"
   ]
  },
  {
   "cell_type": "code",
   "execution_count": null,
   "id": "3c0a80ef-e8a4-4b96-adab-14478a855117",
   "metadata": {},
   "outputs": [],
   "source": []
  },
  {
   "cell_type": "code",
   "execution_count": 162,
   "id": "e1f7bac1-ee7f-4b31-90d2-9a2258cf752b",
   "metadata": {},
   "outputs": [
    {
     "name": "stdout",
     "output_type": "stream",
     "text": [
      "[0.47747258 0.01998254 0.40486655 3.18698784]\n"
     ]
    }
   ],
   "source": [
    "print(fit_params)"
   ]
  },
  {
   "cell_type": "code",
   "execution_count": 163,
   "id": "f20f04da-1c21-47d8-b0e6-21a31d198462",
   "metadata": {},
   "outputs": [
    {
     "name": "stdout",
     "output_type": "stream",
     "text": [
      "Our Pi amplitude = (0.20243327589580798+0j) and reported: (0.19853704532034197+0j)\n"
     ]
    }
   ],
   "source": [
    "pi_amp = abs(drive_period / 2)\n",
    "print(f\"Our Pi amplitude = {pi_amp+0j} and reported: {x_sched.instructions[0][1].pulse.amp}\")"
   ]
  },
  {
   "cell_type": "code",
   "execution_count": 124,
   "id": "aba116a8-99cb-4a71-bd41-0c8cd72090bb",
   "metadata": {},
   "outputs": [],
   "source": [
    "# job = backend.retrieve_job(\"619c800853ac6c5c52d5a4c6\")\n",
    "# props = job.properties()\n",
    "# for gate in props.gates:\n",
    "#     if gate.name == \"x0\":\n",
    "#         print(gate.parameters)"
   ]
  },
  {
   "cell_type": "code",
   "execution_count": 164,
   "id": "6050bd48-5760-4063-b468-ca9dc40be571",
   "metadata": {},
   "outputs": [
    {
     "name": "stdout",
     "output_type": "stream",
     "text": [
      "{'duration': 160, 'sigma': 40, 'beta': -0.9740804109491876, 'frequency': 5236347240.597054, 'amplitude': (0.20243327589580798+0j)}\n"
     ]
    }
   ],
   "source": [
    "drag_params[\"amplitude\"] = pi_amp+0j\n",
    "print(drag_params)"
   ]
  },
  {
   "cell_type": "code",
   "execution_count": 165,
   "id": "e1367dde-1c27-4737-b0a5-0c0f2f7d3159",
   "metadata": {},
   "outputs": [
    {
     "data": {
      "text/html": [
       "<pre style=\"word-wrap: normal;white-space: pre;background: #fff0;line-height: 1.1;font-family: &quot;Courier New&quot;,Courier,monospace\">           ┌──────────┐      ░ ┌─┐   \n",
       "      q_0: ┤ Custom_x ├──■───░─┤M├───\n",
       "           └──────────┘┌─┴─┐ ░ └╥┘┌─┐\n",
       "  q1236_0: ────────────┤ X ├─░──╫─┤M├\n",
       "                       └───┘ ░  ║ └╥┘\n",
       "measure: 2/═════════════════════╩══╩═\n",
       "                                0  1 </pre>"
      ],
      "text/plain": [
       "           ┌──────────┐      ░ ┌─┐   \n",
       "      q_0: ┤ Custom_x ├──■───░─┤M├───\n",
       "           └──────────┘┌─┴─┐ ░ └╥┘┌─┐\n",
       "  q1236_0: ────────────┤ X ├─░──╫─┤M├\n",
       "                       └───┘ ░  ║ └╥┘\n",
       "measure: 2/═════════════════════╩══╩═\n",
       "                                0  1 "
      ]
     },
     "execution_count": 165,
     "metadata": {},
     "output_type": "execute_result"
    }
   ],
   "source": [
    "from qiskit.circuit.library import CXGate\n",
    "from qiskit.circuit import Qubit, QuantumRegister\n",
    "x_circs = x_gate_circuits(qubit, drag_params, backend)\n",
    "qreg = QuantumRegister(1)\n",
    "x_circs.add_register(qreg)\n",
    "\n",
    "x_circs.append(CXGate(), [0,1])\n",
    "x_circs.measure_active()\n",
    "x_circs.draw()\n",
    "\n"
   ]
  },
  {
   "cell_type": "code",
   "execution_count": 166,
   "id": "4e7437d9-00a9-4a39-9f52-989ee9248a69",
   "metadata": {},
   "outputs": [
    {
     "data": {
      "text/html": [
       "<pre style=\"word-wrap: normal;white-space: pre;background: #fff0;line-height: 1.1;font-family: &quot;Courier New&quot;,Courier,monospace\">               ┌──────────┐      ░ ┌─┐   \n",
       "      q_0 -> 0 ┤ Custom_x ├──■───░─┤M├───\n",
       "               └──────────┘┌─┴─┐ ░ └╥┘┌─┐\n",
       "  q1236_0 -> 1 ────────────┤ X ├─░──╫─┤M├\n",
       "                           └───┘ ░  ║ └╥┘\n",
       "ancilla_0 -> 2 ─────────────────────╫──╫─\n",
       "                                    ║  ║ \n",
       "ancilla_1 -> 3 ─────────────────────╫──╫─\n",
       "                                    ║  ║ \n",
       "ancilla_2 -> 4 ─────────────────────╫──╫─\n",
       "                                    ║  ║ \n",
       "ancilla_3 -> 5 ─────────────────────╫──╫─\n",
       "                                    ║  ║ \n",
       "ancilla_4 -> 6 ─────────────────────╫──╫─\n",
       "                                    ║  ║ \n",
       "    measure: 2/═════════════════════╩══╩═\n",
       "                                    0  1 </pre>"
      ],
      "text/plain": [
       "               ┌──────────┐      ░ ┌─┐   \n",
       "      q_0 -> 0 ┤ Custom_x ├──■───░─┤M├───\n",
       "               └──────────┘┌─┴─┐ ░ └╥┘┌─┐\n",
       "  q1236_0 -> 1 ────────────┤ X ├─░──╫─┤M├\n",
       "                           └───┘ ░  ║ └╥┘\n",
       "ancilla_0 -> 2 ─────────────────────╫──╫─\n",
       "                                    ║  ║ \n",
       "ancilla_1 -> 3 ─────────────────────╫──╫─\n",
       "                                    ║  ║ \n",
       "ancilla_2 -> 4 ─────────────────────╫──╫─\n",
       "                                    ║  ║ \n",
       "ancilla_3 -> 5 ─────────────────────╫──╫─\n",
       "                                    ║  ║ \n",
       "ancilla_4 -> 6 ─────────────────────╫──╫─\n",
       "                                    ║  ║ \n",
       "    measure: 2/═════════════════════╩══╩═\n",
       "                                    0  1 "
      ]
     },
     "execution_count": 166,
     "metadata": {},
     "output_type": "execute_result"
    }
   ],
   "source": [
    "transpiled_test = transpile(x_circs, backend)\n",
    "transpiled_test.draw()"
   ]
  },
  {
   "cell_type": "code",
   "execution_count": 167,
   "id": "6b7bdf82-35a3-4120-b9ef-e20cbacb4f09",
   "metadata": {},
   "outputs": [
    {
     "name": "stdout",
     "output_type": "stream",
     "text": [
      "61a7b68d313f812074c3bc9b\n"
     ]
    }
   ],
   "source": [
    "job = backend.run(x_circs, job_name=\"simple_cnot\", shots=2048)\n",
    "job_id = job.job_id()\n",
    "print(job.job_id())"
   ]
  },
  {
   "cell_type": "code",
   "execution_count": 176,
   "id": "abc67556-d775-43c6-a473-c8be04ce71d8",
   "metadata": {},
   "outputs": [],
   "source": [
    "from qiskit.visualization import plot_histogram\n",
    "\n",
    "#simple cnot experiment\n",
    "# jakarta (1:33) 619c8acd53ac6c6f7dd5a511\n",
    "\n",
    "# simple cnot 11/30/2021\n",
    "# lagos 61a6c6aed28a88365c8cfeaf\n",
    "\n",
    "# simple cnot 12/1/2021\n",
    "# jakarta 61a7b68d313f812074c3bc9b \n",
    "results = backend.retrieve_job(\"61a7b68d313f812074c3bc9b\").result()\n",
    "# counts = results.get_counts()\n",
    "# plot_histogram(counts)"
   ]
  },
  {
   "cell_type": "code",
   "execution_count": 177,
   "id": "7165728f-682e-4a84-a146-b4de64633aa6",
   "metadata": {},
   "outputs": [
    {
     "name": "stdout",
     "output_type": "stream",
     "text": [
      "{'00': 16, '01': 60, '10': 66, '11': 1906}\n"
     ]
    }
   ],
   "source": [
    "print(results.get_counts())"
   ]
  },
  {
   "cell_type": "code",
   "execution_count": 180,
   "id": "307aa44c-6e04-479d-98a9-efb17b08efd6",
   "metadata": {},
   "outputs": [
    {
     "data": {
      "image/png": "[encoded data removed]",
      "text/plain": [
       "<Figure size 504x360 with 1 Axes>"
      ]
     },
     "execution_count": 180,
     "metadata": {},
     "output_type": "execute_result"
    }
   ],
   "source": [
    "fig = plot_histogram(results.get_counts())\n",
    "fig"
   ]
  },
  {
   "cell_type": "code",
   "execution_count": 181,
   "id": "d0745081-f846-45e6-81ce-95eef1368b84",
   "metadata": {},
   "outputs": [],
   "source": [
    "fig.savefig(\"jakarta_12_1_customx_simple_cnot_experiment_results.png\")"
   ]
  },
  {
   "cell_type": "code",
   "execution_count": 182,
   "id": "4f93625a-c67e-43ca-b12e-cfe3b77f496e",
   "metadata": {},
   "outputs": [],
   "source": [
    "import qiskit.ignis.verification.tomography\n",
    "from qiskit import QuantumRegister\n",
    "from qiskit.ignis.verification.tomography import process_tomography_circuits, ProcessTomographyFitter"
   ]
  },
  {
   "cell_type": "code",
   "execution_count": 183,
   "id": "8279ae75-a06f-4ba5-942f-c8c88328eac6",
   "metadata": {},
   "outputs": [],
   "source": [
    "xc = x_gate_circuits(qubit, drag_params, backend)\n",
    "\n",
    "custom_x_qpt_circs = process_tomography_circuits(xc, [0])"
   ]
  },
  {
   "cell_type": "code",
   "execution_count": 184,
   "id": "4ffc37a6-7865-4167-9c24-0c46a49596f9",
   "metadata": {},
   "outputs": [
    {
     "data": {
      "text/html": [
       "<pre style=\"word-wrap: normal;white-space: pre;background: #fff0;line-height: 1.1;font-family: &quot;Courier New&quot;,Courier,monospace\">       ░ ┌──────────┐ ░ ┌───┐┌─┐\n",
       " q_0: ─░─┤ Custom_x ├─░─┤ H ├┤M├\n",
       "       ░ └──────────┘ ░ └───┘└╥┘\n",
       "c1: 1/════════════════════════╩═\n",
       "                              0 </pre>"
      ],
      "text/plain": [
       "       ░ ┌──────────┐ ░ ┌───┐┌─┐\n",
       " q_0: ─░─┤ Custom_x ├─░─┤ H ├┤M├\n",
       "       ░ └──────────┘ ░ └───┘└╥┘\n",
       "c1: 1/════════════════════════╩═\n",
       "                              0 "
      ]
     },
     "execution_count": 184,
     "metadata": {},
     "output_type": "execute_result"
    }
   ],
   "source": [
    "custom_x_qpt_circs[0].draw()"
   ]
  },
  {
   "cell_type": "code",
   "execution_count": 53,
   "id": "f96a08ad-8a04-497b-bf7c-3f877c7374ca",
   "metadata": {},
   "outputs": [
    {
     "data": {
      "text/html": [
       "<pre style=\"word-wrap: normal;white-space: pre;background: #fff0;line-height: 1.1;font-family: &quot;Courier New&quot;,Courier,monospace\">       ░ ┌──────────┐ ░ ┌─────┐┌───┐┌─┐\n",
       " q_0: ─░─┤ Custom_x ├─░─┤ Sdg ├┤ H ├┤M├\n",
       "       ░ └──────────┘ ░ └─────┘└───┘└╥┘\n",
       "c0: 1/═══════════════════════════════╩═\n",
       "                                     0 </pre>"
      ],
      "text/plain": [
       "       ░ ┌──────────┐ ░ ┌─────┐┌───┐┌─┐\n",
       " q_0: ─░─┤ Custom_x ├─░─┤ Sdg ├┤ H ├┤M├\n",
       "       ░ └──────────┘ ░ └─────┘└───┘└╥┘\n",
       "c0: 1/═══════════════════════════════╩═\n",
       "                                     0 "
      ]
     },
     "execution_count": 53,
     "metadata": {},
     "output_type": "execute_result"
    }
   ],
   "source": [
    "custom_x_qpt_circs[1].draw()"
   ]
  },
  {
   "cell_type": "code",
   "execution_count": 54,
   "id": "849e7d16-e6ec-4905-89e8-7be5faf1a365",
   "metadata": {},
   "outputs": [
    {
     "data": {
      "text/html": [
       "<pre style=\"word-wrap: normal;white-space: pre;background: #fff0;line-height: 1.1;font-family: &quot;Courier New&quot;,Courier,monospace\">       ░ ┌──────────┐ ░ ┌─┐\n",
       " q_0: ─░─┤ Custom_x ├─░─┤M├\n",
       "       ░ └──────────┘ ░ └╥┘\n",
       "c0: 1/═══════════════════╩═\n",
       "                         0 </pre>"
      ],
      "text/plain": [
       "       ░ ┌──────────┐ ░ ┌─┐\n",
       " q_0: ─░─┤ Custom_x ├─░─┤M├\n",
       "       ░ └──────────┘ ░ └╥┘\n",
       "c0: 1/═══════════════════╩═\n",
       "                         0 "
      ]
     },
     "execution_count": 54,
     "metadata": {},
     "output_type": "execute_result"
    }
   ],
   "source": [
    "custom_x_qpt_circs[2].draw()"
   ]
  },
  {
   "cell_type": "code",
   "execution_count": 185,
   "id": "d53d872c-6dee-4424-9183-79acc2d91dae",
   "metadata": {},
   "outputs": [
    {
     "name": "stdout",
     "output_type": "stream",
     "text": [
      "61a7b8d7d28a8870f68d049a\n"
     ]
    }
   ],
   "source": [
    "job = qiskit.execute(custom_x_qpt_circs, backend, shots=4000)\n",
    "print(job.job_id())"
   ]
  },
  {
   "cell_type": "code",
   "execution_count": 189,
   "id": "30ee262d-c943-4349-ba0d-082838a3551c",
   "metadata": {},
   "outputs": [
    {
     "data": {
      "text/plain": [
       "{(('Zp',), ('X',)): {'0': 2004, '1': 1996},\n",
       " (('Zp',), ('Y',)): {'0': 2016, '1': 1984},\n",
       " (('Zp',), ('Z',)): {'0': 140, '1': 3860},\n",
       " (('Zm',), ('X',)): {'0': 1989, '1': 2011},\n",
       " (('Zm',), ('Y',)): {'0': 1943, '1': 2057},\n",
       " (('Zm',), ('Z',)): {'0': 3946, '1': 54},\n",
       " (('Xp',), ('X',)): {'0': 3946, '1': 54},\n",
       " (('Xp',), ('Y',)): {'0': 2103, '1': 1897},\n",
       " (('Xp',), ('Z',)): {'0': 2091, '1': 1909},\n",
       " (('Yp',), ('X',)): {'0': 2142, '1': 1858},\n",
       " (('Yp',), ('Y',)): {'0': 156, '1': 3844},\n",
       " (('Yp',), ('Z',)): {'0': 1860, '1': 2140}}"
      ]
     },
     "execution_count": 189,
     "metadata": {},
     "output_type": "execute_result"
    }
   ],
   "source": [
    "# IBM lagos\n",
    "# 61a70910313f811ba6c3b887\n",
    "\n",
    "# ibm jakarta 12/1 \n",
    "# 61a7b8d7d28a8870f68d049a\n",
    "qpt_job = backend.retrieve_job(\"61a7b8d7d28a8870f68d049a\")\n",
    "qpt_tomo = ProcessTomographyFitter(qpt_job.result(), custom_x_qpt_circs)\n",
    "qpt_tomo.data"
   ]
  },
  {
   "cell_type": "code",
   "execution_count": 190,
   "id": "55ae9876-9fa2-4299-bf0b-c9e9783393c9",
   "metadata": {},
   "outputs": [
    {
     "name": "stdout",
     "output_type": "stream",
     "text": [
      "Fit time: 0.006003379821777344\n",
      "Average gate fidelity: F = 0.96949\n"
     ]
    }
   ],
   "source": [
    "import time\n",
    "# Tomographic reconstruction\n",
    "t = time.time()\n",
    "choi_fit_lstsq = qpt_tomo.fit(method='lstsq')\n",
    "\n",
    "default_xc = QuantumCircuit(1)\n",
    "default_xc.x(0)\n",
    "target_unitary = qi.Operator(default_xc)\n",
    "\n",
    "print('Fit time:', time.time() - t)\n",
    "print('Average gate fidelity: F = {:.5f}'.format(qi.average_gate_fidelity(choi_fit_lstsq, target=target_unitary)))"
   ]
  },
  {
   "cell_type": "code",
   "execution_count": 191,
   "id": "aa690341-0ea2-4dda-94b3-6986eeb23821",
   "metadata": {},
   "outputs": [
    {
     "name": "stdout",
     "output_type": "stream",
     "text": [
      "Operator([[0.+0.j, 1.+0.j],\n",
      "          [1.+0.j, 0.+0.j]],\n",
      "         input_dims=(2,), output_dims=(2,))\n"
     ]
    }
   ],
   "source": [
    "print(target_unitary)"
   ]
  },
  {
   "cell_type": "code",
   "execution_count": 204,
   "id": "731becbd-24e5-4996-8e34-921031db947f",
   "metadata": {},
   "outputs": [],
   "source": [
    "from qiskit.quantum_info.operators import Operator, Pauli\n",
    "ZX = Pauli(label=\"ZX\")"
   ]
  },
  {
   "cell_type": "code",
   "execution_count": 205,
   "id": "73eefc4a-3d5a-4b44-8dfb-0eb7cc18a8a8",
   "metadata": {},
   "outputs": [],
   "source": [
    "op = Operator(ZX)"
   ]
  },
  {
   "cell_type": "code",
   "execution_count": 206,
   "id": "0224aca3-b178-45c0-b0ed-07d0dab39faf",
   "metadata": {},
   "outputs": [
    {
     "name": "stdout",
     "output_type": "stream",
     "text": [
      "Operator([[ 0.+0.j,  1.+0.j,  0.+0.j,  0.+0.j],\n",
      "          [ 1.+0.j,  0.+0.j,  0.+0.j,  0.+0.j],\n",
      "          [ 0.+0.j,  0.+0.j,  0.+0.j, -1.+0.j],\n",
      "          [ 0.+0.j,  0.+0.j, -1.+0.j,  0.+0.j]],\n",
      "         input_dims=(2, 2), output_dims=(2, 2))\n"
     ]
    }
   ],
   "source": [
    "print(op)"
   ]
  },
  {
   "cell_type": "code",
   "execution_count": 207,
   "id": "69aadb64-76c6-49a4-b0d0-20d16319d24f",
   "metadata": {},
   "outputs": [
    {
     "name": "stdout",
     "output_type": "stream",
     "text": [
      "Operator([[1.+0.j, 0.+0.j, 0.+0.j, 0.+0.j],\n",
      "          [0.+0.j, 0.+0.j, 0.+0.j, 1.+0.j],\n",
      "          [0.+0.j, 0.+0.j, 1.+0.j, 0.+0.j],\n",
      "          [0.+0.j, 1.+0.j, 0.+0.j, 0.+0.j]],\n",
      "         input_dims=(2, 2), output_dims=(2, 2))\n"
     ]
    }
   ],
   "source": [
    "default_cx = QuantumCircuit(2)\n",
    "default_cx.cx(0,1)\n",
    "target_unitary = qi.Operator(default_cx)\n",
    "print(target_unitary)"
   ]
  },
  {
   "cell_type": "code",
   "execution_count": null,
   "id": "491ba8a1-c7ed-4b79-a703-e41d16772846",
   "metadata": {},
   "outputs": [],
   "source": []
  }
 ],
 "metadata": {
  "kernelspec": {
   "display_name": "Python 3",
   "language": "python",
   "name": "python3"
  },
  "language_info": {
   "codemirror_mode": {
    "name": "ipython",
    "version": 3
   },
   "file_extension": ".py",
   "mimetype": "text/x-python",
   "name": "python",
   "nbconvert_exporter": "python",
   "pygments_lexer": "ipython3",
   "version": "3.8.8"
  }
 },
 "nbformat": 4,
 "nbformat_minor": 5
}
