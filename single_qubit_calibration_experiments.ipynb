{
 "cells": [
  {
   "cell_type": "code",
   "execution_count": 1,
   "id": "57d5e6c9-52f0-43ae-8aa9-5227297fb32b",
   "metadata": {},
   "outputs": [],
   "source": [
    "from qiskit import pulse, circuit, transpile, assemble, schedule, IBMQ, QuantumCircuit, quantum_info as qi \n",
    "import qiskit\n",
    "from qiskit.visualization import plot_gate_map, plot_error_map\n",
    "from qiskit.visualization.pulse_v2 import draw\n",
    "from qiskit.pulse import ShiftPhase, GaussianSquare, Drag, ControlChannel, MeasureChannel, DriveChannel, Play, Schedule\n",
    "import numpy as np\n",
    "from qiskit.tools import job_monitor\n",
    "from copy import deepcopy\n",
    "import scipy.optimize as opt\n",
    "import matplotlib.pyplot as plt"
   ]
  },
  {
   "cell_type": "code",
   "execution_count": 2,
   "id": "a6a30b4f-7c1d-437d-991c-000b870101af",
   "metadata": {},
   "outputs": [],
   "source": [
    "account_provider = IBMQ.load_account()\n",
    "provider_opts = {'hub': 'ibm-q-ncsu', 'group': 'nc-state', 'project':'noiseanderror'}\n",
    "\n",
    "# target backend\n",
    "backend_name = 'ibmq_jakarta'\n",
    "\n",
    "provider = IBMQ.get_provider(**provider_opts)\n",
    "backend = provider.get_backend(backend_name)\n",
    "\n",
    "# backend information\n",
    "config = backend.configuration()\n",
    "defaults = backend.defaults()\n",
    "properties = backend.properties()\n",
    "\n",
    "# instruction schedule map\n",
    "inst_map = defaults.instruction_schedule_map"
   ]
  },
  {
   "cell_type": "code",
   "execution_count": 237,
   "id": "85c390cf-7716-431b-a7ec-114f3b8df3a6",
   "metadata": {},
   "outputs": [],
   "source": [
    "qubit = 0\n",
    "freq01_estimate = backend.defaults().qubit_freq_est[qubit]\n",
    "frequencies = np.linspace(freq01_estimate -15e6, freq01_estimate + 15e6, 51)"
   ]
  },
  {
   "cell_type": "code",
   "execution_count": 256,
   "id": "75f27216-ef59-4ebe-83de-21f6d4c650b4",
   "metadata": {},
   "outputs": [
    {
     "name": "stdout",
     "output_type": "stream",
     "text": [
      "5236358802.651813\n"
     ]
    }
   ],
   "source": [
    "print(freq01_estimate)"
   ]
  },
  {
   "cell_type": "code",
   "execution_count": 238,
   "id": "f8f88b2d-0215-47bd-9b02-ea55aa131011",
   "metadata": {},
   "outputs": [
    {
     "name": "stdout",
     "output_type": "stream",
     "text": [
      "[5.2213588e+09 5.2219588e+09 5.2225588e+09 5.2231588e+09 5.2237588e+09\n",
      " 5.2243588e+09 5.2249588e+09 5.2255588e+09 5.2261588e+09 5.2267588e+09\n",
      " 5.2273588e+09 5.2279588e+09 5.2285588e+09 5.2291588e+09 5.2297588e+09\n",
      " 5.2303588e+09 5.2309588e+09 5.2315588e+09 5.2321588e+09 5.2327588e+09\n",
      " 5.2333588e+09 5.2339588e+09 5.2345588e+09 5.2351588e+09 5.2357588e+09\n",
      " 5.2363588e+09 5.2369588e+09 5.2375588e+09 5.2381588e+09 5.2387588e+09\n",
      " 5.2393588e+09 5.2399588e+09 5.2405588e+09 5.2411588e+09 5.2417588e+09\n",
      " 5.2423588e+09 5.2429588e+09 5.2435588e+09 5.2441588e+09 5.2447588e+09\n",
      " 5.2453588e+09 5.2459588e+09 5.2465588e+09 5.2471588e+09 5.2477588e+09\n",
      " 5.2483588e+09 5.2489588e+09 5.2495588e+09 5.2501588e+09 5.2507588e+09\n",
      " 5.2513588e+09]\n"
     ]
    }
   ],
   "source": [
    "print(frequencies)"
   ]
  },
  {
   "cell_type": "code",
   "execution_count": 349,
   "id": "47c56c4e-270e-42cb-a8be-7be57fa84291",
   "metadata": {},
   "outputs": [],
   "source": [
    "def spectroscopy_scheds(qubit, pulse_params, backend):\n",
    "    freq_param = circuit.Parameter(\"frequency\")\n",
    "    with pulse.build(backend=backend, name=\"spectroscopy\") as schedule:\n",
    "        pulse.shift_frequency(freq_param, DriveChannel(qubit))\n",
    "        pulse.play(\n",
    "            GaussianSquare(duration=pulse_params[\"duration\"], \n",
    "                           amp=pulse_params[\"amp\"], \n",
    "                           sigma=pulse_params[\"sigma\"], \n",
    "                           width=pulse_params[\"width\"]), DriveChannel(qubit))\n",
    "        pulse.shift_frequency(-freq_param, DriveChannel(qubit))\n",
    "        \n",
    "    return schedule, freq_param\n",
    "\n",
    "def amplitude_scheds(qubit, pulse_params, backend):\n",
    "    amp_param = circuit.Parameter(\"amp\")\n",
    "    with pulse.build(backend=backend, name=\"amp_sweep\") as schedule:\n",
    "        pulse.set_frequency(pulse_params[\"frequency\"], \n",
    "                            DriveChannel(qubit))\n",
    "        pulse.play(\n",
    "            Drag(duration=pulse_params['duration'], \n",
    "                           amp=amp_param, \n",
    "                           sigma=pulse_params[\"sigma\"], \n",
    "                           beta=pulse_params[\"beta\"]), DriveChannel(qubit))\n",
    "    return schedule, amp_param\n",
    "\n",
    "def x_gate_scheds(qubit, pulse_params, backend):\n",
    "    with pulse.build(backend=backend, name=\"x_gate\") as schedule:\n",
    "        pulse.set_frequency(pulse_params[\"frequency\"], \n",
    "                            DriveChannel(qubit))\n",
    "        pulse.play(\n",
    "            Drag(duration=pulse_params['duration'], \n",
    "                           amp=pulse_params[\"amplitude\"], \n",
    "                           sigma=pulse_params[\"sigma\"], \n",
    "                           beta=pulse_params[\"beta\"]), DriveChannel(qubit))\n",
    "    return schedule\n",
    "\n",
    "def template_circuit(param, gate_name):\n",
    "    temp_circ = QuantumCircuit(1)\n",
    "    if param is not None:\n",
    "        temp_circ.append(circuit.Gate(name=gate_name, num_qubits=1, params=[param]), (0,))\n",
    "        temp_circ.measure_active()\n",
    "    else:\n",
    "        temp_circ.append(circuit.Gate(name=gate_name, num_qubits=1, params=[]), (0,))\n",
    "    return temp_circ\n",
    "\n",
    "def spectroscopy_circuits(qubit, frequencies, pulse_params, backend):\n",
    "    gname = \"Spec\"\n",
    "    sched, freq_param = spectroscopy_scheds(qubit, pulse_params, backend)\n",
    "    circuit = template_circuit(freq_param, gname)\n",
    "    circuit.add_calibration(gname, (qubit,), sched, params=[freq_param])\n",
    "    \n",
    "    center_freq = backend.defaults().qubit_freq_est[qubit]\n",
    "    \n",
    "    circs = []\n",
    "    for freq in frequencies:\n",
    "        freq_shift = freq\n",
    "        freq_shift -= center_freq\n",
    "        freq_shift = np.round(freq_shift, decimals=3)\n",
    "        assigned_circ = circuit.assign_parameters({freq_param: freq_shift}, inplace=False)\n",
    "        circs.append(assigned_circ)\n",
    "    return circs\n",
    "\n",
    "def amplitude_circuits(qubit, amplitudes, pulse_params, backend):\n",
    "    gname = \"Amp\"\n",
    "    sched, amp_param = amplitude_scheds(qubit, pulse_params, backend)\n",
    "    circuit = template_circuit(amp_param, gname)\n",
    "    circuit.add_calibration(gname, (qubit,), sched, params=[amp_param])\n",
    "    \n",
    "    circs = []\n",
    "    for amp in amplitudes:\n",
    "        assigned_circ = circuit.assign_parameters({amp_param: amp}, inplace=False)\n",
    "        circs.append(assigned_circ)\n",
    "    return circs\n",
    "\n",
    "def x_gate_circuits(qubit, pulse_params, backend):\n",
    "    gname = \"Custom_x\"\n",
    "\n",
    "    sched = x_gate_scheds(qubit, pulse_params, backend)\n",
    "    circuit = template_circuit(None, gname)\n",
    "    circuit.add_calibration(gname, (qubit,), sched)\n",
    "    circs.append(circuit)\n",
    "    \n",
    "    return circuit"
   ]
  },
  {
   "cell_type": "markdown",
   "id": "9e05fa38-40ee-46a3-ac4a-dd60f319ceea",
   "metadata": {},
   "source": [
    "## Spectroscopy pulse parameters - using a GaussianSquare pulse to perform qubit spectroscopy"
   ]
  },
  {
   "cell_type": "code",
   "execution_count": 240,
   "id": "2c8f6f26-d6d1-4e51-80d9-f5cf2598587e",
   "metadata": {
    "tags": []
   },
   "outputs": [],
   "source": [
    "pulse_params = {}\n",
    "pulse_params[\"duration\"] = 1024\n",
    "pulse_params[\"amp\"] = 0.1\n",
    "pulse_params[\"sigma\"] = 256\n",
    "pulse_params[\"width\"] = 0\n"
   ]
  },
  {
   "cell_type": "code",
   "execution_count": 241,
   "id": "16d3d570-527c-4f53-a00d-5975ad594315",
   "metadata": {},
   "outputs": [],
   "source": [
    "circs = spectroscopy_circuits(qubit, frequencies, pulse_params, backend)"
   ]
  },
  {
   "cell_type": "code",
   "execution_count": 242,
   "id": "b220370d-4a9d-48ff-a547-680e211740cc",
   "metadata": {},
   "outputs": [],
   "source": [
    "transpiled_circs = transpile(circs, backend, initial_layout=[0])"
   ]
  },
  {
   "cell_type": "code",
   "execution_count": 243,
   "id": "59088da7-7372-4830-a826-7bd0af487990",
   "metadata": {},
   "outputs": [],
   "source": [
    "# transpiled_circs[0].draw()"
   ]
  },
  {
   "cell_type": "code",
   "execution_count": 244,
   "id": "15ba3169-d5ce-42d1-be5c-6a7f13122a08",
   "metadata": {},
   "outputs": [
    {
     "name": "stdout",
     "output_type": "stream",
     "text": [
      "619c7dc18982d9836e339a69\n"
     ]
    }
   ],
   "source": [
    "job = backend.run(transpiled_circs, job_name=\"spectroscopy\", shots=2048)\n",
    "job_id = job.job_id()\n",
    "print(job.job_id())"
   ]
  },
  {
   "cell_type": "code",
   "execution_count": null,
   "id": "2dfdc7a2-8721-4ed9-a739-761297844014",
   "metadata": {},
   "outputs": [],
   "source": []
  },
  {
   "cell_type": "code",
   "execution_count": 245,
   "id": "127c7ce2-32fd-41ef-bf54-a73c79cd28cb",
   "metadata": {},
   "outputs": [],
   "source": [
    "# 11/21/spectroscopy\n",
    "# jakarta (11:51) 619a768168476d6e298a8394\n",
    "\n",
    "# lagos (2:16) 619a9b38cd37f33609f2702d\n",
    "# armonk (3:29) 619aac3a53ac6ccf4ad59760\n",
    "\n",
    "#11/23/2021 \n",
    "# lagos (12:03) 619c75f28982d995183399dc\n",
    "\n",
    "# jakarta (12:36) 619c7dc18982d9836e339a69\n",
    "\n",
    "\n",
    "# backend = provider.get_backend(\"ibmq_armonk\")\n",
    "results = backend.retrieve_job(\"619c7dc18982d9836e339a69\").result()"
   ]
  },
  {
   "cell_type": "code",
   "execution_count": 246,
   "id": "3a0f830e-02f4-4adf-ba62-f023f14982aa",
   "metadata": {},
   "outputs": [
    {
     "name": "stdout",
     "output_type": "stream",
     "text": [
      "[{'0': 2005, '1': 43}, {'0': 1998, '1': 50}, {'0': 2016, '1': 32}, {'0': 2015, '1': 33}, {'0': 2012, '1': 36}, {'0': 2003, '1': 45}, {'0': 1983, '1': 65}, {'0': 1961, '1': 87}, {'0': 1888, '1': 160}, {'0': 1854, '1': 194}, {'0': 1835, '1': 213}, {'0': 1832, '1': 216}, {'0': 1853, '1': 195}, {'0': 1870, '1': 178}, {'0': 1926, '1': 122}, {'0': 1974, '1': 74}, {'0': 2006, '1': 42}, {'0': 2018, '1': 30}, {'0': 1994, '1': 54}, {'0': 1965, '1': 83}, {'0': 1870, '1': 178}, {'0': 1794, '1': 254}, {'0': 1742, '1': 306}, {'0': 1654, '1': 394}, {'0': 1614, '1': 434}, {'0': 1602, '1': 446}, {'0': 1610, '1': 438}, {'0': 1634, '1': 414}, {'0': 1710, '1': 338}, {'0': 1758, '1': 290}, {'0': 1853, '1': 195}, {'0': 1923, '1': 125}, {'0': 1990, '1': 58}, {'0': 2003, '1': 45}, {'0': 2008, '1': 40}, {'0': 1987, '1': 61}, {'0': 1933, '1': 115}, {'0': 1909, '1': 139}, {'0': 1884, '1': 164}, {'0': 1857, '1': 191}, {'0': 1827, '1': 221}, {'0': 1871, '1': 177}, {'0': 1894, '1': 154}, {'0': 1928, '1': 120}, {'0': 1974, '1': 74}, {'0': 2000, '1': 48}, {'0': 2002, '1': 46}, {'0': 2021, '1': 27}, {'0': 2010, '1': 38}, {'0': 2015, '1': 33}, {'0': 1993, '1': 55}]\n"
     ]
    }
   ],
   "source": [
    "print(results.get_counts())"
   ]
  },
  {
   "cell_type": "code",
   "execution_count": 247,
   "id": "d9811edf-3461-4ae2-aa79-2dfcacaaefa8",
   "metadata": {},
   "outputs": [
    {
     "name": "stdout",
     "output_type": "stream",
     "text": [
      "[0.02099609375, 0.0244140625, 0.015625, 0.01611328125, 0.017578125, 0.02197265625, 0.03173828125, 0.04248046875, 0.078125, 0.0947265625, 0.10400390625, 0.10546875, 0.09521484375, 0.0869140625, 0.0595703125, 0.0361328125, 0.0205078125, 0.0146484375, 0.0263671875, 0.04052734375, 0.0869140625, 0.1240234375, 0.1494140625, 0.1923828125, 0.2119140625, 0.2177734375, 0.2138671875, 0.2021484375, 0.1650390625, 0.1416015625, 0.09521484375, 0.06103515625, 0.0283203125, 0.02197265625, 0.01953125, 0.02978515625, 0.05615234375, 0.06787109375, 0.080078125, 0.09326171875, 0.10791015625, 0.08642578125, 0.0751953125, 0.05859375, 0.0361328125, 0.0234375, 0.0224609375, 0.01318359375, 0.0185546875, 0.01611328125, 0.02685546875]\n"
     ]
    }
   ],
   "source": [
    "exp_vals = []\n",
    "for counts in results.get_counts():\n",
    "    exp_val = 0\n",
    "    for k,v in counts.items():\n",
    "        if k == \"1\":\n",
    "            exp_val = v/sum(counts.values())\n",
    "    exp_vals.append(exp_val)\n",
    "print(exp_vals)"
   ]
  },
  {
   "cell_type": "code",
   "execution_count": 248,
   "id": "fa3df9e1-18e5-4ad9-9808-b80a78b4cef7",
   "metadata": {},
   "outputs": [
    {
     "name": "stdout",
     "output_type": "stream",
     "text": [
      "[5.2213588 5.2219588 5.2225588 5.2231588 5.2237588 5.2243588 5.2249588\n",
      " 5.2255588 5.2261588 5.2267588 5.2273588 5.2279588 5.2285588 5.2291588\n",
      " 5.2297588 5.2303588 5.2309588 5.2315588 5.2321588 5.2327588 5.2333588\n",
      " 5.2339588 5.2345588 5.2351588 5.2357588 5.2363588 5.2369588 5.2375588\n",
      " 5.2381588 5.2387588 5.2393588 5.2399588 5.2405588 5.2411588 5.2417588\n",
      " 5.2423588 5.2429588 5.2435588 5.2441588 5.2447588 5.2453588 5.2459588\n",
      " 5.2465588 5.2471588 5.2477588 5.2483588 5.2489588 5.2495588 5.2501588\n",
      " 5.2507588 5.2513588]\n"
     ]
    }
   ],
   "source": [
    "frequencies_GHz = frequencies*1e-9\n",
    "print(frequencies_GHz)"
   ]
  },
  {
   "cell_type": "code",
   "execution_count": 249,
   "id": "e1544c42-1999-45a5-adf0-9b78140e09b3",
   "metadata": {},
   "outputs": [
    {
     "data": {
      "image/png": "[encoded data removed]",
      "text/plain": [
       "<Figure size 432x288 with 1 Axes>"
      ]
     },
     "metadata": {
      "needs_background": "light"
     },
     "output_type": "display_data"
    }
   ],
   "source": [
    "plt.scatter(frequencies_GHz, np.real(exp_vals), color='black') # plot real part of sweep values\n",
    "plt.xlim([min(frequencies_GHz), max(frequencies_GHz)])\n",
    "plt.xlabel(\"Frequency [GHz]\")\n",
    "plt.ylabel(\"Measured signal [a.u.]\")\n",
    "plt.show()"
   ]
  },
  {
   "cell_type": "code",
   "execution_count": 255,
   "id": "e7810abf-c5f2-4e8d-bef7-9736fdd0c361",
   "metadata": {},
   "outputs": [
    {
     "name": "stdout",
     "output_type": "stream",
     "text": [
      "[[Model]]\n",
      "    Model(lorentzian)\n",
      "[[Fit Statistics]]\n",
      "    # fitting method   = leastsq\n",
      "    # function evals   = 41\n",
      "    # data points      = 51\n",
      "    # variables        = 3\n",
      "    chi-square         = 0.07321489\n",
      "    reduced chi-square = 0.00152531\n",
      "    Akaike info crit   = -327.855288\n",
      "    Bayesian info crit = -322.059811\n",
      "[[Variables]]\n",
      "    amplitude:  0.00217641 +/- 1.9988e-04 (9.18%) (init = 0.001841309)\n",
      "    center:     5.23647285 +/- 3.0382e-04 (0.01%) (init = 5.236359)\n",
      "    sigma:      0.00336175 +/- 4.3736e-04 (13.01%) (init = 0.0024)\n",
      "    fwhm:       0.00672351 +/- 8.7472e-04 (13.01%) == '2.0000000*sigma'\n",
      "    height:     0.20607510 +/- 0.01869013 (9.07%) == '0.3183099*amplitude/max(1e-15, sigma)'\n",
      "[[Correlations]] (unreported correlations are < 0.100)\n",
      "    C(amplitude, sigma) = 0.717\n"
     ]
    },
    {
     "data": {
      "image/png": "[encoded data removed]",
      "text/plain": [
       "<Figure size 432x288 with 1 Axes>"
      ]
     },
     "metadata": {
      "needs_background": "light"
     },
     "output_type": "display_data"
    }
   ],
   "source": [
    "import lmfit\n",
    "\n",
    "model = lmfit.models.LorentzianModel()\n",
    "params = model.guess(np.array(exp_vals), x=np.array(frequencies_GHz))\n",
    "\n",
    "result = model.fit(np.array(exp_vals), params, x=frequencies_GHz)\n",
    "result.plot_fit()\n",
    "print(result.fit_report())"
   ]
  },
  {
   "cell_type": "code",
   "execution_count": 259,
   "id": "70f1d59e-1fae-4b66-8682-d28a509ffc16",
   "metadata": {},
   "outputs": [
    {
     "name": "stdout",
     "output_type": "stream",
     "text": [
      "Our freq: 5.236472853419347 and reported: 5.236358802651813\n"
     ]
    }
   ],
   "source": [
    "qubit_frequency = result.params[\"center\"].value\n",
    "print(F\"Our freq: {qubit_frequency} and reported: {freq01_estimate*1e-9}\")"
   ]
  },
  {
   "cell_type": "code",
   "execution_count": 279,
   "id": "501b3ba8-ddc3-4850-888a-59c1aeeef507",
   "metadata": {},
   "outputs": [
    {
     "name": "stdout",
     "output_type": "stream",
     "text": [
      "((0, Play(Drag(duration=160, amp=(0.1985878439739215+0j), sigma=40, beta=-0.9962676126094533, name='Xp_d0'), DriveChannel(0), name='Xp_d0')),)\n"
     ]
    }
   ],
   "source": [
    "x_sched = inst_map.get(\"x\", qubit)"
   ]
  },
  {
   "cell_type": "code",
   "execution_count": 287,
   "id": "c03067b1-87bb-4cc4-80f5-51ff577841ed",
   "metadata": {},
   "outputs": [
    {
     "name": "stdout",
     "output_type": "stream",
     "text": [
      "{'duration': 160, 'sigma': 40, 'beta': -0.9962676126094533, 'frequency': 5236472853.419347}\n"
     ]
    }
   ],
   "source": [
    "drag_params = {}\n",
    "drag_params[\"duration\"] = x_sched.instructions[0][1].pulse.duration\n",
    "drag_params[\"sigma\"] = x_sched.instructions[0][1].pulse.sigma\n",
    "drag_params[\"beta\"] = x_sched.instructions[0][1].pulse.beta\n",
    "drag_params[\"frequency\"] = qubit_frequency*1.0e9\n",
    "\n",
    "print(drag_params)"
   ]
  },
  {
   "cell_type": "code",
   "execution_count": 262,
   "id": "6a413342-7cf1-484c-b3a2-ab9f0a892f9a",
   "metadata": {},
   "outputs": [
    {
     "data": {
      "image/png": "[encoded data removed]",
      "text/plain": [
       "<Figure size 936x118.8 with 1 Axes>"
      ]
     },
     "execution_count": 262,
     "metadata": {},
     "output_type": "execute_result"
    }
   ],
   "source": [
    "draw(x_sched, backend=backend)"
   ]
  },
  {
   "cell_type": "code",
   "execution_count": 263,
   "id": "4084bc07-da74-4aeb-b7a4-808b608d28ad",
   "metadata": {},
   "outputs": [],
   "source": [
    "amplitudes = np.linspace(-0.95, 0.95, 51)"
   ]
  },
  {
   "cell_type": "code",
   "execution_count": 264,
   "id": "7ce9b223-80b2-4ac9-8c6b-7e2225792d4b",
   "metadata": {},
   "outputs": [],
   "source": [
    "amp_circs = amplitude_circuits(qubit, amplitudes, drag_params, backend)"
   ]
  },
  {
   "cell_type": "code",
   "execution_count": 265,
   "id": "624fcfb0-e60c-4da7-817f-bfb556bb327a",
   "metadata": {},
   "outputs": [],
   "source": [
    "transpiled_circs = transpile(amp_circs, backend, initial_layout=[0])"
   ]
  },
  {
   "cell_type": "code",
   "execution_count": 266,
   "id": "0e526c03-313e-403a-b245-eeefd55100b1",
   "metadata": {},
   "outputs": [
    {
     "data": {
      "text/html": [
       "<pre style=\"word-wrap: normal;white-space: pre;background: #fff0;line-height: 1.1;font-family: &quot;Courier New&quot;,Courier,monospace\">               ┌─────────────────────────┐ ░ ┌─┐\n",
       "      q_0 -> 0 ┤ Amp(-0.950000000000000) ├─░─┤M├\n",
       "               └─────────────────────────┘ ░ └╥┘\n",
       "ancilla_0 -> 1 ───────────────────────────────╫─\n",
       "                                              ║ \n",
       "ancilla_1 -> 2 ───────────────────────────────╫─\n",
       "                                              ║ \n",
       "ancilla_2 -> 3 ───────────────────────────────╫─\n",
       "                                              ║ \n",
       "ancilla_3 -> 4 ───────────────────────────────╫─\n",
       "                                              ║ \n",
       "ancilla_4 -> 5 ───────────────────────────────╫─\n",
       "                                              ║ \n",
       "ancilla_5 -> 6 ───────────────────────────────╫─\n",
       "                                              ║ \n",
       "    measure: 1/═══════════════════════════════╩═\n",
       "                                              0 </pre>"
      ],
      "text/plain": [
       "               ┌─────────────────────────┐ ░ ┌─┐\n",
       "      q_0 -> 0 ┤ Amp(-0.950000000000000) ├─░─┤M├\n",
       "               └─────────────────────────┘ ░ └╥┘\n",
       "ancilla_0 -> 1 ───────────────────────────────╫─\n",
       "                                              ║ \n",
       "ancilla_1 -> 2 ───────────────────────────────╫─\n",
       "                                              ║ \n",
       "ancilla_2 -> 3 ───────────────────────────────╫─\n",
       "                                              ║ \n",
       "ancilla_3 -> 4 ───────────────────────────────╫─\n",
       "                                              ║ \n",
       "ancilla_4 -> 5 ───────────────────────────────╫─\n",
       "                                              ║ \n",
       "ancilla_5 -> 6 ───────────────────────────────╫─\n",
       "                                              ║ \n",
       "    measure: 1/═══════════════════════════════╩═\n",
       "                                              0 "
      ]
     },
     "execution_count": 266,
     "metadata": {},
     "output_type": "execute_result"
    }
   ],
   "source": [
    "transpiled_circs[0].draw()"
   ]
  },
  {
   "cell_type": "code",
   "execution_count": 267,
   "id": "6ea7d2c5-c6b1-40bd-9930-4beebac037a0",
   "metadata": {},
   "outputs": [
    {
     "data": {
      "image/png": "[encoded data removed]",
      "text/plain": [
       "<Figure size 936x237.6 with 1 Axes>"
      ]
     },
     "execution_count": 267,
     "metadata": {},
     "output_type": "execute_result"
    }
   ],
   "source": [
    "draw(schedule(transpiled_circs[50], backend), backend=backend)"
   ]
  },
  {
   "cell_type": "code",
   "execution_count": 268,
   "id": "7416c329-5948-40bc-8992-15c2aca8fe44",
   "metadata": {},
   "outputs": [
    {
     "name": "stdout",
     "output_type": "stream",
     "text": [
      "619c800853ac6c5c52d5a4c6\n"
     ]
    }
   ],
   "source": [
    "job = backend.run(transpiled_circs, job_name=\"amplitude\", shots=2048)\n",
    "job_id = job.job_id()\n",
    "print(job.job_id())"
   ]
  },
  {
   "cell_type": "code",
   "execution_count": 269,
   "id": "b6281dde-04ec-42c0-9b21-6e3981169479",
   "metadata": {},
   "outputs": [],
   "source": [
    "# 11/23/2021\n",
    "# lagos (12:34) 619c7a2768476d433a8a9304\n",
    "\n",
    "# jakarta (12:45) 619c800853ac6c5c52d5a4c6\n",
    "\n",
    "results = backend.retrieve_job(\"619c800853ac6c5c52d5a4c6\").result()"
   ]
  },
  {
   "cell_type": "code",
   "execution_count": 270,
   "id": "22c0448b-7b5f-4ede-a549-eb4b442041e9",
   "metadata": {},
   "outputs": [
    {
     "name": "stdout",
     "output_type": "stream",
     "text": [
      "[0.7041015625, 0.4267578125, 0.2001953125, 0.04541015625, 0.02197265625, 0.1328125, 0.37060546875, 0.623046875, 0.86328125, 0.9775390625, 0.91650390625, 0.744140625, 0.4580078125, 0.2197265625, 0.05126953125, 0.02490234375, 0.1865234375, 0.416015625, 0.7119140625, 0.9072265625, 0.9638671875, 0.86572265625, 0.6318359375, 0.328125, 0.1064453125, 0.01123046875, 0.09375, 0.27880859375, 0.572265625, 0.82470703125, 0.96435546875, 0.91650390625, 0.734375, 0.455078125, 0.2099609375, 0.0419921875, 0.02978515625, 0.16845703125, 0.4375, 0.70849609375, 0.9033203125, 0.96533203125, 0.87353515625, 0.6796875, 0.431640625, 0.16845703125, 0.03125, 0.03271484375, 0.1923828125, 0.40087890625, 0.66455078125]\n"
     ]
    }
   ],
   "source": [
    "exp_vals = []\n",
    "for counts in results.get_counts():\n",
    "    exp_val = 0\n",
    "    for k,v in counts.items():\n",
    "        if k == \"1\":\n",
    "            exp_val = v/sum(counts.values())\n",
    "    exp_vals.append(exp_val)\n",
    "print(exp_vals)"
   ]
  },
  {
   "cell_type": "code",
   "execution_count": 272,
   "id": "120c111c-4fe7-496a-a30f-ee75f81ca633",
   "metadata": {},
   "outputs": [
    {
     "data": {
      "image/png": "[encoded data removed]",
      "text/plain": [
       "<Figure size 432x288 with 1 Axes>"
      ]
     },
     "metadata": {
      "needs_background": "light"
     },
     "output_type": "display_data"
    }
   ],
   "source": [
    "plt.scatter(amplitudes, np.real(exp_vals), color='black') # plot real part of sweep values\n",
    "plt.xlim([min(amplitudes), max(amplitudes)])\n",
    "plt.xlabel(\"Amplitude\")\n",
    "plt.ylabel(\"Measured signal [a.u.]\")\n",
    "plt.show()"
   ]
  },
  {
   "cell_type": "code",
   "execution_count": 284,
   "id": "eed4e447-f494-4c29-a4d5-ca68b3988574",
   "metadata": {},
   "outputs": [
    {
     "data": {
      "image/png": "[encoded data removed]",
      "text/plain": [
       "<Figure size 432x288 with 1 Axes>"
      ]
     },
     "metadata": {
      "needs_background": "light"
     },
     "output_type": "display_data"
    }
   ],
   "source": [
    "from scipy.optimize import curve_fit\n",
    "\n",
    "def fit_function(x_values, y_values, function, init_params):\n",
    "    fitparams, conv = curve_fit(function, x_values, y_values, init_params)\n",
    "    y_fit = function(x_values, *fitparams)\n",
    "    \n",
    "    return fitparams, y_fit\n",
    "\n",
    "\n",
    "fit_params, y_fit = fit_function(amplitudes,\n",
    "                                 exp_vals, \n",
    "                                 lambda x, A, B, drive_period, phi: (A*np.cos(2*np.pi*x/drive_period - phi) + B),\n",
    "                                 [3, 0.1, 0.5, 0])\n",
    "\n",
    "plt.scatter(amplitudes, exp_vals, color='black')\n",
    "plt.plot(amplitudes, y_fit, color='red')\n",
    "\n",
    "drive_period = fit_params[2] # get period of rabi oscillation\n",
    "\n",
    "plt.axvline(drive_period/2, color='red', linestyle='--')\n",
    "plt.axvline(drive_period, color='red', linestyle='--')\n",
    "plt.annotate(\"\", xy=(drive_period, 0), xytext=(drive_period/2,0), arrowprops=dict(arrowstyle=\"<->\", color='red'))\n",
    "plt.annotate(\"$\\pi$\", xy=(drive_period/2-0.03, 0.1), color='red')\n",
    "\n",
    "plt.xlabel(\"Drive amp [a.u.]\", fontsize=15)\n",
    "plt.ylabel(\"Measured signal [a.u.]\", fontsize=15)\n",
    "plt.show()"
   ]
  },
  {
   "cell_type": "code",
   "execution_count": 282,
   "id": "f20f04da-1c21-47d8-b0e6-21a31d198462",
   "metadata": {},
   "outputs": [
    {
     "name": "stdout",
     "output_type": "stream",
     "text": [
      "Our Pi amplitude = (0.20274691558254032+0j) and reported: (0.1985878439739215+0j)\n"
     ]
    }
   ],
   "source": [
    "pi_amp = abs(drive_period / 2)\n",
    "print(f\"Our Pi amplitude = {pi_amp+0j} and reported: {x_sched.instructions[0][1].pulse.amp}\")"
   ]
  },
  {
   "cell_type": "code",
   "execution_count": 290,
   "id": "6050bd48-5760-4063-b468-ca9dc40be571",
   "metadata": {},
   "outputs": [
    {
     "name": "stdout",
     "output_type": "stream",
     "text": [
      "{'duration': 160, 'sigma': 40, 'beta': -0.9962676126094533, 'frequency': 5236472853.419347, 'amplitude': (0.20274691558254032+0j)}\n"
     ]
    }
   ],
   "source": [
    "drag_params[\"amplitude\"] = pi_amp+0j\n",
    "print(drag_params)"
   ]
  },
  {
   "cell_type": "code",
   "execution_count": 361,
   "id": "e1367dde-1c27-4737-b0a5-0c0f2f7d3159",
   "metadata": {},
   "outputs": [
    {
     "data": {
      "text/html": [
       "<pre style=\"word-wrap: normal;white-space: pre;background: #fff0;line-height: 1.1;font-family: &quot;Courier New&quot;,Courier,monospace\">           ┌──────────┐      ░ ┌─┐   \n",
       "      q_0: ┤ Custom_x ├──■───░─┤M├───\n",
       "           └──────────┘┌─┴─┐ ░ └╥┘┌─┐\n",
       "  q6798_0: ────────────┤ X ├─░──╫─┤M├\n",
       "                       └───┘ ░  ║ └╥┘\n",
       "measure: 2/═════════════════════╩══╩═\n",
       "                                0  1 </pre>"
      ],
      "text/plain": [
       "           ┌──────────┐      ░ ┌─┐   \n",
       "      q_0: ┤ Custom_x ├──■───░─┤M├───\n",
       "           └──────────┘┌─┴─┐ ░ └╥┘┌─┐\n",
       "  q6798_0: ────────────┤ X ├─░──╫─┤M├\n",
       "                       └───┘ ░  ║ └╥┘\n",
       "measure: 2/═════════════════════╩══╩═\n",
       "                                0  1 "
      ]
     },
     "execution_count": 361,
     "metadata": {},
     "output_type": "execute_result"
    }
   ],
   "source": [
    "from qiskit.circuit.library import CXGate\n",
    "from qiskit.circuit import Qubit, QuantumRegister\n",
    "x_circs = x_gate_circuits(qubit, drag_params, backend)\n",
    "qreg = QuantumRegister(1)\n",
    "x_circs.add_register(qreg)\n",
    "# x_circs.add_bits([Qubit(qreg, 1)])\n",
    "\n",
    "x_circs.append(CXGate(), [0,1])\n",
    "x_circs.measure_active()\n",
    "x_circs.draw()\n",
    "\n",
    "# custom_x_sched = schedule(tc_x, backend)"
   ]
  },
  {
   "cell_type": "code",
   "execution_count": 364,
   "id": "4e7437d9-00a9-4a39-9f52-989ee9248a69",
   "metadata": {},
   "outputs": [
    {
     "data": {
      "text/html": [
       "<pre style=\"word-wrap: normal;white-space: pre;background: #fff0;line-height: 1.1;font-family: &quot;Courier New&quot;,Courier,monospace\">               ┌──────────┐      ░ ┌─┐   \n",
       "      q_0 -> 0 ┤ Custom_x ├──■───░─┤M├───\n",
       "               └──────────┘┌─┴─┐ ░ └╥┘┌─┐\n",
       "  q6798_0 -> 1 ────────────┤ X ├─░──╫─┤M├\n",
       "                           └───┘ ░  ║ └╥┘\n",
       "ancilla_0 -> 2 ─────────────────────╫──╫─\n",
       "                                    ║  ║ \n",
       "ancilla_1 -> 3 ─────────────────────╫──╫─\n",
       "                                    ║  ║ \n",
       "ancilla_2 -> 4 ─────────────────────╫──╫─\n",
       "                                    ║  ║ \n",
       "ancilla_3 -> 5 ─────────────────────╫──╫─\n",
       "                                    ║  ║ \n",
       "ancilla_4 -> 6 ─────────────────────╫──╫─\n",
       "                                    ║  ║ \n",
       "    measure: 2/═════════════════════╩══╩═\n",
       "                                    0  1 </pre>"
      ],
      "text/plain": [
       "               ┌──────────┐      ░ ┌─┐   \n",
       "      q_0 -> 0 ┤ Custom_x ├──■───░─┤M├───\n",
       "               └──────────┘┌─┴─┐ ░ └╥┘┌─┐\n",
       "  q6798_0 -> 1 ────────────┤ X ├─░──╫─┤M├\n",
       "                           └───┘ ░  ║ └╥┘\n",
       "ancilla_0 -> 2 ─────────────────────╫──╫─\n",
       "                                    ║  ║ \n",
       "ancilla_1 -> 3 ─────────────────────╫──╫─\n",
       "                                    ║  ║ \n",
       "ancilla_2 -> 4 ─────────────────────╫──╫─\n",
       "                                    ║  ║ \n",
       "ancilla_3 -> 5 ─────────────────────╫──╫─\n",
       "                                    ║  ║ \n",
       "ancilla_4 -> 6 ─────────────────────╫──╫─\n",
       "                                    ║  ║ \n",
       "    measure: 2/═════════════════════╩══╩═\n",
       "                                    0  1 "
      ]
     },
     "execution_count": 364,
     "metadata": {},
     "output_type": "execute_result"
    }
   ],
   "source": [
    "transpiled_test = transpile(x_circs, backend)\n",
    "transpiled_test.draw()"
   ]
  },
  {
   "cell_type": "code",
   "execution_count": 369,
   "id": "6b7bdf82-35a3-4120-b9ef-e20cbacb4f09",
   "metadata": {},
   "outputs": [
    {
     "name": "stdout",
     "output_type": "stream",
     "text": [
      "619c8c1953ac6c1c6bd5a514\n"
     ]
    }
   ],
   "source": [
    "job = backend.run(x_circs, job_name=\"simple_cnot\", shots=2048)\n",
    "job_id = job.job_id()\n",
    "print(job.job_id())"
   ]
  },
  {
   "cell_type": "code",
   "execution_count": 3,
   "id": "abc67556-d775-43c6-a473-c8be04ce71d8",
   "metadata": {},
   "outputs": [],
   "source": [
    "from qiskit.visualization import plot_histogram\n",
    "\n",
    "#simple cnot experiment\n",
    "# jakarta (1:33) 619c8acd53ac6c6f7dd5a511\n",
    "\n",
    "results = backend.retrieve_job(\"619c8c1953ac6c1c6bd5a514\").result()\n",
    "# counts = results.get_counts()\n",
    "# plot_histogram(counts)"
   ]
  },
  {
   "cell_type": "code",
   "execution_count": 5,
   "id": "7165728f-682e-4a84-a146-b4de64633aa6",
   "metadata": {},
   "outputs": [
    {
     "name": "stdout",
     "output_type": "stream",
     "text": [
      "{'00': 12, '01': 107, '10': 64, '11': 1865}\n"
     ]
    }
   ],
   "source": [
    "print(results.get_counts())"
   ]
  },
  {
   "cell_type": "code",
   "execution_count": 6,
   "id": "307aa44c-6e04-479d-98a9-efb17b08efd6",
   "metadata": {},
   "outputs": [
    {
     "data": {
      "image/png": "[encoded data removed]",
      "text/plain": [
       "<Figure size 504x360 with 1 Axes>"
      ]
     },
     "execution_count": 6,
     "metadata": {},
     "output_type": "execute_result"
    }
   ],
   "source": [
    "plot_histogram(results.get_counts())"
   ]
  },
  {
   "cell_type": "code",
   "execution_count": null,
   "id": "d1189864-b3ec-4276-9cd1-c8fc27348a4e",
   "metadata": {},
   "outputs": [],
   "source": []
  }
 ],
 "metadata": {
  "kernelspec": {
   "display_name": "Python 3",
   "language": "python",
   "name": "python3"
  },
  "language_info": {
   "codemirror_mode": {
    "name": "ipython",
    "version": 3
   },
   "file_extension": ".py",
   "mimetype": "text/x-python",
   "name": "python",
   "nbconvert_exporter": "python",
   "pygments_lexer": "ipython3",
   "version": "3.8.8"
  }
 },
 "nbformat": 4,
 "nbformat_minor": 5
}
