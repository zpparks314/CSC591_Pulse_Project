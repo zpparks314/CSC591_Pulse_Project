{
 "cells": [
  {
   "cell_type": "code",
   "execution_count": 1,
   "id": "9ccd8b6c-7644-4d9f-92ef-35b8dd01d5c7",
   "metadata": {},
   "outputs": [],
   "source": [
    "from qiskit import pulse, circuit, transpile, assemble, schedule, IBMQ, QuantumCircuit, quantum_info as qi \n",
    "import qiskit\n",
    "from qiskit.visualization import plot_gate_map, plot_error_map\n",
    "from qiskit.visualization.pulse_v2 import draw\n",
    "from qiskit.pulse import ShiftPhase, GaussianSquare, Drag, ControlChannel, MeasureChannel, DriveChannel, Play, Schedule\n",
    "import numpy as np\n",
    "from qiskit.tools import job_monitor\n",
    "from copy import deepcopy\n",
    "import scipy.optimize as opt\n",
    "import matplotlib.pyplot as plt"
   ]
  },
  {
   "cell_type": "code",
   "execution_count": 64,
   "id": "9766178c-d28c-4b95-950e-31c97debb942",
   "metadata": {},
   "outputs": [
    {
     "name": "stderr",
     "output_type": "stream",
     "text": [
      "ibmqfactory.load_account:WARNING:2021-12-01 14:15:09,878: Credentials are already in use. The existing account in the session will be replaced.\n"
     ]
    }
   ],
   "source": [
    "account_provider = IBMQ.load_account()\n",
    "provider_opts = {'hub': 'ibm-q-ncsu', 'group': 'nc-state', 'project':'noiseanderror'}\n",
    "\n",
    "# target backend\n",
    "backend_name = 'ibmq_jakarta'\n",
    "\n",
    "provider = IBMQ.get_provider(**provider_opts)\n",
    "backend = provider.get_backend(backend_name)\n",
    "\n",
    "# backend information\n",
    "config = backend.configuration()\n",
    "defaults = backend.defaults()\n",
    "properties = backend.properties()\n",
    "\n",
    "# instruction schedule map\n",
    "inst_map = defaults.instruction_schedule_map"
   ]
  },
  {
   "cell_type": "code",
   "execution_count": 3,
   "id": "9e116a5c-0efb-4371-ba6a-d480ac8d1e15",
   "metadata": {},
   "outputs": [
    {
     "data": {
      "image/png": "[encoded data removed]",
      "text/plain": [
       "<Figure size 360x360 with 1 Axes>"
      ]
     },
     "execution_count": 3,
     "metadata": {},
     "output_type": "execute_result"
    }
   ],
   "source": [
    "qubits = plot_gate_map(backend)\n",
    "qubits"
   ]
  },
  {
   "cell_type": "code",
   "execution_count": 4,
   "id": "c600efee-9bc0-49e6-a898-7da4314173a4",
   "metadata": {},
   "outputs": [],
   "source": [
    "def extract_cr_params(cx_sched):\n",
    "    cr_params = {}\n",
    "    for time, inst in cx_sched.instructions:\n",
    "        if isinstance(inst, Play):\n",
    "            if isinstance(inst.pulse, GaussianSquare):\n",
    "                if isinstance(inst.operands[1], ControlChannel):\n",
    "                    cr_params[\"duration\"] = inst.pulse.duration\n",
    "                    cr_params[\"width\"] = inst.pulse.width\n",
    "                    cr_params[\"sigma\"] = inst.pulse.sigma\n",
    "                    cr_params[\"cr_amp\"] = inst.pulse.amp\n",
    "                    cr_params[\"channel\"] = inst.channel\n",
    "    return cr_params\n",
    "                    \n",
    "\n",
    "def build_cr_schedule(backend, qc, qt, cr_params, cr_name):\n",
    "    \n",
    "    with pulse.build(backend=backend, default_alignment=\"left\", name=\"cr_schedule\") as cross_resonance:\n",
    "        pulse.play(GaussianSquare(\n",
    "            duration=cr_params[\"duration\"],\n",
    "            amp=cr_params[\"cr_amp\"],\n",
    "            width=cr_params[\"width\"],\n",
    "            sigma=cr_params[\"sigma\"],\n",
    "            name=cr_name\n",
    "        ),\n",
    "        pulse.control_channels(qc, qt)[0],\n",
    "    )\n",
    "        if not np.isclose(cr_params[\"cancel_amp\"], 0.0):\n",
    "            pulse.play(GaussianSquare(\n",
    "                duration=cr_params[\"duration\"],\n",
    "                amp=cr_params[\"cancel_amp\"],\n",
    "                width=cr_params[\"width\"],\n",
    "                sigma=cr_params[\"sigma\"],\n",
    "        ),\n",
    "        pulse.drive_channel(qt),\n",
    "    )\n",
    "        else:\n",
    "            pulse.delay(cr_params[\"duration\"], pulse.drive_channel(qt))\n",
    "        pulse.delay(cr_params[\"duration\"], pulse.drive_channel(qc))\n",
    "        \n",
    "    return cross_resonance\n",
    "\n",
    "def build_cr_circuit(gate):\n",
    "    \n",
    "    cr_circuit = QuantumCircuit(2)\n",
    "    cr_circuit.append(gate, [0, 1])\n",
    "\n",
    "    \n",
    "    return cr_circuit\n",
    "\n",
    "def build_amp_experiment_circuits(backend, qc, qt, amps, cr_params, rotary=False):\n",
    "    \n",
    "    circ_list = []\n",
    "    \n",
    "    inst_map_list = []\n",
    "    for amplitude in amps:\n",
    "        \n",
    "        new_inst_map = deepcopy(inst_map)\n",
    "    \n",
    "\n",
    "        cr_p_gate = circuit.Gate(\n",
    "            \"cr_p_gate\",\n",
    "            num_qubits=2,\n",
    "            params=[amplitude],\n",
    "        )\n",
    "        \n",
    "        \n",
    "        cr_m_gate = circuit.Gate(\n",
    "            \"cr_m_gate\",\n",
    "            num_qubits=2,\n",
    "            params=[-amplitude],\n",
    "        )\n",
    "        \n",
    "        exp_circ = QuantumCircuit(2)\n",
    "\n",
    "        ## add control state prep when needed\n",
    "        \n",
    "        \n",
    "        exp_circ.rz(-np.pi/2, 0)\n",
    "        exp_circ.x(0)\n",
    "        exp_circ.compose(other=build_cr_circuit(cr_p_gate), qubits=[0, 1], inplace=True)\n",
    "        exp_circ.x(0)\n",
    "        exp_circ.compose(other=build_cr_circuit(cr_m_gate), qubits=[0, 1], inplace=True)\n",
    "#         exp_circ.x(0)\n",
    "        \n",
    "        exp_circ.metadata={\n",
    "            \"qubits\": (qc, qt)\n",
    "        }\n",
    "\n",
    "        if rotary is True:\n",
    "            cr_params['cancel_amp'] = amplitude\n",
    "            \n",
    "        cr_params[\"phi\"] = 0\n",
    "        cr_params['cr_amp'] = amplitude * np.exp(-1j*cr_params[\"phi\"])\n",
    "#         print(cr_params[\"cr_amp\"], cr_params['phi'])\n",
    "        exp_circ.add_calibration(gate=cr_p_gate,\n",
    "                                qubits=[qc,qt],\n",
    "                                schedule=build_cr_schedule(backend, qc, qt, cr_params, cr_name=\"cr_p\"))\n",
    "        \n",
    "        cr_params['phi'] = cr_params['phi'] + np.pi\n",
    "        cr_params['cr_amp'] = amplitude * np.exp(-1j*cr_params[\"phi\"])\n",
    "#         print(cr_params[\"cr_amp\"], cr_params['phi'])\n",
    "        exp_circ.add_calibration(gate=cr_m_gate,\n",
    "                                qubits=[qc,qt],\n",
    "                                schedule=build_cr_schedule(backend, qc, qt, cr_params, cr_name=\"cr_m\"))\n",
    "        exp_circ.measure_active()\n",
    "        \n",
    "#         new_inst_map.add('cr_gate', qubits=[qc, qt], schedule=build_cr_schedule(backend, qc, qt, cr_params))\n",
    "        \n",
    "        circ_list.append(exp_circ)\n",
    "        inst_map_list.append(new_inst_map)\n",
    "    return circ_list, inst_map_list\n",
    "\n",
    "def build_phase_experiment_circuits(backend, qc, qt, phases, cr_params, rotary=False):\n",
    "    \n",
    "    circ_list = []\n",
    "    inst_map_list = []\n",
    "    amp = cr_params['cr_amp']\n",
    "    for phase in phases:\n",
    "        new_inst_map = deepcopy(inst_map)\n",
    "    \n",
    "        cr_p_gate = circuit.Gate(\n",
    "            \"cr_p_gate\",\n",
    "            num_qubits=2,\n",
    "            params=[phase],\n",
    "        )\n",
    "        \n",
    "        cr_m_gate = circuit.Gate(\n",
    "            \"cr_m_gate\",\n",
    "            num_qubits=2,\n",
    "            params=[phase],\n",
    "        )\n",
    "        exp_circ = QuantumCircuit(2)\n",
    "        exp_circ.rz(-np.pi/2, 0)\n",
    "        exp_circ.x(0)\n",
    "        exp_circ.compose(other=build_cr_circuit(cr_p_gate), qubits=[0, 1], inplace=True)\n",
    "        exp_circ.x(0)\n",
    "        exp_circ.compose(other=build_cr_circuit(cr_m_gate), qubits=[0, 1], inplace=True)\n",
    "        exp_circ.barrier(0, 1)\n",
    "        exp_circ.sdg(1)\n",
    "        exp_circ.h(1)\n",
    "        \n",
    "        \n",
    "        exp_circ.metadata={\n",
    "            \"qubits\": (qc, qt)\n",
    "        }\n",
    "        \n",
    "        if rotary is True:\n",
    "            cr_params['cancel_amp'] = cr_params[\"cr_amp\"]\n",
    "        \n",
    "        cr_params['cr_amp'] = amp * np.exp(-1j*phase)\n",
    "#         print(cr_params['cr_amp'])\n",
    "        exp_circ.add_calibration(gate=cr_p_gate,\n",
    "                                qubits=[qc,qt],\n",
    "                                schedule=build_cr_schedule(backend, qc, qt, cr_params, cr_name=\"cr_p\"))\n",
    "\n",
    "        phase = phase + np.pi\n",
    "        cr_params['cr_amp'] = amp * np.exp(-1j*phase)\n",
    "#         print(cr_params['cr_amp'])\n",
    "        exp_circ.add_calibration(gate=cr_m_gate,\n",
    "                                qubits=[qc,qt],\n",
    "                                schedule=build_cr_schedule(backend, qc, qt, cr_params, cr_name=\"cr_m\"))\n",
    "        exp_circ.measure_active()\n",
    "        \n",
    "        circ_list.append(exp_circ)\n",
    "        inst_map_list.append(new_inst_map)\n",
    "        \n",
    "    return circ_list, inst_map_list\n",
    "\n",
    "def build_single_cr_circuit(backend, qc, qt, cr_params, rotary=False):\n",
    "    amp = cr_params['cr_amp']\n",
    "    cr_p_gate = circuit.Gate(\n",
    "            \"cr_p_gate\",\n",
    "            num_qubits=2,\n",
    "            params=[cr_params[\"cr_amp\"], cr_params[\"phase\"]],\n",
    "        )\n",
    "        \n",
    "    cr_m_gate = circuit.Gate(\n",
    "            \"cr_m_gate\",\n",
    "            num_qubits=2,\n",
    "            params=[cr_params[\"cr_amp\"], cr_params[\"phase\"]],\n",
    "        )\n",
    "    exp_circ = QuantumCircuit(2)\n",
    "\n",
    "        \n",
    "    exp_circ.rz(-np.pi/2, 0)\n",
    "    exp_circ.x(0)\n",
    "    exp_circ.compose(other=build_cr_circuit(cr_p_gate), qubits=[0, 1], inplace=True)\n",
    "    exp_circ.x(0)\n",
    "    exp_circ.compose(other=build_cr_circuit(cr_m_gate), qubits=[0, 1], inplace=True)\n",
    "    \n",
    "    exp_circ.metadata={\n",
    "        \"qubits\": (qc, qt)\n",
    "    }\n",
    "\n",
    "    if rotary is True:\n",
    "        cr_params['cancel_amp'] = amplitude\n",
    "        \n",
    "    cr_params['cr_amp'] = amp * np.exp(-1j*cr_params[\"phase\"])\n",
    "    exp_circ.add_calibration(gate=cr_p_gate,\n",
    "                            qubits=[qc,qt],\n",
    "                            schedule=build_cr_schedule(backend, qc, qt, cr_params, cr_name=\"cr_p\"))\n",
    "\n",
    "    cr_params['cr_amp'] = amp * np.exp(-1j*(cr_params[\"phase\"]+np.pi))\n",
    "    exp_circ.add_calibration(gate=cr_m_gate,\n",
    "                            qubits=[qc,qt],\n",
    "                            schedule=build_cr_schedule(backend, qc, qt, cr_params, cr_name=\"cr_m\"))  \n",
    "    \n",
    "    return exp_circ\n",
    "    \n",
    "        \n",
    "def expectation_val(count_dict, mem_ind):\n",
    "\n",
    "    expv = 0\n",
    "    for key, val in count_dict.items():\n",
    "        if key[::-1][mem_ind] == '1':\n",
    "#             print(key, val)\n",
    "            expv -= val\n",
    "        else:\n",
    "            expv += val\n",
    "#     print(expv)\n",
    "    return expv / sum(count_dict.values())"
   ]
  },
  {
   "cell_type": "code",
   "execution_count": 5,
   "id": "d387a720-f95a-456b-938e-4d84298e17d4",
   "metadata": {},
   "outputs": [],
   "source": [
    "q1, q2 = 0, 1\n",
    "mem_ind = 0 if q1 > q2 else 1"
   ]
  },
  {
   "cell_type": "markdown",
   "id": "11724243-e7a5-482e-9982-7602a327bdff",
   "metadata": {},
   "source": [
    "# IBM's cross resonance gate\n",
    "This is what IBM's cross-resonance gate looks like - extracted from the CX pulse schedule, and with the rotary tones not shown."
   ]
  },
  {
   "cell_type": "code",
   "execution_count": 6,
   "id": "4c89002a-419f-41e5-8cde-5f2f0c38cf85",
   "metadata": {},
   "outputs": [],
   "source": [
    "cx_sched = inst_map.get('cx', qubits=[q1, q2])\n",
    "cx_sched_fig = draw(cx_sched, backend=backend)\n",
    "cx_sched_fig.savefig(\"ibm_cx\")"
   ]
  },
  {
   "cell_type": "code",
   "execution_count": 7,
   "id": "03547cc2-24e0-4072-aae9-dcf6951711e6",
   "metadata": {},
   "outputs": [
    {
     "name": "stdout",
     "output_type": "stream",
     "text": [
      "ShiftPhase(1.5707963267948966, DriveChannel(0))\n",
      "ShiftPhase(1.5707963267948966, ControlChannel(1))\n",
      "Play(Drag(duration=160, amp=(-3.647066355955947e-17-0.19853704532034197j), sigma=40, beta=-0.9740804109491876, name='Ym_d0'), DriveChannel(0), name='Ym_d0')\n",
      "Play(Drag(duration=160, amp=(0.09608240812566482+0.0019772615602782627j), sigma=40, beta=-1.0576421988625249, name='X90p_d1'), DriveChannel(1), name='X90p_d1')\n",
      "Play(GaussianSquare(duration=368, amp=(0.11222816406675254+0.002379409800750389j), sigma=64, width=112, name='CR90p_d1_u0'), DriveChannel(1), name='CR90p_d1_u0')\n",
      "Play(GaussianSquare(duration=368, amp=(-0.007286752801461287-0.7569497016553327j), sigma=64, width=112, name='CR90p_u0'), ControlChannel(0), name='CR90p_u0')\n",
      "Play(Drag(duration=160, amp=(0.19853704532034197+0j), sigma=40, beta=-0.9740804109491876, name='Xp_d0'), DriveChannel(0), name='Xp_d0')\n",
      "Play(GaussianSquare(duration=368, amp=(-0.11222816406675254-0.002379409800750375j), sigma=64, width=112, name='CR90m_d1_u0'), DriveChannel(1), name='CR90m_d1_u0')\n",
      "Play(GaussianSquare(duration=368, amp=(0.0072867528014613795+0.7569497016553327j), sigma=64, width=112, name='CR90m_u0'), ControlChannel(0), name='CR90m_u0')\n"
     ]
    }
   ],
   "source": [
    "insts = []\n",
    "for time, inst in cx_sched.instructions:\n",
    "    print(inst)\n",
    "    if isinstance(inst, ShiftPhase):\n",
    "        insts.append(inst)\n",
    "        continue\n",
    "    if isinstance(inst.pulse, Drag):\n",
    "        if inst.channel == DriveChannel(1):\n",
    "            continue\n",
    "    insts.append((time,inst))"
   ]
  },
  {
   "cell_type": "code",
   "execution_count": 8,
   "id": "7a5f735b-bb56-46db-aef7-9be0a052f9c4",
   "metadata": {},
   "outputs": [],
   "source": [
    "ibm_cr_sched = Schedule()\n",
    "for inst in insts:\n",
    "    if isinstance(inst, ShiftPhase):\n",
    "        ibm_cr_sched.insert(0, inst, inplace=True)\n",
    "        continue\n",
    "#     print(inst)\n",
    "    ibm_cr_sched.insert(inst[0], inst[1], inplace=True)\n",
    "        "
   ]
  },
  {
   "cell_type": "code",
   "execution_count": 9,
   "id": "43576839-2293-44d2-9fab-f2d924899c0b",
   "metadata": {},
   "outputs": [],
   "source": [
    "ibm_cr_fig = draw(ibm_cr_sched, backend=backend)\n",
    "ibm_cr_fig.savefig(\"ibm_cr_sched\")"
   ]
  },
  {
   "cell_type": "code",
   "execution_count": 10,
   "id": "c77a1d8e-b5f8-4797-b805-ef9274677193",
   "metadata": {},
   "outputs": [],
   "source": [
    "cr_params = extract_cr_params(cx_sched)\n",
    "cr_params[\"cancel_amp\"] = 0.0\n",
    "cr_params[\"phi\"] = 0\n",
    "# print(cr_params)\n",
    "\n",
    "max_cr_amplitude = 1.0\n",
    "num_amps = 70\n",
    "cr_amps = np.linspace(-max_cr_amplitude, max_cr_amplitude, num_amps)\n",
    "# print(cr_amps)"
   ]
  },
  {
   "cell_type": "code",
   "execution_count": 11,
   "id": "65d367a4-cc53-43c9-b099-d85a34c3340c",
   "metadata": {},
   "outputs": [],
   "source": [
    "exp_circuits, exp_inst_maps = build_amp_experiment_circuits(backend, q1, q2, cr_amps, cr_params)\n",
    "# exp_circuits[19].draw()"
   ]
  },
  {
   "cell_type": "code",
   "execution_count": 12,
   "id": "29c9af88-163c-4ba5-8022-57d5874b7c6d",
   "metadata": {},
   "outputs": [
    {
     "data": {
      "image/png": "[encoded data removed]",
      "text/plain": [
       "<Figure size 936x334.8 with 1 Axes>"
      ]
     },
     "execution_count": 12,
     "metadata": {},
     "output_type": "execute_result"
    }
   ],
   "source": [
    "tc = transpile(exp_circuits, backend, initial_layout=[q1, q2])\n",
    "sched = schedule(tc, backend)\n",
    "# for time, inst in sched[4].instructions:\n",
    "#     print(inst)\n",
    "sched[0].draw(time_range=[0, 1200], disable_channels=[MeasureChannel(q1), MeasureChannel(q2)])"
   ]
  },
  {
   "cell_type": "code",
   "execution_count": 14,
   "id": "995634b1-3a3e-4a27-a9cd-59d80f8a8418",
   "metadata": {},
   "outputs": [],
   "source": [
    "# tc[0].draw('mpl')"
   ]
  },
  {
   "cell_type": "code",
   "execution_count": 15,
   "id": "ae36c11a-2909-4568-b501-6ad41ecba9bf",
   "metadata": {},
   "outputs": [],
   "source": [
    "# draw(sched[4], backend=backend, time_range=[0, 1000], disable_channels=[MeasureChannel(q1), MeasureChannel(q2)])"
   ]
  },
  {
   "cell_type": "code",
   "execution_count": 13,
   "id": "079a5ddd-3207-4ce6-a734-451d1bbbb606",
   "metadata": {},
   "outputs": [],
   "source": [
    "i = 1\n",
    "identifier = F\"(({max_cr_amplitude}),{num_amps})\""
   ]
  },
  {
   "cell_type": "code",
   "execution_count": 14,
   "id": "f97c7853-fb1f-4bb2-b7e2-e89d1628331b",
   "metadata": {},
   "outputs": [
    {
     "name": "stdout",
     "output_type": "stream",
     "text": [
      "61a7af64fd929e5d62d188c1\n"
     ]
    }
   ],
   "source": [
    "job = backend.run(tc, job_name=F\"cr_amp_exp_{identifier}\", shots=2048)\n",
    "job_id = job.job_id()\n",
    "print(job.job_id())"
   ]
  },
  {
   "cell_type": "code",
   "execution_count": 15,
   "id": "fe7bef43-9766-4951-82fa-0020aeb1c5a7",
   "metadata": {},
   "outputs": [],
   "source": [
    "# 11/8/2021 - amplitude experiments\n",
    "# ibm_lagos job (9:45~ am) - 6189380f1452777724117b88\n",
    "# ibmq_jakarta job (10:00~ am) - 61893b88902694642fd98881\n",
    "# ibmq_jakarta (10:30~ am) - 6189411bc45f2664c31517c5\n",
    "# ibmq_jakarta (10:51~ am) - 61894761ad7fa029bcd1440f * best results so far (sweeping from (-1.0, 1.0, 70))\n",
    "# ibmq_jakarta (11:23~ am) - 61894f14ad7fa0ed2ad14439\n",
    "# ibmq_jakarta (12:47 pm) - 618962b8ce94116c106c071e (-1.0, 1.0, 70) - CRgate looks more like ibm\n",
    "# ibmq_montreal (11:18~ am) - 61894de8c45f2661c61517fb\n",
    "# ibmq_toronto (11:27~ am) - 61894fdab3f4906ac760bf9e\n",
    "# ibmq_toronto (11:33~ am) - 61895180145277452e117c10\n",
    "\n",
    "# 11/9/2021 - amplitude experiments\n",
    "# ibmq_jakarta (10:33~ am) - 618a94942bf2b36efea11649 (-1.0, 1.0, 70)\n",
    "\n",
    "#11/20/2021 - AMPL\n",
    "#IBMQ_JAKARTA (9:12~ AM) - 61990220580e751b2414e77e\n",
    "# jakarta - 61996d7e1db79fb3a6da3065\n",
    "\n",
    "# 11/10/2021 - amplitude experiments\n",
    "# jakarta (12:40~ pm) - 618c03d7513c76539a62fee6\n",
    "# job_id = \"618962b8ce94116c106c071e\"\n",
    "\n",
    "# 12/1/2021\n",
    "# jakarta 61a7af64fd929e5d62d188c1\n",
    "results = backend.retrieve_job(job_id).result()\n"
   ]
  },
  {
   "cell_type": "code",
   "execution_count": 16,
   "id": "d6f800ed-cda3-400d-b82f-ba0cf494d168",
   "metadata": {},
   "outputs": [
    {
     "name": "stdout",
     "output_type": "stream",
     "text": [
      "[{'00': 828, '01': 18, '10': 1187, '11': 15}, {'00': 776, '01': 11, '10': 1244, '11': 17}, {'00': 782, '01': 15, '10': 1230, '11': 21}, {'00': 839, '01': 14, '10': 1188, '11': 7}, {'00': 863, '01': 27, '10': 1140, '11': 18}, {'00': 943, '01': 20, '10': 1078, '11': 7}, {'00': 950, '01': 17, '10': 1074, '11': 7}, {'00': 989, '01': 13, '10': 1035, '11': 11}, {'00': 1000, '01': 24, '10': 1012, '11': 12}, {'00': 1101, '01': 20, '10': 915, '11': 12}, {'00': 1097, '01': 18, '10': 919, '11': 14}, {'00': 1174, '01': 19, '10': 838, '11': 17}, {'00': 1141, '01': 17, '10': 878, '11': 12}, {'00': 1212, '01': 8, '10': 821, '11': 7}, {'00': 1265, '01': 22, '10': 749, '11': 12}, {'00': 1308, '01': 29, '10': 704, '11': 7}, {'00': 1387, '01': 22, '10': 630, '11': 9}, {'00': 1419, '01': 15, '10': 611, '11': 3}, {'00': 1444, '01': 27, '10': 573, '11': 4}, {'00': 1500, '01': 23, '10': 520, '11': 5}, {'00': 1557, '01': 22, '10': 460, '11': 9}, {'00': 1607, '01': 17, '10': 418, '11': 6}, {'00': 1628, '01': 27, '10': 389, '11': 4}, {'00': 1712, '01': 12, '10': 318, '11': 6}, {'00': 1727, '01': 23, '10': 292, '11': 6}, {'00': 1782, '01': 21, '10': 243, '11': 2}, {'00': 1818, '01': 20, '10': 208, '11': 2}, {'00': 1850, '01': 23, '10': 173, '11': 2}, {'00': 1869, '01': 28, '10': 150, '11': 1}, {'00': 1917, '01': 32, '10': 98, '11': 1}, {'00': 1941, '01': 24, '10': 81, '11': 2}, {'00': 1962, '01': 17, '10': 69}, {'00': 1998, '01': 21, '10': 28, '11': 1}, {'00': 1994, '01': 24, '10': 30}, {'00': 2005, '01': 29, '10': 14}, {'00': 1992, '01': 38, '10': 18}, {'00': 1996, '01': 22, '10': 30}, {'00': 1988, '01': 14, '10': 46}, {'00': 1966, '01': 24, '10': 58}, {'00': 1933, '01': 26, '10': 89}, {'00': 1921, '01': 23, '10': 104}, {'00': 1915, '01': 27, '10': 105, '11': 1}, {'00': 1850, '01': 21, '10': 177}, {'00': 1813, '01': 20, '10': 214, '11': 1}, {'00': 1760, '01': 21, '10': 260, '11': 7}, {'00': 1742, '01': 19, '10': 286, '11': 1}, {'00': 1703, '01': 27, '10': 316, '11': 2}, {'00': 1640, '01': 17, '10': 389, '11': 2}, {'00': 1584, '01': 16, '10': 446, '11': 2}, {'00': 1544, '01': 27, '10': 477}, {'00': 1493, '01': 20, '10': 524, '11': 11}, {'00': 1483, '01': 20, '10': 535, '11': 10}, {'00': 1384, '01': 17, '10': 642, '11': 5}, {'00': 1377, '01': 21, '10': 647, '11': 3}, {'00': 1325, '01': 19, '10': 700, '11': 4}, {'00': 1262, '01': 23, '10': 755, '11': 8}, {'00': 1207, '01': 19, '10': 807, '11': 15}, {'00': 1196, '01': 16, '10': 826, '11': 10}, {'00': 1168, '01': 10, '10': 860, '11': 10}, {'00': 1109, '01': 21, '10': 907, '11': 11}, {'00': 1082, '01': 20, '10': 942, '11': 4}, {'00': 1085, '01': 12, '10': 941, '11': 10}, {'00': 999, '01': 13, '10': 1014, '11': 22}, {'00': 963, '01': 15, '10': 1051, '11': 19}, {'00': 967, '01': 20, '10': 1051, '11': 10}, {'00': 891, '01': 14, '10': 1120, '11': 23}, {'00': 871, '01': 15, '10': 1155, '11': 7}, {'00': 803, '01': 10, '10': 1217, '11': 18}, {'00': 827, '01': 14, '10': 1195, '11': 12}, {'00': 789, '01': 7, '10': 1230, '11': 22}]\n"
     ]
    }
   ],
   "source": [
    "count_dict = results.get_counts()\n",
    "print(count_dict)"
   ]
  },
  {
   "cell_type": "markdown",
   "id": "d5b98a4c-90bd-435d-896e-fc804229cbf1",
   "metadata": {},
   "source": [
    "# The following two snippets of code to fit the amplitude curves were copied from the work \"Qiskit Pulse: Programming Quantum Computers through the Cloud with Pulse\"\n",
    "https://arxiv.org/pdf/2004.06755.pdf"
   ]
  },
  {
   "cell_type": "code",
   "execution_count": 17,
   "id": "45486405-b3ac-4ef0-9626-2ce70f4a52d4",
   "metadata": {},
   "outputs": [],
   "source": [
    "def cr_fit_3rd_order_perturbation(x, c1, c2):\n",
    "    fx = c1*x - c2*x**3\n",
    "    return np.cos(2 * np.pi * fx)\n",
    "\n",
    "def rough_amp_objective(x, params, opt_phase):\n",
    "    fx = params[0] * x - params[1] * x**3\n",
    "    return np.abs(opt_phase / 2 / np.pi - fx)"
   ]
  },
  {
   "cell_type": "code",
   "execution_count": 18,
   "id": "c3db7124-9212-4a92-b690-47fa823a802f",
   "metadata": {},
   "outputs": [],
   "source": [
    "exp_z = np.zeros_like(cr_amps)\n",
    "for cind in range(len(cr_amps)):\n",
    "    exp_z[cind] = expectation_val(count_dict[cind], mem_ind=mem_ind)\n",
    "# print(exp_z)\n",
    "valid_inds = np.where(np.abs(cr_amps) < 1.0)[0]\n",
    "params, _ = opt.curve_fit(cr_fit_3rd_order_perturbation, xdata=cr_amps[valid_inds], ydata=exp_z[valid_inds])\n",
    "cr_pi2_amp = opt.minimize(rough_amp_objective, x0=0, bounds=[(0, 1)], args=(params, 0.5 * np.pi)).x[0]"
   ]
  },
  {
   "cell_type": "code",
   "execution_count": 19,
   "id": "534f3425-6836-47cf-9223-112a131a2bdc",
   "metadata": {},
   "outputs": [
    {
     "name": "stdout",
     "output_type": "stream",
     "text": [
      "0.768046826387235\n"
     ]
    }
   ],
   "source": [
    "print(cr_pi2_amp)"
   ]
  },
  {
   "cell_type": "code",
   "execution_count": 31,
   "id": "6eddba03-5a28-4333-9f43-d971bf4964a0",
   "metadata": {},
   "outputs": [
    {
     "data": {
      "image/png": "[encoded data removed]",
      "text/plain": [
       "<Figure size 432x288 with 1 Axes>"
      ]
     },
     "metadata": {
      "needs_background": "light"
     },
     "output_type": "display_data"
    }
   ],
   "source": [
    "x_interp = np.linspace(cr_amps[0], cr_amps[-1], 1000)\n",
    "plt.plot(cr_amps, exp_z, 'o', color='b')\n",
    "plt.plot(x_interp, cr_fit_3rd_order_perturbation(x_interp, *params), color='b')\n",
    "plt.plot([cr_pi2_amp, cr_pi2_amp], [-1, 1], 'b:')\n",
    "plt.xlim(-max_cr_amplitude, max_cr_amplitude)\n",
    "plt.ylim(-1, 1)\n",
    "plt.xlabel('CR amp')\n",
    "plt.ylabel('<Z>')\n",
    "plt.grid()\n",
    "plt.savefig(\"12_1_CR_jakarta_amplitude_calibration\")"
   ]
  },
  {
   "cell_type": "code",
   "execution_count": 21,
   "id": "dabc2745-5d9a-4863-a580-e774d17190f9",
   "metadata": {},
   "outputs": [],
   "source": [
    "cr_params = extract_cr_params(cx_sched)\n",
    "cr_params[\"cr_amp\"] = cr_pi2_amp\n",
    "cr_params[\"cancel_amp\"] = 0.0\n",
    "\n",
    "max_phase = np.pi\n",
    "num_phases = 20\n",
    "cr_phases = np.linspace(-max_phase, max_phase, num_phases)\n"
   ]
  },
  {
   "cell_type": "code",
   "execution_count": 33,
   "id": "a0c95399-b28c-4063-82cd-7005207a44da",
   "metadata": {},
   "outputs": [],
   "source": [
    "# for phase in cr_phases:\n",
    "#     print(cr_pi2_amp * np.exp(-1j*phase))\n",
    "#     print(cr_pi2_amp * np.exp(-1j*(phase+np.pi)))"
   ]
  },
  {
   "cell_type": "code",
   "execution_count": 24,
   "id": "b0696997-331e-45ae-a358-c25293b33eb9",
   "metadata": {},
   "outputs": [
    {
     "name": "stdout",
     "output_type": "stream",
     "text": [
      "{'duration': 368, 'width': 112, 'sigma': 64, 'cr_amp': 0.768046826387235, 'channel': ControlChannel(0), 'cancel_amp': 0.0}\n"
     ]
    }
   ],
   "source": [
    "print(cr_params)"
   ]
  },
  {
   "cell_type": "code",
   "execution_count": 25,
   "id": "70e8a4e8-4a55-44d1-a847-2fffe4cd93ba",
   "metadata": {},
   "outputs": [],
   "source": [
    "phase_exp_circuits, phase_exp_inst_maps = build_phase_experiment_circuits(backend, q1, q2, cr_phases, cr_params)\n"
   ]
  },
  {
   "cell_type": "code",
   "execution_count": 26,
   "id": "68ce958b-4d6f-4f04-951b-1d136f66c54d",
   "metadata": {},
   "outputs": [
    {
     "name": "stderr",
     "output_type": "stream",
     "text": [
      "<ipython-input-26-95e79d3478e8>:6: DeprecationWarning: The QuantumCircuit.__iadd__() method is being deprecated. Use the compose() (potentially with the inplace=True argument) and tensor() methods which are more flexible w.r.t circuit register compatibility.\n",
      "  y1_circ += circ\n",
      "C:\\Users\\Zachary\\anaconda3\\envs\\NewestPythonQiskit\\lib\\site-packages\\qiskit\\circuit\\quantumcircuit.py:942: DeprecationWarning: The QuantumCircuit.extend() method is being deprecated. Use the compose() (potentially with the inplace=True argument) and tensor() methods which are more flexible w.r.t circuit register compatibility.\n",
      "  return self.extend(rhs)\n"
     ]
    }
   ],
   "source": [
    "y0 = deepcopy(phase_exp_circuits)\n",
    "y1 = []\n",
    "for circ in y0:\n",
    "    y1_circ = QuantumCircuit(2)\n",
    "    y1_circ.x(0)\n",
    "    y1_circ += circ\n",
    "    y1.append(y1_circ)"
   ]
  },
  {
   "cell_type": "code",
   "execution_count": 27,
   "id": "991b7985-f43c-4eb2-acdb-d0b8cf9ec504",
   "metadata": {},
   "outputs": [],
   "source": [
    "phase_exp_circuits = y0+y1\n",
    "tc = transpile(phase_exp_circuits, backend, initial_layout=[q1, q2])\n",
    "identifier = F\"(({max_phase}),{num_phases})\""
   ]
  },
  {
   "cell_type": "code",
   "execution_count": 30,
   "id": "1d83035e-e327-48cd-8f6e-d8db1a132aa2",
   "metadata": {},
   "outputs": [
    {
     "name": "stdout",
     "output_type": "stream",
     "text": [
      "61a7ba1ed28a8880cc8d04a0\n"
     ]
    }
   ],
   "source": [
    "job = backend.run(tc, job_name=F\"cr_amp_exp_{identifier}\", shots=2048)\n",
    "job_id = job.job_id()\n",
    "print(job.job_id())"
   ]
  },
  {
   "cell_type": "code",
   "execution_count": 34,
   "id": "c5dbd459-22c3-4d8a-b322-b66395dd1319",
   "metadata": {},
   "outputs": [
    {
     "name": "stdout",
     "output_type": "stream",
     "text": [
      "61a7ba1ed28a8880cc8d04a0\n"
     ]
    }
   ],
   "source": [
    "# 11/9/2021 - phase experiments\n",
    "# ibmq_jakarta (11:27~ am) - 618aa15deb641130bbbb5c4f (-np.pi, np.pi, 20)\n",
    "\n",
    "# 11/10/2021 - phase experiments\n",
    "# jakarta (12:42~ pm) - 618c047e513c768d4d62feee (-np.pi, np.pi, 20) \n",
    "# job_id = \"618c047e513c768d4d62feee\"\n",
    "\n",
    "# 11/20/2021 - phase experiments\n",
    "# jakarta (9:52 am) - 61990bb053ac6c1ad1d58d49\n",
    "# jakarata - 61996ddd580e7570ed14e9d4\n",
    "\n",
    "# 12/1/2021 - phase\n",
    "# jakarta - 61a7ba1ed28a8880cc8d04a0\n",
    "results = backend.retrieve_job(job_id).result()\n",
    "print(job_id)"
   ]
  },
  {
   "cell_type": "code",
   "execution_count": 35,
   "id": "7996c458-ed74-41bb-910b-073354e31a83",
   "metadata": {},
   "outputs": [
    {
     "name": "stdout",
     "output_type": "stream",
     "text": [
      "[{'00': 1003, '01': 12, '10': 1018, '11': 15}, {'00': 720, '01': 8, '10': 1300, '11': 20}, {'00': 455, '01': 13, '10': 1563, '11': 17}, {'00': 244, '01': 11, '10': 1777, '11': 16}, {'00': 100, '01': 7, '10': 1922, '11': 19}, {'00': 83, '01': 11, '10': 1935, '11': 19}, {'00': 131, '01': 10, '10': 1892, '11': 15}, {'00': 244, '01': 11, '10': 1770, '11': 23}, {'00': 512, '01': 10, '10': 1509, '11': 17}, {'00': 727, '01': 13, '10': 1295, '11': 13}, {'00': 1023, '01': 19, '10': 991, '11': 15}, {'00': 1365, '01': 11, '10': 660, '11': 12}, {'00': 1675, '01': 20, '10': 346, '11': 7}, {'00': 1886, '01': 23, '10': 128, '11': 11}, {'00': 1987, '01': 17, '10': 28, '11': 16}, {'00': 1966, '01': 18, '10': 53, '11': 11}, {'00': 1845, '01': 15, '10': 170, '11': 18}, {'00': 1592, '01': 23, '10': 420, '11': 13}, {'00': 1361, '01': 13, '10': 649, '11': 25}, {'00': 956, '01': 16, '10': 1056, '11': 20}, {'00': 40, '01': 846, '10': 33, '11': 1129}, {'00': 44, '01': 1166, '10': 42, '11': 796}, {'00': 46, '01': 1478, '10': 21, '11': 503}, {'00': 52, '01': 1722, '10': 16, '11': 258}, {'00': 62, '01': 1893, '10': 9, '11': 84}, {'00': 58, '01': 1958, '10': 4, '11': 28}, {'00': 61, '01': 1904, '10': 10, '11': 73}, {'00': 43, '01': 1750, '10': 10, '11': 245}, {'00': 48, '01': 1457, '10': 20, '11': 523}, {'00': 33, '01': 1191, '10': 29, '11': 795}, {'00': 31, '01': 897, '10': 47, '11': 1073}, {'00': 24, '01': 576, '10': 40, '11': 1408}, {'00': 24, '01': 347, '10': 54, '11': 1623}, {'00': 7, '01': 187, '10': 75, '11': 1779}, {'00': 11, '01': 95, '10': 60, '11': 1882}, {'00': 10, '01': 86, '10': 64, '11': 1888}, {'00': 10, '01': 160, '10': 50, '11': 1828}, {'00': 19, '01': 327, '10': 57, '11': 1645}, {'00': 35, '01': 566, '10': 40, '11': 1407}, {'00': 25, '01': 863, '10': 31, '11': 1129}]\n"
     ]
    }
   ],
   "source": [
    "count_dict = results.get_counts()\n",
    "print(count_dict)"
   ]
  },
  {
   "cell_type": "code",
   "execution_count": 36,
   "id": "1b038afa-f299-47af-a9d1-8aedba167f5a",
   "metadata": {},
   "outputs": [
    {
     "name": "stdout",
     "output_type": "stream",
     "text": [
      "40\n"
     ]
    }
   ],
   "source": [
    "print(len(count_dict))"
   ]
  },
  {
   "cell_type": "markdown",
   "id": "b1595e6f-e8cb-4d23-abf8-20be32d41ee1",
   "metadata": {},
   "source": [
    "# The next few snippets here (regarding data fitting) were also copied from the Thomas Alexander work"
   ]
  },
  {
   "cell_type": "code",
   "execution_count": 37,
   "id": "e06a8622-2f9b-4eff-854c-1d64957ae24b",
   "metadata": {},
   "outputs": [],
   "source": [
    "def cos_fit_00(x, a, b):\n",
    "    return a * np.cos(x - b + np.pi)\n",
    "\n",
    "def cos_fit_10(x, a, b):\n",
    "    return a * np.cos(x - b)"
   ]
  },
  {
   "cell_type": "code",
   "execution_count": 38,
   "id": "a874ec24-2d76-4eff-a80c-016d0f0b699b",
   "metadata": {},
   "outputs": [
    {
     "name": "stdout",
     "output_type": "stream",
     "text": [
      "-1.4966682333518144\n"
     ]
    }
   ],
   "source": [
    "exp_y0 = np.zeros_like(cr_phases)\n",
    "exp_y1 = np.zeros_like(cr_phases)\n",
    "\n",
    "results_y0 = count_dict[:20]\n",
    "results_y1 = count_dict[20:]\n",
    "\n",
    "for cind in range(len(cr_phases)):\n",
    "    exp_y0[cind] = expectation_val(results_y0[cind], mem_ind=mem_ind)\n",
    "    exp_y1[cind] = expectation_val(results_y1[cind], mem_ind=mem_ind)\n",
    "# print(exp_y0)\n",
    "# print(exp_y1)\n",
    "\n",
    "params0, _ = opt.curve_fit(cos_fit_00, xdata=cr_phases, ydata=exp_y0, bounds=([0, -np.pi], [1, np.pi]))\n",
    "params1, _ = opt.curve_fit(cos_fit_10, xdata=cr_phases, ydata=exp_y1, bounds=([0, -np.pi], [1, np.pi]))\n",
    "\n",
    "phi_opt = (params0[1] + params1[1]) / 2\n",
    "print(phi_opt)"
   ]
  },
  {
   "cell_type": "code",
   "execution_count": 61,
   "id": "2bb09d90-3d33-4f16-a123-885e40c90199",
   "metadata": {},
   "outputs": [
    {
     "data": {
      "image/png": "[encoded data removed]",
      "text/plain": [
       "<Figure size 432x288 with 1 Axes>"
      ]
     },
     "metadata": {
      "needs_background": "light"
     },
     "output_type": "display_data"
    }
   ],
   "source": [
    "x_interp = np.linspace(cr_phases[0], cr_phases[-1], 1000)\n",
    "plt.plot(cr_phases, exp_y0, 'o', color='b', label='|00>')\n",
    "plt.plot(cr_phases, exp_y1, 'o', color='r', label='|10>')\n",
    "plt.plot(x_interp, cos_fit_00(x_interp, *params0), 'b')\n",
    "plt.plot(x_interp, cos_fit_10(x_interp, *params1), 'r')\n",
    "plt.plot([params0[1], params0[1]], [-1, 1], 'b:')\n",
    "plt.plot([params1[1], params1[1]], [-1, 1], 'r:')\n",
    "plt.xlim(cr_phases[0], cr_phases[-1])\n",
    "plt.ylim(-1, 1)\n",
    "plt.xlabel('CR phase')\n",
    "plt.ylabel('<Y>')\n",
    "plt.grid()\n",
    "plt.legend()\n",
    "plt.savefig(\"12_1_jakarta_final_phase_calibration_2\")"
   ]
  },
  {
   "cell_type": "code",
   "execution_count": 43,
   "id": "af195600-c5fc-4e1e-9a31-4c1af74c2e53",
   "metadata": {},
   "outputs": [],
   "source": [
    "cr_params = extract_cr_params(cx_sched)\n",
    "cr_params[\"cr_amp\"] = cr_pi2_amp\n",
    "cr_params[\"cancel_amp\"] = 0.0\n",
    "cr_params[\"phase\"] = phi_opt"
   ]
  },
  {
   "cell_type": "code",
   "execution_count": 81,
   "id": "3a938f6f-a737-4bd4-9c2d-c24354998be7",
   "metadata": {},
   "outputs": [
    {
     "name": "stdout",
     "output_type": "stream",
     "text": [
      "{'duration': 368, 'width': 112, 'sigma': 64, 'cr_amp': (-0.0568817195687381-0.7659375937388156j), 'channel': ControlChannel(0), 'cancel_amp': 0.0, 'phase': -1.4966682333518144}\n"
     ]
    }
   ],
   "source": [
    "print(cr_params)"
   ]
  },
  {
   "cell_type": "code",
   "execution_count": 88,
   "id": "a3b29d82-bf7e-4d13-90eb-1c9ac4d0df83",
   "metadata": {},
   "outputs": [],
   "source": [
    "with pulse.build(backend=backend, default_alignment=\"left\", name=\"cr_schedule\") as cross_resonance:\n",
    "    pulse.play(GaussianSquare(\n",
    "        duration=cr_params[\"duration\"],\n",
    "        amp=-cr_params[\"cr_amp\"],\n",
    "        width=cr_params[\"width\"],\n",
    "        sigma=cr_params[\"sigma\"],\n",
    "        name=\"CR\"\n",
    "    ),\n",
    "    pulse.control_channels(0, 1)[0],\n",
    ")\n",
    "cr_ex_sched = draw(cross_resonance, backend=backend)\n",
    "cr_ex_sched.savefig(\"example_gaussian_square\", bbox_inches='tight')"
   ]
  },
  {
   "cell_type": "code",
   "execution_count": 44,
   "id": "65342294-5898-4697-8e8a-ac3353568002",
   "metadata": {},
   "outputs": [
    {
     "name": "stdout",
     "output_type": "stream",
     "text": [
      "(0.0568817195687382+0.7659375937388156j)\n"
     ]
    }
   ],
   "source": [
    "print(cr_pi2_amp*np.exp(-1j*phi_opt))"
   ]
  },
  {
   "cell_type": "code",
   "execution_count": 45,
   "id": "052e2c08-03f6-4c2a-8c39-8df7ceeeee59",
   "metadata": {},
   "outputs": [],
   "source": [
    "cr_circ = build_single_cr_circuit(backend, q1, q2, cr_params, rotary=False)"
   ]
  },
  {
   "cell_type": "code",
   "execution_count": 46,
   "id": "6a2ecaae-391f-4e8b-963f-27fc4394dd87",
   "metadata": {},
   "outputs": [
    {
     "data": {
      "image/png": "[encoded data removed]",
      "text/plain": [
       "<Figure size 936x334.8 with 1 Axes>"
      ]
     },
     "execution_count": 46,
     "metadata": {},
     "output_type": "execute_result"
    }
   ],
   "source": [
    "tc_cr_circ = transpile(cr_circ, backend, initial_layout=[0, 1])\n",
    "my_cr_sched = schedule(cr_circ, backend)\n",
    "cr_fig = draw(my_cr_sched, backend=backend)\n",
    "# cr_fig.savefig(\"custom_cr\")\n",
    "cr_fig"
   ]
  },
  {
   "cell_type": "code",
   "execution_count": 47,
   "id": "671b0f1f-a2f6-4f35-8635-d876cf8c1fd5",
   "metadata": {},
   "outputs": [],
   "source": [
    "my_cnot_circ = QuantumCircuit(2)\n",
    "my_cnot_circ.x(0)\n",
    "my_cnot_circ.x(1)\n",
    "my_cnot_circ.compose(other=cr_circ, qubits=[0, 1], inplace=True)\n",
    "my_cnot_circ.measure_active()"
   ]
  },
  {
   "cell_type": "code",
   "execution_count": 48,
   "id": "3d227d6b-6eab-4e07-9a59-63f6a5d5c510",
   "metadata": {},
   "outputs": [],
   "source": [
    "default_cnot = QuantumCircuit(2)\n",
    "default_cnot.x(0)\n",
    "default_cnot.cx(0, 1)\n",
    "default_cnot.measure_active()"
   ]
  },
  {
   "cell_type": "code",
   "execution_count": 77,
   "id": "62049ca4-a448-4382-a740-1a738b9b16e8",
   "metadata": {},
   "outputs": [],
   "source": [
    "my_cnot_circ.draw('mpl').savefig(\"custom_x_cnot_circuit\")"
   ]
  },
  {
   "cell_type": "code",
   "execution_count": 50,
   "id": "84becc3e-7993-41b6-ae2e-3ac9cafaf1f6",
   "metadata": {},
   "outputs": [
    {
     "data": {
      "image/png": "[encoded data removed]",
      "text/plain": [
       "<Figure size 452.494x204.68 with 1 Axes>"
      ]
     },
     "execution_count": 50,
     "metadata": {},
     "output_type": "execute_result"
    }
   ],
   "source": [
    "fig = default_cnot.draw('mpl')\n",
    "# fig.savefig(\"x_cnot_circuit\")\n",
    "fig"
   ]
  },
  {
   "cell_type": "code",
   "execution_count": 51,
   "id": "8a6fe22e-4d50-465c-8087-cb9a4cc4f4e3",
   "metadata": {},
   "outputs": [],
   "source": [
    "my_tc = transpile(my_cnot_circ, backend, initial_layout=[q1, q2])\n",
    "default_tc = transpile(default_cnot, backend, initial_layout=[q1, q2])\n",
    "\n",
    "circs = [my_tc]+[default_tc]\n"
   ]
  },
  {
   "cell_type": "code",
   "execution_count": 54,
   "id": "e8a1835a-81a3-4c76-9398-dd383c06c50c",
   "metadata": {},
   "outputs": [
    {
     "name": "stdout",
     "output_type": "stream",
     "text": [
      "61a7be99313f8111c6c3bcb9\n"
     ]
    }
   ],
   "source": [
    "job = backend.run(circs, job_name=F\"cnot_exp\", shots=2048)\n",
    "job_id = job.job_id()\n",
    "print(job.job_id())"
   ]
  },
  {
   "cell_type": "code",
   "execution_count": 55,
   "id": "8823efe3-9b12-413d-91f8-2d4ebfc6f68a",
   "metadata": {},
   "outputs": [
    {
     "name": "stdout",
     "output_type": "stream",
     "text": [
      "61a7be99313f8111c6c3bcb9\n"
     ]
    }
   ],
   "source": [
    "# 11/10/2021 cnot experiments\n",
    "# jakarta (2:22~pm) - 618c1bb1513c764b2962ffaf --- messed up\n",
    "# jakarta (2:51~pm) - 618c22d248856aacecedacb9 - ehhh\n",
    "# jakarta (2:56~pm) - 618c23c83b109c3a24477641 -- messed up\n",
    "# jakarta (3:04~pm) - 618c25b98b10e7814568d1c6 \n",
    "\n",
    "# 11/20/2021\n",
    "# Jakarta - 61996f0c9920cdc37794be1a\n",
    "\n",
    "# 12/1/2021\n",
    "# jakarta - 61a7be99313f8111c6c3bcb9\n",
    "results = backend.retrieve_job(job_id).result()\n",
    "print(job_id)"
   ]
  },
  {
   "cell_type": "code",
   "execution_count": 56,
   "id": "6cee1b1e-dd26-42e6-8503-b6961232cee8",
   "metadata": {},
   "outputs": [
    {
     "name": "stdout",
     "output_type": "stream",
     "text": [
      "[{'00': 39, '01': 899, '10': 54, '11': 1056}, {'00': 21, '01': 74, '10': 59, '11': 1894}]\n"
     ]
    }
   ],
   "source": [
    "counts = results.get_counts()\n",
    "print(counts)"
   ]
  },
  {
   "cell_type": "code",
   "execution_count": 59,
   "id": "83b8602c-6ace-4fb4-b533-ab7595b5670f",
   "metadata": {},
   "outputs": [],
   "source": [
    "from qiskit.visualization import plot_histogram\n",
    "plot_histogram(counts[0]).savefig(\"12_1_custom_cnot_simple\")"
   ]
  },
  {
   "cell_type": "code",
   "execution_count": 60,
   "id": "3be7564a-5938-4039-b9d4-0d389310db9d",
   "metadata": {},
   "outputs": [],
   "source": [
    "plot_histogram(counts[1]).savefig(\"12_1_default_cnot_simple\")"
   ]
  },
  {
   "cell_type": "markdown",
   "id": "c48036c1-0f86-455a-ac68-e5a444f0a932",
   "metadata": {},
   "source": [
    "# QPT"
   ]
  },
  {
   "cell_type": "code",
   "execution_count": 65,
   "id": "6a442b69-21e0-454d-a3d7-ee7dd71ac2e2",
   "metadata": {},
   "outputs": [],
   "source": [
    "import qiskit.ignis.verification.tomography\n",
    "from qiskit import QuantumRegister\n",
    "from qiskit.ignis.verification.tomography import process_tomography_circuits, ProcessTomographyFitter\n",
    "\n",
    "\n",
    "qpt_circs = process_tomography_circuits(cr_circ, [q1, q2])"
   ]
  },
  {
   "cell_type": "code",
   "execution_count": 66,
   "id": "92a3290f-7c73-460c-adff-e91376ff7b41",
   "metadata": {},
   "outputs": [
    {
     "name": "stdout",
     "output_type": "stream",
     "text": [
      "61a7c9c8d28a88f2d28d04eb\n"
     ]
    }
   ],
   "source": [
    "job = qiskit.execute(qpt_circs, backend, shots=2000)\n",
    "job_id = job.job_id()\n",
    "print(job.job_id())"
   ]
  },
  {
   "cell_type": "code",
   "execution_count": null,
   "id": "30656573-16ce-4f65-8d13-961fc093a52b",
   "metadata": {},
   "outputs": [],
   "source": [
    "# qpt experiments\n",
    "# jakarta - 61990d8c8982d9d954338306\n",
    "# jakarta - 61997009cd37f3855df268fc\n",
    "\n",
    "# 12/1/2021\n",
    "# jakarta 61a7c9c8d28a88f2d28d04eb"
   ]
  },
  {
   "cell_type": "code",
   "execution_count": 67,
   "id": "347197b3-266c-4dfa-87ed-14c414db27a9",
   "metadata": {},
   "outputs": [
    {
     "data": {
      "text/plain": [
       "{(('Zp', 'Zp'), ('X', 'X')): {'00': 537, '01': 493, '10': 487, '11': 483},\n",
       " (('Zp', 'Zp'), ('X', 'Y')): {'00': 37, '01': 48, '10': 970, '11': 945},\n",
       " (('Zp', 'Zp'), ('X', 'Z')): {'00': 455, '01': 452, '10': 526, '11': 567},\n",
       " (('Zp', 'Zp'), ('Y', 'X')): {'00': 533, '01': 463, '10': 496, '11': 508},\n",
       " (('Zp', 'Zp'), ('Y', 'Y')): {'00': 39, '01': 28, '10': 942, '11': 991},\n",
       " (('Zp', 'Zp'), ('Y', 'Z')): {'00': 476, '01': 451, '10': 509, '11': 564},\n",
       " (('Zp', 'Zp'), ('Z', 'X')): {'00': 1030, '01': 8, '10': 943, '11': 19},\n",
       " (('Zp', 'Zp'), ('Z', 'Y')): {'00': 55, '01': 11, '10': 1913, '11': 21},\n",
       " (('Zp', 'Zp'), ('Z', 'Z')): {'00': 920, '01': 10, '10': 1055, '11': 15},\n",
       " (('Zp', 'Zm'), ('X', 'X')): {'00': 509, '01': 494, '10': 499, '11': 498},\n",
       " (('Zp', 'Zm'), ('X', 'Y')): {'00': 990, '01': 958, '10': 18, '11': 34},\n",
       " (('Zp', 'Zm'), ('X', 'Z')): {'00': 546, '01': 565, '10': 490, '11': 399},\n",
       " (('Zp', 'Zm'), ('Y', 'X')): {'00': 566, '01': 467, '10': 454, '11': 513},\n",
       " (('Zp', 'Zm'), ('Y', 'Y')): {'00': 996, '01': 960, '10': 25, '11': 19},\n",
       " (('Zp', 'Zm'), ('Y', 'Z')): {'00': 542, '01': 539, '10': 468, '11': 451},\n",
       " (('Zp', 'Zm'), ('Z', 'X')): {'00': 1044, '01': 9, '10': 933, '11': 14},\n",
       " (('Zp', 'Zm'), ('Z', 'Y')): {'00': 1944, '01': 22, '10': 25, '11': 9},\n",
       " (('Zp', 'Zm'), ('Z', 'Z')): {'00': 1089, '01': 17, '10': 877, '11': 17},\n",
       " (('Zp', 'Xp'), ('X', 'X')): {'00': 1006, '01': 952, '10': 15, '11': 27},\n",
       " (('Zp', 'Xp'), ('X', 'Y')): {'00': 501, '01': 483, '10': 548, '11': 468},\n",
       " (('Zp', 'Xp'), ('X', 'Z')): {'00': 616, '01': 580, '10': 394, '11': 410},\n",
       " (('Zp', 'Xp'), ('Y', 'X')): {'00': 1071, '01': 897, '10': 16, '11': 16},\n",
       " (('Zp', 'Xp'), ('Y', 'Y')): {'00': 500, '01': 498, '10': 529, '11': 473},\n",
       " (('Zp', 'Xp'), ('Y', 'Z')): {'00': 591, '01': 566, '10': 456, '11': 387},\n",
       " (('Zp', 'Xp'), ('Z', 'X')): {'00': 1944, '01': 26, '10': 29, '11': 1},\n",
       " (('Zp', 'Xp'), ('Z', 'Y')): {'00': 1030, '01': 13, '10': 944, '11': 13},\n",
       " (('Zp', 'Xp'), ('Z', 'Z')): {'00': 1152, '01': 12, '10': 826, '11': 10},\n",
       " (('Zp', 'Yp'), ('X', 'X')): {'00': 431, '01': 424, '10': 578, '11': 567},\n",
       " (('Zp', 'Yp'), ('X', 'Y')): {'00': 547, '01': 458, '10': 462, '11': 533},\n",
       " (('Zp', 'Yp'), ('X', 'Z')): {'00': 1006, '01': 958, '10': 17, '11': 19},\n",
       " (('Zp', 'Yp'), ('Y', 'X')): {'00': 449, '01': 424, '10': 551, '11': 576},\n",
       " (('Zp', 'Yp'), ('Y', 'Y')): {'00': 515, '01': 507, '10': 526, '11': 452},\n",
       " (('Zp', 'Yp'), ('Y', 'Z')): {'00': 1015, '01': 949, '10': 14, '11': 22},\n",
       " (('Zp', 'Yp'), ('Z', 'X')): {'00': 878, '01': 11, '10': 1099, '11': 12},\n",
       " (('Zp', 'Yp'), ('Z', 'Y')): {'00': 977, '01': 10, '10': 1002, '11': 11},\n",
       " (('Zp', 'Yp'), ('Z', 'Z')): {'00': 1939, '01': 22, '10': 32, '11': 7},\n",
       " (('Zm', 'Zp'), ('X', 'X')): {'00': 527, '01': 500, '10': 491, '11': 482},\n",
       " (('Zm', 'Zp'), ('X', 'Y')): {'00': 1005, '01': 962, '10': 16, '11': 17},\n",
       " (('Zm', 'Zp'), ('X', 'Z')): {'00': 523, '01': 576, '10': 468, '11': 433},\n",
       " (('Zm', 'Zp'), ('Y', 'X')): {'00': 507, '01': 530, '10': 509, '11': 454},\n",
       " (('Zm', 'Zp'), ('Y', 'Y')): {'00': 1034, '01': 938, '10': 11, '11': 17},\n",
       " (('Zm', 'Zp'), ('Y', 'Z')): {'00': 537, '01': 541, '10': 451, '11': 471},\n",
       " (('Zm', 'Zp'), ('Z', 'X')): {'00': 36, '01': 979, '10': 41, '11': 944},\n",
       " (('Zm', 'Zp'), ('Z', 'Y')): {'00': 70, '01': 1908, '10': 4, '11': 18},\n",
       " (('Zm', 'Zp'), ('Z', 'Z')): {'00': 51, '01': 1037, '10': 24, '11': 888},\n",
       " (('Zm', 'Zm'), ('X', 'X')): {'00': 477, '01': 512, '10': 528, '11': 483},\n",
       " (('Zm', 'Zm'), ('X', 'Y')): {'00': 36, '01': 37, '10': 970, '11': 957},\n",
       " (('Zm', 'Zm'), ('X', 'Z')): {'00': 523, '01': 439, '10': 523, '11': 515},\n",
       " (('Zm', 'Zm'), ('Y', 'X')): {'00': 516, '01': 568, '10': 493, '11': 423},\n",
       " (('Zm', 'Zm'), ('Y', 'Y')): {'00': 37, '01': 40, '10': 999, '11': 924},\n",
       " (('Zm', 'Zm'), ('Y', 'Z')): {'00': 504, '01': 434, '10': 542, '11': 520},\n",
       " (('Zm', 'Zm'), ('Z', 'X')): {'00': 44, '01': 985, '10': 34, '11': 937},\n",
       " (('Zm', 'Zm'), ('Z', 'Y')): {'00': 7, '01': 58, '10': 70, '11': 1865},\n",
       " (('Zm', 'Zm'), ('Z', 'Z')): {'00': 39, '01': 932, '10': 32, '11': 997},\n",
       " (('Zm', 'Xp'), ('X', 'X')): {'00': 939, '01': 1021, '10': 17, '11': 23},\n",
       " (('Zm', 'Xp'), ('X', 'Y')): {'00': 503, '01': 535, '10': 468, '11': 494},\n",
       " (('Zm', 'Xp'), ('X', 'Z')): {'00': 406, '01': 442, '10': 577, '11': 575},\n",
       " (('Zm', 'Xp'), ('Y', 'X')): {'00': 964, '01': 999, '10': 19, '11': 18},\n",
       " (('Zm', 'Xp'), ('Y', 'Y')): {'00': 546, '01': 537, '10': 475, '11': 442},\n",
       " (('Zm', 'Xp'), ('Y', 'Z')): {'00': 408, '01': 477, '10': 550, '11': 565},\n",
       " (('Zm', 'Xp'), ('Z', 'X')): {'00': 72, '01': 1883, '10': 3, '11': 42},\n",
       " (('Zm', 'Xp'), ('Z', 'Y')): {'00': 35, '01': 1018, '10': 32, '11': 915},\n",
       " (('Zm', 'Xp'), ('Z', 'Z')): {'00': 27, '01': 811, '10': 32, '11': 1130},\n",
       " (('Zm', 'Yp'), ('X', 'X')): {'00': 421, '01': 434, '10': 612, '11': 533},\n",
       " (('Zm', 'Yp'), ('X', 'Y')): {'00': 480, '01': 486, '10': 554, '11': 480},\n",
       " (('Zm', 'Yp'), ('X', 'Z')): {'00': 44, '01': 51, '10': 990, '11': 915},\n",
       " (('Zm', 'Yp'), ('Y', 'X')): {'00': 404, '01': 434, '10': 613, '11': 549},\n",
       " (('Zm', 'Yp'), ('Y', 'Y')): {'00': 535, '01': 453, '10': 519, '11': 493},\n",
       " (('Zm', 'Yp'), ('Y', 'Z')): {'00': 53, '01': 34, '10': 954, '11': 959},\n",
       " (('Zm', 'Yp'), ('Z', 'X')): {'00': 33, '01': 805, '10': 29, '11': 1133},\n",
       " (('Zm', 'Yp'), ('Z', 'Y')): {'00': 26, '01': 1024, '10': 32, '11': 918},\n",
       " (('Zm', 'Yp'), ('Z', 'Z')): {'00': 14, '01': 74, '10': 80, '11': 1832},\n",
       " (('Xp', 'Zp'), ('X', 'X')): {'00': 947, '01': 44, '10': 51, '11': 958},\n",
       " (('Xp', 'Zp'), ('X', 'Y')): {'00': 560, '01': 497, '10': 494, '11': 449},\n",
       " (('Xp', 'Zp'), ('X', 'Z')): {'00': 447, '01': 581, '10': 524, '11': 448},\n",
       " (('Xp', 'Zp'), ('Y', 'X')): {'00': 519, '01': 504, '10': 519, '11': 458},\n",
       " (('Xp', 'Zp'), ('Y', 'Y')): {'00': 572, '01': 474, '10': 464, '11': 490},\n",
       " (('Xp', 'Zp'), ('Y', 'Z')): {'00': 67, '01': 956, '10': 956, '11': 21},\n",
       " (('Xp', 'Zp'), ('Z', 'X')): {'00': 491, '01': 502, '10': 505, '11': 502},\n",
       " (('Xp', 'Zp'), ('Z', 'Y')): {'00': 48, '01': 995, '10': 937, '11': 20},\n",
       " (('Xp', 'Zp'), ('Z', 'Z')): {'00': 479, '01': 548, '10': 513, '11': 460},\n",
       " (('Xp', 'Zm'), ('X', 'X')): {'00': 1047, '01': 36, '10': 42, '11': 875},\n",
       " (('Xp', 'Zm'), ('X', 'Y')): {'00': 479, '01': 464, '10': 528, '11': 529},\n",
       " (('Xp', 'Zm'), ('X', 'Z')): {'00': 523, '01': 449, '10': 537, '11': 491},\n",
       " (('Xp', 'Zm'), ('Y', 'X')): {'00': 531, '01': 523, '10': 487, '11': 459},\n",
       " (('Xp', 'Zm'), ('Y', 'Y')): {'00': 469, '01': 504, '10': 540, '11': 487},\n",
       " (('Xp', 'Zm'), ('Y', 'Z')): {'00': 999, '01': 34, '10': 49, '11': 918},\n",
       " (('Xp', 'Zm'), ('Z', 'X')): {'00': 549, '01': 496, '10': 490, '11': 465},\n",
       " (('Xp', 'Zm'), ('Z', 'Y')): {'00': 965, '01': 45, '10': 51, '11': 939},\n",
       " (('Xp', 'Zm'), ('Z', 'Z')): {'00': 532, '01': 519, '10': 427, '11': 522},\n",
       " (('Xp', 'Xp'), ('X', 'X')): {'00': 1949, '01': 25, '10': 5, '11': 21},\n",
       " (('Xp', 'Xp'), ('X', 'Y')): {'00': 977, '01': 36, '10': 964, '11': 23},\n",
       " (('Xp', 'Xp'), ('X', 'Z')): {'00': 983, '01': 19, '10': 965, '11': 33},\n",
       " (('Xp', 'Xp'), ('Y', 'X')): {'00': 973, '01': 997, '10': 13, '11': 17},\n",
       " (('Xp', 'Xp'), ('Y', 'Y')): {'00': 418, '01': 591, '10': 581, '11': 410},\n",
       " (('Xp', 'Xp'), ('Y', 'Z')): {'00': 521, '01': 475, '10': 507, '11': 497},\n",
       " (('Xp', 'Xp'), ('Z', 'X')): {'00': 987, '01': 977, '10': 17, '11': 19},\n",
       " (('Xp', 'Xp'), ('Z', 'Y')): {'00': 483, '01': 531, '10': 523, '11': 463},\n",
       " (('Xp', 'Xp'), ('Z', 'Z')): {'00': 620, '01': 415, '10': 381, '11': 584},\n",
       " (('Xp', 'Yp'), ('X', 'X')): {'00': 778, '01': 43, '10': 42, '11': 1137},\n",
       " (('Xp', 'Yp'), ('X', 'Y')): {'00': 393, '01': 612, '10': 444, '11': 551},\n",
       " (('Xp', 'Yp'), ('X', 'Z')): {'00': 419, '01': 600, '10': 410, '11': 571},\n",
       " (('Xp', 'Yp'), ('Y', 'X')): {'00': 444, '01': 426, '10': 599, '11': 531},\n",
       " (('Xp', 'Yp'), ('Y', 'Y')): {'00': 70, '01': 951, '10': 946, '11': 33},\n",
       " (('Xp', 'Yp'), ('Y', 'Z')): {'00': 559, '01': 464, '10': 526, '11': 451},\n",
       " (('Xp', 'Yp'), ('Z', 'X')): {'00': 457, '01': 411, '10': 584, '11': 548},\n",
       " (('Xp', 'Yp'), ('Z', 'Y')): {'00': 502, '01': 507, '10': 500, '11': 491},\n",
       " (('Xp', 'Yp'), ('Z', 'Z')): {'00': 983, '01': 43, '10': 65, '11': 909},\n",
       " (('Yp', 'Zp'), ('X', 'X')): {'00': 541, '01': 456, '10': 476, '11': 527},\n",
       " (('Yp', 'Zp'), ('X', 'Y')): {'00': 491, '01': 520, '10': 532, '11': 457},\n",
       " (('Yp', 'Zp'), ('X', 'Z')): {'00': 990, '01': 40, '10': 45, '11': 925},\n",
       " (('Yp', 'Zp'), ('Y', 'X')): {'00': 987, '01': 30, '10': 47, '11': 936},\n",
       " (('Yp', 'Zp'), ('Y', 'Y')): {'00': 514, '01': 543, '10': 475, '11': 468},\n",
       " (('Yp', 'Zp'), ('Y', 'Z')): {'00': 526, '01': 522, '10': 511, '11': 441},\n",
       " (('Yp', 'Zp'), ('Z', 'X')): {'00': 481, '01': 549, '10': 501, '11': 469},\n",
       " (('Yp', 'Zp'), ('Z', 'Y')): {'00': 73, '01': 978, '10': 931, '11': 18},\n",
       " (('Yp', 'Zp'), ('Z', 'Z')): {'00': 472, '01': 513, '10': 559, '11': 456},\n",
       " (('Yp', 'Zm'), ('X', 'X')): {'00': 539, '01': 534, '10': 437, '11': 490},\n",
       " (('Yp', 'Zm'), ('X', 'Y')): {'00': 541, '01': 440, '10': 467, '11': 552},\n",
       " (('Yp', 'Zm'), ('X', 'Z')): {'00': 73, '01': 978, '10': 922, '11': 27},\n",
       " (('Yp', 'Zm'), ('Y', 'X')): {'00': 1007, '01': 45, '10': 39, '11': 909},\n",
       " (('Yp', 'Zm'), ('Y', 'Y')): {'00': 517, '01': 495, '10': 493, '11': 495},\n",
       " (('Yp', 'Zm'), ('Y', 'Z')): {'00': 524, '01': 466, '10': 501, '11': 509},\n",
       " (('Yp', 'Zm'), ('Z', 'X')): {'00': 510, '01': 552, '10': 468, '11': 470},\n",
       " (('Yp', 'Zm'), ('Z', 'Y')): {'00': 956, '01': 39, '10': 39, '11': 966},\n",
       " (('Yp', 'Zm'), ('Z', 'Z')): {'00': 583, '01': 454, '10': 412, '11': 551},\n",
       " (('Yp', 'Xp'), ('X', 'X')): {'00': 1050, '01': 911, '10': 22, '11': 17},\n",
       " (('Yp', 'Xp'), ('X', 'Y')): {'00': 648, '01': 397, '10': 407, '11': 548},\n",
       " (('Yp', 'Xp'), ('X', 'Z')): {'00': 545, '01': 466, '10': 498, '11': 491},\n",
       " (('Yp', 'Xp'), ('Y', 'X')): {'00': 1943, '01': 28, '10': 9, '11': 20},\n",
       " (('Yp', 'Xp'), ('Y', 'Y')): {'00': 1009, '01': 26, '10': 935, '11': 30},\n",
       " (('Yp', 'Xp'), ('Y', 'Z')): {'00': 961, '01': 23, '10': 982, '11': 34},\n",
       " (('Yp', 'Xp'), ('Z', 'X')): {'00': 1014, '01': 954, '10': 18, '11': 14},\n",
       " (('Yp', 'Xp'), ('Z', 'Y')): {'00': 504, '01': 513, '10': 495, '11': 488},\n",
       " (('Yp', 'Xp'), ('Z', 'Z')): {'00': 583, '01': 392, '10': 453, '11': 572},\n",
       " (('Yp', 'Yp'), ('X', 'X')): {'00': 440, '01': 420, '10': 554, '11': 586},\n",
       " (('Yp', 'Yp'), ('X', 'Y')): {'00': 928, '01': 63, '10': 64, '11': 945},\n",
       " (('Yp', 'Yp'), ('X', 'Z')): {'00': 529, '01': 478, '10': 505, '11': 488},\n",
       " (('Yp', 'Yp'), ('Y', 'X')): {'00': 794, '01': 42, '10': 49, '11': 1115},\n",
       " (('Yp', 'Yp'), ('Y', 'Y')): {'00': 427, '01': 601, '10': 418, '11': 554},\n",
       " (('Yp', 'Yp'), ('Y', 'Z')): {'00': 451, '01': 544, '10': 442, '11': 563},\n",
       " (('Yp', 'Yp'), ('Z', 'X')): {'00': 430, '01': 448, '10': 582, '11': 540},\n",
       " (('Yp', 'Yp'), ('Z', 'Y')): {'00': 505, '01': 508, '10': 493, '11': 494},\n",
       " (('Yp', 'Yp'), ('Z', 'Z')): {'00': 1006, '01': 44, '10': 34, '11': 916}}"
      ]
     },
     "execution_count": 67,
     "metadata": {},
     "output_type": "execute_result"
    }
   ],
   "source": [
    "qpt_tomo = ProcessTomographyFitter(job.result(), qpt_circs)\n",
    "qpt_tomo.data"
   ]
  },
  {
   "cell_type": "code",
   "execution_count": 80,
   "id": "3c4a6656-af8d-4547-b91e-7236b7ef724d",
   "metadata": {},
   "outputs": [
    {
     "name": "stdout",
     "output_type": "stream",
     "text": [
      "Fit time: 0.22299814224243164\n",
      "Average gate fidelity: F = 0.20224\n"
     ]
    }
   ],
   "source": [
    "import time\n",
    "from qiskit.quantum_info.operators import Operator, Pauli\n",
    "# default_cx = QuantumCircuit(2)\n",
    "# default_cx.cx(0,1)\n",
    "# target_unitary = qi.Operator(default_cx)\n",
    "# print(target_unitary)\n",
    "ZX = Pauli(label=\"ZX\")\n",
    "target_unitary = Operator(ZX)\n",
    "t = time.time()\n",
    "choi_fit = qpt_tomo.fit(method='lstsq')\n",
    "print('Fit time:', time.time() - t)\n",
    "print('Average gate fidelity: F = {:.5f}'.format(qi.average_gate_fidelity(choi_fit, target=target_unitary)))"
   ]
  },
  {
   "cell_type": "code",
   "execution_count": 69,
   "id": "89714021-da7d-4292-b7b9-dca221277753",
   "metadata": {},
   "outputs": [
    {
     "data": {
      "image/png": "[encoded data removed]",
      "text/plain": [
       "<Figure size 936x550.8 with 1 Axes>"
      ]
     },
     "execution_count": 69,
     "metadata": {},
     "output_type": "execute_result"
    }
   ],
   "source": [
    "draw(ibm_cr_sched, backend=backend)"
   ]
  },
  {
   "cell_type": "code",
   "execution_count": 70,
   "id": "8059f36e-150b-40d5-8b61-371b5958458a",
   "metadata": {},
   "outputs": [],
   "source": [
    "cr_gate = circuit.Gate(\"cr\", num_qubits=2, params=[])\n",
    "qc = QuantumCircuit(2)\n",
    "qc.append(cr_gate, [q1, q2])\n",
    "qc.add_calibration(cr_gate, (q1, q2), ibm_cr_sched)\n"
   ]
  },
  {
   "cell_type": "code",
   "execution_count": 71,
   "id": "3fb33290-e153-481e-884d-06f76020f9eb",
   "metadata": {},
   "outputs": [],
   "source": [
    "qpt_circs = process_tomography_circuits(qc, [q1, q2])"
   ]
  },
  {
   "cell_type": "code",
   "execution_count": 72,
   "id": "6866245f-030c-4e11-a92a-c5c059ae98aa",
   "metadata": {},
   "outputs": [
    {
     "name": "stdout",
     "output_type": "stream",
     "text": [
      "61a7caad6a8ec02080198d89\n"
     ]
    }
   ],
   "source": [
    "job = qiskit.execute(qpt_circs, backend, shots=2000)\n",
    "job_id = job.job_id()\n",
    "print(job.job_id())"
   ]
  },
  {
   "cell_type": "code",
   "execution_count": 73,
   "id": "e546138f-5e33-4bac-9397-e71a6c9096de",
   "metadata": {},
   "outputs": [
    {
     "data": {
      "text/plain": [
       "{(('Zp', 'Zp'), ('X', 'X')): {'00': 565, '01': 454, '10': 516, '11': 465},\n",
       " (('Zp', 'Zp'), ('X', 'Y')): {'00': 1008, '01': 965, '10': 13, '11': 14},\n",
       " (('Zp', 'Zp'), ('X', 'Z')): {'00': 511, '01': 580, '10': 488, '11': 421},\n",
       " (('Zp', 'Zp'), ('Y', 'X')): {'00': 543, '01': 467, '10': 487, '11': 503},\n",
       " (('Zp', 'Zp'), ('Y', 'Y')): {'00': 988, '01': 978, '10': 13, '11': 21},\n",
       " (('Zp', 'Zp'), ('Y', 'Z')): {'00': 561, '01': 547, '10': 451, '11': 441},\n",
       " (('Zp', 'Zp'), ('Z', 'X')): {'00': 998, '01': 16, '10': 973, '11': 13},\n",
       " (('Zp', 'Zp'), ('Z', 'Y')): {'00': 1936, '01': 29, '10': 30, '11': 5},\n",
       " (('Zp', 'Zp'), ('Z', 'Z')): {'00': 1048, '01': 19, '10': 923, '11': 10},\n",
       " (('Zp', 'Zm'), ('X', 'X')): {'00': 535, '01': 507, '10': 503, '11': 455},\n",
       " (('Zp', 'Zm'), ('X', 'Y')): {'00': 40, '01': 34, '10': 982, '11': 944},\n",
       " (('Zp', 'Zm'), ('X', 'Z')): {'00': 496, '01': 432, '10': 512, '11': 560},\n",
       " (('Zp', 'Zm'), ('Y', 'X')): {'00': 550, '01': 522, '10': 470, '11': 458},\n",
       " (('Zp', 'Zm'), ('Y', 'Y')): {'00': 45, '01': 43, '10': 996, '11': 916},\n",
       " (('Zp', 'Zm'), ('Y', 'Z')): {'00': 460, '01': 473, '10': 567, '11': 500},\n",
       " (('Zp', 'Zm'), ('Z', 'X')): {'00': 1034, '01': 10, '10': 936, '11': 20},\n",
       " (('Zp', 'Zm'), ('Z', 'Y')): {'00': 70, '01': 8, '10': 1908, '11': 14},\n",
       " (('Zp', 'Zm'), ('Z', 'Z')): {'00': 923, '01': 12, '10': 1053, '11': 12},\n",
       " (('Zp', 'Xp'), ('X', 'X')): {'00': 980, '01': 999, '10': 10, '11': 11},\n",
       " (('Zp', 'Xp'), ('X', 'Y')): {'00': 538, '01': 577, '10': 450, '11': 435},\n",
       " (('Zp', 'Xp'), ('X', 'Z')): {'00': 510, '01': 464, '10': 524, '11': 502},\n",
       " (('Zp', 'Xp'), ('Y', 'X')): {'00': 1040, '01': 933, '10': 7, '11': 20},\n",
       " (('Zp', 'Xp'), ('Y', 'Y')): {'00': 532, '01': 519, '10': 469, '11': 480},\n",
       " (('Zp', 'Xp'), ('Y', 'Z')): {'00': 475, '01': 453, '10': 585, '11': 487},\n",
       " (('Zp', 'Xp'), ('Z', 'X')): {'00': 1956, '01': 30, '10': 14},\n",
       " (('Zp', 'Xp'), ('Z', 'Y')): {'00': 1020, '01': 15, '10': 952, '11': 13},\n",
       " (('Zp', 'Xp'), ('Z', 'Z')): {'00': 900, '01': 11, '10': 1074, '11': 15},\n",
       " (('Zp', 'Yp'), ('X', 'X')): {'00': 464, '01': 460, '10': 588, '11': 488},\n",
       " (('Zp', 'Yp'), ('X', 'Y')): {'00': 506, '01': 549, '10': 494, '11': 451},\n",
       " (('Zp', 'Yp'), ('X', 'Z')): {'00': 44, '01': 40, '10': 994, '11': 922},\n",
       " (('Zp', 'Yp'), ('Y', 'X')): {'00': 475, '01': 444, '10': 585, '11': 496},\n",
       " (('Zp', 'Yp'), ('Y', 'Y')): {'00': 531, '01': 497, '10': 498, '11': 474},\n",
       " (('Zp', 'Yp'), ('Y', 'Z')): {'00': 41, '01': 45, '10': 1008, '11': 906},\n",
       " (('Zp', 'Yp'), ('Z', 'X')): {'00': 925, '01': 23, '10': 1043, '11': 9},\n",
       " (('Zp', 'Yp'), ('Z', 'Y')): {'00': 992, '01': 7, '10': 994, '11': 7},\n",
       " (('Zp', 'Yp'), ('Z', 'Z')): {'00': 59, '01': 7, '10': 1914, '11': 20},\n",
       " (('Zm', 'Zp'), ('X', 'X')): {'00': 490, '01': 526, '10': 502, '11': 482},\n",
       " (('Zm', 'Zp'), ('X', 'Y')): {'00': 34, '01': 32, '10': 950, '11': 984},\n",
       " (('Zm', 'Zp'), ('X', 'Z')): {'00': 516, '01': 456, '10': 503, '11': 525},\n",
       " (('Zm', 'Zp'), ('Y', 'X')): {'00': 504, '01': 477, '10': 507, '11': 512},\n",
       " (('Zm', 'Zp'), ('Y', 'Y')): {'00': 39, '01': 48, '10': 979, '11': 934},\n",
       " (('Zm', 'Zp'), ('Y', 'Z')): {'00': 482, '01': 459, '10': 541, '11': 518},\n",
       " (('Zm', 'Zp'), ('Z', 'X')): {'00': 32, '01': 991, '10': 34, '11': 943},\n",
       " (('Zm', 'Zp'), ('Z', 'Y')): {'00': 11, '01': 68, '10': 60, '11': 1861},\n",
       " (('Zm', 'Zp'), ('Z', 'Z')): {'00': 35, '01': 912, '10': 39, '11': 1014},\n",
       " (('Zm', 'Zm'), ('X', 'X')): {'00': 534, '01': 512, '10': 494, '11': 460},\n",
       " (('Zm', 'Zm'), ('X', 'Y')): {'00': 993, '01': 980, '10': 10, '11': 17},\n",
       " (('Zm', 'Zm'), ('X', 'Z')): {'00': 537, '01': 566, '10': 470, '11': 427},\n",
       " (('Zm', 'Zm'), ('Y', 'X')): {'00': 489, '01': 579, '10': 505, '11': 427},\n",
       " (('Zm', 'Zm'), ('Y', 'Y')): {'00': 983, '01': 981, '10': 18, '11': 18},\n",
       " (('Zm', 'Zm'), ('Y', 'Z')): {'00': 543, '01': 530, '10': 435, '11': 492},\n",
       " (('Zm', 'Zm'), ('Z', 'X')): {'00': 44, '01': 1032, '10': 24, '11': 900},\n",
       " (('Zm', 'Zm'), ('Z', 'Y')): {'00': 69, '01': 1892, '10': 6, '11': 33},\n",
       " (('Zm', 'Zm'), ('Z', 'Z')): {'00': 42, '01': 1029, '10': 38, '11': 891},\n",
       " (('Zm', 'Xp'), ('X', 'X')): {'00': 992, '01': 983, '10': 12, '11': 13},\n",
       " (('Zm', 'Xp'), ('X', 'Y')): {'00': 520, '01': 500, '10': 522, '11': 458},\n",
       " (('Zm', 'Xp'), ('X', 'Z')): {'00': 564, '01': 539, '10': 477, '11': 420},\n",
       " (('Zm', 'Xp'), ('Y', 'X')): {'00': 992, '01': 989, '10': 13, '11': 6},\n",
       " (('Zm', 'Xp'), ('Y', 'Y')): {'00': 509, '01': 527, '10': 471, '11': 493},\n",
       " (('Zm', 'Xp'), ('Y', 'Z')): {'00': 504, '01': 548, '10': 463, '11': 485},\n",
       " (('Zm', 'Xp'), ('Z', 'X')): {'00': 72, '01': 1901, '10': 1, '11': 26},\n",
       " (('Zm', 'Xp'), ('Z', 'Y')): {'00': 30, '01': 986, '10': 32, '11': 952},\n",
       " (('Zm', 'Xp'), ('Z', 'Z')): {'00': 32, '01': 1046, '10': 31, '11': 891},\n",
       " (('Zm', 'Yp'), ('X', 'X')): {'00': 481, '01': 453, '10': 511, '11': 555},\n",
       " (('Zm', 'Yp'), ('X', 'Y')): {'00': 513, '01': 517, '10': 491, '11': 479},\n",
       " (('Zm', 'Yp'), ('X', 'Z')): {'00': 1013, '01': 960, '10': 15, '11': 12},\n",
       " (('Zm', 'Yp'), ('Y', 'X')): {'00': 486, '01': 471, '10': 512, '11': 531},\n",
       " (('Zm', 'Yp'), ('Y', 'Y')): {'00': 507, '01': 484, '10': 511, '11': 498},\n",
       " (('Zm', 'Yp'), ('Y', 'Z')): {'00': 989, '01': 974, '10': 20, '11': 17},\n",
       " (('Zm', 'Yp'), ('Z', 'X')): {'00': 29, '01': 938, '10': 28, '11': 1005},\n",
       " (('Zm', 'Yp'), ('Z', 'Y')): {'00': 35, '01': 1003, '10': 28, '11': 934},\n",
       " (('Zm', 'Yp'), ('Z', 'Z')): {'00': 56, '01': 1911, '10': 8, '11': 25},\n",
       " (('Xp', 'Zp'), ('X', 'X')): {'00': 968, '01': 42, '10': 49, '11': 941},\n",
       " (('Xp', 'Zp'), ('X', 'Y')): {'00': 522, '01': 436, '10': 518, '11': 524},\n",
       " (('Xp', 'Zp'), ('X', 'Z')): {'00': 546, '01': 477, '10': 494, '11': 483},\n",
       " (('Xp', 'Zp'), ('Y', 'X')): {'00': 463, '01': 537, '10': 515, '11': 485},\n",
       " (('Xp', 'Zp'), ('Y', 'Y')): {'00': 471, '01': 513, '10': 566, '11': 450},\n",
       " (('Xp', 'Zp'), ('Y', 'Z')): {'00': 983, '01': 50, '10': 46, '11': 921},\n",
       " (('Xp', 'Zp'), ('Z', 'X')): {'00': 514, '01': 500, '10': 520, '11': 466},\n",
       " (('Xp', 'Zp'), ('Z', 'Y')): {'00': 923, '01': 50, '10': 37, '11': 990},\n",
       " (('Xp', 'Zp'), ('Z', 'Z')): {'00': 557, '01': 490, '10': 439, '11': 514},\n",
       " (('Xp', 'Zm'), ('X', 'X')): {'00': 1031, '01': 51, '10': 40, '11': 878},\n",
       " (('Xp', 'Zm'), ('X', 'Y')): {'00': 567, '01': 479, '10': 477, '11': 477},\n",
       " (('Xp', 'Zm'), ('X', 'Z')): {'00': 500, '01': 537, '10': 543, '11': 420},\n",
       " (('Xp', 'Zm'), ('Y', 'X')): {'00': 523, '01': 540, '10': 493, '11': 444},\n",
       " (('Xp', 'Zm'), ('Y', 'Y')): {'00': 548, '01': 442, '10': 475, '11': 535},\n",
       " (('Xp', 'Zm'), ('Y', 'Z')): {'00': 77, '01': 952, '10': 955, '11': 16},\n",
       " (('Xp', 'Zm'), ('Z', 'X')): {'00': 525, '01': 540, '10': 447, '11': 488},\n",
       " (('Xp', 'Zm'), ('Z', 'Y')): {'00': 64, '01': 939, '10': 972, '11': 25},\n",
       " (('Xp', 'Zm'), ('Z', 'Z')): {'00': 478, '01': 522, '10': 550, '11': 450},\n",
       " (('Xp', 'Xp'), ('X', 'X')): {'00': 1960, '01': 24, '10': 6, '11': 10},\n",
       " (('Xp', 'Xp'), ('X', 'Y')): {'00': 984, '01': 17, '10': 974, '11': 25},\n",
       " (('Xp', 'Xp'), ('X', 'Z')): {'00': 993, '01': 17, '10': 975, '11': 15},\n",
       " (('Xp', 'Xp'), ('Y', 'X')): {'00': 981, '01': 1004, '10': 10, '11': 5},\n",
       " (('Xp', 'Xp'), ('Y', 'Y')): {'00': 541, '01': 473, '10': 465, '11': 521},\n",
       " (('Xp', 'Xp'), ('Y', 'Z')): {'00': 506, '01': 473, '10': 496, '11': 525},\n",
       " (('Xp', 'Xp'), ('Z', 'X')): {'00': 1021, '01': 962, '10': 10, '11': 7},\n",
       " (('Xp', 'Xp'), ('Z', 'Y')): {'00': 549, '01': 497, '10': 463, '11': 491},\n",
       " (('Xp', 'Xp'), ('Z', 'Z')): {'00': 484, '01': 571, '10': 499, '11': 446},\n",
       " (('Xp', 'Yp'), ('X', 'X')): {'00': 888, '01': 35, '10': 41, '11': 1036},\n",
       " (('Xp', 'Yp'), ('X', 'Y')): {'00': 473, '01': 499, '10': 469, '11': 559},\n",
       " (('Xp', 'Yp'), ('X', 'Z')): {'00': 471, '01': 579, '10': 485, '11': 465},\n",
       " (('Xp', 'Yp'), ('Y', 'X')): {'00': 433, '01': 498, '10': 598, '11': 471},\n",
       " (('Xp', 'Yp'), ('Y', 'Y')): {'00': 966, '01': 50, '10': 52, '11': 932},\n",
       " (('Xp', 'Yp'), ('Y', 'Z')): {'00': 590, '01': 501, '10': 474, '11': 435},\n",
       " (('Xp', 'Yp'), ('Z', 'X')): {'00': 496, '01': 471, '10': 529, '11': 504},\n",
       " (('Xp', 'Yp'), ('Z', 'Y')): {'00': 531, '01': 516, '10': 476, '11': 477},\n",
       " (('Xp', 'Yp'), ('Z', 'Z')): {'00': 66, '01': 958, '10': 958, '11': 18},\n",
       " (('Yp', 'Zp'), ('X', 'X')): {'00': 535, '01': 477, '10': 505, '11': 483},\n",
       " (('Yp', 'Zp'), ('X', 'Y')): {'00': 543, '01': 449, '10': 473, '11': 535},\n",
       " (('Yp', 'Zp'), ('X', 'Z')): {'00': 77, '01': 933, '10': 964, '11': 26},\n",
       " (('Yp', 'Zp'), ('Y', 'X')): {'00': 969, '01': 40, '10': 48, '11': 943},\n",
       " (('Yp', 'Zp'), ('Y', 'Y')): {'00': 490, '01': 498, '10': 489, '11': 523},\n",
       " (('Yp', 'Zp'), ('Y', 'Z')): {'00': 508, '01': 541, '10': 471, '11': 480},\n",
       " (('Yp', 'Zp'), ('Z', 'X')): {'00': 510, '01': 472, '10': 518, '11': 500},\n",
       " (('Yp', 'Zp'), ('Z', 'Y')): {'00': 988, '01': 43, '10': 52, '11': 917},\n",
       " (('Yp', 'Zp'), ('Z', 'Z')): {'00': 561, '01': 475, '10': 441, '11': 523},\n",
       " (('Yp', 'Zm'), ('X', 'X')): {'00': 556, '01': 480, '10': 472, '11': 492},\n",
       " (('Yp', 'Zm'), ('X', 'Y')): {'00': 458, '01': 535, '10': 547, '11': 460},\n",
       " (('Yp', 'Zm'), ('X', 'Z')): {'00': 988, '01': 48, '10': 56, '11': 908},\n",
       " (('Yp', 'Zm'), ('Y', 'X')): {'00': 1060, '01': 42, '10': 55, '11': 843},\n",
       " (('Yp', 'Zm'), ('Y', 'Y')): {'00': 550, '01': 466, '10': 531, '11': 453},\n",
       " (('Yp', 'Zm'), ('Y', 'Z')): {'00': 510, '01': 524, '10': 542, '11': 424},\n",
       " (('Yp', 'Zm'), ('Z', 'X')): {'00': 528, '01': 532, '10': 486, '11': 454},\n",
       " (('Yp', 'Zm'), ('Z', 'Y')): {'00': 75, '01': 890, '10': 997, '11': 38},\n",
       " (('Yp', 'Zm'), ('Z', 'Z')): {'00': 498, '01': 538, '10': 543, '11': 421},\n",
       " (('Yp', 'Xp'), ('X', 'X')): {'00': 1027, '01': 944, '10': 12, '11': 17},\n",
       " (('Yp', 'Xp'), ('X', 'Y')): {'00': 530, '01': 507, '10': 530, '11': 433},\n",
       " (('Yp', 'Xp'), ('X', 'Z')): {'00': 539, '01': 472, '10': 539, '11': 450},\n",
       " (('Yp', 'Xp'), ('Y', 'X')): {'00': 1943, '01': 39, '10': 13, '11': 5},\n",
       " (('Yp', 'Xp'), ('Y', 'Y')): {'00': 1023, '01': 15, '10': 949, '11': 13},\n",
       " (('Yp', 'Xp'), ('Y', 'Z')): {'00': 990, '01': 17, '10': 976, '11': 17},\n",
       " (('Yp', 'Xp'), ('Z', 'X')): {'00': 949, '01': 1022, '10': 12, '11': 17},\n",
       " (('Yp', 'Xp'), ('Z', 'Y')): {'00': 555, '01': 520, '10': 466, '11': 459},\n",
       " (('Yp', 'Xp'), ('Z', 'Z')): {'00': 461, '01': 532, '10': 539, '11': 468},\n",
       " (('Yp', 'Yp'), ('X', 'X')): {'00': 517, '01': 464, '10': 507, '11': 512},\n",
       " (('Yp', 'Yp'), ('X', 'Y')): {'00': 65, '01': 945, '10': 972, '11': 18},\n",
       " (('Yp', 'Yp'), ('X', 'Z')): {'00': 486, '01': 542, '10': 506, '11': 466},\n",
       " (('Yp', 'Yp'), ('Y', 'X')): {'00': 908, '01': 41, '10': 46, '11': 1005},\n",
       " (('Yp', 'Yp'), ('Y', 'Y')): {'00': 544, '01': 511, '10': 433, '11': 512},\n",
       " (('Yp', 'Yp'), ('Y', 'Z')): {'00': 459, '01': 564, '10': 460, '11': 517},\n",
       " (('Yp', 'Yp'), ('Z', 'X')): {'00': 481, '01': 473, '10': 547, '11': 499},\n",
       " (('Yp', 'Yp'), ('Z', 'Y')): {'00': 510, '01': 526, '10': 488, '11': 476},\n",
       " (('Yp', 'Yp'), ('Z', 'Z')): {'00': 63, '01': 926, '10': 990, '11': 21}}"
      ]
     },
     "execution_count": 73,
     "metadata": {},
     "output_type": "execute_result"
    }
   ],
   "source": [
    "# qpt on default IBM CR - jakarta\n",
    "# 61a7caad6a8ec02080198d89\n",
    "qpt_tomo = ProcessTomographyFitter(job.result(), qpt_circs)\n",
    "qpt_tomo.data"
   ]
  },
  {
   "cell_type": "code",
   "execution_count": 75,
   "id": "29fd99da-4965-40c3-9dd4-3235fc1540ab",
   "metadata": {},
   "outputs": [
    {
     "name": "stdout",
     "output_type": "stream",
     "text": [
      "Fit time: 0.22500014305114746\n",
      "Average gate fidelity: F = 0.40146\n"
     ]
    }
   ],
   "source": [
    "import time\n",
    "t = time.time()\n",
    "choi_fit = qpt_tomo.fit(method='lstsq')\n",
    "print('Fit time:', time.time() - t)\n",
    "print('Average gate fidelity: F = {:.5f}'.format(qi.average_gate_fidelity(choi_fit)))"
   ]
  },
  {
   "cell_type": "code",
   "execution_count": null,
   "id": "4a1e31d6-01b3-48d5-88f5-a0daed1018cd",
   "metadata": {},
   "outputs": [],
   "source": []
  }
 ],
 "metadata": {
  "kernelspec": {
   "display_name": "Python 3",
   "language": "python",
   "name": "python3"
  },
  "language_info": {
   "codemirror_mode": {
    "name": "ipython",
    "version": 3
   },
   "file_extension": ".py",
   "mimetype": "text/x-python",
   "name": "python",
   "nbconvert_exporter": "python",
   "pygments_lexer": "ipython3",
   "version": "3.8.8"
  }
 },
 "nbformat": 4,
 "nbformat_minor": 5
}
