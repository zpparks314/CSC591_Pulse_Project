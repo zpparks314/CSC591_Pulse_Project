{
 "cells": [
  {
   "cell_type": "code",
   "execution_count": 1,
   "id": "9ccd8b6c-7644-4d9f-92ef-35b8dd01d5c7",
   "metadata": {},
   "outputs": [],
   "source": [
    "from qiskit import pulse, circuit, transpile, assemble, schedule, IBMQ, QuantumCircuit, quantum_info as qi \n",
    "import qiskit\n",
    "from qiskit.visualization import plot_gate_map, plot_error_map\n",
    "from qiskit.visualization.pulse_v2 import draw\n",
    "from qiskit.pulse import ShiftPhase, GaussianSquare, Drag, ControlChannel, MeasureChannel, DriveChannel, Play\n",
    "import numpy as np\n",
    "from qiskit.tools import job_monitor\n",
    "from copy import deepcopy\n",
    "import scipy.optimize as opt\n",
    "import matplotlib.pyplot as plt"
   ]
  },
  {
   "cell_type": "code",
   "execution_count": 107,
   "id": "9766178c-d28c-4b95-950e-31c97debb942",
   "metadata": {},
   "outputs": [
    {
     "name": "stderr",
     "output_type": "stream",
     "text": [
      "ibmqfactory.load_account:WARNING:2021-11-10 14:21:15,715: Credentials are already in use. The existing account in the session will be replaced.\n"
     ]
    }
   ],
   "source": [
    "account_provider = IBMQ.load_account()\n",
    "provider_opts = {'hub': 'ibm-q-ncsu', 'group': 'nc-state', 'project':'noiseanderror'}\n",
    "\n",
    "# target backend\n",
    "backend_name = 'ibmq_jakarta'\n",
    "\n",
    "provider = IBMQ.get_provider(**provider_opts)\n",
    "backend = provider.get_backend(backend_name)\n",
    "\n",
    "# backend information\n",
    "config = backend.configuration()\n",
    "defaults = backend.defaults()\n",
    "properties = backend.properties()\n",
    "\n",
    "# instruction schedule map\n",
    "inst_map = defaults.instruction_schedule_map"
   ]
  },
  {
   "cell_type": "code",
   "execution_count": 3,
   "id": "9e116a5c-0efb-4371-ba6a-d480ac8d1e15",
   "metadata": {},
   "outputs": [
    {
     "data": {
      "image/png": "[encoded data removed]",
      "text/plain": [
       "<Figure size 360x360 with 1 Axes>"
      ]
     },
     "execution_count": 3,
     "metadata": {},
     "output_type": "execute_result"
    }
   ],
   "source": [
    "qubits = plot_gate_map(backend)\n",
    "qubits"
   ]
  },
  {
   "cell_type": "code",
   "execution_count": 80,
   "id": "c600efee-9bc0-49e6-a898-7da4314173a4",
   "metadata": {},
   "outputs": [],
   "source": [
    "def extract_cr_params(cx_sched):\n",
    "    cr_params = {}\n",
    "    for time, inst in cx_sched.instructions:\n",
    "        if isinstance(inst, Play):\n",
    "            if isinstance(inst.pulse, GaussianSquare):\n",
    "                if isinstance(inst.operands[1], ControlChannel):\n",
    "                    cr_params[\"duration\"] = inst.pulse.duration\n",
    "                    cr_params[\"width\"] = inst.pulse.width\n",
    "                    cr_params[\"sigma\"] = inst.pulse.sigma\n",
    "                    cr_params[\"cr_amp\"] = inst.pulse.amp\n",
    "                    cr_params[\"channel\"] = inst.channel\n",
    "    return cr_params\n",
    "                    \n",
    "\n",
    "def build_cr_schedule(backend, qc, qt, cr_params, cr_name):\n",
    "    \n",
    "    with pulse.build(backend=backend, default_alignment=\"left\", name=\"cr_schedule\") as cross_resonance:\n",
    "        pulse.play(GaussianSquare(\n",
    "            duration=cr_params[\"duration\"],\n",
    "            amp=cr_params[\"cr_amp\"],\n",
    "            width=cr_params[\"width\"],\n",
    "            sigma=cr_params[\"sigma\"],\n",
    "            name=cr_name\n",
    "        ),\n",
    "        pulse.control_channels(qc, qt)[0],\n",
    "    )\n",
    "        if not np.isclose(cr_params[\"cancel_amp\"], 0.0):\n",
    "            pulse.play(GaussianSquare(\n",
    "                duration=cr_params[\"duration\"],\n",
    "                amp=cr_params[\"cancel_amp\"],\n",
    "                width=cr_params[\"width\"],\n",
    "                sigma=cr_params[\"sigma\"],\n",
    "        ),\n",
    "        pulse.drive_channel(qt),\n",
    "    )\n",
    "        else:\n",
    "            pulse.delay(cr_params[\"duration\"], pulse.drive_channel(qt))\n",
    "        pulse.delay(cr_params[\"duration\"], pulse.drive_channel(qc))\n",
    "        \n",
    "    return cross_resonance\n",
    "\n",
    "def build_cr_circuit(gate):\n",
    "    \n",
    "    cr_circuit = QuantumCircuit(2)\n",
    "    cr_circuit.append(gate, [0, 1])\n",
    "\n",
    "    \n",
    "    return cr_circuit\n",
    "\n",
    "def build_amp_experiment_circuits(backend, qc, qt, amps, cr_params, rotary=False):\n",
    "    \n",
    "    circ_list = []\n",
    "    \n",
    "    inst_map_list = []\n",
    "    for amplitude in amps:\n",
    "        \n",
    "        new_inst_map = deepcopy(inst_map)\n",
    "    \n",
    "\n",
    "        cr_p_gate = circuit.Gate(\n",
    "            \"cr_p_gate\",\n",
    "            num_qubits=2,\n",
    "            params=[amplitude],\n",
    "        )\n",
    "        \n",
    "        \n",
    "        cr_m_gate = circuit.Gate(\n",
    "            \"cr_m_gate\",\n",
    "            num_qubits=2,\n",
    "            params=[-amplitude],\n",
    "        )\n",
    "        \n",
    "        exp_circ = QuantumCircuit(2)\n",
    "\n",
    "        ## add control state prep when needed\n",
    "        \n",
    "        \n",
    "        exp_circ.rz(-np.pi/2, 0)\n",
    "        exp_circ.x(0)\n",
    "        exp_circ.compose(other=build_cr_circuit(cr_p_gate), qubits=[0, 1], inplace=True)\n",
    "        exp_circ.x(0)\n",
    "        exp_circ.compose(other=build_cr_circuit(cr_m_gate), qubits=[0, 1], inplace=True)\n",
    "#         exp_circ.x(0)\n",
    "        \n",
    "        exp_circ.metadata={\n",
    "            \"qubits\": (qc, qt)\n",
    "        }\n",
    "\n",
    "        if rotary is True:\n",
    "            cr_params['cancel_amp'] = amplitude\n",
    "            \n",
    "        cr_params[\"phi\"] = 0\n",
    "        cr_params['cr_amp'] = amplitude * np.exp(-1j*cr_params[\"phi\"])\n",
    "#         print(cr_params[\"cr_amp\"], cr_params['phi'])\n",
    "        exp_circ.add_calibration(gate=cr_p_gate,\n",
    "                                qubits=[qc,qt],\n",
    "                                schedule=build_cr_schedule(backend, qc, qt, cr_params, cr_name=\"cr_p\"))\n",
    "        \n",
    "        cr_params['phi'] = cr_params['phi'] + np.pi\n",
    "        cr_params['cr_amp'] = amplitude * np.exp(-1j*cr_params[\"phi\"])\n",
    "#         print(cr_params[\"cr_amp\"], cr_params['phi'])\n",
    "        exp_circ.add_calibration(gate=cr_m_gate,\n",
    "                                qubits=[qc,qt],\n",
    "                                schedule=build_cr_schedule(backend, qc, qt, cr_params, cr_name=\"cr_m\"))\n",
    "        exp_circ.measure_active()\n",
    "        \n",
    "#         new_inst_map.add('cr_gate', qubits=[qc, qt], schedule=build_cr_schedule(backend, qc, qt, cr_params))\n",
    "        \n",
    "        circ_list.append(exp_circ)\n",
    "        inst_map_list.append(new_inst_map)\n",
    "    return circ_list, inst_map_list\n",
    "\n",
    "def build_phase_experiment_circuits(backend, qc, qt, phases, cr_params, rotary=False):\n",
    "    \n",
    "    circ_list = []\n",
    "    inst_map_list = []\n",
    "    amp = cr_params['cr_amp']\n",
    "    for phase in phases:\n",
    "        new_inst_map = deepcopy(inst_map)\n",
    "    \n",
    "        cr_p_gate = circuit.Gate(\n",
    "            \"cr_p_gate\",\n",
    "            num_qubits=2,\n",
    "            params=[phase],\n",
    "        )\n",
    "        \n",
    "        cr_m_gate = circuit.Gate(\n",
    "            \"cr_m_gate\",\n",
    "            num_qubits=2,\n",
    "            params=[phase],\n",
    "        )\n",
    "        exp_circ = QuantumCircuit(2)\n",
    "        exp_circ.rz(-np.pi/2, 0)\n",
    "        exp_circ.x(0)\n",
    "        exp_circ.compose(other=build_cr_circuit(cr_p_gate), qubits=[0, 1], inplace=True)\n",
    "        exp_circ.x(0)\n",
    "        exp_circ.compose(other=build_cr_circuit(cr_m_gate), qubits=[0, 1], inplace=True)\n",
    "        exp_circ.barrier(0, 1)\n",
    "        exp_circ.sdg(1)\n",
    "        exp_circ.h(1)\n",
    "        \n",
    "        \n",
    "        exp_circ.metadata={\n",
    "            \"qubits\": (qc, qt)\n",
    "        }\n",
    "        \n",
    "        if rotary is True:\n",
    "            cr_params['cancel_amp'] = cr_params[\"cr_amp\"]\n",
    "        \n",
    "        cr_params['cr_amp'] = amp * np.exp(-1j*phase)\n",
    "#         print(cr_params['cr_amp'])\n",
    "        exp_circ.add_calibration(gate=cr_p_gate,\n",
    "                                qubits=[qc,qt],\n",
    "                                schedule=build_cr_schedule(backend, qc, qt, cr_params, cr_name=\"cr_p\"))\n",
    "\n",
    "        phase = phase + np.pi\n",
    "        cr_params['cr_amp'] = amp * np.exp(-1j*phase)\n",
    "#         print(cr_params['cr_amp'])\n",
    "        exp_circ.add_calibration(gate=cr_m_gate,\n",
    "                                qubits=[qc,qt],\n",
    "                                schedule=build_cr_schedule(backend, qc, qt, cr_params, cr_name=\"cr_m\"))\n",
    "        exp_circ.measure_active()\n",
    "        \n",
    "        circ_list.append(exp_circ)\n",
    "        inst_map_list.append(new_inst_map)\n",
    "        \n",
    "    return circ_list, inst_map_list\n",
    "\n",
    "def build_single_cr_circuit(backend, qc, qt, cr_params, rotary=False):\n",
    "    amp = cr_params['cr_amp']\n",
    "    cr_p_gate = circuit.Gate(\n",
    "            \"cr_p_gate\",\n",
    "            num_qubits=2,\n",
    "            params=[cr_params[\"cr_amp\"], cr_params[\"phase\"]],\n",
    "        )\n",
    "        \n",
    "    cr_m_gate = circuit.Gate(\n",
    "            \"cr_m_gate\",\n",
    "            num_qubits=2,\n",
    "            params=[cr_params[\"cr_amp\"], cr_params[\"phase\"]],\n",
    "        )\n",
    "    exp_circ = QuantumCircuit(2)\n",
    "\n",
    "        \n",
    "    exp_circ.rz(-np.pi/2, 0)\n",
    "    exp_circ.x(0)\n",
    "    exp_circ.compose(other=build_cr_circuit(cr_p_gate), qubits=[0, 1], inplace=True)\n",
    "    exp_circ.x(0)\n",
    "    exp_circ.compose(other=build_cr_circuit(cr_m_gate), qubits=[0, 1], inplace=True)\n",
    "    \n",
    "    exp_circ.metadata={\n",
    "        \"qubits\": (qc, qt)\n",
    "    }\n",
    "\n",
    "    if rotary is True:\n",
    "        cr_params['cancel_amp'] = amplitude\n",
    "        \n",
    "    cr_params['cr_amp'] = amp * np.exp(-1j*cr_params[\"phase\"])\n",
    "    exp_circ.add_calibration(gate=cr_p_gate,\n",
    "                            qubits=[qc,qt],\n",
    "                            schedule=build_cr_schedule(backend, qc, qt, cr_params, cr_name=\"cr_p\"))\n",
    "\n",
    "    cr_params['cr_amp'] = amp * np.exp(-1j*(cr_params[\"phase\"]+np.pi))\n",
    "    exp_circ.add_calibration(gate=cr_m_gate,\n",
    "                            qubits=[qc,qt],\n",
    "                            schedule=build_cr_schedule(backend, qc, qt, cr_params, cr_name=\"cr_m\"))  \n",
    "    \n",
    "    return exp_circ\n",
    "    \n",
    "        \n",
    "def expectation_val(count_dict, mem_ind):\n",
    "\n",
    "    expv = 0\n",
    "    for key, val in count_dict.items():\n",
    "        if key[::-1][mem_ind] == '1':\n",
    "#             print(key, val)\n",
    "            expv -= val\n",
    "        else:\n",
    "            expv += val\n",
    "#     print(expv)\n",
    "    return expv / sum(count_dict.values())"
   ]
  },
  {
   "cell_type": "code",
   "execution_count": 5,
   "id": "d387a720-f95a-456b-938e-4d84298e17d4",
   "metadata": {},
   "outputs": [],
   "source": [
    "q1, q2 = 0, 1\n",
    "mem_ind = 0 if q1 > q2 else 1"
   ]
  },
  {
   "cell_type": "markdown",
   "id": "11724243-e7a5-482e-9982-7602a327bdff",
   "metadata": {},
   "source": [
    "# IBM's cross resonance gate\n",
    "This is what IBM's cross-resonance gate looks like - extracted from the CX pulse schedule, and with the rotary tones not shown."
   ]
  },
  {
   "cell_type": "code",
   "execution_count": 93,
   "id": "4c89002a-419f-41e5-8cde-5f2f0c38cf85",
   "metadata": {},
   "outputs": [
    {
     "data": {
      "image/png": "[encoded data removed]",
      "text/plain": [
       "<Figure size 936x334.8 with 1 Axes>"
      ]
     },
     "execution_count": 93,
     "metadata": {},
     "output_type": "execute_result"
    }
   ],
   "source": [
    "cx_sched = inst_map.get('cx', qubits=[q1, q2])\n",
    "draw(cx_sched, backend=backend, disable_channels=[DriveChannel(q2)])"
   ]
  },
  {
   "cell_type": "code",
   "execution_count": 7,
   "id": "03547cc2-24e0-4072-aae9-dcf6951711e6",
   "metadata": {},
   "outputs": [
    {
     "name": "stdout",
     "output_type": "stream",
     "text": [
      "ShiftPhase(1.5707963267948966, DriveChannel(0))\n",
      "ShiftPhase(1.5707963267948966, ControlChannel(1))\n",
      "Play(Drag(duration=160, amp=(-3.644999882003519e-17-0.1984245517178945j), sigma=40, beta=-0.9829540157682223, name='Ym_d0'), DriveChannel(0), name='Ym_d0')\n",
      "Play(Drag(duration=160, amp=(0.09599921320851101+0.0020938824069987425j), sigma=40, beta=-1.086177309605262, name='X90p_d1'), DriveChannel(1), name='X90p_d1')\n",
      "Play(GaussianSquare(duration=368, amp=(0.11223042808642263+0.0022701128456869457j), sigma=64, width=112, name='CR90p_d1_u0'), DriveChannel(1), name='CR90p_d1_u0')\n",
      "Play(GaussianSquare(duration=368, amp=(-0.008041427821612962-0.758593746090016j), sigma=64, width=112, name='CR90p_u0'), ControlChannel(0), name='CR90p_u0')\n",
      "Play(Drag(duration=160, amp=(0.1984245517178945+0j), sigma=40, beta=-0.9829540157682223, name='Xp_d0'), DriveChannel(0), name='Xp_d0')\n",
      "Play(GaussianSquare(duration=368, amp=(-0.11223042808642263-0.002270112845686932j), sigma=64, width=112, name='CR90m_d1_u0'), DriveChannel(1), name='CR90m_d1_u0')\n",
      "Play(GaussianSquare(duration=368, amp=(0.008041427821613056+0.758593746090016j), sigma=64, width=112, name='CR90m_u0'), ControlChannel(0), name='CR90m_u0')\n"
     ]
    }
   ],
   "source": [
    "for time, inst in cx_sched.instructions:\n",
    "    print(inst)"
   ]
  },
  {
   "cell_type": "code",
   "execution_count": 8,
   "id": "c77a1d8e-b5f8-4797-b805-ef9274677193",
   "metadata": {},
   "outputs": [],
   "source": [
    "cr_params = extract_cr_params(cx_sched)\n",
    "cr_params[\"cancel_amp\"] = 0.0\n",
    "cr_params[\"phi\"] = 0\n",
    "# print(cr_params)\n",
    "\n",
    "max_cr_amplitude = 1.0\n",
    "num_amps = 70\n",
    "cr_amps = np.linspace(-max_cr_amplitude, max_cr_amplitude, num_amps)\n",
    "# print(cr_amps)"
   ]
  },
  {
   "cell_type": "code",
   "execution_count": 9,
   "id": "65d367a4-cc53-43c9-b099-d85a34c3340c",
   "metadata": {},
   "outputs": [],
   "source": [
    "exp_circuits, exp_inst_maps = build_amp_experiment_circuits(backend, q1, q2, cr_amps, cr_params)\n",
    "# exp_circuits[19].draw()"
   ]
  },
  {
   "cell_type": "code",
   "execution_count": 10,
   "id": "29c9af88-163c-4ba5-8022-57d5874b7c6d",
   "metadata": {},
   "outputs": [
    {
     "name": "stdout",
     "output_type": "stream",
     "text": [
      "ShiftPhase(1.5707963267949, DriveChannel(0))\n",
      "ShiftPhase(1.5707963267949, ControlChannel(1))\n",
      "Play(Drag(duration=160, amp=(0.1984245517178945+0j), sigma=40, beta=-0.9829540157682223, name='Xp_d0'), DriveChannel(0), name='Xp_d0')\n",
      "Delay(368, DriveChannel(0))\n",
      "Delay(368, DriveChannel(1))\n",
      "Play(GaussianSquare(duration=368, amp=(-0.8840579710144928+0j), sigma=64, width=112, name='cr_p'), ControlChannel(0), name='cr_p')\n",
      "Play(Drag(duration=160, amp=(0.1984245517178945+0j), sigma=40, beta=-0.9829540157682223, name='Xp_d0'), DriveChannel(0), name='Xp_d0')\n",
      "Delay(368, DriveChannel(0))\n",
      "Delay(368, DriveChannel(1))\n",
      "Play(GaussianSquare(duration=368, amp=(0.8840579710144928+1.0826587644636022e-16j), sigma=64, width=112, name='cr_m'), ControlChannel(0), name='cr_m')\n",
      "Acquire(22400, AcquireChannel(0), MemorySlot(0))\n",
      "Acquire(22400, AcquireChannel(1), MemorySlot(1))\n",
      "Play(GaussianSquare(duration=22400, amp=(-0.19482499002862397-0.016231859423571263j), sigma=64, width=22144, name='M_m0'), MeasureChannel(0), name='M_m0')\n",
      "Play(GaussianSquare(duration=22400, amp=(-0.12772073469298864-0.1480123776225597j), sigma=64, width=22144, name='M_m1'), MeasureChannel(1), name='M_m1')\n",
      "Delay(1680, MeasureChannel(0))\n",
      "Delay(1680, MeasureChannel(1))\n"
     ]
    }
   ],
   "source": [
    "tc = transpile(exp_circuits, backend, initial_layout=[q1, q2])\n",
    "sched = schedule(tc, backend)\n",
    "for time, inst in sched[4].instructions:\n",
    "    print(inst)"
   ]
  },
  {
   "cell_type": "code",
   "execution_count": 11,
   "id": "995634b1-3a3e-4a27-a9cd-59d80f8a8418",
   "metadata": {},
   "outputs": [
    {
     "data": {
      "image/png": "[encoded data removed]",
      "text/plain": [
       "<Figure size 781.331x505.68 with 1 Axes>"
      ]
     },
     "execution_count": 11,
     "metadata": {},
     "output_type": "execute_result"
    }
   ],
   "source": [
    "# tc[0].draw('mpl')"
   ]
  },
  {
   "cell_type": "code",
   "execution_count": 12,
   "id": "ae36c11a-2909-4568-b501-6ad41ecba9bf",
   "metadata": {},
   "outputs": [],
   "source": [
    "# draw(sched[4], backend=backend, time_range=[0, 1000], disable_channels=[MeasureChannel(q1), MeasureChannel(q2)])"
   ]
  },
  {
   "cell_type": "code",
   "execution_count": 13,
   "id": "079a5ddd-3207-4ce6-a734-451d1bbbb606",
   "metadata": {},
   "outputs": [],
   "source": [
    "i = 1\n",
    "identifier = F\"(({max_cr_amplitude}),{num_amps})\""
   ]
  },
  {
   "cell_type": "code",
   "execution_count": 14,
   "id": "f97c7853-fb1f-4bb2-b7e2-e89d1628331b",
   "metadata": {},
   "outputs": [
    {
     "name": "stdout",
     "output_type": "stream",
     "text": [
      "618c03d7513c76539a62fee6\n"
     ]
    }
   ],
   "source": [
    "job = backend.run(tc, job_name=F\"cr_amp_exp_{identifier}\", shots=2048)\n",
    "job_id = job.job_id()\n",
    "print(job.job_id())"
   ]
  },
  {
   "cell_type": "code",
   "execution_count": 15,
   "id": "fe7bef43-9766-4951-82fa-0020aeb1c5a7",
   "metadata": {},
   "outputs": [],
   "source": [
    "# 11/8/2021 - amplitude experiments\n",
    "# ibm_lagos job (9:45~ am) - 6189380f1452777724117b88\n",
    "# ibmq_jakarta job (10:00~ am) - 61893b88902694642fd98881\n",
    "# ibmq_jakarta (10:30~ am) - 6189411bc45f2664c31517c5\n",
    "# ibmq_jakarta (10:51~ am) - 61894761ad7fa029bcd1440f * best results so far (sweeping from (-1.0, 1.0, 70))\n",
    "# ibmq_jakarta (11:23~ am) - 61894f14ad7fa0ed2ad14439\n",
    "# ibmq_jakarta (12:47 pm) - 618962b8ce94116c106c071e (-1.0, 1.0, 70) - CRgate looks more like ibm\n",
    "# ibmq_montreal (11:18~ am) - 61894de8c45f2661c61517fb\n",
    "# ibmq_toronto (11:27~ am) - 61894fdab3f4906ac760bf9e\n",
    "# ibmq_toronto (11:33~ am) - 61895180145277452e117c10\n",
    "\n",
    "# 11/9/2021 - amplitude experiments\n",
    "# ibmq_jakarta (10:33~ am) - 618a94942bf2b36efea11649 (-1.0, 1.0, 70)\n",
    "\n",
    "\n",
    "# 11/10/2021 - amplitude experiments\n",
    "# jakarta (12:40~ pm) - 618c03d7513c76539a62fee6\n",
    "# job_id = \"618962b8ce94116c106c071e\"\n",
    "results = backend.retrieve_job(job_id).result()\n"
   ]
  },
  {
   "cell_type": "code",
   "execution_count": 16,
   "id": "d6f800ed-cda3-400d-b82f-ba0cf494d168",
   "metadata": {},
   "outputs": [
    {
     "name": "stdout",
     "output_type": "stream",
     "text": [
      "[{'00': 796, '01': 13, '10': 1223, '11': 16}, {'00': 811, '01': 20, '10': 1209, '11': 8}, {'00': 843, '01': 24, '10': 1166, '11': 15}, {'00': 880, '01': 19, '10': 1133, '11': 16}, {'00': 892, '01': 17, '10': 1127, '11': 12}, {'00': 949, '01': 30, '10': 1064, '11': 5}, {'00': 973, '01': 19, '10': 1047, '11': 9}, {'00': 980, '01': 9, '10': 1047, '11': 12}, {'00': 1042, '01': 14, '10': 979, '11': 13}, {'00': 1047, '01': 22, '10': 965, '11': 14}, {'00': 1079, '01': 21, '10': 937, '11': 11}, {'00': 1187, '01': 16, '10': 836, '11': 9}, {'00': 1184, '01': 18, '10': 836, '11': 10}, {'00': 1241, '01': 10, '10': 784, '11': 13}, {'00': 1307, '01': 25, '10': 712, '11': 4}, {'00': 1310, '01': 23, '10': 705, '11': 10}, {'00': 1335, '01': 24, '10': 685, '11': 4}, {'00': 1444, '01': 17, '10': 582, '11': 5}, {'00': 1455, '01': 21, '10': 569, '11': 3}, {'00': 1498, '01': 17, '10': 526, '11': 7}, {'00': 1541, '01': 23, '10': 476, '11': 8}, {'00': 1590, '01': 18, '10': 432, '11': 8}, {'00': 1651, '01': 27, '10': 368, '11': 2}, {'00': 1708, '01': 18, '10': 318, '11': 4}, {'00': 1730, '01': 23, '10': 289, '11': 6}, {'00': 1772, '01': 22, '10': 252, '11': 2}, {'00': 1804, '01': 26, '10': 218}, {'00': 1850, '01': 25, '10': 172, '11': 1}, {'00': 1866, '01': 29, '10': 151, '11': 2}, {'00': 1909, '01': 23, '10': 116}, {'00': 1927, '01': 27, '10': 93, '11': 1}, {'00': 1965, '01': 24, '10': 59}, {'00': 1967, '01': 27, '10': 52, '11': 2}, {'00': 1993, '01': 23, '10': 31, '11': 1}, {'00': 1987, '01': 26, '10': 33, '11': 2}, {'00': 1985, '01': 24, '10': 39}, {'00': 1966, '01': 30, '10': 51, '11': 1}, {'00': 1944, '01': 32, '10': 71, '11': 1}, {'00': 1925, '01': 23, '10': 99, '11': 1}, {'00': 1924, '01': 17, '10': 106, '11': 1}, {'00': 1878, '01': 30, '10': 137, '11': 3}, {'00': 1852, '01': 21, '10': 175}, {'00': 1821, '01': 20, '10': 206, '11': 1}, {'00': 1763, '01': 23, '10': 259, '11': 3}, {'00': 1749, '01': 26, '10': 268, '11': 5}, {'00': 1684, '01': 14, '10': 348, '11': 2}, {'00': 1677, '01': 22, '10': 346, '11': 3}, {'00': 1607, '01': 16, '10': 424, '11': 1}, {'00': 1546, '01': 16, '10': 480, '11': 6}, {'00': 1539, '01': 22, '10': 482, '11': 5}, {'00': 1451, '01': 20, '10': 566, '11': 11}, {'00': 1378, '01': 23, '10': 641, '11': 6}, {'00': 1375, '01': 24, '10': 643, '11': 6}, {'00': 1303, '01': 20, '10': 712, '11': 13}, {'00': 1279, '01': 29, '10': 730, '11': 10}, {'00': 1220, '01': 17, '10': 804, '11': 7}, {'00': 1157, '01': 23, '10': 858, '11': 10}, {'00': 1141, '01': 18, '10': 884, '11': 5}, {'00': 1070, '01': 17, '10': 951, '11': 10}, {'00': 1041, '01': 24, '10': 974, '11': 9}, {'00': 986, '01': 18, '10': 1034, '11': 10}, {'00': 930, '01': 17, '10': 1086, '11': 15}, {'00': 907, '01': 14, '10': 1114, '11': 13}, {'00': 880, '01': 19, '10': 1133, '11': 16}, {'00': 850, '01': 18, '10': 1163, '11': 17}, {'00': 870, '01': 10, '10': 1158, '11': 10}, {'00': 788, '01': 18, '10': 1227, '11': 15}, {'00': 773, '01': 15, '10': 1240, '11': 20}, {'00': 735, '01': 13, '10': 1276, '11': 24}, {'00': 743, '01': 17, '10': 1279, '11': 9}]\n"
     ]
    }
   ],
   "source": [
    "count_dict = results.get_counts()\n",
    "print(count_dict)"
   ]
  },
  {
   "cell_type": "code",
   "execution_count": 17,
   "id": "45486405-b3ac-4ef0-9626-2ce70f4a52d4",
   "metadata": {},
   "outputs": [],
   "source": [
    "def cr_fit_3rd_order_perturbation(x, c1, c2):\n",
    "    fx = c1*x - c2*x**3\n",
    "    return np.cos(2 * np.pi * fx)\n",
    "\n",
    "def rough_amp_objective(x, params, opt_phase):\n",
    "    fx = params[0] * x - params[1] * x**3\n",
    "    return np.abs(opt_phase / 2 / np.pi - fx)"
   ]
  },
  {
   "cell_type": "code",
   "execution_count": 18,
   "id": "c3db7124-9212-4a92-b690-47fa823a802f",
   "metadata": {},
   "outputs": [],
   "source": [
    "exp_z = np.zeros_like(cr_amps)\n",
    "for cind in range(len(cr_amps)):\n",
    "    exp_z[cind] = expectation_val(count_dict[cind], mem_ind=mem_ind)\n",
    "# print(exp_z)\n",
    "valid_inds = np.where(np.abs(cr_amps) < 1.0)[0]\n",
    "params, _ = opt.curve_fit(cr_fit_3rd_order_perturbation, xdata=cr_amps[valid_inds], ydata=exp_z[valid_inds])\n",
    "cr_pi2_amp = opt.minimize(rough_amp_objective, x0=0, bounds=[(0, 1)], args=(params, 0.5 * np.pi)).x[0]"
   ]
  },
  {
   "cell_type": "code",
   "execution_count": 19,
   "id": "534f3425-6836-47cf-9223-112a131a2bdc",
   "metadata": {},
   "outputs": [
    {
     "name": "stdout",
     "output_type": "stream",
     "text": [
      "0.7428954429353078\n"
     ]
    }
   ],
   "source": [
    "print(cr_pi2_amp)"
   ]
  },
  {
   "cell_type": "code",
   "execution_count": 21,
   "id": "6eddba03-5a28-4333-9f43-d971bf4964a0",
   "metadata": {},
   "outputs": [
    {
     "data": {
      "image/png": "[encoded data removed]",
      "text/plain": [
       "<Figure size 432x288 with 1 Axes>"
      ]
     },
     "metadata": {
      "needs_background": "light"
     },
     "output_type": "display_data"
    }
   ],
   "source": [
    "x_interp = np.linspace(cr_amps[0], cr_amps[-1], 1000)\n",
    "plt.plot(cr_amps, exp_z, 'o', color='b')\n",
    "plt.plot(x_interp, cr_fit_3rd_order_perturbation(x_interp, *params), color='b')\n",
    "plt.plot([cr_pi2_amp, cr_pi2_amp], [-1, 1], 'b:')\n",
    "plt.xlim(-max_cr_amplitude, max_cr_amplitude)\n",
    "plt.ylim(-1, 1)\n",
    "plt.xlabel('CR amp')\n",
    "plt.ylabel('<Z>')\n",
    "plt.grid()\n",
    "plt.savefig(\"amplitude_calibration_2\")"
   ]
  },
  {
   "cell_type": "code",
   "execution_count": 22,
   "id": "dabc2745-5d9a-4863-a580-e774d17190f9",
   "metadata": {},
   "outputs": [],
   "source": [
    "cr_params = extract_cr_params(cx_sched)\n",
    "cr_params[\"cr_amp\"] = cr_pi2_amp\n",
    "cr_params[\"cancel_amp\"] = 0.0\n",
    "\n",
    "max_phase = np.pi\n",
    "num_phases = 20\n",
    "cr_phases = np.linspace(-max_phase, max_phase, num_phases)\n"
   ]
  },
  {
   "cell_type": "code",
   "execution_count": 23,
   "id": "a0c95399-b28c-4063-82cd-7005207a44da",
   "metadata": {},
   "outputs": [],
   "source": [
    "# for phase in cr_phases:\n",
    "#     print(cr_pi2_amp * np.exp(-1j*phase))\n",
    "#     print(cr_pi2_amp * np.exp(-1j*(phase+np.pi)))"
   ]
  },
  {
   "cell_type": "code",
   "execution_count": 24,
   "id": "b0696997-331e-45ae-a358-c25293b33eb9",
   "metadata": {},
   "outputs": [
    {
     "name": "stdout",
     "output_type": "stream",
     "text": [
      "{'duration': 368, 'width': 112, 'sigma': 64, 'cr_amp': 0.7428954429353078, 'channel': ControlChannel(0), 'cancel_amp': 0.0}\n"
     ]
    }
   ],
   "source": [
    "print(cr_params)"
   ]
  },
  {
   "cell_type": "code",
   "execution_count": 25,
   "id": "70e8a4e8-4a55-44d1-a847-2fffe4cd93ba",
   "metadata": {},
   "outputs": [],
   "source": [
    "phase_exp_circuits, phase_exp_inst_maps = build_phase_experiment_circuits(backend, q1, q2, cr_phases, cr_params)\n"
   ]
  },
  {
   "cell_type": "code",
   "execution_count": 26,
   "id": "68ce958b-4d6f-4f04-951b-1d136f66c54d",
   "metadata": {},
   "outputs": [
    {
     "name": "stderr",
     "output_type": "stream",
     "text": [
      "<ipython-input-26-95e79d3478e8>:6: DeprecationWarning: The QuantumCircuit.__iadd__() method is being deprecated. Use the compose() (potentially with the inplace=True argument) and tensor() methods which are more flexible w.r.t circuit register compatibility.\n",
      "  y1_circ += circ\n",
      "C:\\Users\\Zachary\\anaconda3\\envs\\NewestPythonQiskit\\lib\\site-packages\\qiskit\\circuit\\quantumcircuit.py:942: DeprecationWarning: The QuantumCircuit.extend() method is being deprecated. Use the compose() (potentially with the inplace=True argument) and tensor() methods which are more flexible w.r.t circuit register compatibility.\n",
      "  return self.extend(rhs)\n"
     ]
    }
   ],
   "source": [
    "y0 = deepcopy(phase_exp_circuits)\n",
    "y1 = []\n",
    "for circ in y0:\n",
    "    y1_circ = QuantumCircuit(2)\n",
    "    y1_circ.x(0)\n",
    "    y1_circ += circ\n",
    "    y1.append(y1_circ)"
   ]
  },
  {
   "cell_type": "code",
   "execution_count": 27,
   "id": "991b7985-f43c-4eb2-acdb-d0b8cf9ec504",
   "metadata": {},
   "outputs": [],
   "source": [
    "phase_exp_circuits = y0+y1\n",
    "tc = transpile(phase_exp_circuits, backend, initial_layout=[q1, q2])\n",
    "identifier = F\"(({max_phase}),{num_phases})\""
   ]
  },
  {
   "cell_type": "code",
   "execution_count": 32,
   "id": "1d83035e-e327-48cd-8f6e-d8db1a132aa2",
   "metadata": {},
   "outputs": [
    {
     "name": "stdout",
     "output_type": "stream",
     "text": [
      "618c06763b109cdd2747751f\n"
     ]
    }
   ],
   "source": [
    "job = backend.run(tc, job_name=F\"cr_amp_exp_{identifier}\", shots=2048)\n",
    "job_id = job.job_id()\n",
    "print(job.job_id())"
   ]
  },
  {
   "cell_type": "code",
   "execution_count": 33,
   "id": "c5dbd459-22c3-4d8a-b322-b66395dd1319",
   "metadata": {},
   "outputs": [
    {
     "name": "stdout",
     "output_type": "stream",
     "text": [
      "618c047e513c768d4d62feee\n"
     ]
    }
   ],
   "source": [
    "# 11/9/2021 - phase experiments\n",
    "# ibmq_jakarta (11:27~ am) - 618aa15deb641130bbbb5c4f (-np.pi, np.pi, 20)\n",
    "\n",
    "# 11/10/2021 - phase experiments\n",
    "# jakarta (12:42~ pm) - 618c047e513c768d4d62feee (-np.pi, np.pi, 20) \n",
    "# job_id = \"618c047e513c768d4d62feee\"\n",
    "results = backend.retrieve_job(job_id).result()\n",
    "print(job_id)"
   ]
  },
  {
   "cell_type": "code",
   "execution_count": 34,
   "id": "7996c458-ed74-41bb-910b-073354e31a83",
   "metadata": {},
   "outputs": [
    {
     "name": "stdout",
     "output_type": "stream",
     "text": [
      "[{'00': 1024, '01': 21, '10': 981, '11': 22}, {'00': 735, '01': 16, '10': 1279, '11': 18}, {'00': 439, '01': 11, '10': 1584, '11': 14}, {'00': 243, '01': 8, '10': 1773, '11': 24}, {'00': 97, '01': 14, '10': 1917, '11': 20}, {'00': 73, '01': 14, '10': 1944, '11': 17}, {'00': 135, '01': 8, '10': 1874, '11': 31}, {'00': 284, '01': 4, '10': 1737, '11': 23}, {'00': 507, '01': 14, '10': 1511, '11': 16}, {'00': 783, '01': 16, '10': 1234, '11': 15}, {'00': 1102, '01': 15, '10': 913, '11': 18}, {'00': 1370, '01': 21, '10': 641, '11': 16}, {'00': 1666, '01': 19, '10': 349, '11': 14}, {'00': 1877, '01': 12, '10': 149, '11': 10}, {'00': 1975, '01': 26, '10': 40, '11': 7}, {'00': 1969, '01': 25, '10': 45, '11': 9}, {'00': 1859, '01': 22, '10': 151, '11': 16}, {'00': 1633, '01': 28, '10': 374, '11': 13}, {'00': 1387, '01': 18, '10': 630, '11': 13}, {'00': 1024, '01': 16, '10': 989, '11': 19}, {'00': 38, '01': 880, '10': 55, '11': 1075}, {'00': 53, '01': 1129, '10': 29, '11': 837}, {'00': 74, '01': 1452, '10': 32, '11': 490}, {'00': 77, '01': 1665, '10': 21, '11': 285}, {'00': 76, '01': 1874, '10': 7, '11': 91}, {'00': 83, '01': 1936, '10': 9, '11': 20}, {'00': 81, '01': 1895, '10': 4, '11': 68}, {'00': 84, '01': 1730, '10': 13, '11': 221}, {'00': 72, '01': 1500, '10': 20, '11': 456}, {'00': 65, '01': 1180, '10': 36, '11': 767}, {'00': 38, '01': 897, '10': 43, '11': 1070}, {'00': 25, '01': 584, '10': 56, '11': 1383}, {'00': 19, '01': 351, '10': 77, '11': 1601}, {'00': 14, '01': 155, '10': 79, '11': 1800}, {'00': 7, '01': 68, '10': 78, '11': 1895}, {'00': 13, '01': 71, '10': 75, '11': 1889}, {'00': 12, '01': 191, '10': 74, '11': 1771}, {'00': 16, '01': 373, '10': 70, '11': 1589}, {'00': 27, '01': 565, '10': 41, '11': 1415}, {'00': 45, '01': 874, '10': 43, '11': 1086}]\n"
     ]
    }
   ],
   "source": [
    "count_dict = results.get_counts()\n",
    "print(count_dict)"
   ]
  },
  {
   "cell_type": "code",
   "execution_count": 35,
   "id": "1b038afa-f299-47af-a9d1-8aedba167f5a",
   "metadata": {},
   "outputs": [
    {
     "name": "stdout",
     "output_type": "stream",
     "text": [
      "40\n"
     ]
    }
   ],
   "source": [
    "print(len(count_dict))"
   ]
  },
  {
   "cell_type": "code",
   "execution_count": 36,
   "id": "e06a8622-2f9b-4eff-854c-1d64957ae24b",
   "metadata": {},
   "outputs": [],
   "source": [
    "def cos_fit_00(x, a, b):\n",
    "    return a * np.cos(x - b + np.pi)\n",
    "\n",
    "def cos_fit_10(x, a, b):\n",
    "    return a * np.cos(x - b)"
   ]
  },
  {
   "cell_type": "code",
   "execution_count": 37,
   "id": "a874ec24-2d76-4eff-a80c-016d0f0b699b",
   "metadata": {},
   "outputs": [
    {
     "name": "stdout",
     "output_type": "stream",
     "text": [
      "-1.4933937885388788\n"
     ]
    }
   ],
   "source": [
    "exp_y0 = np.zeros_like(cr_phases)\n",
    "exp_y1 = np.zeros_like(cr_phases)\n",
    "\n",
    "results_y0 = count_dict[:20]\n",
    "results_y1 = count_dict[20:]\n",
    "\n",
    "for cind in range(len(cr_phases)):\n",
    "    exp_y0[cind] = expectation_val(results_y0[cind], mem_ind=mem_ind)\n",
    "    exp_y1[cind] = expectation_val(results_y1[cind], mem_ind=mem_ind)\n",
    "# print(exp_y0)\n",
    "# print(exp_y1)\n",
    "\n",
    "params0, _ = opt.curve_fit(cos_fit_00, xdata=cr_phases, ydata=exp_y0, bounds=([0, -np.pi], [1, np.pi]))\n",
    "params1, _ = opt.curve_fit(cos_fit_10, xdata=cr_phases, ydata=exp_y1, bounds=([0, -np.pi], [1, np.pi]))\n",
    "\n",
    "phi_opt = (params0[1] + params1[1]) / 2\n",
    "print(phi_opt)"
   ]
  },
  {
   "cell_type": "code",
   "execution_count": 39,
   "id": "2bb09d90-3d33-4f16-a123-885e40c90199",
   "metadata": {},
   "outputs": [
    {
     "data": {
      "image/png": "[encoded data removed]",
      "text/plain": [
       "<Figure size 432x288 with 1 Axes>"
      ]
     },
     "metadata": {
      "needs_background": "light"
     },
     "output_type": "display_data"
    }
   ],
   "source": [
    "x_interp = np.linspace(cr_phases[0], cr_phases[-1], 1000)\n",
    "plt.plot(cr_phases, exp_y0, 'o', color='b', label='|00>')\n",
    "plt.plot(cr_phases, exp_y1, 'o', color='r', label='|10>')\n",
    "plt.plot(x_interp, cos_fit_00(x_interp, *params0), 'b')\n",
    "plt.plot(x_interp, cos_fit_10(x_interp, *params1), 'r')\n",
    "plt.plot([params0[1], params0[1]], [-1, 1], 'b:')\n",
    "plt.plot([params1[1], params1[1]], [-1, 1], 'r:')\n",
    "plt.xlim(cr_phases[0], cr_phases[-1])\n",
    "plt.ylim(-1, 1)\n",
    "plt.xlabel('CR phase')\n",
    "plt.ylabel('<Y>')\n",
    "plt.grid()\n",
    "plt.legend()\n",
    "plt.savefig(\"phase_calibration_2\")"
   ]
  },
  {
   "cell_type": "code",
   "execution_count": 96,
   "id": "af195600-c5fc-4e1e-9a31-4c1af74c2e53",
   "metadata": {},
   "outputs": [],
   "source": [
    "cr_params = extract_cr_params(cx_sched)\n",
    "cr_params[\"cr_amp\"] = cr_pi2_amp\n",
    "cr_params[\"cancel_amp\"] = 0.0\n",
    "cr_params[\"phase\"] = phi_opt"
   ]
  },
  {
   "cell_type": "code",
   "execution_count": 97,
   "id": "052e2c08-03f6-4c2a-8c39-8df7ceeeee59",
   "metadata": {},
   "outputs": [],
   "source": [
    "cr_circ = build_single_cr_circuit(backend, q1, q2, cr_params, rotary=False)"
   ]
  },
  {
   "cell_type": "code",
   "execution_count": 122,
   "id": "671b0f1f-a2f6-4f35-8635-d876cf8c1fd5",
   "metadata": {},
   "outputs": [],
   "source": [
    "my_cnot_circ = QuantumCircuit(2)\n",
    "my_cnot_circ.x(0)\n",
    "my_cnot_circ.x(1)\n",
    "my_cnot_circ.compose(other=cr_circ, qubits=[0, 1], inplace=True)\n",
    "my_cnot_circ.measure_active()"
   ]
  },
  {
   "cell_type": "code",
   "execution_count": 123,
   "id": "3d227d6b-6eab-4e07-9a59-63f6a5d5c510",
   "metadata": {},
   "outputs": [],
   "source": [
    "default_cnot = QuantumCircuit(2)\n",
    "default_cnot.x(0)\n",
    "default_cnot.cx(0, 1)\n",
    "default_cnot.measure_active()"
   ]
  },
  {
   "cell_type": "code",
   "execution_count": 124,
   "id": "62049ca4-a448-4382-a740-1a738b9b16e8",
   "metadata": {},
   "outputs": [
    {
     "data": {
      "image/png": "[encoded data removed]",
      "text/plain": [
       "<Figure size 813.694x204.68 with 1 Axes>"
      ]
     },
     "execution_count": 124,
     "metadata": {},
     "output_type": "execute_result"
    }
   ],
   "source": [
    "my_cnot_circ.draw('mpl')"
   ]
  },
  {
   "cell_type": "code",
   "execution_count": 125,
   "id": "84becc3e-7993-41b6-ae2e-3ac9cafaf1f6",
   "metadata": {},
   "outputs": [
    {
     "data": {
      "image/png": "[encoded data removed]",
      "text/plain": [
       "<Figure size 452.494x204.68 with 1 Axes>"
      ]
     },
     "execution_count": 125,
     "metadata": {},
     "output_type": "execute_result"
    }
   ],
   "source": [
    "default_cnot.draw('mpl')"
   ]
  },
  {
   "cell_type": "code",
   "execution_count": 135,
   "id": "8a6fe22e-4d50-465c-8087-cb9a4cc4f4e3",
   "metadata": {},
   "outputs": [],
   "source": [
    "my_tc = transpile(my_cnot_circ, backend, initial_layout=[q1, q2])\n",
    "default_tc = transpile(default_cnot, backend, initial_layout=[q1, q2])\n",
    "\n",
    "circs = [my_tc]+[default_tc]\n"
   ]
  },
  {
   "cell_type": "code",
   "execution_count": 136,
   "id": "e8a1835a-81a3-4c76-9398-dd383c06c50c",
   "metadata": {},
   "outputs": [
    {
     "name": "stdout",
     "output_type": "stream",
     "text": [
      "618c25b98b10e7814568d1c6\n"
     ]
    }
   ],
   "source": [
    "job = backend.run(circs, job_name=F\"cnot_exp\", shots=2048)\n",
    "job_id = job.job_id()\n",
    "print(job.job_id())"
   ]
  },
  {
   "cell_type": "code",
   "execution_count": 137,
   "id": "8823efe3-9b12-413d-91f8-2d4ebfc6f68a",
   "metadata": {},
   "outputs": [
    {
     "name": "stdout",
     "output_type": "stream",
     "text": [
      "618c25b98b10e7814568d1c6\n"
     ]
    }
   ],
   "source": [
    "# 11/10/2021 cnot experiments\n",
    "# jakarta (2:22~pm) - 618c1bb1513c764b2962ffaf --- messed up\n",
    "# jakarta (2:51~pm) - 618c22d248856aacecedacb9 - ehhh\n",
    "# jakarta (2:56~pm) - 618c23c83b109c3a24477641 -- messed up\n",
    "# jakarta (3:04~pm) - 618c25b98b10e7814568d1c6 \n",
    "\n",
    "results = backend.retrieve_job(job_id).result()\n",
    "print(job_id)"
   ]
  },
  {
   "cell_type": "code",
   "execution_count": 138,
   "id": "6cee1b1e-dd26-42e6-8503-b6961232cee8",
   "metadata": {},
   "outputs": [
    {
     "name": "stdout",
     "output_type": "stream",
     "text": [
      "[{'00': 41, '01': 885, '10': 105, '11': 1017}, {'00': 52, '01': 92, '10': 95, '11': 1809}]\n"
     ]
    }
   ],
   "source": [
    "counts = results.get_counts()\n",
    "print(counts)"
   ]
  },
  {
   "cell_type": "code",
   "execution_count": 142,
   "id": "83b8602c-6ace-4fb4-b533-ab7595b5670f",
   "metadata": {},
   "outputs": [],
   "source": [
    "from qiskit.visualization import plot_histogram\n",
    "plot_histogram(counts[0]).savefig(\"custom_cnot_simple\")"
   ]
  },
  {
   "cell_type": "code",
   "execution_count": 143,
   "id": "3be7564a-5938-4039-b9d4-0d389310db9d",
   "metadata": {},
   "outputs": [],
   "source": [
    "plot_histogram(counts[1]).savefig(\"default_cnot_simple\")"
   ]
  },
  {
   "cell_type": "markdown",
   "id": "c48036c1-0f86-455a-ac68-e5a444f0a932",
   "metadata": {},
   "source": [
    "# QPT"
   ]
  },
  {
   "cell_type": "code",
   "execution_count": 68,
   "id": "6a442b69-21e0-454d-a3d7-ee7dd71ac2e2",
   "metadata": {},
   "outputs": [],
   "source": [
    "import qiskit.ignis.verification.tomography\n",
    "from qiskit import QuantumRegister\n",
    "from qiskit.ignis.verification.tomography import process_tomography_circuits, ProcessTomographyFitter\n",
    "# Process tomography of a Hadamard gate\n",
    "q = QuantumRegister(2)\n",
    "circ = QuantumCircuit(q)\n",
    "circ.swap(q[0], q[1])\n",
    "\n",
    "# Generate process tomography circuits and run on qasm simulator\n",
    "# We use the optional prepared_qubits kwarg to specify that the prepared qubit was different to measured qubit\n",
    "qpt_circs = process_tomography_circuits(circ, q[1])"
   ]
  },
  {
   "cell_type": "code",
   "execution_count": 73,
   "id": "92a3290f-7c73-460c-adff-e91376ff7b41",
   "metadata": {},
   "outputs": [
    {
     "data": {
      "text/html": [
       "<pre style=\"word-wrap: normal;white-space: pre;background: #fff0;line-height: 1.1;font-family: &quot;Courier New&quot;,Courier,monospace\">                    ░     ░                \n",
       "q1904_0: ───────────░──X──░────────────────\n",
       "         ┌───┐┌───┐ ░  │  ░ ┌─────┐┌───┐┌─┐\n",
       "q1904_1: ┤ H ├┤ S ├─░──X──░─┤ Sdg ├┤ H ├┤M├\n",
       "         └───┘└───┘ ░     ░ └─────┘└───┘└╥┘\n",
       "   c3: 1/════════════════════════════════╩═\n",
       "                                         0 </pre>"
      ],
      "text/plain": [
       "                    ░     ░                \n",
       "q1904_0: ───────────░──X──░────────────────\n",
       "         ┌───┐┌───┐ ░  │  ░ ┌─────┐┌───┐┌─┐\n",
       "q1904_1: ┤ H ├┤ S ├─░──X──░─┤ Sdg ├┤ H ├┤M├\n",
       "         └───┘└───┘ ░     ░ └─────┘└───┘└╥┘\n",
       "   c3: 1/════════════════════════════════╩═\n",
       "                                         0 "
      ]
     },
     "execution_count": 73,
     "metadata": {},
     "output_type": "execute_result"
    }
   ],
   "source": [
    "qpt_circs[10].draw()"
   ]
  },
  {
   "cell_type": "code",
   "execution_count": null,
   "id": "30656573-16ce-4f65-8d13-961fc093a52b",
   "metadata": {},
   "outputs": [],
   "source": []
  }
 ],
 "metadata": {
  "kernelspec": {
   "display_name": "Python 3",
   "language": "python",
   "name": "python3"
  },
  "language_info": {
   "codemirror_mode": {
    "name": "ipython",
    "version": 3
   },
   "file_extension": ".py",
   "mimetype": "text/x-python",
   "name": "python",
   "nbconvert_exporter": "python",
   "pygments_lexer": "ipython3",
   "version": "3.8.8"
  }
 },
 "nbformat": 4,
 "nbformat_minor": 5
}
