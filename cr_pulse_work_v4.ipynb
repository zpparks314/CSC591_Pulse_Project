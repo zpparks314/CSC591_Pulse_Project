{
 "cells": [
  {
   "cell_type": "code",
   "execution_count": 2,
   "id": "9ccd8b6c-7644-4d9f-92ef-35b8dd01d5c7",
   "metadata": {},
   "outputs": [],
   "source": [
    "from qiskit import pulse, circuit, transpile, assemble, schedule, IBMQ, QuantumCircuit, quantum_info as qi \n",
    "import qiskit\n",
    "from qiskit.visualization import plot_gate_map, plot_error_map\n",
    "from qiskit.visualization.pulse_v2 import draw\n",
    "from qiskit.pulse import ShiftPhase, GaussianSquare, Drag, ControlChannel, MeasureChannel, DriveChannel, Play, Schedule\n",
    "import numpy as np\n",
    "from qiskit.tools import job_monitor\n",
    "from copy import deepcopy\n",
    "import scipy.optimize as opt\n",
    "import matplotlib.pyplot as plt"
   ]
  },
  {
   "cell_type": "code",
   "execution_count": 3,
   "id": "9766178c-d28c-4b95-950e-31c97debb942",
   "metadata": {},
   "outputs": [],
   "source": [
    "account_provider = IBMQ.load_account()\n",
    "provider_opts = {'hub': 'ibm-q-ncsu', 'group': 'nc-state', 'project':'noiseanderror'}\n",
    "\n",
    "# target backend\n",
    "backend_name = 'ibmq_jakarta'\n",
    "\n",
    "provider = IBMQ.get_provider(**provider_opts)\n",
    "backend = provider.get_backend(backend_name)\n",
    "\n",
    "# backend information\n",
    "config = backend.configuration()\n",
    "defaults = backend.defaults()\n",
    "properties = backend.properties()\n",
    "\n",
    "# instruction schedule map\n",
    "inst_map = defaults.instruction_schedule_map"
   ]
  },
  {
   "cell_type": "code",
   "execution_count": 4,
   "id": "9e116a5c-0efb-4371-ba6a-d480ac8d1e15",
   "metadata": {},
   "outputs": [
    {
     "data": {
      "image/png": "[encoded data removed]",
      "text/plain": [
       "<Figure size 360x360 with 1 Axes>"
      ]
     },
     "execution_count": 4,
     "metadata": {},
     "output_type": "execute_result"
    }
   ],
   "source": [
    "qubits = plot_gate_map(backend)\n",
    "qubits"
   ]
  },
  {
   "cell_type": "code",
   "execution_count": 5,
   "id": "c600efee-9bc0-49e6-a898-7da4314173a4",
   "metadata": {},
   "outputs": [],
   "source": [
    "def extract_cr_params(cx_sched):\n",
    "    cr_params = {}\n",
    "    for time, inst in cx_sched.instructions:\n",
    "        if isinstance(inst, Play):\n",
    "            if isinstance(inst.pulse, GaussianSquare):\n",
    "                if isinstance(inst.operands[1], ControlChannel):\n",
    "                    cr_params[\"duration\"] = inst.pulse.duration\n",
    "                    cr_params[\"width\"] = inst.pulse.width\n",
    "                    cr_params[\"sigma\"] = inst.pulse.sigma\n",
    "                    cr_params[\"cr_amp\"] = inst.pulse.amp\n",
    "                    cr_params[\"channel\"] = inst.channel\n",
    "    return cr_params\n",
    "                    \n",
    "\n",
    "def build_cr_schedule(backend, qc, qt, cr_params, cr_name):\n",
    "    \n",
    "    with pulse.build(backend=backend, default_alignment=\"left\", name=\"cr_schedule\") as cross_resonance:\n",
    "        pulse.play(GaussianSquare(\n",
    "            duration=cr_params[\"duration\"],\n",
    "            amp=cr_params[\"cr_amp\"],\n",
    "            width=cr_params[\"width\"],\n",
    "            sigma=cr_params[\"sigma\"],\n",
    "            name=cr_name\n",
    "        ),\n",
    "        pulse.control_channels(qc, qt)[0],\n",
    "    )\n",
    "        if not np.isclose(cr_params[\"cancel_amp\"], 0.0):\n",
    "            pulse.play(GaussianSquare(\n",
    "                duration=cr_params[\"duration\"],\n",
    "                amp=cr_params[\"cancel_amp\"],\n",
    "                width=cr_params[\"width\"],\n",
    "                sigma=cr_params[\"sigma\"],\n",
    "        ),\n",
    "        pulse.drive_channel(qt),\n",
    "    )\n",
    "        else:\n",
    "            pulse.delay(cr_params[\"duration\"], pulse.drive_channel(qt))\n",
    "        pulse.delay(cr_params[\"duration\"], pulse.drive_channel(qc))\n",
    "        \n",
    "    return cross_resonance\n",
    "\n",
    "def build_cr_circuit(gate):\n",
    "    \n",
    "    cr_circuit = QuantumCircuit(2)\n",
    "    cr_circuit.append(gate, [0, 1])\n",
    "\n",
    "    \n",
    "    return cr_circuit\n",
    "\n",
    "def build_amp_experiment_circuits(backend, qc, qt, amps, cr_params, rotary=False):\n",
    "    \n",
    "    circ_list = []\n",
    "    \n",
    "    inst_map_list = []\n",
    "    for amplitude in amps:\n",
    "        \n",
    "        new_inst_map = deepcopy(inst_map)\n",
    "    \n",
    "\n",
    "        cr_p_gate = circuit.Gate(\n",
    "            \"cr_p_gate\",\n",
    "            num_qubits=2,\n",
    "            params=[amplitude],\n",
    "        )\n",
    "        \n",
    "        \n",
    "        cr_m_gate = circuit.Gate(\n",
    "            \"cr_m_gate\",\n",
    "            num_qubits=2,\n",
    "            params=[-amplitude],\n",
    "        )\n",
    "        \n",
    "        exp_circ = QuantumCircuit(2)\n",
    "\n",
    "        ## add control state prep when needed\n",
    "        \n",
    "        \n",
    "        exp_circ.rz(-np.pi/2, 0)\n",
    "        exp_circ.x(0)\n",
    "        exp_circ.compose(other=build_cr_circuit(cr_p_gate), qubits=[0, 1], inplace=True)\n",
    "        exp_circ.x(0)\n",
    "        exp_circ.compose(other=build_cr_circuit(cr_m_gate), qubits=[0, 1], inplace=True)\n",
    "#         exp_circ.x(0)\n",
    "        \n",
    "        exp_circ.metadata={\n",
    "            \"qubits\": (qc, qt)\n",
    "        }\n",
    "\n",
    "        if rotary is True:\n",
    "            cr_params['cancel_amp'] = amplitude\n",
    "            \n",
    "        cr_params[\"phi\"] = 0\n",
    "        cr_params['cr_amp'] = amplitude * np.exp(-1j*cr_params[\"phi\"])\n",
    "#         print(cr_params[\"cr_amp\"], cr_params['phi'])\n",
    "        exp_circ.add_calibration(gate=cr_p_gate,\n",
    "                                qubits=[qc,qt],\n",
    "                                schedule=build_cr_schedule(backend, qc, qt, cr_params, cr_name=\"cr_p\"))\n",
    "        \n",
    "        cr_params['phi'] = cr_params['phi'] + np.pi\n",
    "        cr_params['cr_amp'] = amplitude * np.exp(-1j*cr_params[\"phi\"])\n",
    "#         print(cr_params[\"cr_amp\"], cr_params['phi'])\n",
    "        exp_circ.add_calibration(gate=cr_m_gate,\n",
    "                                qubits=[qc,qt],\n",
    "                                schedule=build_cr_schedule(backend, qc, qt, cr_params, cr_name=\"cr_m\"))\n",
    "        exp_circ.measure_active()\n",
    "        \n",
    "#         new_inst_map.add('cr_gate', qubits=[qc, qt], schedule=build_cr_schedule(backend, qc, qt, cr_params))\n",
    "        \n",
    "        circ_list.append(exp_circ)\n",
    "        inst_map_list.append(new_inst_map)\n",
    "    return circ_list, inst_map_list\n",
    "\n",
    "def build_phase_experiment_circuits(backend, qc, qt, phases, cr_params, rotary=False):\n",
    "    \n",
    "    circ_list = []\n",
    "    inst_map_list = []\n",
    "    amp = cr_params['cr_amp']\n",
    "    for phase in phases:\n",
    "        new_inst_map = deepcopy(inst_map)\n",
    "    \n",
    "        cr_p_gate = circuit.Gate(\n",
    "            \"cr_p_gate\",\n",
    "            num_qubits=2,\n",
    "            params=[phase],\n",
    "        )\n",
    "        \n",
    "        cr_m_gate = circuit.Gate(\n",
    "            \"cr_m_gate\",\n",
    "            num_qubits=2,\n",
    "            params=[phase],\n",
    "        )\n",
    "        exp_circ = QuantumCircuit(2)\n",
    "        exp_circ.rz(-np.pi/2, 0)\n",
    "        exp_circ.x(0)\n",
    "        exp_circ.compose(other=build_cr_circuit(cr_p_gate), qubits=[0, 1], inplace=True)\n",
    "        exp_circ.x(0)\n",
    "        exp_circ.compose(other=build_cr_circuit(cr_m_gate), qubits=[0, 1], inplace=True)\n",
    "        exp_circ.barrier(0, 1)\n",
    "        exp_circ.sdg(1)\n",
    "        exp_circ.h(1)\n",
    "        \n",
    "        \n",
    "        exp_circ.metadata={\n",
    "            \"qubits\": (qc, qt)\n",
    "        }\n",
    "        \n",
    "        if rotary is True:\n",
    "            cr_params['cancel_amp'] = cr_params[\"cr_amp\"]\n",
    "        \n",
    "        cr_params['cr_amp'] = amp * np.exp(-1j*phase)\n",
    "#         print(cr_params['cr_amp'])\n",
    "        exp_circ.add_calibration(gate=cr_p_gate,\n",
    "                                qubits=[qc,qt],\n",
    "                                schedule=build_cr_schedule(backend, qc, qt, cr_params, cr_name=\"cr_p\"))\n",
    "\n",
    "        phase = phase + np.pi\n",
    "        cr_params['cr_amp'] = amp * np.exp(-1j*phase)\n",
    "#         print(cr_params['cr_amp'])\n",
    "        exp_circ.add_calibration(gate=cr_m_gate,\n",
    "                                qubits=[qc,qt],\n",
    "                                schedule=build_cr_schedule(backend, qc, qt, cr_params, cr_name=\"cr_m\"))\n",
    "        exp_circ.measure_active()\n",
    "        \n",
    "        circ_list.append(exp_circ)\n",
    "        inst_map_list.append(new_inst_map)\n",
    "        \n",
    "    return circ_list, inst_map_list\n",
    "\n",
    "def build_single_cr_circuit(backend, qc, qt, cr_params, rotary=False):\n",
    "    amp = cr_params['cr_amp']\n",
    "    cr_p_gate = circuit.Gate(\n",
    "            \"cr_p_gate\",\n",
    "            num_qubits=2,\n",
    "            params=[cr_params[\"cr_amp\"], cr_params[\"phase\"]],\n",
    "        )\n",
    "        \n",
    "    cr_m_gate = circuit.Gate(\n",
    "            \"cr_m_gate\",\n",
    "            num_qubits=2,\n",
    "            params=[cr_params[\"cr_amp\"], cr_params[\"phase\"]],\n",
    "        )\n",
    "    exp_circ = QuantumCircuit(2)\n",
    "\n",
    "        \n",
    "    exp_circ.rz(-np.pi/2, 0)\n",
    "    exp_circ.x(0)\n",
    "    exp_circ.compose(other=build_cr_circuit(cr_p_gate), qubits=[0, 1], inplace=True)\n",
    "    exp_circ.x(0)\n",
    "    exp_circ.compose(other=build_cr_circuit(cr_m_gate), qubits=[0, 1], inplace=True)\n",
    "    \n",
    "    exp_circ.metadata={\n",
    "        \"qubits\": (qc, qt)\n",
    "    }\n",
    "\n",
    "    if rotary is True:\n",
    "        cr_params['cancel_amp'] = amplitude\n",
    "        \n",
    "    cr_params['cr_amp'] = amp * np.exp(-1j*cr_params[\"phase\"])\n",
    "    exp_circ.add_calibration(gate=cr_p_gate,\n",
    "                            qubits=[qc,qt],\n",
    "                            schedule=build_cr_schedule(backend, qc, qt, cr_params, cr_name=\"cr_p\"))\n",
    "\n",
    "    cr_params['cr_amp'] = amp * np.exp(-1j*(cr_params[\"phase\"]+np.pi))\n",
    "    exp_circ.add_calibration(gate=cr_m_gate,\n",
    "                            qubits=[qc,qt],\n",
    "                            schedule=build_cr_schedule(backend, qc, qt, cr_params, cr_name=\"cr_m\"))  \n",
    "    \n",
    "    return exp_circ\n",
    "    \n",
    "        \n",
    "def expectation_val(count_dict, mem_ind):\n",
    "\n",
    "    expv = 0\n",
    "    for key, val in count_dict.items():\n",
    "        if key[::-1][mem_ind] == '1':\n",
    "#             print(key, val)\n",
    "            expv -= val\n",
    "        else:\n",
    "            expv += val\n",
    "#     print(expv)\n",
    "    return expv / sum(count_dict.values())"
   ]
  },
  {
   "cell_type": "code",
   "execution_count": 6,
   "id": "d387a720-f95a-456b-938e-4d84298e17d4",
   "metadata": {},
   "outputs": [],
   "source": [
    "q1, q2 = 0, 1\n",
    "mem_ind = 0 if q1 > q2 else 1"
   ]
  },
  {
   "cell_type": "markdown",
   "id": "11724243-e7a5-482e-9982-7602a327bdff",
   "metadata": {},
   "source": [
    "# IBM's cross resonance gate\n",
    "This is what IBM's cross-resonance gate looks like - extracted from the CX pulse schedule, and with the rotary tones not shown."
   ]
  },
  {
   "cell_type": "code",
   "execution_count": 7,
   "id": "4c89002a-419f-41e5-8cde-5f2f0c38cf85",
   "metadata": {},
   "outputs": [],
   "source": [
    "cx_sched = inst_map.get('cx', qubits=[q1, q2])\n",
    "cx_sched_fig = draw(cx_sched, backend=backend)\n",
    "cx_sched_fig.savefig(\"ibm_cx\")"
   ]
  },
  {
   "cell_type": "code",
   "execution_count": 8,
   "id": "03547cc2-24e0-4072-aae9-dcf6951711e6",
   "metadata": {},
   "outputs": [
    {
     "name": "stdout",
     "output_type": "stream",
     "text": [
      "ShiftPhase(1.5707963267948966, DriveChannel(0))\n",
      "ShiftPhase(1.5707963267948966, ControlChannel(1))\n",
      "Play(Drag(duration=160, amp=(-3.6483332367906506e-17-0.19860601110082038j), sigma=40, beta=-0.9693413039323217, name='Ym_d0'), DriveChannel(0), name='Ym_d0')\n",
      "Play(Drag(duration=160, amp=(0.09608621984537834+0.0020719722414091475j), sigma=40, beta=-1.0358675528458055, name='X90p_d1'), DriveChannel(1), name='X90p_d1')\n",
      "Play(GaussianSquare(duration=368, amp=(0.11222712344111228+0.0024279960723153325j), sigma=64, width=112, name='CR90p_d1_u0'), DriveChannel(1), name='CR90p_d1_u0')\n",
      "Play(GaussianSquare(duration=368, amp=(-0.0069702213838242376-0.7581680456723526j), sigma=64, width=112, name='CR90p_u0'), ControlChannel(0), name='CR90p_u0')\n",
      "Play(Drag(duration=160, amp=(0.19860601110082038+0j), sigma=40, beta=-0.9693413039323217, name='Xp_d0'), DriveChannel(0), name='Xp_d0')\n",
      "Play(GaussianSquare(duration=368, amp=(-0.11222712344111228-0.0024279960723153186j), sigma=64, width=112, name='CR90m_d1_u0'), DriveChannel(1), name='CR90m_d1_u0')\n",
      "Play(GaussianSquare(duration=368, amp=(0.00697022138382433+0.7581680456723526j), sigma=64, width=112, name='CR90m_u0'), ControlChannel(0), name='CR90m_u0')\n"
     ]
    }
   ],
   "source": [
    "insts = []\n",
    "for time, inst in cx_sched.instructions:\n",
    "    print(inst)\n",
    "    if isinstance(inst, ShiftPhase):\n",
    "        insts.append(inst)\n",
    "        continue\n",
    "    if isinstance(inst.pulse, Drag):\n",
    "        if inst.channel == DriveChannel(1):\n",
    "            continue\n",
    "    insts.append((time,inst))"
   ]
  },
  {
   "cell_type": "code",
   "execution_count": 9,
   "id": "7a5f735b-bb56-46db-aef7-9be0a052f9c4",
   "metadata": {},
   "outputs": [],
   "source": [
    "ibm_cr_sched = Schedule()\n",
    "for inst in insts:\n",
    "    if isinstance(inst, ShiftPhase):\n",
    "        ibm_cr_sched.insert(0, inst, inplace=True)\n",
    "        continue\n",
    "#     print(inst)\n",
    "    ibm_cr_sched.insert(inst[0], inst[1], inplace=True)\n",
    "        "
   ]
  },
  {
   "cell_type": "code",
   "execution_count": 10,
   "id": "43576839-2293-44d2-9fab-f2d924899c0b",
   "metadata": {},
   "outputs": [],
   "source": [
    "ibm_cr_fig = draw(ibm_cr_sched, backend=backend)\n",
    "ibm_cr_fig.savefig(\"ibm_cr_sched\")"
   ]
  },
  {
   "cell_type": "code",
   "execution_count": 11,
   "id": "c77a1d8e-b5f8-4797-b805-ef9274677193",
   "metadata": {},
   "outputs": [],
   "source": [
    "cr_params = extract_cr_params(cx_sched)\n",
    "cr_params[\"cancel_amp\"] = 0.0\n",
    "cr_params[\"phi\"] = 0\n",
    "# print(cr_params)\n",
    "\n",
    "max_cr_amplitude = 1.0\n",
    "num_amps = 70\n",
    "cr_amps = np.linspace(-max_cr_amplitude, max_cr_amplitude, num_amps)\n",
    "# print(cr_amps)"
   ]
  },
  {
   "cell_type": "code",
   "execution_count": 12,
   "id": "65d367a4-cc53-43c9-b099-d85a34c3340c",
   "metadata": {},
   "outputs": [],
   "source": [
    "exp_circuits, exp_inst_maps = build_amp_experiment_circuits(backend, q1, q2, cr_amps, cr_params)\n",
    "# exp_circuits[19].draw()"
   ]
  },
  {
   "cell_type": "code",
   "execution_count": 13,
   "id": "29c9af88-163c-4ba5-8022-57d5874b7c6d",
   "metadata": {},
   "outputs": [
    {
     "data": {
      "image/png": "[encoded data removed]",
      "text/plain": [
       "<Figure size 936x334.8 with 1 Axes>"
      ]
     },
     "execution_count": 13,
     "metadata": {},
     "output_type": "execute_result"
    }
   ],
   "source": [
    "tc = transpile(exp_circuits, backend, initial_layout=[q1, q2])\n",
    "sched = schedule(tc, backend)\n",
    "# for time, inst in sched[4].instructions:\n",
    "#     print(inst)\n",
    "sched[0].draw(time_range=[0, 1200], disable_channels=[MeasureChannel(q1), MeasureChannel(q2)])"
   ]
  },
  {
   "cell_type": "code",
   "execution_count": 14,
   "id": "995634b1-3a3e-4a27-a9cd-59d80f8a8418",
   "metadata": {},
   "outputs": [],
   "source": [
    "# tc[0].draw('mpl')"
   ]
  },
  {
   "cell_type": "code",
   "execution_count": 15,
   "id": "ae36c11a-2909-4568-b501-6ad41ecba9bf",
   "metadata": {},
   "outputs": [],
   "source": [
    "# draw(sched[4], backend=backend, time_range=[0, 1000], disable_channels=[MeasureChannel(q1), MeasureChannel(q2)])"
   ]
  },
  {
   "cell_type": "code",
   "execution_count": 16,
   "id": "079a5ddd-3207-4ce6-a734-451d1bbbb606",
   "metadata": {},
   "outputs": [],
   "source": [
    "i = 1\n",
    "identifier = F\"(({max_cr_amplitude}),{num_amps})\""
   ]
  },
  {
   "cell_type": "code",
   "execution_count": 17,
   "id": "f97c7853-fb1f-4bb2-b7e2-e89d1628331b",
   "metadata": {},
   "outputs": [
    {
     "name": "stdout",
     "output_type": "stream",
     "text": [
      "61996d7e1db79fb3a6da3065\n"
     ]
    }
   ],
   "source": [
    "job = backend.run(tc, job_name=F\"cr_amp_exp_{identifier}\", shots=2048)\n",
    "job_id = job.job_id()\n",
    "print(job.job_id())"
   ]
  },
  {
   "cell_type": "code",
   "execution_count": 18,
   "id": "fe7bef43-9766-4951-82fa-0020aeb1c5a7",
   "metadata": {},
   "outputs": [],
   "source": [
    "# 11/8/2021 - amplitude experiments\n",
    "# ibm_lagos job (9:45~ am) - 6189380f1452777724117b88\n",
    "# ibmq_jakarta job (10:00~ am) - 61893b88902694642fd98881\n",
    "# ibmq_jakarta (10:30~ am) - 6189411bc45f2664c31517c5\n",
    "# ibmq_jakarta (10:51~ am) - 61894761ad7fa029bcd1440f * best results so far (sweeping from (-1.0, 1.0, 70))\n",
    "# ibmq_jakarta (11:23~ am) - 61894f14ad7fa0ed2ad14439\n",
    "# ibmq_jakarta (12:47 pm) - 618962b8ce94116c106c071e (-1.0, 1.0, 70) - CRgate looks more like ibm\n",
    "# ibmq_montreal (11:18~ am) - 61894de8c45f2661c61517fb\n",
    "# ibmq_toronto (11:27~ am) - 61894fdab3f4906ac760bf9e\n",
    "# ibmq_toronto (11:33~ am) - 61895180145277452e117c10\n",
    "\n",
    "# 11/9/2021 - amplitude experiments\n",
    "# ibmq_jakarta (10:33~ am) - 618a94942bf2b36efea11649 (-1.0, 1.0, 70)\n",
    "\n",
    "#11/20/2021 - AMPL\n",
    "#IBMQ_JAKARTA (9:12~ AM) - 61990220580e751b2414e77e\n",
    "# jakarta - 61996d7e1db79fb3a6da3065\n",
    "\n",
    "# 11/10/2021 - amplitude experiments\n",
    "# jakarta (12:40~ pm) - 618c03d7513c76539a62fee6\n",
    "# job_id = \"618962b8ce94116c106c071e\"\n",
    "\n",
    "results = backend.retrieve_job(job_id).result()\n"
   ]
  },
  {
   "cell_type": "code",
   "execution_count": 19,
   "id": "d6f800ed-cda3-400d-b82f-ba0cf494d168",
   "metadata": {},
   "outputs": [
    {
     "name": "stdout",
     "output_type": "stream",
     "text": [
      "[{'00': 759, '01': 13, '10': 1257, '11': 19}, {'00': 778, '01': 21, '10': 1231, '11': 18}, {'00': 822, '01': 17, '10': 1192, '11': 17}, {'00': 879, '01': 17, '10': 1137, '11': 15}, {'00': 867, '01': 19, '10': 1145, '11': 17}, {'00': 931, '01': 12, '10': 1098, '11': 7}, {'00': 951, '01': 16, '10': 1067, '11': 14}, {'00': 1016, '01': 15, '10': 1001, '11': 16}, {'00': 1030, '01': 22, '10': 983, '11': 13}, {'00': 1081, '01': 26, '10': 932, '11': 9}, {'00': 1068, '01': 28, '10': 942, '11': 10}, {'00': 1144, '01': 23, '10': 872, '11': 9}, {'00': 1178, '01': 21, '10': 842, '11': 7}, {'00': 1229, '01': 16, '10': 791, '11': 12}, {'00': 1254, '01': 25, '10': 764, '11': 5}, {'00': 1292, '01': 23, '10': 728, '11': 5}, {'00': 1328, '01': 17, '10': 698, '11': 5}, {'00': 1388, '01': 25, '10': 623, '11': 12}, {'00': 1431, '01': 29, '10': 579, '11': 9}, {'00': 1508, '01': 21, '10': 513, '11': 6}, {'00': 1509, '01': 26, '10': 510, '11': 3}, {'00': 1619, '01': 32, '10': 395, '11': 2}, {'00': 1633, '01': 21, '10': 390, '11': 4}, {'00': 1671, '01': 18, '10': 350, '11': 9}, {'00': 1732, '01': 18, '10': 296, '11': 2}, {'00': 1754, '01': 35, '10': 256, '11': 3}, {'00': 1792, '01': 21, '10': 231, '11': 4}, {'00': 1837, '01': 33, '10': 176, '11': 2}, {'00': 1891, '01': 28, '10': 128, '11': 1}, {'00': 1892, '01': 28, '10': 125, '11': 3}, {'00': 1943, '01': 29, '10': 74, '11': 2}, {'00': 1957, '01': 27, '10': 63, '11': 1}, {'00': 1989, '01': 30, '10': 29}, {'00': 1982, '01': 37, '10': 29}, {'00': 1993, '01': 34, '10': 21}, {'00': 2001, '01': 34, '10': 13}, {'00': 1994, '01': 27, '10': 27}, {'00': 1968, '01': 32, '10': 47, '11': 1}, {'00': 1952, '01': 38, '10': 58}, {'00': 1944, '01': 29, '10': 74, '11': 1}, {'00': 1902, '01': 27, '10': 114, '11': 5}, {'00': 1885, '01': 33, '10': 128, '11': 2}, {'00': 1848, '01': 27, '10': 171, '11': 2}, {'00': 1787, '01': 33, '10': 224, '11': 4}, {'00': 1795, '01': 27, '10': 225, '11': 1}, {'00': 1763, '01': 15, '10': 268, '11': 2}, {'00': 1689, '01': 28, '10': 328, '11': 3}, {'00': 1653, '01': 31, '10': 358, '11': 6}, {'00': 1596, '01': 28, '10': 420, '11': 4}, {'00': 1567, '01': 22, '10': 455, '11': 4}, {'00': 1497, '01': 29, '10': 514, '11': 8}, {'00': 1451, '01': 19, '10': 575, '11': 3}, {'00': 1402, '01': 17, '10': 621, '11': 8}, {'00': 1354, '01': 19, '10': 667, '11': 8}, {'00': 1358, '01': 16, '10': 666, '11': 8}, {'00': 1264, '01': 17, '10': 755, '11': 12}, {'00': 1255, '01': 14, '10': 769, '11': 10}, {'00': 1192, '01': 23, '10': 826, '11': 7}, {'00': 1122, '01': 22, '10': 896, '11': 8}, {'00': 1120, '01': 25, '10': 898, '11': 5}, {'00': 1050, '01': 18, '10': 970, '11': 10}, {'00': 1061, '01': 18, '10': 960, '11': 9}, {'00': 997, '01': 21, '10': 1022, '11': 8}, {'00': 977, '01': 14, '10': 1044, '11': 13}, {'00': 962, '01': 16, '10': 1058, '11': 12}, {'00': 901, '01': 21, '10': 1113, '11': 13}, {'00': 837, '01': 16, '10': 1180, '11': 15}, {'00': 811, '01': 19, '10': 1205, '11': 13}, {'00': 830, '01': 14, '10': 1191, '11': 13}, {'00': 767, '01': 12, '10': 1255, '11': 14}]\n"
     ]
    }
   ],
   "source": [
    "count_dict = results.get_counts()\n",
    "print(count_dict)"
   ]
  },
  {
   "cell_type": "code",
   "execution_count": 20,
   "id": "45486405-b3ac-4ef0-9626-2ce70f4a52d4",
   "metadata": {},
   "outputs": [],
   "source": [
    "def cr_fit_3rd_order_perturbation(x, c1, c2):\n",
    "    fx = c1*x - c2*x**3\n",
    "    return np.cos(2 * np.pi * fx)\n",
    "\n",
    "def rough_amp_objective(x, params, opt_phase):\n",
    "    fx = params[0] * x - params[1] * x**3\n",
    "    return np.abs(opt_phase / 2 / np.pi - fx)"
   ]
  },
  {
   "cell_type": "code",
   "execution_count": 21,
   "id": "c3db7124-9212-4a92-b690-47fa823a802f",
   "metadata": {},
   "outputs": [],
   "source": [
    "exp_z = np.zeros_like(cr_amps)\n",
    "for cind in range(len(cr_amps)):\n",
    "    exp_z[cind] = expectation_val(count_dict[cind], mem_ind=mem_ind)\n",
    "# print(exp_z)\n",
    "valid_inds = np.where(np.abs(cr_amps) < 1.0)[0]\n",
    "params, _ = opt.curve_fit(cr_fit_3rd_order_perturbation, xdata=cr_amps[valid_inds], ydata=exp_z[valid_inds])\n",
    "cr_pi2_amp = opt.minimize(rough_amp_objective, x0=0, bounds=[(0, 1)], args=(params, 0.5 * np.pi)).x[0]"
   ]
  },
  {
   "cell_type": "code",
   "execution_count": 22,
   "id": "534f3425-6836-47cf-9223-112a131a2bdc",
   "metadata": {},
   "outputs": [
    {
     "name": "stdout",
     "output_type": "stream",
     "text": [
      "0.7690449242600433\n"
     ]
    }
   ],
   "source": [
    "print(cr_pi2_amp)"
   ]
  },
  {
   "cell_type": "code",
   "execution_count": 23,
   "id": "6eddba03-5a28-4333-9f43-d971bf4964a0",
   "metadata": {},
   "outputs": [
    {
     "data": {
      "image/png": "[encoded data removed]",
      "text/plain": [
       "<Figure size 432x288 with 1 Axes>"
      ]
     },
     "metadata": {
      "needs_background": "light"
     },
     "output_type": "display_data"
    }
   ],
   "source": [
    "x_interp = np.linspace(cr_amps[0], cr_amps[-1], 1000)\n",
    "plt.plot(cr_amps, exp_z, 'o', color='b')\n",
    "plt.plot(x_interp, cr_fit_3rd_order_perturbation(x_interp, *params), color='b')\n",
    "plt.plot([cr_pi2_amp, cr_pi2_amp], [-1, 1], 'b:')\n",
    "plt.xlim(-max_cr_amplitude, max_cr_amplitude)\n",
    "plt.ylim(-1, 1)\n",
    "plt.xlabel('CR amp')\n",
    "plt.ylabel('<Z>')\n",
    "plt.grid()\n",
    "plt.savefig(\"amplitude_calibration_2\")"
   ]
  },
  {
   "cell_type": "code",
   "execution_count": 24,
   "id": "dabc2745-5d9a-4863-a580-e774d17190f9",
   "metadata": {},
   "outputs": [],
   "source": [
    "cr_params = extract_cr_params(cx_sched)\n",
    "cr_params[\"cr_amp\"] = cr_pi2_amp\n",
    "cr_params[\"cancel_amp\"] = 0.0\n",
    "\n",
    "max_phase = np.pi\n",
    "num_phases = 20\n",
    "cr_phases = np.linspace(-max_phase, max_phase, num_phases)\n"
   ]
  },
  {
   "cell_type": "code",
   "execution_count": 25,
   "id": "a0c95399-b28c-4063-82cd-7005207a44da",
   "metadata": {},
   "outputs": [],
   "source": [
    "# for phase in cr_phases:\n",
    "#     print(cr_pi2_amp * np.exp(-1j*phase))\n",
    "#     print(cr_pi2_amp * np.exp(-1j*(phase+np.pi)))"
   ]
  },
  {
   "cell_type": "code",
   "execution_count": 26,
   "id": "b0696997-331e-45ae-a358-c25293b33eb9",
   "metadata": {},
   "outputs": [
    {
     "name": "stdout",
     "output_type": "stream",
     "text": [
      "{'duration': 368, 'width': 112, 'sigma': 64, 'cr_amp': 0.7690449242600433, 'channel': ControlChannel(0), 'cancel_amp': 0.0}\n"
     ]
    }
   ],
   "source": [
    "print(cr_params)"
   ]
  },
  {
   "cell_type": "code",
   "execution_count": 27,
   "id": "70e8a4e8-4a55-44d1-a847-2fffe4cd93ba",
   "metadata": {},
   "outputs": [],
   "source": [
    "phase_exp_circuits, phase_exp_inst_maps = build_phase_experiment_circuits(backend, q1, q2, cr_phases, cr_params)\n"
   ]
  },
  {
   "cell_type": "code",
   "execution_count": 28,
   "id": "68ce958b-4d6f-4f04-951b-1d136f66c54d",
   "metadata": {},
   "outputs": [
    {
     "name": "stderr",
     "output_type": "stream",
     "text": [
      "<ipython-input-28-95e79d3478e8>:6: DeprecationWarning: The QuantumCircuit.__iadd__() method is being deprecated. Use the compose() (potentially with the inplace=True argument) and tensor() methods which are more flexible w.r.t circuit register compatibility.\n",
      "  y1_circ += circ\n",
      "C:\\Users\\Zachary\\anaconda3\\envs\\NewestPythonQiskit\\lib\\site-packages\\qiskit\\circuit\\quantumcircuit.py:942: DeprecationWarning: The QuantumCircuit.extend() method is being deprecated. Use the compose() (potentially with the inplace=True argument) and tensor() methods which are more flexible w.r.t circuit register compatibility.\n",
      "  return self.extend(rhs)\n"
     ]
    }
   ],
   "source": [
    "y0 = deepcopy(phase_exp_circuits)\n",
    "y1 = []\n",
    "for circ in y0:\n",
    "    y1_circ = QuantumCircuit(2)\n",
    "    y1_circ.x(0)\n",
    "    y1_circ += circ\n",
    "    y1.append(y1_circ)"
   ]
  },
  {
   "cell_type": "code",
   "execution_count": 29,
   "id": "991b7985-f43c-4eb2-acdb-d0b8cf9ec504",
   "metadata": {},
   "outputs": [],
   "source": [
    "phase_exp_circuits = y0+y1\n",
    "tc = transpile(phase_exp_circuits, backend, initial_layout=[q1, q2])\n",
    "identifier = F\"(({max_phase}),{num_phases})\""
   ]
  },
  {
   "cell_type": "code",
   "execution_count": 30,
   "id": "1d83035e-e327-48cd-8f6e-d8db1a132aa2",
   "metadata": {},
   "outputs": [
    {
     "name": "stdout",
     "output_type": "stream",
     "text": [
      "61996ddd580e7570ed14e9d4\n"
     ]
    }
   ],
   "source": [
    "job = backend.run(tc, job_name=F\"cr_amp_exp_{identifier}\", shots=2048)\n",
    "job_id = job.job_id()\n",
    "print(job.job_id())"
   ]
  },
  {
   "cell_type": "code",
   "execution_count": 31,
   "id": "c5dbd459-22c3-4d8a-b322-b66395dd1319",
   "metadata": {},
   "outputs": [
    {
     "name": "stdout",
     "output_type": "stream",
     "text": [
      "61996ddd580e7570ed14e9d4\n"
     ]
    }
   ],
   "source": [
    "# 11/9/2021 - phase experiments\n",
    "# ibmq_jakarta (11:27~ am) - 618aa15deb641130bbbb5c4f (-np.pi, np.pi, 20)\n",
    "\n",
    "# 11/10/2021 - phase experiments\n",
    "# jakarta (12:42~ pm) - 618c047e513c768d4d62feee (-np.pi, np.pi, 20) \n",
    "# job_id = \"618c047e513c768d4d62feee\"\n",
    "\n",
    "# 11/20/2021 - phase experiments\n",
    "# jakarta (9:52 am) - 61990bb053ac6c1ad1d58d49\n",
    "# jakarata - 61996ddd580e7570ed14e9d4\n",
    "results = backend.retrieve_job(job_id).result()\n",
    "print(job_id)"
   ]
  },
  {
   "cell_type": "code",
   "execution_count": 32,
   "id": "7996c458-ed74-41bb-910b-073354e31a83",
   "metadata": {},
   "outputs": [
    {
     "name": "stdout",
     "output_type": "stream",
     "text": [
      "[{'00': 998, '01': 19, '10': 1019, '11': 12}, {'00': 691, '01': 9, '10': 1332, '11': 16}, {'00': 472, '01': 17, '10': 1535, '11': 24}, {'00': 212, '01': 8, '10': 1798, '11': 30}, {'00': 110, '01': 8, '10': 1914, '11': 16}, {'00': 78, '01': 9, '10': 1942, '11': 19}, {'00': 117, '01': 8, '10': 1900, '11': 23}, {'00': 259, '01': 6, '10': 1761, '11': 22}, {'00': 473, '01': 9, '10': 1550, '11': 16}, {'00': 782, '01': 11, '10': 1239, '11': 16}, {'00': 1114, '01': 13, '10': 907, '11': 14}, {'00': 1408, '01': 15, '10': 610, '11': 15}, {'00': 1685, '01': 25, '10': 324, '11': 14}, {'00': 1904, '01': 22, '10': 116, '11': 6}, {'00': 1995, '01': 24, '10': 21, '11': 8}, {'00': 1983, '01': 16, '10': 36, '11': 13}, {'00': 1838, '01': 28, '10': 174, '11': 8}, {'00': 1633, '01': 21, '10': 384, '11': 10}, {'00': 1379, '01': 10, '10': 646, '11': 13}, {'00': 1032, '01': 21, '10': 977, '11': 18}, {'00': 49, '01': 885, '10': 56, '11': 1058}, {'00': 53, '01': 1166, '10': 44, '11': 785}, {'00': 63, '01': 1485, '10': 22, '11': 478}, {'00': 78, '01': 1738, '10': 16, '11': 216}, {'00': 77, '01': 1893, '10': 8, '11': 70}, {'00': 102, '01': 1928, '10': 4, '11': 14}, {'00': 96, '01': 1848, '10': 9, '11': 95}, {'00': 93, '01': 1719, '10': 16, '11': 220}, {'00': 73, '01': 1467, '10': 28, '11': 480}, {'00': 52, '01': 1174, '10': 52, '11': 770}, {'00': 54, '01': 850, '10': 68, '11': 1076}, {'00': 30, '01': 600, '10': 74, '11': 1344}, {'00': 26, '01': 345, '10': 75, '11': 1602}, {'00': 15, '01': 195, '10': 81, '11': 1757}, {'00': 14, '01': 96, '10': 84, '11': 1854}, {'00': 8, '01': 70, '10': 98, '11': 1872}, {'00': 14, '01': 154, '10': 102, '11': 1778}, {'00': 15, '01': 328, '10': 83, '11': 1622}, {'00': 31, '01': 581, '10': 62, '11': 1374}, {'00': 50, '01': 830, '10': 37, '11': 1131}]\n"
     ]
    }
   ],
   "source": [
    "count_dict = results.get_counts()\n",
    "print(count_dict)"
   ]
  },
  {
   "cell_type": "code",
   "execution_count": 33,
   "id": "1b038afa-f299-47af-a9d1-8aedba167f5a",
   "metadata": {},
   "outputs": [
    {
     "name": "stdout",
     "output_type": "stream",
     "text": [
      "40\n"
     ]
    }
   ],
   "source": [
    "print(len(count_dict))"
   ]
  },
  {
   "cell_type": "code",
   "execution_count": 34,
   "id": "e06a8622-2f9b-4eff-854c-1d64957ae24b",
   "metadata": {},
   "outputs": [],
   "source": [
    "def cos_fit_00(x, a, b):\n",
    "    return a * np.cos(x - b + np.pi)\n",
    "\n",
    "def cos_fit_10(x, a, b):\n",
    "    return a * np.cos(x - b)"
   ]
  },
  {
   "cell_type": "code",
   "execution_count": 35,
   "id": "a874ec24-2d76-4eff-a80c-016d0f0b699b",
   "metadata": {},
   "outputs": [
    {
     "name": "stdout",
     "output_type": "stream",
     "text": [
      "-1.502447377792167\n"
     ]
    }
   ],
   "source": [
    "exp_y0 = np.zeros_like(cr_phases)\n",
    "exp_y1 = np.zeros_like(cr_phases)\n",
    "\n",
    "results_y0 = count_dict[:20]\n",
    "results_y1 = count_dict[20:]\n",
    "\n",
    "for cind in range(len(cr_phases)):\n",
    "    exp_y0[cind] = expectation_val(results_y0[cind], mem_ind=mem_ind)\n",
    "    exp_y1[cind] = expectation_val(results_y1[cind], mem_ind=mem_ind)\n",
    "# print(exp_y0)\n",
    "# print(exp_y1)\n",
    "\n",
    "params0, _ = opt.curve_fit(cos_fit_00, xdata=cr_phases, ydata=exp_y0, bounds=([0, -np.pi], [1, np.pi]))\n",
    "params1, _ = opt.curve_fit(cos_fit_10, xdata=cr_phases, ydata=exp_y1, bounds=([0, -np.pi], [1, np.pi]))\n",
    "\n",
    "phi_opt = (params0[1] + params1[1]) / 2\n",
    "print(phi_opt)"
   ]
  },
  {
   "cell_type": "code",
   "execution_count": 36,
   "id": "2bb09d90-3d33-4f16-a123-885e40c90199",
   "metadata": {},
   "outputs": [
    {
     "data": {
      "image/png": "[encoded data removed]",
      "text/plain": [
       "<Figure size 432x288 with 1 Axes>"
      ]
     },
     "metadata": {
      "needs_background": "light"
     },
     "output_type": "display_data"
    }
   ],
   "source": [
    "x_interp = np.linspace(cr_phases[0], cr_phases[-1], 1000)\n",
    "plt.plot(cr_phases, exp_y0, 'o', color='b', label='|00>')\n",
    "plt.plot(cr_phases, exp_y1, 'o', color='r', label='|10>')\n",
    "plt.plot(x_interp, cos_fit_00(x_interp, *params0), 'b')\n",
    "plt.plot(x_interp, cos_fit_10(x_interp, *params1), 'r')\n",
    "plt.plot([params0[1], params0[1]], [-1, 1], 'b:')\n",
    "plt.plot([params1[1], params1[1]], [-1, 1], 'r:')\n",
    "plt.xlim(cr_phases[0], cr_phases[-1])\n",
    "plt.ylim(-1, 1)\n",
    "plt.xlabel('CR phase')\n",
    "plt.ylabel('<Y>')\n",
    "plt.grid()\n",
    "plt.legend()\n",
    "plt.savefig(\"phase_calibration_2\")"
   ]
  },
  {
   "cell_type": "code",
   "execution_count": 37,
   "id": "af195600-c5fc-4e1e-9a31-4c1af74c2e53",
   "metadata": {},
   "outputs": [],
   "source": [
    "cr_params = extract_cr_params(cx_sched)\n",
    "cr_params[\"cr_amp\"] = cr_pi2_amp\n",
    "cr_params[\"cancel_amp\"] = 0.0\n",
    "cr_params[\"phase\"] = phi_opt"
   ]
  },
  {
   "cell_type": "code",
   "execution_count": 38,
   "id": "052e2c08-03f6-4c2a-8c39-8df7ceeeee59",
   "metadata": {},
   "outputs": [],
   "source": [
    "cr_circ = build_single_cr_circuit(backend, q1, q2, cr_params, rotary=False)"
   ]
  },
  {
   "cell_type": "code",
   "execution_count": 39,
   "id": "6a2ecaae-391f-4e8b-963f-27fc4394dd87",
   "metadata": {},
   "outputs": [],
   "source": [
    "tc_cr_circ = transpile(cr_circ, backend, initial_layout=[0, 1])\n",
    "my_cr_sched = schedule(cr_circ, backend)\n",
    "cr_fig = draw(my_cr_sched, backend=backend)\n",
    "cr_fig.savefig(\"custom_cr\")"
   ]
  },
  {
   "cell_type": "code",
   "execution_count": 40,
   "id": "671b0f1f-a2f6-4f35-8635-d876cf8c1fd5",
   "metadata": {},
   "outputs": [],
   "source": [
    "my_cnot_circ = QuantumCircuit(2)\n",
    "my_cnot_circ.x(0)\n",
    "my_cnot_circ.x(1)\n",
    "my_cnot_circ.compose(other=cr_circ, qubits=[0, 1], inplace=True)\n",
    "my_cnot_circ.measure_active()"
   ]
  },
  {
   "cell_type": "code",
   "execution_count": 41,
   "id": "3d227d6b-6eab-4e07-9a59-63f6a5d5c510",
   "metadata": {},
   "outputs": [],
   "source": [
    "default_cnot = QuantumCircuit(2)\n",
    "default_cnot.x(0)\n",
    "default_cnot.cx(0, 1)\n",
    "default_cnot.measure_active()"
   ]
  },
  {
   "cell_type": "code",
   "execution_count": 42,
   "id": "62049ca4-a448-4382-a740-1a738b9b16e8",
   "metadata": {},
   "outputs": [
    {
     "data": {
      "image/png": "[encoded data removed]",
      "text/plain": [
       "<Figure size 813.694x204.68 with 1 Axes>"
      ]
     },
     "execution_count": 42,
     "metadata": {},
     "output_type": "execute_result"
    }
   ],
   "source": [
    "my_cnot_circ.draw('mpl')"
   ]
  },
  {
   "cell_type": "code",
   "execution_count": 43,
   "id": "84becc3e-7993-41b6-ae2e-3ac9cafaf1f6",
   "metadata": {},
   "outputs": [],
   "source": [
    "fig = default_cnot.draw('mpl')\n",
    "fig.savefig(\"x_cnot_circuit\")"
   ]
  },
  {
   "cell_type": "code",
   "execution_count": 44,
   "id": "8a6fe22e-4d50-465c-8087-cb9a4cc4f4e3",
   "metadata": {},
   "outputs": [],
   "source": [
    "my_tc = transpile(my_cnot_circ, backend, initial_layout=[q1, q2])\n",
    "default_tc = transpile(default_cnot, backend, initial_layout=[q1, q2])\n",
    "\n",
    "circs = [my_tc]+[default_tc]\n"
   ]
  },
  {
   "cell_type": "code",
   "execution_count": 45,
   "id": "e8a1835a-81a3-4c76-9398-dd383c06c50c",
   "metadata": {},
   "outputs": [
    {
     "name": "stdout",
     "output_type": "stream",
     "text": [
      "61996f0c9920cdc37794be1a\n"
     ]
    }
   ],
   "source": [
    "job = backend.run(circs, job_name=F\"cnot_exp\", shots=2048)\n",
    "job_id = job.job_id()\n",
    "print(job.job_id())"
   ]
  },
  {
   "cell_type": "code",
   "execution_count": 46,
   "id": "8823efe3-9b12-413d-91f8-2d4ebfc6f68a",
   "metadata": {},
   "outputs": [
    {
     "name": "stdout",
     "output_type": "stream",
     "text": [
      "61996f0c9920cdc37794be1a\n"
     ]
    }
   ],
   "source": [
    "# 11/10/2021 cnot experiments\n",
    "# jakarta (2:22~pm) - 618c1bb1513c764b2962ffaf --- messed up\n",
    "# jakarta (2:51~pm) - 618c22d248856aacecedacb9 - ehhh\n",
    "# jakarta (2:56~pm) - 618c23c83b109c3a24477641 -- messed up\n",
    "# jakarta (3:04~pm) - 618c25b98b10e7814568d1c6 \n",
    "\n",
    "# 11/20/2021\n",
    "# Jakarta - 61996f0c9920cdc37794be1a\n",
    "\n",
    "results = backend.retrieve_job(job_id).result()\n",
    "print(job_id)"
   ]
  },
  {
   "cell_type": "code",
   "execution_count": 47,
   "id": "6cee1b1e-dd26-42e6-8503-b6961232cee8",
   "metadata": {},
   "outputs": [
    {
     "name": "stdout",
     "output_type": "stream",
     "text": [
      "[{'00': 40, '01': 930, '10': 55, '11': 1023}, {'00': 10, '01': 73, '10': 112, '11': 1853}]\n"
     ]
    }
   ],
   "source": [
    "counts = results.get_counts()\n",
    "print(counts)"
   ]
  },
  {
   "cell_type": "code",
   "execution_count": 48,
   "id": "83b8602c-6ace-4fb4-b533-ab7595b5670f",
   "metadata": {},
   "outputs": [],
   "source": [
    "from qiskit.visualization import plot_histogram\n",
    "plot_histogram(counts[0]).savefig(\"custom_cnot_simple\")"
   ]
  },
  {
   "cell_type": "code",
   "execution_count": 49,
   "id": "3be7564a-5938-4039-b9d4-0d389310db9d",
   "metadata": {},
   "outputs": [],
   "source": [
    "plot_histogram(counts[1]).savefig(\"default_cnot_simple\")"
   ]
  },
  {
   "cell_type": "markdown",
   "id": "c48036c1-0f86-455a-ac68-e5a444f0a932",
   "metadata": {},
   "source": [
    "# QPT"
   ]
  },
  {
   "cell_type": "code",
   "execution_count": 50,
   "id": "6a442b69-21e0-454d-a3d7-ee7dd71ac2e2",
   "metadata": {},
   "outputs": [
    {
     "name": "stderr",
     "output_type": "stream",
     "text": [
      "C:\\Users\\Zachary\\anaconda3\\envs\\NewestPythonQiskit\\lib\\site-packages\\qiskit\\ignis\\verification\\tomography\\basis\\circuits.py:478: DeprecationWarning: The QuantumCircuit.__add__() method is being deprecated.Use the compose() method which is more flexible w.r.t circuit register compatibility.\n",
      "  circ = prep + meas\n",
      "C:\\Users\\Zachary\\anaconda3\\envs\\NewestPythonQiskit\\lib\\site-packages\\qiskit\\circuit\\quantumcircuit.py:933: DeprecationWarning: The QuantumCircuit.combine() method is being deprecated. Use the compose() method which is more flexible w.r.t circuit register compatibility.\n",
      "  return self.combine(rhs)\n"
     ]
    }
   ],
   "source": [
    "import qiskit.ignis.verification.tomography\n",
    "from qiskit import QuantumRegister\n",
    "from qiskit.ignis.verification.tomography import process_tomography_circuits, ProcessTomographyFitter\n",
    "# Process tomography of a Hadamard gate\n",
    "# q = QuantumRegister(2)\n",
    "# circ = QuantumCircuit(q)\n",
    "# circ.swap(q[0], q[1])\n",
    "\n",
    "# Generate process tomography circuits and run on qasm simulator\n",
    "# We use the optional prepared_qubits kwarg to specify that the prepared qubit was different to measured qubit\n",
    "qpt_circs = process_tomography_circuits(cr_circ, [q1, q2])"
   ]
  },
  {
   "cell_type": "code",
   "execution_count": 62,
   "id": "92a3290f-7c73-460c-adff-e91376ff7b41",
   "metadata": {},
   "outputs": [
    {
     "name": "stdout",
     "output_type": "stream",
     "text": [
      "61997009cd37f3855df268fc\n"
     ]
    }
   ],
   "source": [
    "job = qiskit.execute(qpt_circs, backend, shots=2000)\n",
    "job_id = job.job_id()\n",
    "print(job.job_id())"
   ]
  },
  {
   "cell_type": "code",
   "execution_count": null,
   "id": "30656573-16ce-4f65-8d13-961fc093a52b",
   "metadata": {},
   "outputs": [],
   "source": [
    "# qpt experiments\n",
    "# jakarta - 61990d8c8982d9d954338306\n",
    "# jakarta - 61997009cd37f3855df268fc"
   ]
  },
  {
   "cell_type": "code",
   "execution_count": 70,
   "id": "347197b3-266c-4dfa-87ed-14c414db27a9",
   "metadata": {},
   "outputs": [
    {
     "data": {
      "text/plain": [
       "{(('Zp', 'Zp'), ('X', 'X')): {'00': 532, '01': 480, '10': 505, '11': 483},\n",
       " (('Zp', 'Zp'), ('X', 'Y')): {'00': 43, '01': 45, '10': 957, '11': 955},\n",
       " (('Zp', 'Zp'), ('X', 'Z')): {'00': 510, '01': 458, '10': 497, '11': 535},\n",
       " (('Zp', 'Zp'), ('Y', 'X')): {'00': 529, '01': 470, '10': 495, '11': 506},\n",
       " (('Zp', 'Zp'), ('Y', 'Y')): {'00': 34, '01': 38, '10': 965, '11': 963},\n",
       " (('Zp', 'Zp'), ('Y', 'Z')): {'00': 508, '01': 448, '10': 545, '11': 499},\n",
       " (('Zp', 'Zp'), ('Z', 'X')): {'00': 988, '01': 27, '10': 969, '11': 16},\n",
       " (('Zp', 'Zp'), ('Z', 'Y')): {'00': 60, '01': 8, '10': 1918, '11': 14},\n",
       " (('Zp', 'Zp'), ('Z', 'Z')): {'00': 932, '01': 24, '10': 1027, '11': 17},\n",
       " (('Zp', 'Zm'), ('X', 'X')): {'00': 520, '01': 541, '10': 495, '11': 444},\n",
       " (('Zp', 'Zm'), ('X', 'Y')): {'00': 1039, '01': 932, '10': 8, '11': 21},\n",
       " (('Zp', 'Zm'), ('X', 'Z')): {'00': 536, '01': 577, '10': 469, '11': 418},\n",
       " (('Zp', 'Zm'), ('Y', 'X')): {'00': 596, '01': 425, '10': 483, '11': 496},\n",
       " (('Zp', 'Zm'), ('Y', 'Y')): {'00': 1029, '01': 933, '10': 16, '11': 22},\n",
       " (('Zp', 'Zm'), ('Y', 'Z')): {'00': 591, '01': 504, '10': 491, '11': 414},\n",
       " (('Zp', 'Zm'), ('Z', 'X')): {'00': 1050, '01': 13, '10': 924, '11': 13},\n",
       " (('Zp', 'Zm'), ('Z', 'Y')): {'00': 1928, '01': 23, '10': 42, '11': 7},\n",
       " (('Zp', 'Zm'), ('Z', 'Z')): {'00': 1089, '01': 10, '10': 881, '11': 20},\n",
       " (('Zp', 'Xp'), ('X', 'X')): {'00': 1028, '01': 935, '10': 25, '11': 12},\n",
       " (('Zp', 'Xp'), ('X', 'Y')): {'00': 537, '01': 474, '10': 495, '11': 494},\n",
       " (('Zp', 'Xp'), ('X', 'Z')): {'00': 575, '01': 599, '10': 406, '11': 420},\n",
       " (('Zp', 'Xp'), ('Y', 'X')): {'00': 1069, '01': 900, '10': 16, '11': 15},\n",
       " (('Zp', 'Xp'), ('Y', 'Y')): {'00': 555, '01': 459, '10': 560, '11': 426},\n",
       " (('Zp', 'Xp'), ('Y', 'Z')): {'00': 642, '01': 504, '10': 463, '11': 391},\n",
       " (('Zp', 'Xp'), ('Z', 'X')): {'00': 1928, '01': 34, '10': 37, '11': 1},\n",
       " (('Zp', 'Xp'), ('Z', 'Y')): {'00': 1004, '01': 17, '10': 969, '11': 10},\n",
       " (('Zp', 'Xp'), ('Z', 'Z')): {'00': 1126, '01': 13, '10': 845, '11': 16},\n",
       " (('Zp', 'Yp'), ('X', 'X')): {'00': 464, '01': 442, '10': 562, '11': 532},\n",
       " (('Zp', 'Yp'), ('X', 'Y')): {'00': 520, '01': 451, '10': 493, '11': 536},\n",
       " (('Zp', 'Yp'), ('X', 'Z')): {'00': 1015, '01': 942, '10': 23, '11': 20},\n",
       " (('Zp', 'Yp'), ('Y', 'X')): {'00': 474, '01': 406, '10': 556, '11': 564},\n",
       " (('Zp', 'Yp'), ('Y', 'Y')): {'00': 541, '01': 489, '10': 482, '11': 488},\n",
       " (('Zp', 'Yp'), ('Y', 'Z')): {'00': 1005, '01': 946, '10': 21, '11': 28},\n",
       " (('Zp', 'Yp'), ('Z', 'X')): {'00': 817, '01': 18, '10': 1145, '11': 20},\n",
       " (('Zp', 'Yp'), ('Z', 'Y')): {'00': 987, '01': 14, '10': 988, '11': 11},\n",
       " (('Zp', 'Yp'), ('Z', 'Z')): {'00': 1952, '01': 16, '10': 27, '11': 5},\n",
       " (('Zm', 'Zp'), ('X', 'X')): {'00': 537, '01': 498, '10': 505, '11': 460},\n",
       " (('Zm', 'Zp'), ('X', 'Y')): {'00': 1038, '01': 931, '10': 8, '11': 23},\n",
       " (('Zm', 'Zp'), ('X', 'Z')): {'00': 534, '01': 550, '10': 509, '11': 407},\n",
       " (('Zm', 'Zp'), ('Y', 'X')): {'00': 502, '01': 519, '10': 524, '11': 455},\n",
       " (('Zm', 'Zp'), ('Y', 'Y')): {'00': 1027, '01': 942, '10': 14, '11': 17},\n",
       " (('Zm', 'Zp'), ('Y', 'Z')): {'00': 602, '01': 515, '10': 461, '11': 422},\n",
       " (('Zm', 'Zp'), ('Z', 'X')): {'00': 53, '01': 962, '10': 56, '11': 929},\n",
       " (('Zm', 'Zp'), ('Z', 'Y')): {'00': 88, '01': 1888, '10': 12, '11': 12},\n",
       " (('Zm', 'Zp'), ('Z', 'Z')): {'00': 42, '01': 994, '10': 51, '11': 913},\n",
       " (('Zm', 'Zm'), ('X', 'X')): {'00': 545, '01': 514, '10': 476, '11': 465},\n",
       " (('Zm', 'Zm'), ('X', 'Y')): {'00': 39, '01': 36, '10': 993, '11': 932},\n",
       " (('Zm', 'Zm'), ('X', 'Z')): {'00': 533, '01': 438, '10': 541, '11': 488},\n",
       " (('Zm', 'Zm'), ('Y', 'X')): {'00': 514, '01': 516, '10': 519, '11': 451},\n",
       " (('Zm', 'Zm'), ('Y', 'Y')): {'00': 31, '01': 37, '10': 996, '11': 936},\n",
       " (('Zm', 'Zm'), ('Y', 'Z')): {'00': 458, '01': 480, '10': 510, '11': 552},\n",
       " (('Zm', 'Zm'), ('Z', 'X')): {'00': 44, '01': 997, '10': 47, '11': 912},\n",
       " (('Zm', 'Zm'), ('Z', 'Y')): {'00': 4, '01': 75, '10': 82, '11': 1839},\n",
       " (('Zm', 'Zm'), ('Z', 'Z')): {'00': 56, '01': 947, '10': 48, '11': 949},\n",
       " (('Zm', 'Xp'), ('X', 'X')): {'00': 945, '01': 1004, '10': 19, '11': 32},\n",
       " (('Zm', 'Xp'), ('X', 'Y')): {'00': 521, '01': 545, '10': 476, '11': 458},\n",
       " (('Zm', 'Xp'), ('X', 'Z')): {'00': 423, '01': 418, '10': 575, '11': 584},\n",
       " (('Zm', 'Xp'), ('Y', 'X')): {'00': 983, '01': 980, '10': 27, '11': 10},\n",
       " (('Zm', 'Xp'), ('Y', 'Y')): {'00': 533, '01': 526, '10': 457, '11': 484},\n",
       " (('Zm', 'Xp'), ('Y', 'Z')): {'00': 454, '01': 422, '10': 562, '11': 562},\n",
       " (('Zm', 'Xp'), ('Z', 'X')): {'00': 99, '01': 1866, '10': 3, '11': 32},\n",
       " (('Zm', 'Xp'), ('Z', 'Y')): {'00': 48, '01': 991, '10': 46, '11': 915},\n",
       " (('Zm', 'Xp'), ('Z', 'Z')): {'00': 37, '01': 831, '10': 51, '11': 1081},\n",
       " (('Zm', 'Yp'), ('X', 'X')): {'00': 438, '01': 433, '10': 572, '11': 557},\n",
       " (('Zm', 'Yp'), ('X', 'Y')): {'00': 462, '01': 519, '10': 519, '11': 500},\n",
       " (('Zm', 'Yp'), ('X', 'Z')): {'00': 36, '01': 38, '10': 1042, '11': 884},\n",
       " (('Zm', 'Yp'), ('Y', 'X')): {'00': 400, '01': 426, '10': 635, '11': 539},\n",
       " (('Zm', 'Yp'), ('Y', 'Y')): {'00': 534, '01': 465, '10': 501, '11': 500},\n",
       " (('Zm', 'Yp'), ('Y', 'Z')): {'00': 46, '01': 55, '10': 981, '11': 918},\n",
       " (('Zm', 'Yp'), ('Z', 'X')): {'00': 54, '01': 840, '10': 55, '11': 1051},\n",
       " (('Zm', 'Yp'), ('Z', 'Y')): {'00': 64, '01': 968, '10': 48, '11': 920},\n",
       " (('Zm', 'Yp'), ('Z', 'Z')): {'00': 11, '01': 76, '10': 84, '11': 1829},\n",
       " (('Xp', 'Zp'), ('X', 'X')): {'00': 953, '01': 49, '10': 55, '11': 943},\n",
       " (('Xp', 'Zp'), ('X', 'Y')): {'00': 557, '01': 489, '10': 508, '11': 446},\n",
       " (('Xp', 'Zp'), ('X', 'Z')): {'00': 514, '01': 530, '10': 509, '11': 447},\n",
       " (('Xp', 'Zp'), ('Y', 'X')): {'00': 517, '01': 503, '10': 533, '11': 447},\n",
       " (('Xp', 'Zp'), ('Y', 'Y')): {'00': 572, '01': 491, '10': 477, '11': 460},\n",
       " (('Xp', 'Zp'), ('Y', 'Z')): {'00': 87, '01': 950, '10': 939, '11': 24},\n",
       " (('Xp', 'Zp'), ('Z', 'X')): {'00': 475, '01': 515, '10': 509, '11': 501},\n",
       " (('Xp', 'Zp'), ('Z', 'Y')): {'00': 80, '01': 973, '10': 933, '11': 14},\n",
       " (('Xp', 'Zp'), ('Z', 'Z')): {'00': 447, '01': 550, '10': 519, '11': 484},\n",
       " (('Xp', 'Zm'), ('X', 'X')): {'00': 1031, '01': 45, '10': 59, '11': 865},\n",
       " (('Xp', 'Zm'), ('X', 'Y')): {'00': 531, '01': 464, '10': 516, '11': 489},\n",
       " (('Xp', 'Zm'), ('X', 'Z')): {'00': 579, '01': 479, '10': 477, '11': 465},\n",
       " (('Xp', 'Zm'), ('Y', 'X')): {'00': 520, '01': 510, '10': 500, '11': 470},\n",
       " (('Xp', 'Zm'), ('Y', 'Y')): {'00': 473, '01': 510, '10': 585, '11': 432},\n",
       " (('Xp', 'Zm'), ('Y', 'Z')): {'00': 962, '01': 44, '10': 73, '11': 921},\n",
       " (('Xp', 'Zm'), ('Z', 'X')): {'00': 500, '01': 538, '10': 507, '11': 455},\n",
       " (('Xp', 'Zm'), ('Z', 'Y')): {'00': 917, '01': 55, '10': 62, '11': 966},\n",
       " (('Xp', 'Zm'), ('Z', 'Z')): {'00': 590, '01': 488, '10': 428, '11': 494},\n",
       " (('Xp', 'Xp'), ('X', 'X')): {'00': 1936, '01': 29, '10': 13, '11': 22},\n",
       " (('Xp', 'Xp'), ('X', 'Y')): {'00': 983, '01': 25, '10': 976, '11': 16},\n",
       " (('Xp', 'Xp'), ('X', 'Z')): {'00': 1002, '01': 26, '10': 943, '11': 29},\n",
       " (('Xp', 'Xp'), ('Y', 'X')): {'00': 993, '01': 957, '10': 21, '11': 29},\n",
       " (('Xp', 'Xp'), ('Y', 'Y')): {'00': 422, '01': 589, '10': 554, '11': 435},\n",
       " (('Xp', 'Xp'), ('Y', 'Z')): {'00': 484, '01': 522, '10': 498, '11': 496},\n",
       " (('Xp', 'Xp'), ('Z', 'X')): {'00': 1037, '01': 936, '10': 15, '11': 12},\n",
       " (('Xp', 'Xp'), ('Z', 'Y')): {'00': 533, '01': 517, '10': 513, '11': 437},\n",
       " (('Xp', 'Xp'), ('Z', 'Z')): {'00': 575, '01': 401, '10': 467, '11': 557},\n",
       " (('Xp', 'Yp'), ('X', 'X')): {'00': 817, '01': 56, '10': 74, '11': 1053},\n",
       " (('Xp', 'Yp'), ('X', 'Y')): {'00': 429, '01': 582, '10': 454, '11': 535},\n",
       " (('Xp', 'Yp'), ('X', 'Z')): {'00': 449, '01': 595, '10': 413, '11': 543},\n",
       " (('Xp', 'Yp'), ('Y', 'X')): {'00': 427, '01': 477, '10': 581, '11': 515},\n",
       " (('Xp', 'Yp'), ('Y', 'Y')): {'00': 93, '01': 884, '10': 994, '11': 29},\n",
       " (('Xp', 'Yp'), ('Y', 'Z')): {'00': 546, '01': 459, '10': 529, '11': 466},\n",
       " (('Xp', 'Yp'), ('Z', 'X')): {'00': 439, '01': 447, '10': 561, '11': 553},\n",
       " (('Xp', 'Yp'), ('Z', 'Y')): {'00': 518, '01': 499, '10': 502, '11': 481},\n",
       " (('Xp', 'Yp'), ('Z', 'Z')): {'00': 959, '01': 51, '10': 65, '11': 925},\n",
       " (('Yp', 'Zp'), ('X', 'X')): {'00': 524, '01': 467, '10': 473, '11': 536},\n",
       " (('Yp', 'Zp'), ('X', 'Y')): {'00': 508, '01': 526, '10': 541, '11': 425},\n",
       " (('Yp', 'Zp'), ('X', 'Z')): {'00': 981, '01': 41, '10': 76, '11': 902},\n",
       " (('Yp', 'Zp'), ('Y', 'X')): {'00': 986, '01': 42, '10': 59, '11': 913},\n",
       " (('Yp', 'Zp'), ('Y', 'Y')): {'00': 538, '01': 515, '10': 478, '11': 469},\n",
       " (('Yp', 'Zp'), ('Y', 'Z')): {'00': 496, '01': 540, '10': 534, '11': 430},\n",
       " (('Yp', 'Zp'), ('Z', 'X')): {'00': 512, '01': 513, '10': 493, '11': 482},\n",
       " (('Yp', 'Zp'), ('Z', 'Y')): {'00': 70, '01': 1024, '10': 895, '11': 11},\n",
       " (('Yp', 'Zp'), ('Z', 'Z')): {'00': 463, '01': 558, '10': 499, '11': 480},\n",
       " (('Yp', 'Zm'), ('X', 'X')): {'00': 553, '01': 503, '10': 480, '11': 464},\n",
       " (('Yp', 'Zm'), ('X', 'Y')): {'00': 535, '01': 439, '10': 503, '11': 523},\n",
       " (('Yp', 'Zm'), ('X', 'Z')): {'00': 89, '01': 977, '10': 909, '11': 25},\n",
       " (('Yp', 'Zm'), ('Y', 'X')): {'00': 1035, '01': 58, '10': 52, '11': 855},\n",
       " (('Yp', 'Zm'), ('Y', 'Y')): {'00': 515, '01': 485, '10': 504, '11': 496},\n",
       " (('Yp', 'Zm'), ('Y', 'Z')): {'00': 572, '01': 462, '10': 499, '11': 467},\n",
       " (('Yp', 'Zm'), ('Z', 'X')): {'00': 503, '01': 571, '10': 508, '11': 418},\n",
       " (('Yp', 'Zm'), ('Z', 'Y')): {'00': 972, '01': 42, '10': 64, '11': 922},\n",
       " (('Yp', 'Zm'), ('Z', 'Z')): {'00': 585, '01': 472, '10': 444, '11': 499},\n",
       " (('Yp', 'Xp'), ('X', 'X')): {'00': 1050, '01': 916, '10': 22, '11': 12},\n",
       " (('Yp', 'Xp'), ('X', 'Y')): {'00': 606, '01': 390, '10': 463, '11': 541},\n",
       " (('Yp', 'Xp'), ('X', 'Z')): {'00': 544, '01': 459, '10': 501, '11': 496},\n",
       " (('Yp', 'Xp'), ('Y', 'X')): {'00': 1929, '01': 30, '10': 14, '11': 27},\n",
       " (('Yp', 'Xp'), ('Y', 'Y')): {'00': 988, '01': 30, '10': 958, '11': 24},\n",
       " (('Yp', 'Xp'), ('Y', 'Z')): {'00': 1030, '01': 18, '10': 931, '11': 21},\n",
       " (('Yp', 'Xp'), ('Z', 'X')): {'00': 1004, '01': 965, '10': 11, '11': 20},\n",
       " (('Yp', 'Xp'), ('Z', 'Y')): {'00': 476, '01': 531, '10': 526, '11': 467},\n",
       " (('Yp', 'Xp'), ('Z', 'Z')): {'00': 579, '01': 427, '10': 438, '11': 556},\n",
       " (('Yp', 'Yp'), ('X', 'X')): {'00': 437, '01': 466, '10': 547, '11': 550},\n",
       " (('Yp', 'Yp'), ('X', 'Y')): {'00': 923, '01': 56, '10': 75, '11': 946},\n",
       " (('Yp', 'Yp'), ('X', 'Z')): {'00': 504, '01': 488, '10': 518, '11': 490},\n",
       " (('Yp', 'Yp'), ('Y', 'X')): {'00': 852, '01': 41, '10': 51, '11': 1056},\n",
       " (('Yp', 'Yp'), ('Y', 'Y')): {'00': 419, '01': 559, '10': 463, '11': 559},\n",
       " (('Yp', 'Yp'), ('Y', 'Z')): {'00': 449, '01': 542, '10': 452, '11': 557},\n",
       " (('Yp', 'Yp'), ('Z', 'X')): {'00': 452, '01': 418, '10': 565, '11': 565},\n",
       " (('Yp', 'Yp'), ('Z', 'Y')): {'00': 495, '01': 531, '10': 497, '11': 477},\n",
       " (('Yp', 'Yp'), ('Z', 'Z')): {'00': 964, '01': 44, '10': 65, '11': 927}}"
      ]
     },
     "execution_count": 70,
     "metadata": {},
     "output_type": "execute_result"
    }
   ],
   "source": [
    "qpt_tomo = ProcessTomographyFitter(job.result(), qpt_circs)\n",
    "qpt_tomo.data"
   ]
  },
  {
   "cell_type": "code",
   "execution_count": 71,
   "id": "3c4a6656-af8d-4547-b91e-7236b7ef724d",
   "metadata": {},
   "outputs": [
    {
     "name": "stdout",
     "output_type": "stream",
     "text": [
      "Fit time: 0.19199895858764648\n",
      "Average gate fidelity: F = 0.37697\n"
     ]
    }
   ],
   "source": [
    "import time\n",
    "t = time.time()\n",
    "choi_fit = qpt_tomo.fit(method='lstsq')\n",
    "print('Fit time:', time.time() - t)\n",
    "print('Average gate fidelity: F = {:.5f}'.format(qi.average_gate_fidelity(choi_fit)))"
   ]
  },
  {
   "cell_type": "code",
   "execution_count": 75,
   "id": "89714021-da7d-4292-b7b9-dca221277753",
   "metadata": {},
   "outputs": [
    {
     "data": {
      "image/png": "[encoded data removed]",
      "text/plain": [
       "<Figure size 936x550.8 with 1 Axes>"
      ]
     },
     "execution_count": 75,
     "metadata": {},
     "output_type": "execute_result"
    }
   ],
   "source": [
    "draw(ibm_cr_sched, backend=backend)"
   ]
  },
  {
   "cell_type": "code",
   "execution_count": 65,
   "id": "8059f36e-150b-40d5-8b61-371b5958458a",
   "metadata": {},
   "outputs": [
    {
     "data": {
      "text/html": [
       "<pre style=\"word-wrap: normal;white-space: pre;background: #fff0;line-height: 1.1;font-family: &quot;Courier New&quot;,Courier,monospace\">     ┌─────┐\n",
       "q_0: ┤0    ├\n",
       "     │  cr │\n",
       "q_1: ┤1    ├\n",
       "     └─────┘</pre>"
      ],
      "text/plain": [
       "     ┌─────┐\n",
       "q_0: ┤0    ├\n",
       "     │  cr │\n",
       "q_1: ┤1    ├\n",
       "     └─────┘"
      ]
     },
     "execution_count": 65,
     "metadata": {},
     "output_type": "execute_result"
    }
   ],
   "source": [
    "cr_gate = circuit.Gate(\"cr\", num_qubits=2, params=[])\n",
    "qc = QuantumCircuit(2)\n",
    "qc.append(cr_gate, [q1, q2])\n",
    "qc.add_calibration(cr_gate, (q1, q2), ibm_cr_sched)\n"
   ]
  },
  {
   "cell_type": "code",
   "execution_count": 68,
   "id": "3fb33290-e153-481e-884d-06f76020f9eb",
   "metadata": {},
   "outputs": [],
   "source": [
    "qpt_circs = process_tomography_circuits(qc, [q1, q2])"
   ]
  },
  {
   "cell_type": "code",
   "execution_count": 72,
   "id": "6866245f-030c-4e11-a92a-c5c059ae98aa",
   "metadata": {},
   "outputs": [
    {
     "name": "stdout",
     "output_type": "stream",
     "text": [
      "6199713c8982d995c733852c\n"
     ]
    }
   ],
   "source": [
    "job = qiskit.execute(qpt_circs, backend, shots=2000)\n",
    "job_id = job.job_id()\n",
    "print(job.job_id())"
   ]
  },
  {
   "cell_type": "code",
   "execution_count": 73,
   "id": "e546138f-5e33-4bac-9397-e71a6c9096de",
   "metadata": {},
   "outputs": [
    {
     "data": {
      "text/plain": [
       "{(('Zp', 'Zp'), ('X', 'X')): {'00': 500, '01': 502, '10': 493, '11': 505},\n",
       " (('Zp', 'Zp'), ('X', 'Y')): {'00': 1023, '01': 933, '10': 22, '11': 22},\n",
       " (('Zp', 'Zp'), ('X', 'Z')): {'00': 564, '01': 499, '10': 512, '11': 425},\n",
       " (('Zp', 'Zp'), ('Y', 'X')): {'00': 541, '01': 481, '10': 500, '11': 478},\n",
       " (('Zp', 'Zp'), ('Y', 'Y')): {'00': 1004, '01': 974, '10': 16, '11': 6},\n",
       " (('Zp', 'Zp'), ('Y', 'Z')): {'00': 541, '01': 501, '10': 518, '11': 440},\n",
       " (('Zp', 'Zp'), ('Z', 'X')): {'00': 975, '01': 18, '10': 994, '11': 13},\n",
       " (('Zp', 'Zp'), ('Z', 'Y')): {'00': 1956, '01': 15, '10': 22, '11': 7},\n",
       " (('Zp', 'Zp'), ('Z', 'Z')): {'00': 1029, '01': 18, '10': 944, '11': 9},\n",
       " (('Zp', 'Zm'), ('X', 'X')): {'00': 535, '01': 506, '10': 493, '11': 466},\n",
       " (('Zp', 'Zm'), ('X', 'Y')): {'00': 54, '01': 39, '10': 974, '11': 933},\n",
       " (('Zp', 'Zm'), ('X', 'Z')): {'00': 500, '01': 440, '10': 505, '11': 555},\n",
       " (('Zp', 'Zm'), ('Y', 'X')): {'00': 552, '01': 523, '10': 467, '11': 458},\n",
       " (('Zp', 'Zm'), ('Y', 'Y')): {'00': 55, '01': 30, '10': 992, '11': 923},\n",
       " (('Zp', 'Zm'), ('Y', 'Z')): {'00': 520, '01': 473, '10': 516, '11': 491},\n",
       " (('Zp', 'Zm'), ('Z', 'X')): {'00': 1055, '01': 16, '10': 919, '11': 10},\n",
       " (('Zp', 'Zm'), ('Z', 'Y')): {'00': 75, '01': 15, '10': 1891, '11': 19},\n",
       " (('Zp', 'Zm'), ('Z', 'Z')): {'00': 993, '01': 12, '10': 981, '11': 14},\n",
       " (('Zp', 'Xp'), ('X', 'X')): {'00': 1031, '01': 941, '10': 18, '11': 10},\n",
       " (('Zp', 'Xp'), ('X', 'Y')): {'00': 511, '01': 467, '10': 526, '11': 496},\n",
       " (('Zp', 'Xp'), ('X', 'Z')): {'00': 550, '01': 420, '10': 522, '11': 508},\n",
       " (('Zp', 'Xp'), ('Y', 'X')): {'00': 1016, '01': 963, '10': 15, '11': 6},\n",
       " (('Zp', 'Xp'), ('Y', 'Y')): {'00': 551, '01': 494, '10': 499, '11': 456},\n",
       " (('Zp', 'Xp'), ('Y', 'Z')): {'00': 497, '01': 432, '10': 565, '11': 506},\n",
       " (('Zp', 'Xp'), ('Z', 'X')): {'00': 1949, '01': 26, '10': 25},\n",
       " (('Zp', 'Xp'), ('Z', 'Y')): {'00': 1031, '01': 19, '10': 939, '11': 11},\n",
       " (('Zp', 'Xp'), ('Z', 'Z')): {'00': 947, '01': 15, '10': 1021, '11': 17},\n",
       " (('Zp', 'Yp'), ('X', 'X')): {'00': 486, '01': 424, '10': 570, '11': 520},\n",
       " (('Zp', 'Yp'), ('X', 'Y')): {'00': 514, '01': 523, '10': 546, '11': 417},\n",
       " (('Zp', 'Yp'), ('X', 'Z')): {'00': 38, '01': 42, '10': 1024, '11': 896},\n",
       " (('Zp', 'Yp'), ('Y', 'X')): {'00': 488, '01': 430, '10': 540, '11': 542},\n",
       " (('Zp', 'Yp'), ('Y', 'Y')): {'00': 552, '01': 497, '10': 499, '11': 452},\n",
       " (('Zp', 'Yp'), ('Y', 'Z')): {'00': 45, '01': 40, '10': 1032, '11': 883},\n",
       " (('Zp', 'Yp'), ('Z', 'X')): {'00': 940, '01': 11, '10': 1028, '11': 21},\n",
       " (('Zp', 'Yp'), ('Z', 'Y')): {'00': 1026, '01': 19, '10': 943, '11': 12},\n",
       " (('Zp', 'Yp'), ('Z', 'Z')): {'00': 63, '01': 5, '10': 1908, '11': 24},\n",
       " (('Zm', 'Zp'), ('X', 'X')): {'00': 539, '01': 509, '10': 470, '11': 482},\n",
       " (('Zm', 'Zp'), ('X', 'Y')): {'00': 44, '01': 32, '10': 997, '11': 927},\n",
       " (('Zm', 'Zp'), ('X', 'Z')): {'00': 465, '01': 447, '10': 555, '11': 533},\n",
       " (('Zm', 'Zp'), ('Y', 'X')): {'00': 537, '01': 532, '10': 522, '11': 409},\n",
       " (('Zm', 'Zp'), ('Y', 'Y')): {'00': 44, '01': 33, '10': 1001, '11': 922},\n",
       " (('Zm', 'Zp'), ('Y', 'Z')): {'00': 521, '01': 475, '10': 527, '11': 477},\n",
       " (('Zm', 'Zp'), ('Z', 'X')): {'00': 59, '01': 992, '10': 44, '11': 905},\n",
       " (('Zm', 'Zp'), ('Z', 'Y')): {'00': 9, '01': 65, '10': 87, '11': 1839},\n",
       " (('Zm', 'Zp'), ('Z', 'Z')): {'00': 61, '01': 915, '10': 42, '11': 982},\n",
       " (('Zm', 'Zm'), ('X', 'X')): {'00': 523, '01': 511, '10': 525, '11': 441},\n",
       " (('Zm', 'Zm'), ('X', 'Y')): {'00': 1029, '01': 941, '10': 14, '11': 16},\n",
       " (('Zm', 'Zm'), ('X', 'Z')): {'00': 513, '01': 558, '10': 508, '11': 421},\n",
       " (('Zm', 'Zm'), ('Y', 'X')): {'00': 498, '01': 544, '10': 517, '11': 441},\n",
       " (('Zm', 'Zm'), ('Y', 'Y')): {'00': 1003, '01': 962, '10': 20, '11': 15},\n",
       " (('Zm', 'Zm'), ('Y', 'Z')): {'00': 577, '01': 499, '10': 443, '11': 481},\n",
       " (('Zm', 'Zm'), ('Z', 'X')): {'00': 48, '01': 1021, '10': 25, '11': 906},\n",
       " (('Zm', 'Zm'), ('Z', 'Y')): {'00': 87, '01': 1874, '10': 12, '11': 27},\n",
       " (('Zm', 'Zm'), ('Z', 'Z')): {'00': 44, '01': 990, '10': 50, '11': 916},\n",
       " (('Zm', 'Xp'), ('X', 'X')): {'00': 991, '01': 988, '10': 7, '11': 14},\n",
       " (('Zm', 'Xp'), ('X', 'Y')): {'00': 504, '01': 515, '10': 487, '11': 494},\n",
       " (('Zm', 'Xp'), ('X', 'Z')): {'00': 516, '01': 532, '10': 470, '11': 482},\n",
       " (('Zm', 'Xp'), ('Y', 'X')): {'00': 941, '01': 1035, '10': 11, '11': 13},\n",
       " (('Zm', 'Xp'), ('Y', 'Y')): {'00': 525, '01': 478, '10': 495, '11': 502},\n",
       " (('Zm', 'Xp'), ('Y', 'Z')): {'00': 556, '01': 486, '10': 455, '11': 503},\n",
       " (('Zm', 'Xp'), ('Z', 'X')): {'00': 108, '01': 1869, '10': 1, '11': 22},\n",
       " (('Zm', 'Xp'), ('Z', 'Y')): {'00': 46, '01': 967, '10': 51, '11': 936},\n",
       " (('Zm', 'Xp'), ('Z', 'Z')): {'00': 43, '01': 1004, '10': 37, '11': 916},\n",
       " (('Zm', 'Yp'), ('X', 'X')): {'00': 523, '01': 472, '10': 534, '11': 471},\n",
       " (('Zm', 'Yp'), ('X', 'Y')): {'00': 556, '01': 464, '10': 480, '11': 500},\n",
       " (('Zm', 'Yp'), ('X', 'Z')): {'00': 992, '01': 981, '10': 11, '11': 16},\n",
       " (('Zm', 'Yp'), ('Y', 'X')): {'00': 442, '01': 526, '10': 550, '11': 482},\n",
       " (('Zm', 'Yp'), ('Y', 'Y')): {'00': 533, '01': 514, '10': 482, '11': 471},\n",
       " (('Zm', 'Yp'), ('Y', 'Z')): {'00': 1047, '01': 919, '10': 15, '11': 19},\n",
       " (('Zm', 'Yp'), ('Z', 'X')): {'00': 45, '01': 968, '10': 53, '11': 934},\n",
       " (('Zm', 'Yp'), ('Z', 'Y')): {'00': 53, '01': 951, '10': 45, '11': 951},\n",
       " (('Zm', 'Yp'), ('Z', 'Z')): {'00': 86, '01': 1879, '10': 7, '11': 28},\n",
       " (('Xp', 'Zp'), ('X', 'X')): {'00': 963, '01': 41, '10': 58, '11': 938},\n",
       " (('Xp', 'Zp'), ('X', 'Y')): {'00': 518, '01': 455, '10': 530, '11': 497},\n",
       " (('Xp', 'Zp'), ('X', 'Z')): {'00': 527, '01': 491, '10': 516, '11': 466},\n",
       " (('Xp', 'Zp'), ('Y', 'X')): {'00': 519, '01': 484, '10': 533, '11': 464},\n",
       " (('Xp', 'Zp'), ('Y', 'Y')): {'00': 448, '01': 506, '10': 606, '11': 440},\n",
       " (('Xp', 'Zp'), ('Y', 'Z')): {'00': 953, '01': 51, '10': 70, '11': 926},\n",
       " (('Xp', 'Zp'), ('Z', 'X')): {'00': 535, '01': 512, '10': 495, '11': 458},\n",
       " (('Xp', 'Zp'), ('Z', 'Y')): {'00': 928, '01': 40, '10': 44, '11': 988},\n",
       " (('Xp', 'Zp'), ('Z', 'Z')): {'00': 482, '01': 520, '10': 482, '11': 516},\n",
       " (('Xp', 'Zm'), ('X', 'X')): {'00': 1025, '01': 50, '10': 55, '11': 870},\n",
       " (('Xp', 'Zm'), ('X', 'Y')): {'00': 540, '01': 516, '10': 473, '11': 471},\n",
       " (('Xp', 'Zm'), ('X', 'Z')): {'00': 525, '01': 504, '10': 525, '11': 446},\n",
       " (('Xp', 'Zm'), ('Y', 'X')): {'00': 506, '01': 532, '10': 490, '11': 472},\n",
       " (('Xp', 'Zm'), ('Y', 'Y')): {'00': 605, '01': 476, '10': 457, '11': 462},\n",
       " (('Xp', 'Zm'), ('Y', 'Z')): {'00': 76, '01': 953, '10': 943, '11': 28},\n",
       " (('Xp', 'Zm'), ('Z', 'X')): {'00': 555, '01': 524, '10': 484, '11': 437},\n",
       " (('Xp', 'Zm'), ('Z', 'Y')): {'00': 88, '01': 957, '10': 926, '11': 29},\n",
       " (('Xp', 'Zm'), ('Z', 'Z')): {'00': 474, '01': 542, '10': 502, '11': 482},\n",
       " (('Xp', 'Xp'), ('X', 'X')): {'00': 1931, '01': 32, '10': 21, '11': 16},\n",
       " (('Xp', 'Xp'), ('X', 'Y')): {'00': 1060, '01': 17, '10': 907, '11': 16},\n",
       " (('Xp', 'Xp'), ('X', 'Z')): {'00': 987, '01': 29, '10': 963, '11': 21},\n",
       " (('Xp', 'Xp'), ('Y', 'X')): {'00': 991, '01': 982, '10': 16, '11': 11},\n",
       " (('Xp', 'Xp'), ('Y', 'Y')): {'00': 528, '01': 455, '10': 473, '11': 544},\n",
       " (('Xp', 'Xp'), ('Y', 'Z')): {'00': 488, '01': 515, '10': 462, '11': 535},\n",
       " (('Xp', 'Xp'), ('Z', 'X')): {'00': 1001, '01': 964, '10': 17, '11': 18},\n",
       " (('Xp', 'Xp'), ('Z', 'Y')): {'00': 518, '01': 503, '10': 481, '11': 498},\n",
       " (('Xp', 'Xp'), ('Z', 'Z')): {'00': 493, '01': 506, '10': 549, '11': 452},\n",
       " (('Xp', 'Yp'), ('X', 'X')): {'00': 957, '01': 54, '10': 61, '11': 928},\n",
       " (('Xp', 'Yp'), ('X', 'Y')): {'00': 552, '01': 507, '10': 413, '11': 528},\n",
       " (('Xp', 'Yp'), ('X', 'Z')): {'00': 546, '01': 544, '10': 449, '11': 461},\n",
       " (('Xp', 'Yp'), ('Y', 'X')): {'00': 469, '01': 458, '10': 580, '11': 493},\n",
       " (('Xp', 'Yp'), ('Y', 'Y')): {'00': 955, '01': 51, '10': 71, '11': 923},\n",
       " (('Xp', 'Yp'), ('Y', 'Z')): {'00': 523, '01': 499, '10': 504, '11': 474},\n",
       " (('Xp', 'Yp'), ('Z', 'X')): {'00': 476, '01': 541, '10': 505, '11': 478},\n",
       " (('Xp', 'Yp'), ('Z', 'Y')): {'00': 518, '01': 522, '10': 460, '11': 500},\n",
       " (('Xp', 'Yp'), ('Z', 'Z')): {'00': 89, '01': 926, '10': 969, '11': 16},\n",
       " (('Yp', 'Zp'), ('X', 'X')): {'00': 530, '01': 468, '10': 507, '11': 495},\n",
       " (('Yp', 'Zp'), ('X', 'Y')): {'00': 570, '01': 464, '10': 438, '11': 528},\n",
       " (('Yp', 'Zp'), ('X', 'Z')): {'00': 90, '01': 969, '10': 910, '11': 31},\n",
       " (('Yp', 'Zp'), ('Y', 'X')): {'00': 961, '01': 44, '10': 67, '11': 928},\n",
       " (('Yp', 'Zp'), ('Y', 'Y')): {'00': 509, '01': 495, '10': 506, '11': 490},\n",
       " (('Yp', 'Zp'), ('Y', 'Z')): {'00': 548, '01': 498, '10': 505, '11': 449},\n",
       " (('Yp', 'Zp'), ('Z', 'X')): {'00': 529, '01': 501, '10': 515, '11': 455},\n",
       " (('Yp', 'Zp'), ('Z', 'Y')): {'00': 967, '01': 37, '10': 59, '11': 937},\n",
       " (('Yp', 'Zp'), ('Z', 'Z')): {'00': 568, '01': 477, '10': 492, '11': 463},\n",
       " (('Yp', 'Zm'), ('X', 'X')): {'00': 542, '01': 519, '10': 447, '11': 492},\n",
       " (('Yp', 'Zm'), ('X', 'Y')): {'00': 505, '01': 539, '10': 502, '11': 454},\n",
       " (('Yp', 'Zm'), ('X', 'Z')): {'00': 955, '01': 39, '10': 70, '11': 936},\n",
       " (('Yp', 'Zm'), ('Y', 'X')): {'00': 985, '01': 54, '10': 64, '11': 897},\n",
       " (('Yp', 'Zm'), ('Y', 'Y')): {'00': 555, '01': 477, '10': 498, '11': 470},\n",
       " (('Yp', 'Zm'), ('Y', 'Z')): {'00': 484, '01': 519, '10': 558, '11': 439},\n",
       " (('Yp', 'Zm'), ('Z', 'X')): {'00': 542, '01': 508, '10': 496, '11': 454},\n",
       " (('Yp', 'Zm'), ('Z', 'Y')): {'00': 72, '01': 960, '10': 939, '11': 29},\n",
       " (('Yp', 'Zm'), ('Z', 'Z')): {'00': 492, '01': 497, '10': 547, '11': 464},\n",
       " (('Yp', 'Xp'), ('X', 'X')): {'00': 1066, '01': 914, '10': 4, '11': 16},\n",
       " (('Yp', 'Xp'), ('X', 'Y')): {'00': 536, '01': 499, '10': 554, '11': 411},\n",
       " (('Yp', 'Xp'), ('X', 'Z')): {'00': 521, '01': 473, '10': 522, '11': 484},\n",
       " (('Yp', 'Xp'), ('Y', 'X')): {'00': 1947, '01': 29, '10': 8, '11': 16},\n",
       " (('Yp', 'Xp'), ('Y', 'Y')): {'00': 1005, '01': 20, '10': 955, '11': 20},\n",
       " (('Yp', 'Xp'), ('Y', 'Z')): {'00': 976, '01': 24, '10': 968, '11': 32},\n",
       " (('Yp', 'Xp'), ('Z', 'X')): {'00': 980, '01': 992, '10': 15, '11': 13},\n",
       " (('Yp', 'Xp'), ('Z', 'Y')): {'00': 574, '01': 498, '10': 448, '11': 480},\n",
       " (('Yp', 'Xp'), ('Z', 'Z')): {'00': 473, '01': 506, '10': 553, '11': 468},\n",
       " (('Yp', 'Yp'), ('X', 'X')): {'00': 550, '01': 428, '10': 483, '11': 539},\n",
       " (('Yp', 'Yp'), ('X', 'Y')): {'00': 67, '01': 959, '10': 948, '11': 26},\n",
       " (('Yp', 'Yp'), ('X', 'Z')): {'00': 519, '01': 487, '10': 514, '11': 480},\n",
       " (('Yp', 'Yp'), ('Y', 'X')): {'00': 934, '01': 32, '10': 51, '11': 983},\n",
       " (('Yp', 'Yp'), ('Y', 'Y')): {'00': 534, '01': 431, '10': 465, '11': 570},\n",
       " (('Yp', 'Yp'), ('Y', 'Z')): {'00': 461, '01': 549, '10': 498, '11': 492},\n",
       " (('Yp', 'Yp'), ('Z', 'X')): {'00': 514, '01': 490, '10': 549, '11': 447},\n",
       " (('Yp', 'Yp'), ('Z', 'Y')): {'00': 566, '01': 497, '10': 511, '11': 426},\n",
       " (('Yp', 'Yp'), ('Z', 'Z')): {'00': 79, '01': 969, '10': 933, '11': 19}}"
      ]
     },
     "execution_count": 73,
     "metadata": {},
     "output_type": "execute_result"
    }
   ],
   "source": [
    "qpt_tomo = ProcessTomographyFitter(job.result(), qpt_circs)\n",
    "qpt_tomo.data"
   ]
  },
  {
   "cell_type": "code",
   "execution_count": 74,
   "id": "29fd99da-4965-40c3-9dd4-3235fc1540ab",
   "metadata": {},
   "outputs": [
    {
     "name": "stdout",
     "output_type": "stream",
     "text": [
      "Fit time: 0.1919994354248047\n",
      "Average gate fidelity: F = 0.40034\n"
     ]
    }
   ],
   "source": [
    "import time\n",
    "t = time.time()\n",
    "choi_fit = qpt_tomo.fit(method='lstsq')\n",
    "print('Fit time:', time.time() - t)\n",
    "print('Average gate fidelity: F = {:.5f}'.format(qi.average_gate_fidelity(choi_fit)))"
   ]
  },
  {
   "cell_type": "code",
   "execution_count": null,
   "id": "4a1e31d6-01b3-48d5-88f5-a0daed1018cd",
   "metadata": {},
   "outputs": [],
   "source": []
  }
 ],
 "metadata": {
  "kernelspec": {
   "display_name": "Python 3",
   "language": "python",
   "name": "python3"
  },
  "language_info": {
   "codemirror_mode": {
    "name": "ipython",
    "version": 3
   },
   "file_extension": ".py",
   "mimetype": "text/x-python",
   "name": "python",
   "nbconvert_exporter": "python",
   "pygments_lexer": "ipython3",
   "version": "3.8.8"
  }
 },
 "nbformat": 4,
 "nbformat_minor": 5
}
