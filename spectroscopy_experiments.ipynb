{
 "cells": [
  {
   "cell_type": "code",
   "execution_count": 1,
   "id": "57d5e6c9-52f0-43ae-8aa9-5227297fb32b",
   "metadata": {},
   "outputs": [],
   "source": [
    "from qiskit import pulse, circuit, transpile, assemble, schedule, IBMQ, QuantumCircuit, quantum_info as qi \n",
    "import qiskit\n",
    "from qiskit.visualization import plot_gate_map, plot_error_map\n",
    "from qiskit.visualization.pulse_v2 import draw\n",
    "from qiskit.pulse import ShiftPhase, GaussianSquare, Drag, ControlChannel, MeasureChannel, DriveChannel, Play, Schedule\n",
    "import numpy as np\n",
    "from qiskit.tools import job_monitor\n",
    "from copy import deepcopy\n",
    "import scipy.optimize as opt\n",
    "import matplotlib.pyplot as plt"
   ]
  },
  {
   "cell_type": "code",
   "execution_count": 107,
   "id": "a6a30b4f-7c1d-437d-991c-000b870101af",
   "metadata": {},
   "outputs": [
    {
     "name": "stderr",
     "output_type": "stream",
     "text": [
      "ibmqfactory.load_account:WARNING:2021-11-21 15:29:19,194: Credentials are already in use. The existing account in the session will be replaced.\n"
     ]
    }
   ],
   "source": [
    "account_provider = IBMQ.load_account()\n",
    "provider_opts = {'hub': 'ibm-q-ncsu', 'group': 'nc-state', 'project':'noiseanderror'}\n",
    "\n",
    "# target backend\n",
    "backend_name = 'ibmq_armonk'\n",
    "\n",
    "provider = IBMQ.get_provider(**provider_opts)\n",
    "backend = provider.get_backend(backend_name)\n",
    "\n",
    "# backend information\n",
    "config = backend.configuration()\n",
    "defaults = backend.defaults()\n",
    "properties = backend.properties()\n",
    "\n",
    "# instruction schedule map\n",
    "inst_map = defaults.instruction_schedule_map"
   ]
  },
  {
   "cell_type": "code",
   "execution_count": 108,
   "id": "85c390cf-7716-431b-a7ec-114f3b8df3a6",
   "metadata": {},
   "outputs": [],
   "source": [
    "qubit = 0\n",
    "freq01_estimate = backend.defaults().qubit_freq_est[qubit]\n",
    "frequencies = np.linspace(freq01_estimate -15e6, freq01_estimate + 15e6, 51)"
   ]
  },
  {
   "cell_type": "code",
   "execution_count": 109,
   "id": "f8f88b2d-0215-47bd-9b02-ea55aa131011",
   "metadata": {},
   "outputs": [
    {
     "name": "stdout",
     "output_type": "stream",
     "text": [
      "[4.95658557e+09 4.95718557e+09 4.95778557e+09 4.95838557e+09\n",
      " 4.95898557e+09 4.95958557e+09 4.96018557e+09 4.96078557e+09\n",
      " 4.96138557e+09 4.96198557e+09 4.96258557e+09 4.96318557e+09\n",
      " 4.96378557e+09 4.96438557e+09 4.96498557e+09 4.96558557e+09\n",
      " 4.96618557e+09 4.96678557e+09 4.96738557e+09 4.96798557e+09\n",
      " 4.96858557e+09 4.96918557e+09 4.96978557e+09 4.97038557e+09\n",
      " 4.97098557e+09 4.97158557e+09 4.97218557e+09 4.97278557e+09\n",
      " 4.97338557e+09 4.97398557e+09 4.97458557e+09 4.97518557e+09\n",
      " 4.97578557e+09 4.97638557e+09 4.97698557e+09 4.97758557e+09\n",
      " 4.97818557e+09 4.97878557e+09 4.97938557e+09 4.97998557e+09\n",
      " 4.98058557e+09 4.98118557e+09 4.98178557e+09 4.98238557e+09\n",
      " 4.98298557e+09 4.98358557e+09 4.98418557e+09 4.98478557e+09\n",
      " 4.98538557e+09 4.98598557e+09 4.98658557e+09]\n"
     ]
    }
   ],
   "source": [
    "print(frequencies)"
   ]
  },
  {
   "cell_type": "code",
   "execution_count": 110,
   "id": "47c56c4e-270e-42cb-a8be-7be57fa84291",
   "metadata": {},
   "outputs": [],
   "source": [
    "def spectroscopy_scheds(qubit, pulse_params, backend):\n",
    "    freq_param = circuit.Parameter(\"frequency\")\n",
    "    with pulse.build(backend=backend, name=\"spectroscopy\") as schedule:\n",
    "        pulse.shift_frequency(freq_param, DriveChannel(qubit))\n",
    "        pulse.play(\n",
    "            GaussianSquare(duration=pulse_params[\"duration\"], \n",
    "                           amp = pulse_params[\"amp\"], \n",
    "                           sigma=pulse_params[\"sigma\"], \n",
    "                           width=pulse_params[\"width\"]), DriveChannel(qubit))\n",
    "        pulse.shift_frequency(-freq_param, DriveChannel(qubit))\n",
    "        \n",
    "    return schedule, freq_param\n",
    "\n",
    "def template_circuit(freq_param):\n",
    "    temp_circ = QuantumCircuit(1)\n",
    "    temp_circ.append(circuit.Gate(name=\"Spec\", num_qubits=1, params=[freq_param]), (0,))\n",
    "    temp_circ.measure_active()\n",
    "    return temp_circ\n",
    "\n",
    "def spectroscopy_circuits(qubit, frequencies, pulse_params, backend):\n",
    "    sched, freq_param = spectroscopy_scheds(qubit, pulse_params, backend)\n",
    "    circuit = template_circuit(freq_param)\n",
    "    circuit.add_calibration(\"Spec\", (qubit,), sched, params=[freq_param])\n",
    "    \n",
    "    center_freq = backend.defaults().qubit_freq_est[qubit]\n",
    "    \n",
    "    circs = []\n",
    "    for freq in frequencies:\n",
    "        freq_shift = freq\n",
    "        freq_shift -= center_freq\n",
    "        freq_shift = np.round(freq_shift, decimals=3)\n",
    "        assigned_circ = circuit.assign_parameters({freq_param: freq_shift}, inplace=False)\n",
    "        circs.append(assigned_circ)\n",
    "    return circs"
   ]
  },
  {
   "cell_type": "code",
   "execution_count": 111,
   "id": "2c8f6f26-d6d1-4e51-80d9-f5cf2598587e",
   "metadata": {
    "tags": []
   },
   "outputs": [],
   "source": [
    "pulse_params = {}\n",
    "\n",
    "pulse_params[\"duration\"] = 1024\n",
    "pulse_params[\"amp\"] = 0.1\n",
    "pulse_params[\"sigma\"] = 256\n",
    "pulse_params[\"width\"] = 0\n",
    "schedules = spectroscopy_scheds(0, pulse_params, backend)"
   ]
  },
  {
   "cell_type": "code",
   "execution_count": 112,
   "id": "16d3d570-527c-4f53-a00d-5975ad594315",
   "metadata": {},
   "outputs": [],
   "source": [
    "circs = spectroscopy_circuits(qubit, frequencies, pulse_params, backend)"
   ]
  },
  {
   "cell_type": "code",
   "execution_count": 113,
   "id": "b220370d-4a9d-48ff-a547-680e211740cc",
   "metadata": {},
   "outputs": [],
   "source": [
    "transpiled_circs = transpile(circs, backend, initial_layout=[0])"
   ]
  },
  {
   "cell_type": "code",
   "execution_count": 114,
   "id": "59088da7-7372-4830-a826-7bd0af487990",
   "metadata": {},
   "outputs": [
    {
     "data": {
      "text/html": [
       "<pre style=\"word-wrap: normal;white-space: pre;background: #fff0;line-height: 1.1;font-family: &quot;Courier New&quot;,Courier,monospace\">           ┌─────────────────────────┐ ░ ┌─┐\n",
       "  q_0 -> 0 ┤ Spec(-15000000.0000000) ├─░─┤M├\n",
       "           └─────────────────────────┘ ░ └╥┘\n",
       "measure: 1/═══════════════════════════════╩═\n",
       "                                          0 </pre>"
      ],
      "text/plain": [
       "           ┌─────────────────────────┐ ░ ┌─┐\n",
       "  q_0 -> 0 ┤ Spec(-15000000.0000000) ├─░─┤M├\n",
       "           └─────────────────────────┘ ░ └╥┘\n",
       "measure: 1/═══════════════════════════════╩═\n",
       "                                          0 "
      ]
     },
     "execution_count": 114,
     "metadata": {},
     "output_type": "execute_result"
    }
   ],
   "source": [
    "transpiled_circs[0].draw()"
   ]
  },
  {
   "cell_type": "code",
   "execution_count": 115,
   "id": "15ba3169-d5ce-42d1-be5c-6a7f13122a08",
   "metadata": {},
   "outputs": [
    {
     "name": "stdout",
     "output_type": "stream",
     "text": [
      "619aac3a53ac6ccf4ad59760\n"
     ]
    }
   ],
   "source": [
    "job = backend.run(transpiled_circs, job_name=\"spectroscopy\", shots=2048)\n",
    "job_id = job.job_id()\n",
    "print(job.job_id())"
   ]
  },
  {
   "cell_type": "code",
   "execution_count": 123,
   "id": "127c7ce2-32fd-41ef-bf54-a73c79cd28cb",
   "metadata": {},
   "outputs": [],
   "source": [
    "# 11/21/spectroscopy\n",
    "# jakarta (11:51) 619a768168476d6e298a8394\n",
    "\n",
    "# lagos (2:16) 619a9b38cd37f33609f2702d\n",
    "\n",
    "# armonk (3:29) 619aac3a53ac6ccf4ad59760\n",
    "backend = provider.get_backend(\"ibmq_armonk\")\n",
    "results = backend.retrieve_job(\"619aac3a53ac6ccf4ad59760\").result()"
   ]
  },
  {
   "cell_type": "code",
   "execution_count": 124,
   "id": "3a0f830e-02f4-4adf-ba62-f023f14982aa",
   "metadata": {},
   "outputs": [
    {
     "name": "stdout",
     "output_type": "stream",
     "text": [
      "[{'0': 1897, '1': 151}, {'0': 1873, '1': 175}, {'0': 1873, '1': 175}, {'0': 1879, '1': 169}, {'0': 1901, '1': 147}, {'0': 1877, '1': 171}, {'0': 1911, '1': 137}, {'0': 1874, '1': 174}, {'0': 1887, '1': 161}, {'0': 1900, '1': 148}, {'0': 1878, '1': 170}, {'0': 1901, '1': 147}, {'0': 1885, '1': 163}, {'0': 1865, '1': 183}, {'0': 1883, '1': 165}, {'0': 1860, '1': 188}, {'0': 1846, '1': 202}, {'0': 1797, '1': 251}, {'0': 1748, '1': 300}, {'0': 1660, '1': 388}, {'0': 1560, '1': 488}, {'0': 1446, '1': 602}, {'0': 1339, '1': 709}, {'0': 1267, '1': 781}, {'0': 1188, '1': 860}, {'0': 1163, '1': 885}, {'0': 1190, '1': 858}, {'0': 1239, '1': 809}, {'0': 1351, '1': 697}, {'0': 1450, '1': 598}, {'0': 1543, '1': 505}, {'0': 1653, '1': 395}, {'0': 1709, '1': 339}, {'0': 1758, '1': 290}, {'0': 1840, '1': 208}, {'0': 1842, '1': 206}, {'0': 1854, '1': 194}, {'0': 1884, '1': 164}, {'0': 1877, '1': 171}, {'0': 1879, '1': 169}, {'0': 1877, '1': 171}, {'0': 1901, '1': 147}, {'0': 1892, '1': 156}, {'0': 1889, '1': 159}, {'0': 1889, '1': 159}, {'0': 1869, '1': 179}, {'0': 1895, '1': 153}, {'0': 1906, '1': 142}, {'0': 1888, '1': 160}, {'0': 1892, '1': 156}, {'0': 1883, '1': 165}]\n"
     ]
    }
   ],
   "source": [
    "print(results.get_counts())"
   ]
  },
  {
   "cell_type": "code",
   "execution_count": 125,
   "id": "89c7b610-b186-4d3a-ba8d-611541ffce1c",
   "metadata": {},
   "outputs": [],
   "source": [
    "import json\n",
    "result_dict = results.to_dict()\n",
    "\n",
    "result_dict[\"date\"] = None\n",
    "f = open(\"nov_21_armonk_spectroscopy_results.json\", \"w\")\n",
    "json.dump(result_dict, f)\n",
    "f.close()"
   ]
  },
  {
   "cell_type": "code",
   "execution_count": 126,
   "id": "d9811edf-3461-4ae2-aa79-2dfcacaaefa8",
   "metadata": {},
   "outputs": [
    {
     "name": "stdout",
     "output_type": "stream",
     "text": [
      "[1746, 1698, 1698, 1710, 1754, 1706, 1774, 1700, 1726, 1752, 1708, 1754, 1722, 1682, 1718, 1672, 1644, 1546, 1448, 1272, 1072, 844, 630, 486, 328, 278, 332, 430, 654, 852, 1038, 1258, 1370, 1468, 1632, 1636, 1660, 1720, 1706, 1710, 1706, 1754, 1736, 1730, 1730, 1690, 1742, 1764, 1728, 1736, 1718]\n"
     ]
    }
   ],
   "source": [
    "exp_vals = []\n",
    "for counts in results.get_counts():\n",
    "    exp_val = 0\n",
    "    for k,v in counts.items():\n",
    "        if k == \"1\":\n",
    "            exp_val -= v\n",
    "        else:\n",
    "            exp_val += v\n",
    "    exp_vals.append(exp_val)\n",
    "print(exp_vals)"
   ]
  },
  {
   "cell_type": "code",
   "execution_count": 127,
   "id": "fa3df9e1-18e5-4ad9-9808-b80a78b4cef7",
   "metadata": {},
   "outputs": [
    {
     "name": "stdout",
     "output_type": "stream",
     "text": [
      "[4.95658557 4.95718557 4.95778557 4.95838557 4.95898557 4.95958557\n",
      " 4.96018557 4.96078557 4.96138557 4.96198557 4.96258557 4.96318557\n",
      " 4.96378557 4.96438557 4.96498557 4.96558557 4.96618557 4.96678557\n",
      " 4.96738557 4.96798557 4.96858557 4.96918557 4.96978557 4.97038557\n",
      " 4.97098557 4.97158557 4.97218557 4.97278557 4.97338557 4.97398557\n",
      " 4.97458557 4.97518557 4.97578557 4.97638557 4.97698557 4.97758557\n",
      " 4.97818557 4.97878557 4.97938557 4.97998557 4.98058557 4.98118557\n",
      " 4.98178557 4.98238557 4.98298557 4.98358557 4.98418557 4.98478557\n",
      " 4.98538557 4.98598557 4.98658557]\n"
     ]
    }
   ],
   "source": [
    "frequencies_GHz = frequencies*1e-9\n",
    "print(frequencies_GHz)"
   ]
  },
  {
   "cell_type": "code",
   "execution_count": 128,
   "id": "e1544c42-1999-45a5-adf0-9b78140e09b3",
   "metadata": {},
   "outputs": [
    {
     "data": {
      "image/png": "[encoded data removed]",
      "text/plain": [
       "<Figure size 432x288 with 1 Axes>"
      ]
     },
     "metadata": {
      "needs_background": "light"
     },
     "output_type": "display_data"
    }
   ],
   "source": [
    "plt.scatter(frequencies_GHz, np.real(exp_vals), color='black') # plot real part of sweep values\n",
    "plt.xlim([min(frequencies_GHz), max(frequencies_GHz)])\n",
    "plt.xlabel(\"Frequency [GHz]\")\n",
    "plt.ylabel(\"Measured signal [a.u.]\")\n",
    "plt.show()"
   ]
  },
  {
   "cell_type": "code",
   "execution_count": 129,
   "id": "d76bb562-e8df-4ee7-9679-9c3d6af4da47",
   "metadata": {},
   "outputs": [],
   "source": [
    "from scipy.optimize import curve_fit\n",
    "\n",
    "def fit_function(x_values, y_values, function, init_params):\n",
    "    fitparams, conv = curve_fit(function, x_values, y_values, init_params)\n",
    "    y_fit = function(x_values, *fitparams)\n",
    "    \n",
    "    return fitparams, y_fit\n",
    "\n",
    "def _1gaussian(x, amp1,cen1,sigma1):\n",
    "    return amp1*(1/(sigma1*(np.sqrt(2*np.pi))))*(np.exp((-1.0/2.0)*(((x-cen1)/sigma1)**2)))\n",
    "\n",
    "def simple_gaussian(x, A, B):\n",
    "    y = A*np.exp(-1*B*x**2)\n",
    "    return y"
   ]
  },
  {
   "cell_type": "code",
   "execution_count": 130,
   "id": "e2ac361e-e33c-4285-ba82-1f0ec6eb7ab7",
   "metadata": {},
   "outputs": [],
   "source": [
    "import scipy\n",
    "popt_gauss, pcov_gauss = scipy.optimize.curve_fit(_1gaussian, frequencies_GHz, exp_vals)\n",
    "perr_gauss = np.sqrt(np.diag(pcov_gauss))"
   ]
  },
  {
   "cell_type": "code",
   "execution_count": 131,
   "id": "441bfd5f-9ef0-426f-a29f-32870551ee87",
   "metadata": {},
   "outputs": [
    {
     "name": "stdout",
     "output_type": "stream",
     "text": [
      "[ 6.34695337e+04 -4.73739875e+00  7.36899013e+00]\n"
     ]
    }
   ],
   "source": [
    "print(popt_gauss)"
   ]
  },
  {
   "cell_type": "code",
   "execution_count": 104,
   "id": "6584b162-bd33-4be2-87cb-671de90b6d29",
   "metadata": {},
   "outputs": [],
   "source": [
    "fit_params, y_fit = fit_function(frequencies_GHz,\n",
    "                                 np.real(exp_vals), \n",
    "                                 lambda x, A, q_freq, B, C: (A / np.pi) * (B / ((x - q_freq)**2 + B**2)) + C, [5, 5.2, 1, 3]\n",
    ")"
   ]
  },
  {
   "cell_type": "code",
   "execution_count": 105,
   "id": "2f663574-c03b-4a28-815b-3f5be71b252b",
   "metadata": {},
   "outputs": [
    {
     "name": "stdout",
     "output_type": "stream",
     "text": [
      "[-686.04595619 9107.50948175 1068.69889984  935.47901392]\n"
     ]
    }
   ],
   "source": [
    "print(fit_params)"
   ]
  },
  {
   "cell_type": "code",
   "execution_count": 135,
   "id": "f7f350fb-45da-4821-a5db-0ac7ca7b5130",
   "metadata": {},
   "outputs": [
    {
     "data": {
      "image/png": "[encoded data removed]",
      "text/plain": [
       "<Figure size 432x288 with 1 Axes>"
      ]
     },
     "metadata": {
      "needs_background": "light"
     },
     "output_type": "display_data"
    }
   ],
   "source": [
    "plt.scatter(frequencies_GHz, np.real(exp_vals), color='black')\n",
    "# plt.plot(frequencies, simple_gaussian(frequencies, *popt_gauss), color=\"red\")\n",
    "plt.plot(frequencies_GHz, _1gaussian(frequencies_GHz, *popt_gauss), 'k--')\n",
    "# plt.plot(frequencies_GHz, y_fit, color='red')\n",
    "plt.xlim([min(frequencies_GHz), max(frequencies_GHz)])\n",
    "\n",
    "plt.xlabel(\"Frequency [GHz]\")\n",
    "plt.ylabel(\"Measured Signal [a.u.]\")\n",
    "plt.show()"
   ]
  },
  {
   "cell_type": "code",
   "execution_count": null,
   "id": "70f1d59e-1fae-4b66-8682-d28a509ffc16",
   "metadata": {},
   "outputs": [],
   "source": []
  },
  {
   "cell_type": "code",
   "execution_count": null,
   "id": "2386018d-455f-4b24-9851-0cb6fb97f2bb",
   "metadata": {},
   "outputs": [],
   "source": []
  }
 ],
 "metadata": {
  "kernelspec": {
   "display_name": "Python 3",
   "language": "python",
   "name": "python3"
  },
  "language_info": {
   "codemirror_mode": {
    "name": "ipython",
    "version": 3
   },
   "file_extension": ".py",
   "mimetype": "text/x-python",
   "name": "python",
   "nbconvert_exporter": "python",
   "pygments_lexer": "ipython3",
   "version": "3.8.8"
  }
 },
 "nbformat": 4,
 "nbformat_minor": 5
}
