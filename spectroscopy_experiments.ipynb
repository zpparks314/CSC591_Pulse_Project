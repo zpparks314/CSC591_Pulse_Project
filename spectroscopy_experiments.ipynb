{
 "cells": [
  {
   "cell_type": "code",
   "execution_count": 41,
   "id": "57d5e6c9-52f0-43ae-8aa9-5227297fb32b",
   "metadata": {},
   "outputs": [],
   "source": [
    "from qiskit import pulse, circuit, transpile, assemble, schedule, IBMQ, QuantumCircuit, quantum_info as qi \n",
    "import qiskit\n",
    "from qiskit.visualization import plot_gate_map, plot_error_map\n",
    "from qiskit.visualization.pulse_v2 import draw\n",
    "from qiskit.pulse import ShiftPhase, GaussianSquare, Drag, ControlChannel, MeasureChannel, DriveChannel, Play, Schedule\n",
    "import numpy as np\n",
    "from qiskit.tools import job_monitor\n",
    "from copy import deepcopy\n",
    "import scipy.optimize as opt\n",
    "import matplotlib.pyplot as plt"
   ]
  },
  {
   "cell_type": "code",
   "execution_count": 42,
   "id": "a6a30b4f-7c1d-437d-991c-000b870101af",
   "metadata": {},
   "outputs": [
    {
     "name": "stderr",
     "output_type": "stream",
     "text": [
      "ibmqfactory.load_account:WARNING:2021-11-21 11:40:25,156: Credentials are already in use. The existing account in the session will be replaced.\n"
     ]
    }
   ],
   "source": [
    "account_provider = IBMQ.load_account()\n",
    "provider_opts = {'hub': 'ibm-q-ncsu', 'group': 'nc-state', 'project':'noiseanderror'}\n",
    "\n",
    "# target backend\n",
    "backend_name = 'ibmq_jakarta'\n",
    "\n",
    "provider = IBMQ.get_provider(**provider_opts)\n",
    "backend = provider.get_backend(backend_name)\n",
    "\n",
    "# backend information\n",
    "config = backend.configuration()\n",
    "defaults = backend.defaults()\n",
    "properties = backend.properties()\n",
    "\n",
    "# instruction schedule map\n",
    "inst_map = defaults.instruction_schedule_map"
   ]
  },
  {
   "cell_type": "code",
   "execution_count": 43,
   "id": "85c390cf-7716-431b-a7ec-114f3b8df3a6",
   "metadata": {},
   "outputs": [],
   "source": [
    "qubit = 0\n",
    "freq01_estimate = backend.defaults().qubit_freq_est[qubit]\n",
    "frequencies = np.linspace(freq01_estimate -15e6, freq01_estimate + 15e6, 51)"
   ]
  },
  {
   "cell_type": "code",
   "execution_count": 44,
   "id": "f8f88b2d-0215-47bd-9b02-ea55aa131011",
   "metadata": {},
   "outputs": [
    {
     "name": "stdout",
     "output_type": "stream",
     "text": [
      "[5.22135679e+09 5.22195679e+09 5.22255679e+09 5.22315679e+09\n",
      " 5.22375679e+09 5.22435679e+09 5.22495679e+09 5.22555679e+09\n",
      " 5.22615679e+09 5.22675679e+09 5.22735679e+09 5.22795679e+09\n",
      " 5.22855679e+09 5.22915679e+09 5.22975679e+09 5.23035679e+09\n",
      " 5.23095679e+09 5.23155679e+09 5.23215679e+09 5.23275679e+09\n",
      " 5.23335679e+09 5.23395679e+09 5.23455679e+09 5.23515679e+09\n",
      " 5.23575679e+09 5.23635679e+09 5.23695679e+09 5.23755679e+09\n",
      " 5.23815679e+09 5.23875679e+09 5.23935679e+09 5.23995679e+09\n",
      " 5.24055679e+09 5.24115679e+09 5.24175679e+09 5.24235679e+09\n",
      " 5.24295679e+09 5.24355679e+09 5.24415679e+09 5.24475679e+09\n",
      " 5.24535679e+09 5.24595679e+09 5.24655679e+09 5.24715679e+09\n",
      " 5.24775679e+09 5.24835679e+09 5.24895679e+09 5.24955679e+09\n",
      " 5.25015679e+09 5.25075679e+09 5.25135679e+09]\n"
     ]
    }
   ],
   "source": [
    "print(frequencies)"
   ]
  },
  {
   "cell_type": "code",
   "execution_count": 45,
   "id": "47c56c4e-270e-42cb-a8be-7be57fa84291",
   "metadata": {},
   "outputs": [],
   "source": [
    "def spectroscopy_scheds(qubit, pulse_params, backend):\n",
    "    freq_param = circuit.Parameter(\"frequency\")\n",
    "    with pulse.build(backend=backend, name=\"spectroscopy\") as schedule:\n",
    "        pulse.shift_frequency(freq_param, DriveChannel(qubit))\n",
    "        pulse.play(\n",
    "            GaussianSquare(duration=pulse_params[\"duration\"], \n",
    "                           amp = pulse_params[\"amp\"], \n",
    "                           sigma=pulse_params[\"sigma\"], \n",
    "                           width=pulse_params[\"width\"]), DriveChannel(qubit))\n",
    "        pulse.shift_frequency(-freq_param, DriveChannel(qubit))\n",
    "        \n",
    "    return schedule, freq_param\n",
    "\n",
    "def template_circuit(freq_param):\n",
    "    temp_circ = QuantumCircuit(1)\n",
    "    temp_circ.append(circuit.Gate(name=\"Spec\", num_qubits=1, params=[freq_param]), (0,))\n",
    "    temp_circ.measure_active()\n",
    "    return temp_circ\n",
    "\n",
    "def spectroscopy_circuits(qubit, frequencies, pulse_params, backend):\n",
    "    sched, freq_param = spectroscopy_scheds(qubit, pulse_params, backend)\n",
    "    circuit = template_circuit(freq_param)\n",
    "    circuit.add_calibration(\"Spec\", (qubit,), sched, params=[freq_param])\n",
    "    \n",
    "    center_freq = backend.defaults().qubit_freq_est[qubit]\n",
    "    \n",
    "    circs = []\n",
    "    for freq in frequencies:\n",
    "        freq_shift = freq\n",
    "        freq_shift -= center_freq\n",
    "        freq_shift = np.round(freq_shift, decimals=3)\n",
    "        assigned_circ = circuit.assign_parameters({freq_param: freq_shift}, inplace=False)\n",
    "        circs.append(assigned_circ)\n",
    "    return circs"
   ]
  },
  {
   "cell_type": "code",
   "execution_count": 46,
   "id": "2c8f6f26-d6d1-4e51-80d9-f5cf2598587e",
   "metadata": {
    "tags": []
   },
   "outputs": [],
   "source": [
    "pulse_params = {}\n",
    "\n",
    "pulse_params[\"duration\"] = 1024\n",
    "pulse_params[\"amp\"] = 0.1\n",
    "pulse_params[\"sigma\"] = 256\n",
    "pulse_params[\"width\"] = 0\n",
    "schedules = spectroscopy_scheds(0, pulse_params, backend)"
   ]
  },
  {
   "cell_type": "code",
   "execution_count": 47,
   "id": "16d3d570-527c-4f53-a00d-5975ad594315",
   "metadata": {},
   "outputs": [],
   "source": [
    "circs = spectroscopy_circuits(qubit, frequencies, pulse_params, backend)"
   ]
  },
  {
   "cell_type": "code",
   "execution_count": 48,
   "id": "b220370d-4a9d-48ff-a547-680e211740cc",
   "metadata": {},
   "outputs": [],
   "source": [
    "transpiled_circs = transpile(circs, backend, initial_layout=[0])"
   ]
  },
  {
   "cell_type": "code",
   "execution_count": 49,
   "id": "59088da7-7372-4830-a826-7bd0af487990",
   "metadata": {},
   "outputs": [
    {
     "data": {
      "text/html": [
       "<pre style=\"word-wrap: normal;white-space: pre;background: #fff0;line-height: 1.1;font-family: &quot;Courier New&quot;,Courier,monospace\">               ┌─────────────────────────┐ ░ ┌─┐\n",
       "      q_0 -> 0 ┤ Spec(-15000000.0000000) ├─░─┤M├\n",
       "               └─────────────────────────┘ ░ └╥┘\n",
       "ancilla_0 -> 1 ───────────────────────────────╫─\n",
       "                                              ║ \n",
       "ancilla_1 -> 2 ───────────────────────────────╫─\n",
       "                                              ║ \n",
       "ancilla_2 -> 3 ───────────────────────────────╫─\n",
       "                                              ║ \n",
       "ancilla_3 -> 4 ───────────────────────────────╫─\n",
       "                                              ║ \n",
       "ancilla_4 -> 5 ───────────────────────────────╫─\n",
       "                                              ║ \n",
       "ancilla_5 -> 6 ───────────────────────────────╫─\n",
       "                                              ║ \n",
       "    measure: 1/═══════════════════════════════╩═\n",
       "                                              0 </pre>"
      ],
      "text/plain": [
       "               ┌─────────────────────────┐ ░ ┌─┐\n",
       "      q_0 -> 0 ┤ Spec(-15000000.0000000) ├─░─┤M├\n",
       "               └─────────────────────────┘ ░ └╥┘\n",
       "ancilla_0 -> 1 ───────────────────────────────╫─\n",
       "                                              ║ \n",
       "ancilla_1 -> 2 ───────────────────────────────╫─\n",
       "                                              ║ \n",
       "ancilla_2 -> 3 ───────────────────────────────╫─\n",
       "                                              ║ \n",
       "ancilla_3 -> 4 ───────────────────────────────╫─\n",
       "                                              ║ \n",
       "ancilla_4 -> 5 ───────────────────────────────╫─\n",
       "                                              ║ \n",
       "ancilla_5 -> 6 ───────────────────────────────╫─\n",
       "                                              ║ \n",
       "    measure: 1/═══════════════════════════════╩═\n",
       "                                              0 "
      ]
     },
     "execution_count": 49,
     "metadata": {},
     "output_type": "execute_result"
    }
   ],
   "source": [
    "transpiled_circs[0].draw()"
   ]
  },
  {
   "cell_type": "code",
   "execution_count": 50,
   "id": "15ba3169-d5ce-42d1-be5c-6a7f13122a08",
   "metadata": {},
   "outputs": [
    {
     "name": "stdout",
     "output_type": "stream",
     "text": [
      "619a768168476d6e298a8394\n"
     ]
    }
   ],
   "source": [
    "job = backend.run(transpiled_circs, job_name=\"spectroscopy\", shots=2048)\n",
    "job_id = job.job_id()\n",
    "print(job.job_id())"
   ]
  },
  {
   "cell_type": "code",
   "execution_count": null,
   "id": "127c7ce2-32fd-41ef-bf54-a73c79cd28cb",
   "metadata": {},
   "outputs": [],
   "source": [
    "# 11/21/spectroscopy\n",
    "# jakarta (11:51) 619a768168476d6e298a8394\n",
    "results = backend.retrieve_job(job_id).result()"
   ]
  }
 ],
 "metadata": {
  "kernelspec": {
   "display_name": "Python 3",
   "language": "python",
   "name": "python3"
  },
  "language_info": {
   "codemirror_mode": {
    "name": "ipython",
    "version": 3
   },
   "file_extension": ".py",
   "mimetype": "text/x-python",
   "name": "python",
   "nbconvert_exporter": "python",
   "pygments_lexer": "ipython3",
   "version": "3.8.8"
  }
 },
 "nbformat": 4,
 "nbformat_minor": 5
}
