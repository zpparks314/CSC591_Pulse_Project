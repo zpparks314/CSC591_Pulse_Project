{
 "cells": [
  {
   "cell_type": "code",
   "execution_count": 1,
   "id": "9ccd8b6c-7644-4d9f-92ef-35b8dd01d5c7",
   "metadata": {},
   "outputs": [],
   "source": [
    "from qiskit import pulse, circuit, transpile, assemble, schedule, IBMQ, QuantumCircuit, quantum_info as qi \n",
    "import qiskit\n",
    "from qiskit.visualization import plot_gate_map, plot_error_map\n",
    "from qiskit.visualization.pulse_v2 import draw\n",
    "from qiskit.pulse import ShiftPhase, GaussianSquare, Drag, ControlChannel, MeasureChannel, DriveChannel, Play\n",
    "import numpy as np\n",
    "from qiskit.tools import job_monitor\n",
    "from copy import deepcopy\n",
    "import scipy.optimize as opt\n",
    "import matplotlib.pyplot as plt"
   ]
  },
  {
   "cell_type": "code",
   "execution_count": 118,
   "id": "9766178c-d28c-4b95-950e-31c97debb942",
   "metadata": {},
   "outputs": [
    {
     "name": "stderr",
     "output_type": "stream",
     "text": [
      "ibmqfactory.load_account:WARNING:2021-11-08 11:59:07,082: Credentials are already in use. The existing account in the session will be replaced.\n"
     ]
    }
   ],
   "source": [
    "account_provider = IBMQ.load_account()\n",
    "provider_opts = {'hub': 'ibm-q-ncsu', 'group': 'nc-state', 'project':'noiseanderror'}\n",
    "\n",
    "# target backend\n",
    "backend_name = 'ibmq_jakarta'\n",
    "\n",
    "provider = IBMQ.get_provider(**provider_opts)\n",
    "backend = provider.get_backend(backend_name)\n",
    "\n",
    "# backend information\n",
    "config = backend.configuration()\n",
    "defaults = backend.defaults()\n",
    "properties = backend.properties()\n",
    "\n",
    "# instruction schedule map\n",
    "inst_map = defaults.instruction_schedule_map"
   ]
  },
  {
   "cell_type": "code",
   "execution_count": 73,
   "id": "9e116a5c-0efb-4371-ba6a-d480ac8d1e15",
   "metadata": {},
   "outputs": [
    {
     "data": {
      "image/png": "[encoded data removed]",
      "text/plain": [
       "<Figure size 360x360 with 1 Axes>"
      ]
     },
     "execution_count": 73,
     "metadata": {},
     "output_type": "execute_result"
    }
   ],
   "source": [
    "qubits = plot_gate_map(backend)\n",
    "qubits"
   ]
  },
  {
   "cell_type": "code",
   "execution_count": 129,
   "id": "c600efee-9bc0-49e6-a898-7da4314173a4",
   "metadata": {},
   "outputs": [],
   "source": [
    "def extract_cr_params(cx_sched):\n",
    "    cr_params = {}\n",
    "    for time, inst in cx_sched.instructions:\n",
    "        if isinstance(inst, Play):\n",
    "            if isinstance(inst.pulse, GaussianSquare):\n",
    "                if isinstance(inst.operands[1], ControlChannel):\n",
    "                    cr_params[\"duration\"] = inst.pulse.duration\n",
    "                    cr_params[\"width\"] = inst.pulse.width\n",
    "                    cr_params[\"sigma\"] = inst.pulse.sigma\n",
    "                    cr_params[\"cr_amp\"] = inst.pulse.amp\n",
    "                    cr_params[\"channel\"] = inst.channel\n",
    "    return cr_params\n",
    "                    \n",
    "\n",
    "def build_cr_schedule(backend, qc, qt, cr_params, cr_name):\n",
    "    \n",
    "    with pulse.build(backend=backend, default_alignment=\"left\", name=\"cr_schedule\") as cross_resonance:\n",
    "        pulse.play(GaussianSquare(\n",
    "            duration=cr_params[\"duration\"],\n",
    "            amp=cr_params[\"cr_amp\"],\n",
    "            width=cr_params[\"width\"],\n",
    "            sigma=cr_params[\"sigma\"],\n",
    "            name=cr_name\n",
    "        ),\n",
    "        pulse.control_channels(qc, qt)[0],\n",
    "    )\n",
    "        if not np.isclose(cr_params[\"cancel_amp\"], 0.0):\n",
    "            pulse.play(GaussianSquare(\n",
    "                duration=cr_params[\"duration\"],\n",
    "                amp=cr_params[\"cancel_amp\"],\n",
    "                width=cr_params[\"width\"],\n",
    "                sigma=cr_params[\"sigma\"],\n",
    "        ),\n",
    "        pulse.drive_channel(qt),\n",
    "    )\n",
    "        else:\n",
    "            pulse.delay(cr_params[\"duration\"], pulse.drive_channel(qt))\n",
    "        pulse.delay(cr_params[\"duration\"], pulse.drive_channel(qc))\n",
    "        \n",
    "    return cross_resonance\n",
    "\n",
    "def build_cr_circuit(gate):\n",
    "    \n",
    "    cr_circuit = QuantumCircuit(2)\n",
    "    cr_circuit.append(gate, [0, 1])\n",
    "#     cr_circuit.x(0)\n",
    "#     cr_circuit.append(gate, [0, 1])\n",
    "#     cr_circuit.x(0)\n",
    "    \n",
    "    return cr_circuit\n",
    "\n",
    "def build_amp_experiment_circuits(backend, qc, qt, amps, cr_params, rotary=False):\n",
    "    \n",
    "    circ_list = []\n",
    "    \n",
    "    inst_map_list = []\n",
    "    for amplitude in amps:\n",
    "        \n",
    "        new_inst_map = deepcopy(inst_map)\n",
    "    \n",
    "\n",
    "        cr_p_gate = circuit.Gate(\n",
    "            \"cr_p_gate\",\n",
    "            num_qubits=2,\n",
    "            params=[amplitude],\n",
    "        )\n",
    "        \n",
    "        \n",
    "        cr_m_gate = circuit.Gate(\n",
    "            \"cr_m_gate\",\n",
    "            num_qubits=2,\n",
    "            params=[-amplitude],\n",
    "        )\n",
    "        \n",
    "        exp_circ = QuantumCircuit(2)\n",
    "\n",
    "        ## add control state prep when needed\n",
    "\n",
    "        exp_circ.compose(other=build_cr_circuit(cr_p_gate), qubits=[0, 1], inplace=True)\n",
    "        exp_circ.x(0)\n",
    "        exp_circ.compose(other=build_cr_circuit(cr_m_gate), qubits=[0, 1], inplace=True)\n",
    "        exp_circ.x(0)\n",
    "        \n",
    "        exp_circ.metadata={\n",
    "            \"qubits\": (qc, qt)\n",
    "        }\n",
    "\n",
    "        if rotary is True:\n",
    "            cr_params['cancel_amp'] = amplitude\n",
    "            \n",
    "        cr_params[\"phi\"] = 0\n",
    "        cr_params['cr_amp'] = amplitude * np.exp(-1j*cr_params[\"phi\"])\n",
    "#         print(cr_params[\"cr_amp\"], cr_params['phi'])\n",
    "        exp_circ.add_calibration(gate=cr_p_gate,\n",
    "                                qubits=[qc,qt],\n",
    "                                schedule=build_cr_schedule(backend, qc, qt, cr_params, cr_name=\"cr_p\"))\n",
    "        \n",
    "        cr_params['phi'] = cr_params['phi'] + np.pi\n",
    "        cr_params['cr_amp'] = amplitude * np.exp(-1j*cr_params[\"phi\"])\n",
    "#         print(cr_params[\"cr_amp\"], cr_params['phi'])\n",
    "        exp_circ.add_calibration(gate=cr_m_gate,\n",
    "                                qubits=[qc,qt],\n",
    "                                schedule=build_cr_schedule(backend, qc, qt, cr_params, cr_name=\"cr_m\"))\n",
    "        exp_circ.measure_active()\n",
    "        \n",
    "#         new_inst_map.add('cr_gate', qubits=[qc, qt], schedule=build_cr_schedule(backend, qc, qt, cr_params))\n",
    "        \n",
    "        circ_list.append(exp_circ)\n",
    "        inst_map_list.append(new_inst_map)\n",
    "    return circ_list, inst_map_list\n",
    "\n",
    "def expectation_val(count_dict, mem_ind):\n",
    "\n",
    "    expv = 0\n",
    "    for key, val in count_dict.items():\n",
    "        if key[::-1][mem_ind] == '1':\n",
    "#             print(key, val)\n",
    "            expv -= val\n",
    "        else:\n",
    "            expv += val\n",
    "#     print(expv)\n",
    "    return expv / sum(count_dict.values())"
   ]
  },
  {
   "cell_type": "code",
   "execution_count": 130,
   "id": "d387a720-f95a-456b-938e-4d84298e17d4",
   "metadata": {},
   "outputs": [],
   "source": [
    "q1, q2 = 0, 1\n",
    "mem_ind = 0 if q1 > q2 else 1"
   ]
  },
  {
   "cell_type": "markdown",
   "id": "11724243-e7a5-482e-9982-7602a327bdff",
   "metadata": {},
   "source": [
    "# IBM's cross resonance gate\n",
    "This is what IBM's cross-resonance gate looks like - extracted from the CX pulse schedule, and with the rotary tones not shown."
   ]
  },
  {
   "cell_type": "code",
   "execution_count": 131,
   "id": "4c89002a-419f-41e5-8cde-5f2f0c38cf85",
   "metadata": {},
   "outputs": [
    {
     "data": {
      "image/png": "[encoded data removed]",
      "text/plain": [
       "<Figure size 936x334.8 with 1 Axes>"
      ]
     },
     "execution_count": 131,
     "metadata": {},
     "output_type": "execute_result"
    }
   ],
   "source": [
    "cx_sched = inst_map.get('cx', qubits=[q1, q2])\n",
    "draw(cx_sched, backend=backend, disable_channels=[DriveChannel(q2)])"
   ]
  },
  {
   "cell_type": "code",
   "execution_count": 132,
   "id": "03547cc2-24e0-4072-aae9-dcf6951711e6",
   "metadata": {},
   "outputs": [
    {
     "name": "stdout",
     "output_type": "stream",
     "text": [
      "ShiftPhase(1.5707963267948966, DriveChannel(0))\n",
      "ShiftPhase(1.5707963267948966, ControlChannel(1))\n",
      "Play(Drag(duration=160, amp=(-3.643358643904867e-17-0.19833520687714562j), sigma=40, beta=-0.9796314280767204, name='Ym_d0'), DriveChannel(0), name='Ym_d0')\n",
      "Play(Drag(duration=160, amp=(0.09596880093886541+0.002203220687696287j), sigma=40, beta=-0.9715686956228766, name='X90p_d1'), DriveChannel(1), name='X90p_d1')\n",
      "Play(GaussianSquare(duration=368, amp=(0.11222765252972781+0.0024034159982227357j), sigma=64, width=112, name='CR90p_d1_u0'), DriveChannel(1), name='CR90p_d1_u0')\n",
      "Play(GaussianSquare(duration=368, amp=(-0.00712837045458216-0.7573266706453817j), sigma=64, width=112, name='CR90p_u0'), ControlChannel(0), name='CR90p_u0')\n",
      "Play(Drag(duration=160, amp=(0.19833520687714562+0j), sigma=40, beta=-0.9796314280767204, name='Xp_d0'), DriveChannel(0), name='Xp_d0')\n",
      "Play(GaussianSquare(duration=368, amp=(-0.11222765252972781-0.002403415998222722j), sigma=64, width=112, name='CR90m_d1_u0'), DriveChannel(1), name='CR90m_d1_u0')\n",
      "Play(GaussianSquare(duration=368, amp=(0.007128370454582253+0.7573266706453817j), sigma=64, width=112, name='CR90m_u0'), ControlChannel(0), name='CR90m_u0')\n"
     ]
    }
   ],
   "source": [
    "for time, inst in cx_sched.instructions:\n",
    "    print(inst)"
   ]
  },
  {
   "cell_type": "code",
   "execution_count": 133,
   "id": "c77a1d8e-b5f8-4797-b805-ef9274677193",
   "metadata": {},
   "outputs": [
    {
     "name": "stdout",
     "output_type": "stream",
     "text": [
      "[-1.         -0.97101449 -0.94202899 -0.91304348 -0.88405797 -0.85507246\n",
      " -0.82608696 -0.79710145 -0.76811594 -0.73913043 -0.71014493 -0.68115942\n",
      " -0.65217391 -0.62318841 -0.5942029  -0.56521739 -0.53623188 -0.50724638\n",
      " -0.47826087 -0.44927536 -0.42028986 -0.39130435 -0.36231884 -0.33333333\n",
      " -0.30434783 -0.27536232 -0.24637681 -0.2173913  -0.1884058  -0.15942029\n",
      " -0.13043478 -0.10144928 -0.07246377 -0.04347826 -0.01449275  0.01449275\n",
      "  0.04347826  0.07246377  0.10144928  0.13043478  0.15942029  0.1884058\n",
      "  0.2173913   0.24637681  0.27536232  0.30434783  0.33333333  0.36231884\n",
      "  0.39130435  0.42028986  0.44927536  0.47826087  0.50724638  0.53623188\n",
      "  0.56521739  0.5942029   0.62318841  0.65217391  0.68115942  0.71014493\n",
      "  0.73913043  0.76811594  0.79710145  0.82608696  0.85507246  0.88405797\n",
      "  0.91304348  0.94202899  0.97101449  1.        ]\n"
     ]
    }
   ],
   "source": [
    "cr_params = extract_cr_params(cx_sched)\n",
    "cr_params[\"cancel_amp\"] = 0.0\n",
    "cr_params[\"phi\"] = 0\n",
    "# print(cr_params)\n",
    "\n",
    "max_cr_amplitude = 1.0\n",
    "cr_amps = np.linspace(-max_cr_amplitude, max_cr_amplitude, 70)\n",
    "print(cr_amps)"
   ]
  },
  {
   "cell_type": "code",
   "execution_count": 134,
   "id": "65d367a4-cc53-43c9-b099-d85a34c3340c",
   "metadata": {},
   "outputs": [
    {
     "data": {
      "text/html": [
       "<pre style=\"word-wrap: normal;white-space: pre;background: #fff0;line-height: 1.1;font-family: &quot;Courier New&quot;,Courier,monospace\">           ┌──────────────────────┐┌───┐┌─────────────────────┐┌───┐ ░ ┌─┐   \n",
       "      q_0: ┤0                     ├┤ X ├┤0                    ├┤ X ├─░─┤M├───\n",
       "           │  cr_p_gate(-0.44928) │└───┘│  cr_m_gate(0.44928) │└───┘ ░ └╥┘┌─┐\n",
       "      q_1: ┤1                     ├─────┤1                    ├──────░──╫─┤M├\n",
       "           └──────────────────────┘     └─────────────────────┘      ░  ║ └╥┘\n",
       "measure: 2/═════════════════════════════════════════════════════════════╩══╩═\n",
       "                                                                        0  1 </pre>"
      ],
      "text/plain": [
       "           ┌──────────────────────┐┌───┐┌─────────────────────┐┌───┐ ░ ┌─┐   \n",
       "      q_0: ┤0                     ├┤ X ├┤0                    ├┤ X ├─░─┤M├───\n",
       "           │  cr_p_gate(-0.44928) │└───┘│  cr_m_gate(0.44928) │└───┘ ░ └╥┘┌─┐\n",
       "      q_1: ┤1                     ├─────┤1                    ├──────░──╫─┤M├\n",
       "           └──────────────────────┘     └─────────────────────┘      ░  ║ └╥┘\n",
       "measure: 2/═════════════════════════════════════════════════════════════╩══╩═\n",
       "                                                                        0  1 "
      ]
     },
     "execution_count": 134,
     "metadata": {},
     "output_type": "execute_result"
    }
   ],
   "source": [
    "exp_circuits, exp_inst_maps = build_amp_experiment_circuits(backend, q1, q2, cr_amps, cr_params)\n",
    "# print(len(exp_circuits))\n",
    "exp_circuits[19].draw()"
   ]
  },
  {
   "cell_type": "code",
   "execution_count": 135,
   "id": "29c9af88-163c-4ba5-8022-57d5874b7c6d",
   "metadata": {},
   "outputs": [
    {
     "name": "stdout",
     "output_type": "stream",
     "text": [
      "Delay(368, DriveChannel(0))\n",
      "Delay(368, DriveChannel(1))\n",
      "Play(GaussianSquare(duration=368, amp=(-0.4492753623188406+0j), sigma=64, width=112, name='cr_p'), ControlChannel(0), name='cr_p')\n",
      "Play(Drag(duration=160, amp=(0.19833520687714562+0j), sigma=40, beta=-0.9796314280767204, name='Xp_d0'), DriveChannel(0), name='Xp_d0')\n",
      "Delay(368, DriveChannel(0))\n",
      "Delay(368, DriveChannel(1))\n",
      "Play(GaussianSquare(duration=368, amp=(0.4492753623188406+5.502036343995355e-17j), sigma=64, width=112, name='cr_m'), ControlChannel(0), name='cr_m')\n",
      "Play(Drag(duration=160, amp=(0.19833520687714562+0j), sigma=40, beta=-0.9796314280767204, name='Xp_d0'), DriveChannel(0), name='Xp_d0')\n",
      "Acquire(22400, AcquireChannel(0), MemorySlot(0))\n",
      "Acquire(22400, AcquireChannel(1), MemorySlot(1))\n",
      "Play(GaussianSquare(duration=22400, amp=(-0.19500251978593602-0.01393797966477296j), sigma=64, width=22144, name='M_m0'), MeasureChannel(0), name='M_m0')\n",
      "Play(GaussianSquare(duration=22400, amp=(-0.12869780599362984-0.14716359853043148j), sigma=64, width=22144, name='M_m1'), MeasureChannel(1), name='M_m1')\n",
      "Delay(1680, MeasureChannel(0))\n",
      "Delay(1680, MeasureChannel(1))\n"
     ]
    }
   ],
   "source": [
    "tc = transpile(exp_circuits, backend, initial_layout=[q1, q2])\n",
    "sched = schedule(tc, backend)\n",
    "for time, inst in sched[19].instructions:\n",
    "    print(inst)"
   ]
  },
  {
   "cell_type": "code",
   "execution_count": 136,
   "id": "995634b1-3a3e-4a27-a9cd-59d80f8a8418",
   "metadata": {},
   "outputs": [
    {
     "data": {
      "text/html": [
       "<pre style=\"word-wrap: normal;white-space: pre;background: #fff0;line-height: 1.1;font-family: &quot;Courier New&quot;,Courier,monospace\">               ┌──────────────────────┐┌───┐┌─────────────────────┐┌───┐ ░ ┌─┐»\n",
       "      q_0 -> 0 ┤0                     ├┤ X ├┤0                    ├┤ X ├─░─┤M├»\n",
       "               │  cr_p_gate(-0.88406) │└───┘│  cr_m_gate(0.88406) │└───┘ ░ └╥┘»\n",
       "      q_1 -> 1 ┤1                     ├─────┤1                    ├──────░──╫─»\n",
       "               └──────────────────────┘     └─────────────────────┘      ░  ║ »\n",
       "ancilla_0 -> 2 ─────────────────────────────────────────────────────────────╫─»\n",
       "                                                                            ║ »\n",
       "ancilla_1 -> 3 ─────────────────────────────────────────────────────────────╫─»\n",
       "                                                                            ║ »\n",
       "ancilla_2 -> 4 ─────────────────────────────────────────────────────────────╫─»\n",
       "                                                                            ║ »\n",
       "ancilla_3 -> 5 ─────────────────────────────────────────────────────────────╫─»\n",
       "                                                                            ║ »\n",
       "ancilla_4 -> 6 ─────────────────────────────────────────────────────────────╫─»\n",
       "                                                                            ║ »\n",
       "    measure: 2/═════════════════════════════════════════════════════════════╩═»\n",
       "                                                                            0 »\n",
       "«                  \n",
       "«      q_0 -> 0 ───\n",
       "«               ┌─┐\n",
       "«      q_1 -> 1 ┤M├\n",
       "«               └╥┘\n",
       "«ancilla_0 -> 2 ─╫─\n",
       "«                ║ \n",
       "«ancilla_1 -> 3 ─╫─\n",
       "«                ║ \n",
       "«ancilla_2 -> 4 ─╫─\n",
       "«                ║ \n",
       "«ancilla_3 -> 5 ─╫─\n",
       "«                ║ \n",
       "«ancilla_4 -> 6 ─╫─\n",
       "«                ║ \n",
       "«    measure: 2/═╩═\n",
       "«                1 </pre>"
      ],
      "text/plain": [
       "               ┌──────────────────────┐┌───┐┌─────────────────────┐┌───┐ ░ ┌─┐»\n",
       "      q_0 -> 0 ┤0                     ├┤ X ├┤0                    ├┤ X ├─░─┤M├»\n",
       "               │  cr_p_gate(-0.88406) │└───┘│  cr_m_gate(0.88406) │└───┘ ░ └╥┘»\n",
       "      q_1 -> 1 ┤1                     ├─────┤1                    ├──────░──╫─»\n",
       "               └──────────────────────┘     └─────────────────────┘      ░  ║ »\n",
       "ancilla_0 -> 2 ─────────────────────────────────────────────────────────────╫─»\n",
       "                                                                            ║ »\n",
       "ancilla_1 -> 3 ─────────────────────────────────────────────────────────────╫─»\n",
       "                                                                            ║ »\n",
       "ancilla_2 -> 4 ─────────────────────────────────────────────────────────────╫─»\n",
       "                                                                            ║ »\n",
       "ancilla_3 -> 5 ─────────────────────────────────────────────────────────────╫─»\n",
       "                                                                            ║ »\n",
       "ancilla_4 -> 6 ─────────────────────────────────────────────────────────────╫─»\n",
       "                                                                            ║ »\n",
       "    measure: 2/═════════════════════════════════════════════════════════════╩═»\n",
       "                                                                            0 »\n",
       "«                  \n",
       "«      q_0 -> 0 ───\n",
       "«               ┌─┐\n",
       "«      q_1 -> 1 ┤M├\n",
       "«               └╥┘\n",
       "«ancilla_0 -> 2 ─╫─\n",
       "«                ║ \n",
       "«ancilla_1 -> 3 ─╫─\n",
       "«                ║ \n",
       "«ancilla_2 -> 4 ─╫─\n",
       "«                ║ \n",
       "«ancilla_3 -> 5 ─╫─\n",
       "«                ║ \n",
       "«ancilla_4 -> 6 ─╫─\n",
       "«                ║ \n",
       "«    measure: 2/═╩═\n",
       "«                1 "
      ]
     },
     "execution_count": 136,
     "metadata": {},
     "output_type": "execute_result"
    }
   ],
   "source": [
    "tc[4].draw()"
   ]
  },
  {
   "cell_type": "code",
   "execution_count": 96,
   "id": "ae36c11a-2909-4568-b501-6ad41ecba9bf",
   "metadata": {},
   "outputs": [
    {
     "data": {
      "image/png": "[encoded data removed]",
      "text/plain": [
       "<Figure size 936x334.8 with 1 Axes>"
      ]
     },
     "execution_count": 96,
     "metadata": {},
     "output_type": "execute_result"
    }
   ],
   "source": [
    "draw(sched[4], backend=backend, time_range=[0, 1000], disable_channels=[MeasureChannel(q1), MeasureChannel(q2)])"
   ]
  },
  {
   "cell_type": "code",
   "execution_count": 97,
   "id": "079a5ddd-3207-4ce6-a734-451d1bbbb606",
   "metadata": {},
   "outputs": [],
   "source": [
    "i = 1\n",
    "identifier = F\"({q1},{q2})\""
   ]
  },
  {
   "cell_type": "code",
   "execution_count": 98,
   "id": "f97c7853-fb1f-4bb2-b7e2-e89d1628331b",
   "metadata": {},
   "outputs": [
    {
     "name": "stdout",
     "output_type": "stream",
     "text": [
      "61895180145277452e117c10\n"
     ]
    }
   ],
   "source": [
    "job = backend.run(tc, job_name=F\"cr_amp_exp_{identifier}\", shots=2048)\n",
    "job_id = job.job_id()\n",
    "print(job.job_id())"
   ]
  },
  {
   "cell_type": "code",
   "execution_count": 119,
   "id": "fe7bef43-9766-4951-82fa-0020aeb1c5a7",
   "metadata": {},
   "outputs": [],
   "source": [
    "# 11/8/2021 - amplitude experiments\n",
    "# ibm_lagos job (9:45~ am) - 6189380f1452777724117b88\n",
    "# ibmq_jakarta job (10:00~ am) - 61893b88902694642fd98881\n",
    "# ibmq_jakarta (10:30~ am) - 6189411bc45f2664c31517c5\n",
    "# ibmq_jakarta (10:51~ am) - 61894761ad7fa029bcd1440f * best results so far (sweeping from (-1.0, 1.0, 70))\n",
    "# ibmq_jakarta (11:23~ am) - 61894f14ad7fa0ed2ad14439 \n",
    "# ibmq_montreal (11:18~ am) - 61894de8c45f2661c61517fb\n",
    "# ibmq_toronto (11:27~ am) - 61894fdab3f4906ac760bf9e\n",
    "# ibmq_toronto (11:33~ am) - 61895180145277452e117c10\n",
    "job_id = \"61894761ad7fa029bcd1440f\"\n",
    "results = backend.retrieve_job(job_id).result()\n",
    "i+=1"
   ]
  },
  {
   "cell_type": "code",
   "execution_count": 120,
   "id": "d6f800ed-cda3-400d-b82f-ba0cf494d168",
   "metadata": {},
   "outputs": [
    {
     "name": "stdout",
     "output_type": "stream",
     "text": [
      "[{'00': 780, '01': 19, '10': 1229, '11': 20}, {'00': 789, '01': 11, '10': 1228, '11': 20}, {'00': 793, '01': 17, '10': 1225, '11': 13}, {'00': 842, '01': 22, '10': 1172, '11': 12}, {'00': 869, '01': 22, '10': 1140, '11': 17}, {'00': 921, '01': 27, '10': 1091, '11': 9}, {'00': 905, '01': 22, '10': 1104, '11': 17}, {'00': 1001, '01': 22, '10': 1019, '11': 6}, {'00': 1020, '01': 31, '10': 982, '11': 15}, {'00': 1058, '01': 17, '10': 958, '11': 15}, {'00': 1058, '01': 9, '10': 968, '11': 13}, {'00': 1121, '01': 13, '10': 901, '11': 13}, {'00': 1174, '01': 24, '10': 836, '11': 14}, {'00': 1210, '01': 24, '10': 811, '11': 3}, {'00': 1228, '01': 25, '10': 788, '11': 7}, {'00': 1271, '01': 24, '10': 743, '11': 10}, {'00': 1311, '01': 25, '10': 703, '11': 9}, {'00': 1392, '01': 31, '10': 615, '11': 10}, {'00': 1437, '01': 23, '10': 578, '11': 10}, {'00': 1465, '01': 30, '10': 543, '11': 10}, {'00': 1489, '01': 33, '10': 518, '11': 8}, {'00': 1584, '01': 25, '10': 433, '11': 6}, {'00': 1599, '01': 32, '10': 411, '11': 6}, {'00': 1659, '01': 31, '10': 353, '11': 5}, {'00': 1723, '01': 14, '10': 304, '11': 7}, {'00': 1729, '01': 33, '10': 284, '11': 2}, {'00': 1778, '01': 29, '10': 236, '11': 5}, {'00': 1835, '01': 32, '10': 175, '11': 6}, {'00': 1881, '01': 31, '10': 134, '11': 2}, {'00': 1881, '01': 37, '10': 130}, {'00': 1937, '01': 28, '10': 82, '11': 1}, {'00': 1955, '01': 30, '10': 62, '11': 1}, {'00': 1966, '01': 39, '10': 43}, {'00': 1966, '01': 43, '10': 37, '11': 2}, {'00': 1979, '01': 46, '10': 23}, {'00': 1998, '01': 31, '10': 19}, {'00': 2000, '01': 29, '10': 18, '11': 1}, {'00': 1979, '01': 42, '10': 26, '11': 1}, {'00': 1956, '01': 42, '10': 47, '11': 3}, {'00': 1954, '01': 28, '10': 65, '11': 1}, {'00': 1928, '01': 27, '10': 92, '11': 1}, {'00': 1872, '01': 43, '10': 131, '11': 2}, {'00': 1875, '01': 29, '10': 141, '11': 3}, {'00': 1831, '01': 29, '10': 188}, {'00': 1790, '01': 32, '10': 224, '11': 2}, {'00': 1731, '01': 30, '10': 282, '11': 5}, {'00': 1713, '01': 33, '10': 297, '11': 5}, {'00': 1680, '01': 22, '10': 340, '11': 6}, {'00': 1617, '01': 17, '10': 409, '11': 5}, {'00': 1574, '01': 28, '10': 440, '11': 6}, {'00': 1502, '01': 32, '10': 506, '11': 8}, {'00': 1479, '01': 22, '10': 544, '11': 3}, {'00': 1458, '01': 25, '10': 554, '11': 11}, {'00': 1413, '01': 17, '10': 607, '11': 11}, {'00': 1340, '01': 19, '10': 682, '11': 7}, {'00': 1334, '01': 20, '10': 688, '11': 6}, {'00': 1248, '01': 23, '10': 772, '11': 5}, {'00': 1243, '01': 26, '10': 770, '11': 9}, {'00': 1169, '01': 18, '10': 851, '11': 10}, {'00': 1134, '01': 26, '10': 874, '11': 14}, {'00': 1149, '01': 19, '10': 863, '11': 17}, {'00': 1054, '01': 29, '10': 952, '11': 13}, {'00': 1017, '01': 15, '10': 993, '11': 23}, {'00': 989, '01': 19, '10': 1026, '11': 14}, {'00': 964, '01': 21, '10': 1049, '11': 14}, {'00': 931, '01': 18, '10': 1085, '11': 14}, {'00': 932, '01': 15, '10': 1091, '11': 10}, {'00': 904, '01': 19, '10': 1104, '11': 21}, {'00': 854, '01': 18, '10': 1157, '11': 19}, {'00': 799, '01': 16, '10': 1213, '11': 20}]\n"
     ]
    }
   ],
   "source": [
    "count_dict = results.get_counts()\n",
    "print(count_dict)"
   ]
  },
  {
   "cell_type": "code",
   "execution_count": 121,
   "id": "45486405-b3ac-4ef0-9626-2ce70f4a52d4",
   "metadata": {},
   "outputs": [],
   "source": [
    "def cr_fit_3rd_order_perturbation(x, c1, c2):\n",
    "    fx = c1*x - c2*x**3\n",
    "    return np.cos(2 * np.pi * fx)\n",
    "\n",
    "def rough_amp_objective(x, params, opt_phase):\n",
    "    fx = params[0] * x - params[1] * x**3\n",
    "    return np.abs(opt_phase / 2 / np.pi - fx)"
   ]
  },
  {
   "cell_type": "code",
   "execution_count": 125,
   "id": "c3db7124-9212-4a92-b690-47fa823a802f",
   "metadata": {},
   "outputs": [
    {
     "name": "stdout",
     "output_type": "stream",
     "text": [
      "[-2.19726562e-01 -2.18750000e-01 -2.08984375e-01 -1.56250000e-01\n",
      " -1.29882812e-01 -7.42187500e-02 -9.47265625e-02 -9.76562500e-04\n",
      "  2.63671875e-02  4.98046875e-02  4.19921875e-02  1.07421875e-01\n",
      "  1.69921875e-01  2.05078125e-01  2.23632812e-01  2.64648438e-01\n",
      "  3.04687500e-01  3.89648438e-01  4.25781250e-01  4.59960938e-01\n",
      "  4.86328125e-01  5.71289062e-01  5.92773438e-01  6.50390625e-01\n",
      "  6.96289062e-01  7.20703125e-01  7.64648438e-01  8.23242188e-01\n",
      "  8.67187500e-01  8.73046875e-01  9.18945312e-01  9.38476562e-01\n",
      "  9.58007812e-01  9.61914062e-01  9.77539062e-01  9.81445312e-01\n",
      "  9.81445312e-01  9.73632812e-01  9.51171875e-01  9.35546875e-01\n",
      "  9.09179688e-01  8.70117188e-01  8.59375000e-01  8.16406250e-01\n",
      "  7.79296875e-01  7.19726562e-01  7.05078125e-01  6.62109375e-01\n",
      "  5.95703125e-01  5.64453125e-01  4.98046875e-01  4.65820312e-01\n",
      "  4.48242188e-01  3.96484375e-01  3.27148438e-01  3.22265625e-01\n",
      "  2.41210938e-01  2.39257812e-01  1.59179688e-01  1.32812500e-01\n",
      "  1.40625000e-01  5.76171875e-02  7.81250000e-03 -1.56250000e-02\n",
      " -3.80859375e-02 -7.32421875e-02 -7.51953125e-02 -9.86328125e-02\n",
      " -1.48437500e-01 -2.04101562e-01]\n"
     ]
    }
   ],
   "source": [
    "exp_z = np.zeros_like(cr_amps)\n",
    "for cind in range(len(cr_amps)):\n",
    "    exp_z[cind] = expectation_val(count_dict[cind], mem_ind=mem_ind)\n",
    "print(exp_z)\n",
    "valid_inds = np.where(np.abs(cr_amps) < 1.0)[0]\n",
    "params, _ = opt.curve_fit(cr_fit_3rd_order_perturbation, xdata=cr_amps[valid_inds], ydata=exp_z[valid_inds])\n",
    "cr_pi2_amp = opt.minimize(rough_amp_objective, x0=0, bounds=[(0, 1)], args=(params, 0.5 * np.pi)).x[0]"
   ]
  },
  {
   "cell_type": "code",
   "execution_count": 126,
   "id": "534f3425-6836-47cf-9223-112a131a2bdc",
   "metadata": {},
   "outputs": [
    {
     "name": "stdout",
     "output_type": "stream",
     "text": [
      "0.7790333093589549\n"
     ]
    }
   ],
   "source": [
    "print(cr_pi2_amp)"
   ]
  },
  {
   "cell_type": "code",
   "execution_count": 128,
   "id": "9790346f-9dca-4cbd-a4fe-6ce8c88237ae",
   "metadata": {},
   "outputs": [
    {
     "data": {
      "text/plain": [
       "(-1.0, 1.0)"
      ]
     },
     "execution_count": 128,
     "metadata": {},
     "output_type": "execute_result"
    },
    {
     "data": {
      "image/png": "[encoded data removed]",
      "text/plain": [
       "<Figure size 432x288 with 1 Axes>"
      ]
     },
     "metadata": {
      "needs_background": "light"
     },
     "output_type": "display_data"
    }
   ],
   "source": [
    "plt.plot(cr_amps, exp_z, 'o', color='b')\n",
    "plt.xlim(-max_cr_amplitude, max_cr_amplitude)\n",
    "plt.ylim(-1, 1)\n"
   ]
  },
  {
   "cell_type": "code",
   "execution_count": 127,
   "id": "6eddba03-5a28-4333-9f43-d971bf4964a0",
   "metadata": {},
   "outputs": [
    {
     "data": {
      "image/png": "[encoded data removed]",
      "text/plain": [
       "<Figure size 432x288 with 1 Axes>"
      ]
     },
     "metadata": {
      "needs_background": "light"
     },
     "output_type": "display_data"
    }
   ],
   "source": [
    "x_interp = np.linspace(cr_amps[0], cr_amps[-1], 1000)\n",
    "plt.plot(cr_amps, exp_z, 'o', color='b')\n",
    "plt.plot(x_interp, cr_fit_3rd_order_perturbation(x_interp, *params), color='b')\n",
    "plt.plot([cr_pi2_amp, cr_pi2_amp], [-1, 1], 'b:')\n",
    "plt.xlim(-max_cr_amplitude, max_cr_amplitude)\n",
    "plt.ylim(-1, 1)\n",
    "plt.xlabel('CR amp')\n",
    "plt.ylabel('<Z>')\n",
    "plt.grid()"
   ]
  },
  {
   "cell_type": "code",
   "execution_count": null,
   "id": "7874f80c-aea0-4925-8b43-e34e1f13acfe",
   "metadata": {},
   "outputs": [],
   "source": []
  }
 ],
 "metadata": {
  "kernelspec": {
   "display_name": "Python 3",
   "language": "python",
   "name": "python3"
  },
  "language_info": {
   "codemirror_mode": {
    "name": "ipython",
    "version": 3
   },
   "file_extension": ".py",
   "mimetype": "text/x-python",
   "name": "python",
   "nbconvert_exporter": "python",
   "pygments_lexer": "ipython3",
   "version": "3.8.8"
  }
 },
 "nbformat": 4,
 "nbformat_minor": 5
}
