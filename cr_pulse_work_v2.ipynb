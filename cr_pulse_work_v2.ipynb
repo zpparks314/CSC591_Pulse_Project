{
 "cells": [
  {
   "cell_type": "code",
   "execution_count": 1,
   "id": "9ccd8b6c-7644-4d9f-92ef-35b8dd01d5c7",
   "metadata": {},
   "outputs": [],
   "source": [
    "from qiskit import pulse, circuit, transpile, assemble, schedule, IBMQ, QuantumCircuit, quantum_info as qi \n",
    "import qiskit\n",
    "from qiskit.visualization import plot_gate_map, plot_error_map\n",
    "from qiskit.visualization.pulse_v2 import draw\n",
    "from qiskit.pulse import ShiftPhase, GaussianSquare, Drag, ControlChannel, MeasureChannel, DriveChannel, Play\n",
    "import numpy as np\n",
    "from qiskit.tools import job_monitor\n",
    "from copy import deepcopy\n",
    "import scipy.optimize as opt\n",
    "import matplotlib.pyplot as plt"
   ]
  },
  {
   "cell_type": "code",
   "execution_count": 2,
   "id": "9766178c-d28c-4b95-950e-31c97debb942",
   "metadata": {},
   "outputs": [],
   "source": [
    "account_provider = IBMQ.load_account()\n",
    "provider_opts = {'hub': 'ibm-q-ncsu', 'group': 'nc-state', 'project':'noiseanderror'}\n",
    "\n",
    "# target backend\n",
    "backend_name = 'ibm_lagos'\n",
    "\n",
    "provider = IBMQ.get_provider(**provider_opts)\n",
    "backend = provider.get_backend(backend_name)\n",
    "\n",
    "# backend information\n",
    "config = backend.configuration()\n",
    "defaults = backend.defaults()\n",
    "properties = backend.properties()\n",
    "\n",
    "# instruction schedule map\n",
    "inst_map = defaults.instruction_schedule_map"
   ]
  },
  {
   "cell_type": "code",
   "execution_count": 3,
   "id": "9e116a5c-0efb-4371-ba6a-d480ac8d1e15",
   "metadata": {},
   "outputs": [
    {
     "data": {
      "image/png": "[encoded data removed]",
      "text/plain": [
       "<Figure size 360x360 with 1 Axes>"
      ]
     },
     "execution_count": 3,
     "metadata": {},
     "output_type": "execute_result"
    }
   ],
   "source": [
    "qubits = plot_gate_map(backend)\n",
    "qubits"
   ]
  },
  {
   "cell_type": "code",
   "execution_count": 4,
   "id": "c600efee-9bc0-49e6-a898-7da4314173a4",
   "metadata": {},
   "outputs": [],
   "source": [
    "def extract_cr_params(cx_sched):\n",
    "    cr_params = {}\n",
    "    for time, inst in cx_sched.instructions:\n",
    "        if isinstance(inst, Play):\n",
    "            if isinstance(inst.pulse, GaussianSquare):\n",
    "                if isinstance(inst.operands[1], ControlChannel):\n",
    "                    cr_params[\"duration\"] = inst.pulse.duration\n",
    "                    cr_params[\"width\"] = inst.pulse.width\n",
    "                    cr_params[\"sigma\"] = inst.pulse.sigma\n",
    "                    cr_params[\"cr_amp\"] = inst.pulse.amp\n",
    "                    cr_params[\"channel\"] = inst.channel\n",
    "    return cr_params\n",
    "                    \n",
    "\n",
    "def build_cr_schedule(backend, qc, qt, cr_params, cr_name):\n",
    "    \n",
    "    with pulse.build(backend=backend, default_alignment=\"left\", name=\"cr_schedule\") as cross_resonance:\n",
    "        pulse.play(GaussianSquare(\n",
    "            duration=cr_params[\"duration\"],\n",
    "            amp=cr_params[\"cr_amp\"],\n",
    "            width=cr_params[\"width\"],\n",
    "            sigma=cr_params[\"sigma\"],\n",
    "            name=cr_name\n",
    "        ),\n",
    "        pulse.control_channels(qc, qt)[0],\n",
    "    )\n",
    "        if not np.isclose(cr_params[\"cancel_amp\"], 0.0):\n",
    "            pulse.play(GaussianSquare(\n",
    "                duration=cr_params[\"duration\"],\n",
    "                amp=cr_params[\"cancel_amp\"],\n",
    "                width=cr_params[\"width\"],\n",
    "                sigma=cr_params[\"sigma\"],\n",
    "        ),\n",
    "        pulse.drive_channel(qt),\n",
    "    )\n",
    "        else:\n",
    "            pulse.delay(cr_params[\"duration\"], pulse.drive_channel(qt))\n",
    "        pulse.delay(cr_params[\"duration\"], pulse.drive_channel(qc))\n",
    "        \n",
    "    return cross_resonance\n",
    "\n",
    "def build_cr_circuit(gate):\n",
    "    \n",
    "    cr_circuit = QuantumCircuit(2)\n",
    "    cr_circuit.append(gate, [0, 1])\n",
    "#     cr_circuit.x(0)\n",
    "#     cr_circuit.append(gate, [0, 1])\n",
    "#     cr_circuit.x(0)\n",
    "    \n",
    "    return cr_circuit\n",
    "\n",
    "def build_experiment_circuits(backend, qc, qt, amps, cr_params, rotary=False):\n",
    "    \n",
    "    circ_list = []\n",
    "    \n",
    "    inst_map_list = []\n",
    "    for amplitude in amps:\n",
    "        \n",
    "        new_inst_map = deepcopy(inst_map)\n",
    "        \n",
    "        cr_m_gate = circuit.Gate(\n",
    "            \"cr_m_gate\",\n",
    "            num_qubits=2,\n",
    "            params=[-amplitude],\n",
    "        )\n",
    "\n",
    "        cr_p_gate = circuit.Gate(\n",
    "            \"cr_p_gate\",\n",
    "            num_qubits=2,\n",
    "            params=[amplitude],\n",
    "        )\n",
    "        exp_circ = QuantumCircuit(2)\n",
    "\n",
    "        ## add control state prep when needed\n",
    "\n",
    "        exp_circ.compose(other=build_cr_circuit(cr_p_gate), qubits=[0, 1], inplace=True)\n",
    "        exp_circ.x(0)\n",
    "        exp_circ.compose(other=build_cr_circuit(cr_m_gate), qubits=[0, 1], inplace=True)\n",
    "        exp_circ.x(0)\n",
    "        \n",
    "        exp_circ.metadata={\n",
    "            \"qubits\": (qc, qt)\n",
    "        }\n",
    "\n",
    "        if rotary is True:\n",
    "            cr_params['cancel_amp'] = amplitude\n",
    "        cr_params['cr_amp'] = amplitude * np.exp(-1j*cr_params[\"phi\"])\n",
    "        exp_circ.add_calibration(gate=cr_p_gate,\n",
    "                                qubits=[qc,qt],\n",
    "                                schedule=build_cr_schedule(backend, qc, qt, cr_params, cr_name=\"cr_p\"))\n",
    "        \n",
    "        cr_params['phi'] = cr_params['phi'] + np.pi\n",
    "        cr_params['cr_amp'] = amplitude * np.exp(-1j*cr_params[\"phi\"])\n",
    "        exp_circ.add_calibration(gate=cr_m_gate,\n",
    "                                qubits=[qc,qt],\n",
    "                                schedule=build_cr_schedule(backend, qc, qt, cr_params, cr_name=\"cr_m\"))\n",
    "        exp_circ.measure_active()\n",
    "#         new_inst_map.add('cr_gate', qubits=[qc, qt], schedule=build_cr_schedule(backend, qc, qt, cr_params))\n",
    "        \n",
    "        circ_list.append(exp_circ)\n",
    "        inst_map_list.append(new_inst_map)\n",
    "    return circ_list, inst_map_list\n",
    "\n",
    "def expectation_val(count_dict, mem_ind):\n",
    "\n",
    "    expv = 0\n",
    "    for key, val in count_dict.items():\n",
    "        if key[::-1][mem_ind] == '1':\n",
    "            expv -= val\n",
    "        else:\n",
    "            expv += val\n",
    "\n",
    "    return expv / sum(count_dict.values())"
   ]
  },
  {
   "cell_type": "code",
   "execution_count": 5,
   "id": "c5253558-c69a-4525-833d-d005ad84553d",
   "metadata": {},
   "outputs": [
    {
     "data": {
      "image/png": "[encoded data removed]",
      "text/plain": [
       "<Figure size 936x334.8 with 1 Axes>"
      ]
     },
     "execution_count": 5,
     "metadata": {},
     "output_type": "execute_result"
    }
   ],
   "source": [
    "q1, q2 = 0, 1\n",
    "mem_ind = 0 if q1 > q2 else 1\n",
    "\n",
    "cx_sched = inst_map.get('cx', qubits=[q1, q2])\n",
    "draw(cx_sched, backend=backend, disable_channels=[DriveChannel(q2)])"
   ]
  },
  {
   "cell_type": "code",
   "execution_count": 6,
   "id": "03547cc2-24e0-4072-aae9-dcf6951711e6",
   "metadata": {},
   "outputs": [
    {
     "name": "stdout",
     "output_type": "stream",
     "text": [
      "ShiftPhase(1.5707963267948966, DriveChannel(0))\n",
      "ShiftPhase(1.5707963267948966, ControlChannel(1))\n",
      "Play(Drag(duration=160, amp=(-3.5212648507813324e-17-0.1916887303470124j), sigma=40, beta=-1.1242428995416691, name='Ym_d0'), DriveChannel(0), name='Ym_d0')\n",
      "Play(Drag(duration=160, amp=(0.09713074233616353+0.0008228977991439125j), sigma=40, beta=-1.3255320808814979, name='X90p_d1'), DriveChannel(1), name='X90p_d1')\n",
      "Play(GaussianSquare(duration=528, amp=(0.05953343840015568+0.0004353277943512729j), sigma=64, width=272, name='CR90p_d1_u0'), DriveChannel(1), name='CR90p_d1_u0')\n",
      "Play(GaussianSquare(duration=528, amp=(-0.24759486547846224-0.6082109911315869j), sigma=64, width=272, name='CR90p_u0'), ControlChannel(0), name='CR90p_u0')\n",
      "Play(Drag(duration=160, amp=(0.1916887303470124+0j), sigma=40, beta=-1.1242428995416691, name='Xp_d0'), DriveChannel(0), name='Xp_d0')\n",
      "Play(GaussianSquare(duration=528, amp=(-0.05953343840015568-0.00043532779435126565j), sigma=64, width=272, name='CR90m_d1_u0'), DriveChannel(1), name='CR90m_d1_u0')\n",
      "Play(GaussianSquare(duration=528, amp=(0.24759486547846232+0.6082109911315869j), sigma=64, width=272, name='CR90m_u0'), ControlChannel(0), name='CR90m_u0')\n"
     ]
    }
   ],
   "source": [
    "for time, inst in cx_sched.instructions:\n",
    "    print(inst)"
   ]
  },
  {
   "cell_type": "code",
   "execution_count": 22,
   "id": "c77a1d8e-b5f8-4797-b805-ef9274677193",
   "metadata": {},
   "outputs": [
    {
     "name": "stdout",
     "output_type": "stream",
     "text": [
      "[-0.35       -0.31315789 -0.27631579 -0.23947368 -0.20263158 -0.16578947\n",
      " -0.12894737 -0.09210526 -0.05526316 -0.01842105  0.01842105  0.05526316\n",
      "  0.09210526  0.12894737  0.16578947  0.20263158  0.23947368  0.27631579\n",
      "  0.31315789  0.35      ]\n"
     ]
    }
   ],
   "source": [
    "cr_params = extract_cr_params(cx_sched)\n",
    "cr_params[\"cancel_amp\"] = 0.0\n",
    "cr_params[\"phi\"] = 0\n",
    "# print(cr_params)\n",
    "\n",
    "max_cr_amplitude = 0.35\n",
    "cr_amps = np.linspace(-max_cr_amplitude, max_cr_amplitude, 20)\n",
    "print(cr_amps)"
   ]
  },
  {
   "cell_type": "code",
   "execution_count": 7,
   "id": "65d367a4-cc53-43c9-b099-d85a34c3340c",
   "metadata": {},
   "outputs": [
    {
     "name": "stdout",
     "output_type": "stream",
     "text": [
      "{'duration': 528, 'width': 272, 'sigma': 64, 'cr_amp': (0.24759486547846232+0.6082109911315869j), 'channel': ControlChannel(0), 'cancel_amp': 0.0, 'phi': 0}\n",
      "20\n"
     ]
    },
    {
     "data": {
      "text/html": [
       "<pre style=\"word-wrap: normal;white-space: pre;background: #fff0;line-height: 1.1;font-family: &quot;Courier New&quot;,Courier,monospace\">           ┌──────────────────────┐┌───┐┌───────────────────────┐┌───┐ ░ ┌─┐   \n",
       "      q_0: ┤0                     ├┤ X ├┤0                      ├┤ X ├─░─┤M├───\n",
       "           │  cr_p_gate(0.013158) │└───┘│  cr_m_gate(-0.013158) │└───┘ ░ └╥┘┌─┐\n",
       "      q_1: ┤1                     ├─────┤1                      ├──────░──╫─┤M├\n",
       "           └──────────────────────┘     └───────────────────────┘      ░  ║ └╥┘\n",
       "measure: 2/═══════════════════════════════════════════════════════════════╩══╩═\n",
       "                                                                          0  1 </pre>"
      ],
      "text/plain": [
       "           ┌──────────────────────┐┌───┐┌───────────────────────┐┌───┐ ░ ┌─┐   \n",
       "      q_0: ┤0                     ├┤ X ├┤0                      ├┤ X ├─░─┤M├───\n",
       "           │  cr_p_gate(0.013158) │└───┘│  cr_m_gate(-0.013158) │└───┘ ░ └╥┘┌─┐\n",
       "      q_1: ┤1                     ├─────┤1                      ├──────░──╫─┤M├\n",
       "           └──────────────────────┘     └───────────────────────┘      ░  ║ └╥┘\n",
       "measure: 2/═══════════════════════════════════════════════════════════════╩══╩═\n",
       "                                                                          0  1 "
      ]
     },
     "execution_count": 7,
     "metadata": {},
     "output_type": "execute_result"
    }
   ],
   "source": [
    "exp_circuits, exp_inst_maps = build_experiment_circuits(backend, q1, q2, cr_amps, cr_params)\n",
    "print(len(exp_circuits))\n",
    "exp_circuits[10].draw()"
   ]
  },
  {
   "cell_type": "code",
   "execution_count": 8,
   "id": "29c9af88-163c-4ba5-8022-57d5874b7c6d",
   "metadata": {},
   "outputs": [
    {
     "name": "stdout",
     "output_type": "stream",
     "text": [
      "Delay(528, DriveChannel(0))\n",
      "Delay(528, DriveChannel(1))\n",
      "Play(GaussianSquare(duration=528, amp=(0.11842105263157895+7.251198152846171e-17j), sigma=64, width=272, name='cr_p'), ControlChannel(0), name='cr_p')\n",
      "Play(Drag(duration=160, amp=(0.1916887303470124+0j), sigma=40, beta=-1.1242428995416691, name='Xp_d0'), DriveChannel(0), name='Xp_d0')\n",
      "Delay(528, DriveChannel(0))\n",
      "Delay(528, DriveChannel(1))\n",
      "Play(GaussianSquare(duration=528, amp=(-0.11842105263157895-8.701437783415404e-17j), sigma=64, width=272, name='cr_m'), ControlChannel(0), name='cr_m')\n",
      "Play(Drag(duration=160, amp=(0.1916887303470124+0j), sigma=40, beta=-1.1242428995416691, name='Xp_d0'), DriveChannel(0), name='Xp_d0')\n",
      "Acquire(1792, AcquireChannel(0), MemorySlot(0))\n",
      "Acquire(1792, AcquireChannel(1), MemorySlot(1))\n",
      "Play(GaussianSquare(duration=1792, amp=(-0.23229046577561074+0.11679528890220625j), sigma=64, width=1536, name='M_m0'), MeasureChannel(0), name='M_m0')\n",
      "Play(GaussianSquare(duration=1792, amp=(0.11801154122593771-0.3222724253445814j), sigma=64, width=1536, name='M_m1'), MeasureChannel(1), name='M_m1')\n",
      "Delay(1376, MeasureChannel(0))\n",
      "Delay(1376, MeasureChannel(1))\n"
     ]
    }
   ],
   "source": [
    "tc = transpile(exp_circuits, backend, initial_layout=[q1, q2])\n",
    "sched = schedule(tc, backend)\n",
    "for time, inst in sched[5].instructions:\n",
    "    print(inst)"
   ]
  },
  {
   "cell_type": "code",
   "execution_count": 9,
   "id": "995634b1-3a3e-4a27-a9cd-59d80f8a8418",
   "metadata": {},
   "outputs": [
    {
     "data": {
      "text/html": [
       "<pre style=\"word-wrap: normal;white-space: pre;background: #fff0;line-height: 1.1;font-family: &quot;Courier New&quot;,Courier,monospace\">               ┌──────────────────────┐┌───┐┌─────────────────────┐┌───┐ ░ ┌─┐»\n",
       "      q_0 -> 0 ┤0                     ├┤ X ├┤0                    ├┤ X ├─░─┤M├»\n",
       "               │  cr_p_gate(-0.14474) │└───┘│  cr_m_gate(0.14474) │└───┘ ░ └╥┘»\n",
       "      q_1 -> 1 ┤1                     ├─────┤1                    ├──────░──╫─»\n",
       "               └──────────────────────┘     └─────────────────────┘      ░  ║ »\n",
       "ancilla_0 -> 2 ─────────────────────────────────────────────────────────────╫─»\n",
       "                                                                            ║ »\n",
       "ancilla_1 -> 3 ─────────────────────────────────────────────────────────────╫─»\n",
       "                                                                            ║ »\n",
       "ancilla_2 -> 4 ─────────────────────────────────────────────────────────────╫─»\n",
       "                                                                            ║ »\n",
       "ancilla_3 -> 5 ─────────────────────────────────────────────────────────────╫─»\n",
       "                                                                            ║ »\n",
       "ancilla_4 -> 6 ─────────────────────────────────────────────────────────────╫─»\n",
       "                                                                            ║ »\n",
       "    measure: 2/═════════════════════════════════════════════════════════════╩═»\n",
       "                                                                            0 »\n",
       "«                  \n",
       "«      q_0 -> 0 ───\n",
       "«               ┌─┐\n",
       "«      q_1 -> 1 ┤M├\n",
       "«               └╥┘\n",
       "«ancilla_0 -> 2 ─╫─\n",
       "«                ║ \n",
       "«ancilla_1 -> 3 ─╫─\n",
       "«                ║ \n",
       "«ancilla_2 -> 4 ─╫─\n",
       "«                ║ \n",
       "«ancilla_3 -> 5 ─╫─\n",
       "«                ║ \n",
       "«ancilla_4 -> 6 ─╫─\n",
       "«                ║ \n",
       "«    measure: 2/═╩═\n",
       "«                1 </pre>"
      ],
      "text/plain": [
       "               ┌──────────────────────┐┌───┐┌─────────────────────┐┌───┐ ░ ┌─┐»\n",
       "      q_0 -> 0 ┤0                     ├┤ X ├┤0                    ├┤ X ├─░─┤M├»\n",
       "               │  cr_p_gate(-0.14474) │└───┘│  cr_m_gate(0.14474) │└───┘ ░ └╥┘»\n",
       "      q_1 -> 1 ┤1                     ├─────┤1                    ├──────░──╫─»\n",
       "               └──────────────────────┘     └─────────────────────┘      ░  ║ »\n",
       "ancilla_0 -> 2 ─────────────────────────────────────────────────────────────╫─»\n",
       "                                                                            ║ »\n",
       "ancilla_1 -> 3 ─────────────────────────────────────────────────────────────╫─»\n",
       "                                                                            ║ »\n",
       "ancilla_2 -> 4 ─────────────────────────────────────────────────────────────╫─»\n",
       "                                                                            ║ »\n",
       "ancilla_3 -> 5 ─────────────────────────────────────────────────────────────╫─»\n",
       "                                                                            ║ »\n",
       "ancilla_4 -> 6 ─────────────────────────────────────────────────────────────╫─»\n",
       "                                                                            ║ »\n",
       "    measure: 2/═════════════════════════════════════════════════════════════╩═»\n",
       "                                                                            0 »\n",
       "«                  \n",
       "«      q_0 -> 0 ───\n",
       "«               ┌─┐\n",
       "«      q_1 -> 1 ┤M├\n",
       "«               └╥┘\n",
       "«ancilla_0 -> 2 ─╫─\n",
       "«                ║ \n",
       "«ancilla_1 -> 3 ─╫─\n",
       "«                ║ \n",
       "«ancilla_2 -> 4 ─╫─\n",
       "«                ║ \n",
       "«ancilla_3 -> 5 ─╫─\n",
       "«                ║ \n",
       "«ancilla_4 -> 6 ─╫─\n",
       "«                ║ \n",
       "«    measure: 2/═╩═\n",
       "«                1 "
      ]
     },
     "execution_count": 9,
     "metadata": {},
     "output_type": "execute_result"
    }
   ],
   "source": [
    "tc[4].draw()"
   ]
  },
  {
   "cell_type": "code",
   "execution_count": 10,
   "id": "ae36c11a-2909-4568-b501-6ad41ecba9bf",
   "metadata": {},
   "outputs": [
    {
     "data": {
      "image/png": "[encoded data removed]",
      "text/plain": [
       "<Figure size 936x334.8 with 1 Axes>"
      ]
     },
     "execution_count": 10,
     "metadata": {},
     "output_type": "execute_result"
    }
   ],
   "source": [
    "draw(sched[4], backend=backend, disable_channels=[MeasureChannel(q1), MeasureChannel(q2)])"
   ]
  },
  {
   "cell_type": "code",
   "execution_count": 23,
   "id": "079a5ddd-3207-4ce6-a734-451d1bbbb606",
   "metadata": {},
   "outputs": [],
   "source": [
    "i = 1\n",
    "identifier = F\"({q1},{q2})\""
   ]
  },
  {
   "cell_type": "code",
   "execution_count": 24,
   "id": "f97c7853-fb1f-4bb2-b7e2-e89d1628331b",
   "metadata": {},
   "outputs": [
    {
     "name": "stdout",
     "output_type": "stream",
     "text": [
      "6188ce32b3f490630660bcab\n"
     ]
    }
   ],
   "source": [
    "job = backend.run(tc, job_name=F\"cr_amp_exp_{identifier}\", shots=2048)\n",
    "job_id = job.job_id()\n",
    "print(job.job_id())"
   ]
  },
  {
   "cell_type": "code",
   "execution_count": 25,
   "id": "fe7bef43-9766-4951-82fa-0020aeb1c5a7",
   "metadata": {},
   "outputs": [],
   "source": [
    "results = backend.retrieve_job(job_id).result()\n",
    "i+=1"
   ]
  },
  {
   "cell_type": "code",
   "execution_count": 26,
   "id": "d6f800ed-cda3-400d-b82f-ba0cf494d168",
   "metadata": {},
   "outputs": [
    {
     "name": "stdout",
     "output_type": "stream",
     "text": [
      "[{'00': 1643, '01': 30, '10': 372, '11': 3}, {'00': 1678, '01': 31, '10': 335, '11': 4}, {'00': 1776, '01': 59, '10': 210, '11': 3}, {'00': 1772, '01': 41, '10': 233, '11': 2}, {'00': 1862, '01': 48, '10': 136, '11': 2}, {'00': 1852, '01': 68, '10': 125, '11': 3}, {'00': 1925, '01': 53, '10': 68, '11': 2}, {'00': 1932, '01': 60, '10': 56}, {'00': 1971, '01': 63, '10': 14}, {'00': 1964, '01': 60, '10': 23, '11': 1}, {'00': 1977, '01': 54, '10': 17}, {'00': 1971, '01': 53, '10': 24}, {'00': 1944, '01': 57, '10': 44, '11': 3}, {'00': 1923, '01': 45, '10': 78, '11': 2}, {'00': 1875, '01': 55, '10': 115, '11': 3}, {'00': 1832, '01': 56, '10': 158, '11': 2}, {'00': 1769, '01': 52, '10': 225, '11': 2}, {'00': 1723, '01': 50, '10': 273, '11': 2}, {'00': 1664, '01': 38, '10': 342, '11': 4}, {'00': 1648, '01': 33, '10': 358, '11': 9}]\n"
     ]
    }
   ],
   "source": [
    "count_dict = results.get_counts()\n",
    "print(count_dict)"
   ]
  },
  {
   "cell_type": "code",
   "execution_count": 27,
   "id": "45486405-b3ac-4ef0-9626-2ce70f4a52d4",
   "metadata": {},
   "outputs": [],
   "source": [
    "def cr_fit_3rd_order_perturbation(x, c1, c2):\n",
    "    fx = c1*x - c2*x**3\n",
    "    return np.cos(2 * np.pi * fx)\n",
    "\n",
    "def rough_amp_objective(x, params, opt_phase):\n",
    "    fx = params[0] * x - params[1] * x**3\n",
    "    return np.abs(opt_phase / 2 / np.pi - fx)"
   ]
  },
  {
   "cell_type": "code",
   "execution_count": 31,
   "id": "c3db7124-9212-4a92-b690-47fa823a802f",
   "metadata": {},
   "outputs": [
    {
     "name": "stdout",
     "output_type": "stream",
     "text": [
      "[0.63378906 0.66894531 0.79199219 0.77050781 0.86523438 0.875\n",
      " 0.93164062 0.9453125  0.98632812 0.9765625  0.98339844 0.9765625\n",
      " 0.95410156 0.921875   0.88476562 0.84375    0.77832031 0.73144531\n",
      " 0.66210938 0.64160156]\n"
     ]
    }
   ],
   "source": [
    "exp_z = np.zeros_like(cr_amps)\n",
    "for cind in range(len(cr_amps)):\n",
    "    exp_z[cind] = expectation_val(count_dict[cind], mem_ind=mem_ind)\n",
    "print(exp_z)   \n",
    "valid_inds = np.where(np.abs(cr_amps) < 0.35)[0]\n",
    "params, _ = opt.curve_fit(cr_fit_3rd_order_perturbation, xdata=cr_amps[valid_inds], ydata=exp_z[valid_inds])\n",
    "cr_pi2_amp = opt.minimize(rough_amp_objective, x0=0, bounds=[(0, 1)], args=(params, 0.5 * np.pi)).x[0]"
   ]
  },
  {
   "cell_type": "code",
   "execution_count": 32,
   "id": "534f3425-6836-47cf-9223-112a131a2bdc",
   "metadata": {},
   "outputs": [
    {
     "name": "stdout",
     "output_type": "stream",
     "text": [
      "0.5517617705494882\n"
     ]
    }
   ],
   "source": [
    "print(cr_pi2_amp)"
   ]
  },
  {
   "cell_type": "code",
   "execution_count": 33,
   "id": "6eddba03-5a28-4333-9f43-d971bf4964a0",
   "metadata": {},
   "outputs": [
    {
     "data": {
      "image/png": "[encoded data removed]",
      "text/plain": [
       "<Figure size 432x288 with 1 Axes>"
      ]
     },
     "metadata": {
      "needs_background": "light"
     },
     "output_type": "display_data"
    }
   ],
   "source": [
    "x_interp = np.linspace(cr_amps[0], cr_amps[-1], 1000)\n",
    "plt.plot(cr_amps, exp_z, 'o', color='b')\n",
    "plt.plot(x_interp, cr_fit_3rd_order_perturbation(x_interp, *params), color='b')\n",
    "plt.plot([cr_pi2_amp, cr_pi2_amp], [-1, 1], 'b:')\n",
    "plt.xlim(-max_cr_amplitude, max_cr_amplitude)\n",
    "plt.ylim(-1, 1)\n",
    "plt.xlabel('CR amp')\n",
    "plt.ylabel('<Z>')\n",
    "plt.grid()"
   ]
  },
  {
   "cell_type": "code",
   "execution_count": null,
   "id": "7874f80c-aea0-4925-8b43-e34e1f13acfe",
   "metadata": {},
   "outputs": [],
   "source": []
  }
 ],
 "metadata": {
  "kernelspec": {
   "display_name": "Python 3",
   "language": "python",
   "name": "python3"
  },
  "language_info": {
   "codemirror_mode": {
    "name": "ipython",
    "version": 3
   },
   "file_extension": ".py",
   "mimetype": "text/x-python",
   "name": "python",
   "nbconvert_exporter": "python",
   "pygments_lexer": "ipython3",
   "version": "3.8.8"
  }
 },
 "nbformat": 4,
 "nbformat_minor": 5
}
